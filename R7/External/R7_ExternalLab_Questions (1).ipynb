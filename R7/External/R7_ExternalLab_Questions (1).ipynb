{
  "nbformat": 4,
  "nbformat_minor": 0,
  "metadata": {
    "colab": {
      "name": "Updated_R7_ExternalLab_Questions.ipynb",
      "version": "0.3.2",
      "provenance": [],
      "collapsed_sections": []
    },
    "kernelspec": {
      "name": "python3",
      "display_name": "Python 3"
    },
    "accelerator": "GPU"
  },
  "cells": [
    {
      "cell_type": "markdown",
      "metadata": {
        "id": "4WH1Pr4KQlCh",
        "colab_type": "text"
      },
      "source": [
        "### Build a DNN using Keras with `RELU` and `ADAM`"
      ]
    },
    {
      "cell_type": "markdown",
      "metadata": {
        "id": "TbvI8LqlQlCl",
        "colab_type": "text"
      },
      "source": [
        "#### Load tensorflow"
      ]
    },
    {
      "cell_type": "code",
      "metadata": {
        "id": "SPW-a-qYQlCp",
        "colab_type": "code",
        "colab": {}
      },
      "source": [
        "import keras\n",
        "from keras.models import Sequential\n",
        "from keras.layers.core import Dense, Dropout, Activation, Flatten\n",
        "from keras.utils import np_utils\n",
        "import pandas as pd\n",
        "import numpy as np\n",
        "from sklearn import metrics\n",
        "import matplotlib.pyplot as plt\n",
        "%matplotlib inline"
      ],
      "execution_count": 0,
      "outputs": []
    },
    {
      "cell_type": "markdown",
      "metadata": {
        "id": "74cQBsi5QlCw",
        "colab_type": "text"
      },
      "source": [
        "#### Collect Fashion mnist data from tf.keras.datasets "
      ]
    },
    {
      "cell_type": "code",
      "metadata": {
        "id": "wVWy0oDTr2Kj",
        "colab_type": "code",
        "outputId": "77564bc2-d51d-45ed-e90d-88ff54eb6dd6",
        "colab": {
          "base_uri": "https://localhost:8080/",
          "height": 182
        }
      },
      "source": [
        "from keras.datasets import fashion_mnist\n",
        "(xtrain, ytrain),(xtest, ytest) = fashion_mnist.load_data()\n",
        "print(\"Shape of the Xtrain\",xtrain.shape)\n",
        "for i in range(1,11):\n",
        "    plt.subplot(1,10,i)\n",
        "    plt.axis(\"off\")\n",
        "    plt.imshow(xtrain[i,:,:], cmap=\"gray\")\n",
        "    plt.plot()\n",
        "plt.show()\n",
        "print(\"Dimensions of an image:\", xtrain[0].shape)\n",
        "print(\"No. of samples in the training set:\", xtrain.shape[0])\n",
        "print(\"No. of samples in the training set:\", ytrain.shape[0])\n",
        "print(\"No. of samples in the test set:\", xtest.shape[0])\n",
        "print(\"No. of samples in the test set:\", ytest.shape[0])"
      ],
      "execution_count": 45,
      "outputs": [
        {
          "output_type": "stream",
          "text": [
            "Shape of the Xtrain (60000, 28, 28)\n"
          ],
          "name": "stdout"
        },
        {
          "output_type": "display_data",
          "data": {
            "image/png": "[encoded data removed]",
            "text/plain": [
              "<Figure size 432x288 with 10 Axes>"
            ]
          },
          "metadata": {
            "tags": []
          }
        },
        {
          "output_type": "stream",
          "text": [
            "Dimensions of an image: (28, 28)\n",
            "No. of samples in the training set: 60000\n",
            "No. of samples in the training set: 60000\n",
            "No. of samples in the test set: 10000\n",
            "No. of samples in the test set: 10000\n"
          ],
          "name": "stdout"
        }
      ]
    },
    {
      "cell_type": "code",
      "metadata": {
        "id": "W6aj62J9-t5c",
        "colab_type": "code",
        "outputId": "6a8824f7-f375-4520-9880-22104f52ac3d",
        "colab": {
          "base_uri": "https://localhost:8080/",
          "height": 34
        }
      },
      "source": [
        "df = pd.DataFrame(ytrain)\n",
        "num_classes = len(df[0].unique())\n",
        "print(\"Number of classes : \", num_classes)"
      ],
      "execution_count": 46,
      "outputs": [
        {
          "output_type": "stream",
          "text": [
            "Number of classes :  10\n"
          ],
          "name": "stdout"
        }
      ]
    },
    {
      "cell_type": "markdown",
      "metadata": {
        "id": "no7aWYZyQlC1",
        "colab_type": "text"
      },
      "source": [
        "#### Change train and test labels into one-hot vectors"
      ]
    },
    {
      "cell_type": "code",
      "metadata": {
        "id": "UX6otc4wQlC2",
        "colab_type": "code",
        "outputId": "16671486-f7b9-4879-fedd-b1e0c799eeec",
        "colab": {
          "base_uri": "https://localhost:8080/",
          "height": 34
        }
      },
      "source": [
        "y_train = np_utils.to_categorical(ytrain, num_classes)\n",
        "y_test = np_utils.to_categorical(ytest, num_classes)\n",
        "y_train[2]"
      ],
      "execution_count": 47,
      "outputs": [
        {
          "output_type": "execute_result",
          "data": {
            "text/plain": [
              "array([1., 0., 0., 0., 0., 0., 0., 0., 0., 0.], dtype=float32)"
            ]
          },
          "metadata": {
            "tags": []
          },
          "execution_count": 47
        }
      ]
    },
    {
      "cell_type": "markdown",
      "metadata": {
        "id": "QjNrRTdoQlC5",
        "colab_type": "text"
      },
      "source": [
        "#### Build the Graph"
      ]
    },
    {
      "cell_type": "markdown",
      "metadata": {
        "id": "CDJ9DHVNQlC7",
        "colab_type": "text"
      },
      "source": [
        "#### Initialize model, reshape & normalize data"
      ]
    },
    {
      "cell_type": "code",
      "metadata": {
        "id": "pCDQs_g1QlC8",
        "colab_type": "code",
        "colab": {}
      },
      "source": [
        "#Initiaze model\n",
        "model = Sequential()\n",
        "\n",
        "# Reshape the dataset\n",
        "x_train = xtrain.reshape(xtrain.shape[0],28,28,1).astype(\"float32\")\n",
        "x_test = xtest.reshape(xtest.shape[0],28,28,1).astype(\"float32\")\n",
        "#Represent Training & Testing samples suitable for \n",
        "#tensorflow backend\n",
        "\n",
        "#normalize the dataset\n",
        "x_train/=255\n",
        "x_test/=255"
      ],
      "execution_count": 0,
      "outputs": []
    },
    {
      "cell_type": "code",
      "metadata": {
        "id": "o8Z2lvJSFGOg",
        "colab_type": "code",
        "outputId": "3d63314c-366c-4437-9105-9f2b0aeac207",
        "colab": {
          "base_uri": "https://localhost:8080/",
          "height": 34
        }
      },
      "source": [
        "y_train.shape"
      ],
      "execution_count": 49,
      "outputs": [
        {
          "output_type": "execute_result",
          "data": {
            "text/plain": [
              "(60000, 10)"
            ]
          },
          "metadata": {
            "tags": []
          },
          "execution_count": 49
        }
      ]
    },
    {
      "cell_type": "markdown",
      "metadata": {
        "id": "kBGwTTilQlDD",
        "colab_type": "text"
      },
      "source": [
        "#### Add two fully connected layers with 200 and 100 neurons respectively with `relu` activations. Add a dropout layer with `p=0.25`"
      ]
    },
    {
      "cell_type": "code",
      "metadata": {
        "id": "IXbfpfOzQlDF",
        "colab_type": "code",
        "colab": {}
      },
      "source": [
        "\n",
        "model = Sequential()\n",
        "model.add(Flatten())\n",
        "model.add(Dense(200, activation=\"relu\",input_shape=(28,28,1)))\n",
        "model.add(Dense(100, activation=\"relu\"))\n",
        "model.add(Dropout(0.25))"
      ],
      "execution_count": 0,
      "outputs": []
    },
    {
      "cell_type": "code",
      "metadata": {
        "id": "1lZCIi3LFG0j",
        "colab_type": "code",
        "colab": {}
      },
      "source": [
        ""
      ],
      "execution_count": 0,
      "outputs": []
    },
    {
      "cell_type": "markdown",
      "metadata": {
        "id": "5I8f5otcQlDJ",
        "colab_type": "text"
      },
      "source": [
        "### Add the output layer with a fully connected layer with 10 neurons with `softmax` activation. Use `categorical_crossentropy` loss and `adam` optimizer and train the network. And, report the final validation."
      ]
    },
    {
      "cell_type": "code",
      "metadata": {
        "id": "JZkvKymSd0Sr",
        "colab_type": "code",
        "outputId": "f18a1f73-dc92-4030-fc51-1c06799050db",
        "colab": {
          "base_uri": "https://localhost:8080/",
          "height": 374
        }
      },
      "source": [
        "from keras.optimizers import Adam \n",
        "adam = keras.optimizers.Adam(lr=0.001)\n",
        "\n",
        "model.add(Dense(10, activation=\"softmax\"))\n",
        "\n",
        "model.compile(loss=\"categorical_crossentropy\", optimizer=adam, metrics=[\"accuracy\"])\n",
        "history = model.fit(x_train, y_train, batch_size=32, epochs=10, validation_data=(x_test, y_test))"
      ],
      "execution_count": 51,
      "outputs": [
        {
          "output_type": "stream",
          "text": [
            "Train on 60000 samples, validate on 10000 samples\n",
            "Epoch 1/10\n",
            "60000/60000 [==============================] - 11s 185us/step - loss: 0.5155 - acc: 0.8149 - val_loss: 0.4421 - val_acc: 0.8384\n",
            "Epoch 2/10\n",
            "60000/60000 [==============================] - 11s 175us/step - loss: 0.3851 - acc: 0.8596 - val_loss: 0.3687 - val_acc: 0.8624\n",
            "Epoch 3/10\n",
            "60000/60000 [==============================] - 11s 182us/step - loss: 0.3454 - acc: 0.8733 - val_loss: 0.3667 - val_acc: 0.8646\n",
            "Epoch 4/10\n",
            "60000/60000 [==============================] - 10s 174us/step - loss: 0.3208 - acc: 0.8818 - val_loss: 0.3575 - val_acc: 0.8706\n",
            "Epoch 5/10\n",
            "60000/60000 [==============================] - 10s 174us/step - loss: 0.3055 - acc: 0.8869 - val_loss: 0.3364 - val_acc: 0.8754\n",
            "Epoch 6/10\n",
            "60000/60000 [==============================] - 10s 173us/step - loss: 0.2899 - acc: 0.8929 - val_loss: 0.3441 - val_acc: 0.8792\n",
            "Epoch 7/10\n",
            "60000/60000 [==============================] - 10s 174us/step - loss: 0.2784 - acc: 0.8959 - val_loss: 0.3578 - val_acc: 0.8765\n",
            "Epoch 8/10\n",
            "60000/60000 [==============================] - 10s 173us/step - loss: 0.2706 - acc: 0.8993 - val_loss: 0.3425 - val_acc: 0.8787\n",
            "Epoch 9/10\n",
            "60000/60000 [==============================] - 10s 172us/step - loss: 0.2581 - acc: 0.9030 - val_loss: 0.3498 - val_acc: 0.8791\n",
            "Epoch 10/10\n",
            "60000/60000 [==============================] - 10s 173us/step - loss: 0.2517 - acc: 0.9053 - val_loss: 0.3339 - val_acc: 0.8839\n"
          ],
          "name": "stdout"
        }
      ]
    },
    {
      "cell_type": "code",
      "metadata": {
        "id": "aBdbY5dsKrY7",
        "colab_type": "code",
        "colab": {
          "base_uri": "https://localhost:8080/",
          "height": 312
        },
        "outputId": "bc77a674-f70a-46a8-b044-4809bfccf7eb"
      },
      "source": [
        "\n",
        "plt.figure(figsize=(12,4))\n",
        "plt.subplot(1, 2, 1)\n",
        "ctl_plot = plt.plot(history.history['loss'], 'r', label='training')\n",
        "cvl_plot = plt.plot(history.history['val_loss'], 'g', label='validation')\n",
        "plt.xlabel('epoch')\n",
        "plt.ylabel('loss')\n",
        "plt.title('Loss')\n",
        "plt.legend()\n",
        "plt.subplot(1, 2, 2)\n",
        "plt.plot(history.history['acc'], 'r', label='training')\n",
        "plt.plot(history.history['val_acc'], 'g', label='validation')\n",
        "plt.xlabel('epoch')\n",
        "plt.ylabel('accuracy')\n",
        "plt.title('Accuracy')\n",
        "plt.legend(loc=7)"
      ],
      "execution_count": 52,
      "outputs": [
        {
          "output_type": "execute_result",
          "data": {
            "text/plain": [
              "<matplotlib.legend.Legend at 0x7f0052bf38d0>"
            ]
          },
          "metadata": {
            "tags": []
          },
          "execution_count": 52
        },
        {
          "output_type": "display_data",
          "data": {
            "image/png": "[encoded data removed]",
            "text/plain": [
              "<Figure size 864x288 with 2 Axes>"
            ]
          },
          "metadata": {
            "tags": []
          }
        }
      ]
    },
    {
      "cell_type": "code",
      "metadata": {
        "id": "3m0331aTJz9i",
        "colab_type": "code",
        "colab": {
          "base_uri": "https://localhost:8080/",
          "height": 51
        },
        "outputId": "2ec7cb85-8bd5-4b37-d57c-2aac99a2688d"
      },
      "source": [
        "score=model.evaluate(x_test,y_test)\n",
        "print(\"Validation report : \",score)"
      ],
      "execution_count": 53,
      "outputs": [
        {
          "output_type": "stream",
          "text": [
            "10000/10000 [==============================] - 1s 64us/step\n",
            "Validation report :  [0.333887106359005, 0.8839]\n"
          ],
          "name": "stdout"
        }
      ]
    },
    {
      "cell_type": "code",
      "metadata": {
        "id": "13yeSsADwOKX",
        "colab_type": "code",
        "colab": {
          "base_uri": "https://localhost:8080/",
          "height": 187
        },
        "outputId": "7c637ab2-752c-48db-dbfb-f10fd50549ed"
      },
      "source": [
        "y_predict = model.predict(x_test)\n",
        "y_pred = []\n",
        "for val in y_predict:\n",
        "    y_pred.append(np.argmax(val))\n",
        "#print(y_pred)    \n",
        "#convert 0 1 to 1 and 1 0 as 0\n",
        "cm = metrics.confusion_matrix(ytest,y_pred)\n",
        "print(cm)\n"
      ],
      "execution_count": 54,
      "outputs": [
        {
          "output_type": "stream",
          "text": [
            "[[862   1   6  20   5   0 104   0   2   0]\n",
            " [  4 968   0  19   4   0   5   0   0   0]\n",
            " [ 17   0 711  15 110   0 146   0   1   0]\n",
            " [ 24   8   8 891  35   0  30   0   4   0]\n",
            " [  0   0  60  24 830   0  85   0   1   0]\n",
            " [  0   0   0   1   0 963   0  23   1  12]\n",
            " [128   0  38  29  62   0 738   0   5   0]\n",
            " [  0   0   0   0   0   9   0 941   0  50]\n",
            " [  7   0   0   5   1   1  11   3 972   0]\n",
            " [  0   0   0   0   0  10   1  26   0 963]]\n"
          ],
          "name": "stdout"
        }
      ]
    },
    {
      "cell_type": "code",
      "metadata": {
        "id": "ioCcGYA4zbuI",
        "colab_type": "code",
        "colab": {
          "base_uri": "https://localhost:8080/",
          "height": 323
        },
        "outputId": "6c69e77c-0e82-4881-f492-a81864c8dd08"
      },
      "source": [
        "cr=metrics.classification_report(ytest,y_pred)\n",
        "print(\"Classification report\")\n",
        "print(cr)"
      ],
      "execution_count": 55,
      "outputs": [
        {
          "output_type": "stream",
          "text": [
            "Classification report\n",
            "              precision    recall  f1-score   support\n",
            "\n",
            "           0       0.83      0.86      0.84      1000\n",
            "           1       0.99      0.97      0.98      1000\n",
            "           2       0.86      0.71      0.78      1000\n",
            "           3       0.89      0.89      0.89      1000\n",
            "           4       0.79      0.83      0.81      1000\n",
            "           5       0.98      0.96      0.97      1000\n",
            "           6       0.66      0.74      0.70      1000\n",
            "           7       0.95      0.94      0.94      1000\n",
            "           8       0.99      0.97      0.98      1000\n",
            "           9       0.94      0.96      0.95      1000\n",
            "\n",
            "    accuracy                           0.88     10000\n",
            "   macro avg       0.89      0.88      0.88     10000\n",
            "weighted avg       0.89      0.88      0.88     10000\n",
            "\n"
          ],
          "name": "stdout"
        }
      ]
    },
    {
      "cell_type": "markdown",
      "metadata": {
        "id": "0aP3hxSnFqWU",
        "colab_type": "text"
      },
      "source": [
        "The accuracy is 0.8826 on validation data, there is imbalance in data represented in classification report, the classification 6 did not get enough enough accuracy in the Classification report. Accuracy for classification 6 is low compared to other classification."
      ]
    },
    {
      "cell_type": "code",
      "metadata": {
        "id": "dkBEySo3Gcz9",
        "colab_type": "code",
        "colab": {}
      },
      "source": [
        ""
      ],
      "execution_count": 0,
      "outputs": []
    }
  ]
}