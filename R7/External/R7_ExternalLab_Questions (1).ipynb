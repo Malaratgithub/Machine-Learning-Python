{
  "nbformat": 4,
  "nbformat_minor": 0,
  "metadata": {
    "colab": {
      "name": "Updated_R7_ExternalLab_Questions.ipynb",
      "version": "0.3.2",
      "provenance": [],
      "collapsed_sections": []
    },
    "kernelspec": {
      "name": "python3",
      "display_name": "Python 3"
    },
    "accelerator": "GPU"
  },
  "cells": [
    {
      "cell_type": "markdown",
      "metadata": {
        "id": "4WH1Pr4KQlCh",
        "colab_type": "text"
      },
      "source": [
        "### Build a DNN using Keras with `RELU` and `ADAM`"
      ]
    },
    {
      "cell_type": "markdown",
      "metadata": {
        "id": "TbvI8LqlQlCl",
        "colab_type": "text"
      },
      "source": [
        "#### Load tensorflow"
      ]
    },
    {
      "cell_type": "code",
      "metadata": {
        "id": "SPW-a-qYQlCp",
        "colab_type": "code",
        "colab": {}
      },
      "source": [
        "import keras\n",
        "from keras.models import Sequential\n",
        "from keras.layers.core import Dense, Dropout, Activation, Flatten\n",
        "from keras.utils import np_utils\n",
        "import pandas as pd\n",
        "import numpy as np\n",
        "from sklearn import metrics\n",
        "import matplotlib.pyplot as plt\n",
        "%matplotlib inline"
      ],
      "execution_count": 0,
      "outputs": []
    },
    {
      "cell_type": "markdown",
      "metadata": {
        "id": "74cQBsi5QlCw",
        "colab_type": "text"
      },
      "source": [
        "#### Collect Fashion mnist data from tf.keras.datasets "
      ]
    },
    {
      "cell_type": "code",
      "metadata": {
        "id": "wVWy0oDTr2Kj",
        "colab_type": "code",
        "outputId": "04b04d78-c3d6-4b38-e4b9-4a87477b2e36",
        "colab": {
          "base_uri": "https://localhost:8080/",
          "height": 182
        }
      },
      "source": [
        "from keras.datasets import fashion_mnist\n",
        "(xtrain, ytrain),(xtest, ytest) = fashion_mnist.load_data()\n",
        "print(\"Shape of the Xtrain\",xtrain.shape)\n",
        "for i in range(1,11):\n",
        "    plt.subplot(1,10,i)\n",
        "    plt.axis(\"off\")\n",
        "    plt.imshow(xtrain[i,:,:], cmap=\"gray\")\n",
        "    plt.plot()\n",
        "plt.show()\n",
        "print(\"Dimensions of an image:\", xtrain[0].shape)\n",
        "print(\"No. of samples in the training set:\", xtrain.shape[0])\n",
        "print(\"No. of samples in the training set:\", ytrain.shape[0])\n",
        "print(\"No. of samples in the test set:\", xtest.shape[0])\n",
        "print(\"No. of samples in the test set:\", ytest.shape[0])"
      ],
      "execution_count": 0,
      "outputs": [
        {
          "output_type": "stream",
          "text": [
            "Shape of the Xtrain (60000, 28, 28)\n"
          ],
          "name": "stdout"
        },
        {
          "output_type": "display_data",
          "data": {
            "image/png": "[encoded data removed]",
            "text/plain": [
              "<Figure size 432x288 with 10 Axes>"
            ]
          },
          "metadata": {
            "tags": []
          }
        },
        {
          "output_type": "stream",
          "text": [
            "Dimensions of an image: (28, 28)\n",
            "No. of samples in the training set: 60000\n",
            "No. of samples in the training set: 60000\n",
            "No. of samples in the test set: 10000\n",
            "No. of samples in the test set: 10000\n"
          ],
          "name": "stdout"
        }
      ]
    },
    {
      "cell_type": "code",
      "metadata": {
        "id": "W6aj62J9-t5c",
        "colab_type": "code",
        "outputId": "2c41a174-b546-404d-c42b-c18404b3e689",
        "colab": {
          "base_uri": "https://localhost:8080/",
          "height": 34
        }
      },
      "source": [
        "df = pd.DataFrame(ytrain)\n",
        "num_classes = len(df[0].unique())\n",
        "print(\"Number of classes : \", num_classes)"
      ],
      "execution_count": 0,
      "outputs": [
        {
          "output_type": "stream",
          "text": [
            "Number of classes :  10\n"
          ],
          "name": "stdout"
        }
      ]
    },
    {
      "cell_type": "markdown",
      "metadata": {
        "id": "no7aWYZyQlC1",
        "colab_type": "text"
      },
      "source": [
        "#### Change train and test labels into one-hot vectors"
      ]
    },
    {
      "cell_type": "code",
      "metadata": {
        "id": "UX6otc4wQlC2",
        "colab_type": "code",
        "outputId": "e2a590c6-8763-4679-925c-fb23aa715a03",
        "colab": {
          "base_uri": "https://localhost:8080/",
          "height": 34
        }
      },
      "source": [
        "y_train = np_utils.to_categorical(ytrain, num_classes)\n",
        "y_test = np_utils.to_categorical(ytest, num_classes)\n",
        "y_train[2]"
      ],
      "execution_count": 0,
      "outputs": [
        {
          "output_type": "execute_result",
          "data": {
            "text/plain": [
              "array([1., 0., 0., 0., 0., 0., 0., 0., 0., 0.], dtype=float32)"
            ]
          },
          "metadata": {
            "tags": []
          },
          "execution_count": 26
        }
      ]
    },
    {
      "cell_type": "markdown",
      "metadata": {
        "id": "QjNrRTdoQlC5",
        "colab_type": "text"
      },
      "source": [
        "#### Build the Graph"
      ]
    },
    {
      "cell_type": "markdown",
      "metadata": {
        "id": "CDJ9DHVNQlC7",
        "colab_type": "text"
      },
      "source": [
        "#### Initialize model, reshape & normalize data"
      ]
    },
    {
      "cell_type": "code",
      "metadata": {
        "id": "pCDQs_g1QlC8",
        "colab_type": "code",
        "colab": {}
      },
      "source": [
        "#Initiaze model\n",
        "model = Sequential()\n",
        "\n",
        "# Reshape the dataset\n",
        "x_train = xtrain.reshape(xtrain.shape[0],28,28,1).astype(\"float32\")\n",
        "x_test = xtest.reshape(xtest.shape[0],28,28,1).astype(\"float32\")\n",
        "#Represent Training & Testing samples suitable for \n",
        "#tensorflow backend\n",
        "\n",
        "#normalize the dataset\n",
        "x_train/=255\n",
        "x_test/=255"
      ],
      "execution_count": 0,
      "outputs": []
    },
    {
      "cell_type": "code",
      "metadata": {
        "id": "o8Z2lvJSFGOg",
        "colab_type": "code",
        "outputId": "ba50ab74-bd9e-4145-8f41-dd99fc97470a",
        "colab": {
          "base_uri": "https://localhost:8080/",
          "height": 34
        }
      },
      "source": [
        "y_train.shape"
      ],
      "execution_count": 0,
      "outputs": [
        {
          "output_type": "execute_result",
          "data": {
            "text/plain": [
              "(60000, 10)"
            ]
          },
          "metadata": {
            "tags": []
          },
          "execution_count": 28
        }
      ]
    },
    {
      "cell_type": "markdown",
      "metadata": {
        "id": "kBGwTTilQlDD",
        "colab_type": "text"
      },
      "source": [
        "#### Add two fully connected layers with 200 and 100 neurons respectively with `relu` activations. Add a dropout layer with `p=0.25`"
      ]
    },
    {
      "cell_type": "code",
      "metadata": {
        "id": "IXbfpfOzQlDF",
        "colab_type": "code",
        "colab": {}
      },
      "source": [
        "\n",
        "model = Sequential()\n",
        "model.add(Flatten())\n",
        "model.add(Dense(200, activation=\"relu\",input_shape=(28,28,1)))\n",
        "model.add(Dense(100, activation=\"relu\"))\n",
        "model.add(Dropout(0.25))"
      ],
      "execution_count": 0,
      "outputs": []
    },
    {
      "cell_type": "markdown",
      "metadata": {
        "id": "5I8f5otcQlDJ",
        "colab_type": "text"
      },
      "source": [
        "### Add the output layer with a fully connected layer with 10 neurons with `softmax` activation. Use `categorical_crossentropy` loss and `adam` optimizer and train the network. And, report the final validation."
      ]
    },
    {
      "cell_type": "code",
      "metadata": {
        "id": "JZkvKymSd0Sr",
        "colab_type": "code",
        "outputId": "a5d163ac-5ff4-47d1-c093-477a65e3347d",
        "colab": {
          "base_uri": "https://localhost:8080/",
          "height": 391
        }
      },
      "source": [
        "from keras.optimizers import Adam \n",
        "adam = keras.optimizers.Adam(lr=0.001)\n",
        "\n",
        "model.add(Dense(10, activation=\"softmax\"))\n",
        "\n",
        "model.compile(loss=\"categorical_crossentropy\", optimizer=adam, metrics=[\"accuracy\"])\n",
        "model.fit(x_train, y_train, batch_size=32, epochs=10, validation_data=(x_test, y_test))"
      ],
      "execution_count": 0,
      "outputs": [
        {
          "output_type": "stream",
          "text": [
            "Train on 60000 samples, validate on 10000 samples\n",
            "Epoch 1/10\n",
            "60000/60000 [==============================] - 12s 207us/step - loss: 0.5159 - acc: 0.8133 - val_loss: 0.4508 - val_acc: 0.8311\n",
            "Epoch 2/10\n",
            "60000/60000 [==============================] - 11s 186us/step - loss: 0.3841 - acc: 0.8618 - val_loss: 0.3921 - val_acc: 0.8611\n",
            "Epoch 3/10\n",
            "60000/60000 [==============================] - 11s 186us/step - loss: 0.3461 - acc: 0.8724 - val_loss: 0.3576 - val_acc: 0.8734\n",
            "Epoch 4/10\n",
            "60000/60000 [==============================] - 11s 186us/step - loss: 0.3233 - acc: 0.8821 - val_loss: 0.3603 - val_acc: 0.8714\n",
            "Epoch 5/10\n",
            "60000/60000 [==============================] - 11s 185us/step - loss: 0.3044 - acc: 0.8875 - val_loss: 0.3655 - val_acc: 0.8630\n",
            "Epoch 6/10\n",
            "60000/60000 [==============================] - 11s 186us/step - loss: 0.2917 - acc: 0.8906 - val_loss: 0.3216 - val_acc: 0.8844\n",
            "Epoch 7/10\n",
            "60000/60000 [==============================] - 11s 187us/step - loss: 0.2804 - acc: 0.8961 - val_loss: 0.3439 - val_acc: 0.8782\n",
            "Epoch 8/10\n",
            "60000/60000 [==============================] - 11s 187us/step - loss: 0.2680 - acc: 0.9000 - val_loss: 0.3368 - val_acc: 0.8816\n",
            "Epoch 9/10\n",
            "60000/60000 [==============================] - 11s 186us/step - loss: 0.2597 - acc: 0.9028 - val_loss: 0.3421 - val_acc: 0.8789\n",
            "Epoch 10/10\n",
            "60000/60000 [==============================] - 11s 185us/step - loss: 0.2491 - acc: 0.9063 - val_loss: 0.3390 - val_acc: 0.8826\n"
          ],
          "name": "stdout"
        },
        {
          "output_type": "execute_result",
          "data": {
            "text/plain": [
              "<keras.callbacks.History at 0x7f4ca9b3c630>"
            ]
          },
          "metadata": {
            "tags": []
          },
          "execution_count": 30
        }
      ]
    },
    {
      "cell_type": "code",
      "metadata": {
        "id": "3m0331aTJz9i",
        "colab_type": "code",
        "outputId": "85a3797d-cbe9-4986-b2b8-abda1f255b1b",
        "colab": {
          "base_uri": "https://localhost:8080/",
          "height": 51
        }
      },
      "source": [
        "score=model.evaluate(x_test,y_test)\n",
        "print(\"Validation report : \",score)"
      ],
      "execution_count": 0,
      "outputs": [
        {
          "output_type": "stream",
          "text": [
            "10000/10000 [==============================] - 1s 69us/step\n",
            "Validation report :  [0.3389784048318863, 0.8826]\n"
          ],
          "name": "stdout"
        }
      ]
    },
    {
      "cell_type": "code",
      "metadata": {
        "id": "13yeSsADwOKX",
        "colab_type": "code",
        "outputId": "37386edc-8cea-4692-f820-dcfbb58fe44b",
        "colab": {
          "base_uri": "https://localhost:8080/",
          "height": 187
        }
      },
      "source": [
        "y_predict = model.predict(x_test)\n",
        "y_pred = []\n",
        "for val in y_predict:\n",
        "    y_pred.append(np.argmax(val))\n",
        "#print(y_pred)    \n",
        "#convert 0 1 to 1 and 1 0 as 0\n",
        "cm = metrics.confusion_matrix(ytest,y_pred)\n",
        "print(cm)\n"
      ],
      "execution_count": 0,
      "outputs": [
        {
          "output_type": "stream",
          "text": [
            "[[823   0  10  20   0   1 141   0   5   0]\n",
            " [  3 962   1  24   4   0   4   0   1   1]\n",
            " [ 11   0 751  10 114   0 114   0   0   0]\n",
            " [ 22   6   6 891  36   0  37   0   2   0]\n",
            " [  0   0  59  33 791   0 117   0   0   0]\n",
            " [  0   0   0   0   0 960   0  32   1   7]\n",
            " [102   0  56  27  46   0 762   0   7   0]\n",
            " [  0   0   0   0   0  11   0 976   0  13]\n",
            " [  6   0   1   6   2   3   7   3 972   0]\n",
            " [  0   0   0   0   0   7   1  54   0 938]]\n"
          ],
          "name": "stdout"
        }
      ]
    },
    {
      "cell_type": "code",
      "metadata": {
        "id": "ioCcGYA4zbuI",
        "colab_type": "code",
        "outputId": "43ce7093-cbe8-4652-a20b-3bb6ef453064",
        "colab": {
          "base_uri": "https://localhost:8080/",
          "height": 323
        }
      },
      "source": [
        "cr=metrics.classification_report(ytest,y_pred)\n",
        "print(\"Classification report\")\n",
        "print(cr)"
      ],
      "execution_count": 0,
      "outputs": [
        {
          "output_type": "stream",
          "text": [
            "Classification report\n",
            "              precision    recall  f1-score   support\n",
            "\n",
            "           0       0.85      0.82      0.84      1000\n",
            "           1       0.99      0.96      0.98      1000\n",
            "           2       0.85      0.75      0.80      1000\n",
            "           3       0.88      0.89      0.89      1000\n",
            "           4       0.80      0.79      0.79      1000\n",
            "           5       0.98      0.96      0.97      1000\n",
            "           6       0.64      0.76      0.70      1000\n",
            "           7       0.92      0.98      0.95      1000\n",
            "           8       0.98      0.97      0.98      1000\n",
            "           9       0.98      0.94      0.96      1000\n",
            "\n",
            "    accuracy                           0.88     10000\n",
            "   macro avg       0.89      0.88      0.88     10000\n",
            "weighted avg       0.89      0.88      0.88     10000\n",
            "\n"
          ],
          "name": "stdout"
        }
      ]
    },
    {
      "cell_type": "markdown",
      "metadata": {
        "id": "0aP3hxSnFqWU",
        "colab_type": "text"
      },
      "source": [
        "The accuracy is 0.8826 on validation data, there is imbalance in data represented in classification report, the classification 6 did not get enough enough accuracy in the Classification report. Accuracy for classification 6 is low compared to other classification."
      ]
    },
    {
      "cell_type": "code",
      "metadata": {
        "id": "dkBEySo3Gcz9",
        "colab_type": "code",
        "colab": {}
      },
      "source": [
        ""
      ],
      "execution_count": 0,
      "outputs": []
    }
  ]
}