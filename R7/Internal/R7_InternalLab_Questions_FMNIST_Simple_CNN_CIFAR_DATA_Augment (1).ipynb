{
  "nbformat": 4,
  "nbformat_minor": 0,
  "metadata": {
    "colab": {
      "name": "R7_InternalLab_Questions_FMNIST_Simple_CNN_CIFAR_DATA_Augment.ipynb",
      "version": "0.3.2",
      "provenance": [],
      "collapsed_sections": []
    },
    "kernelspec": {
      "name": "python3",
      "display_name": "Python 3"
    },
    "accelerator": "GPU"
  },
  "cells": [
    {
      "cell_type": "markdown",
      "metadata": {
        "id": "MyfMmMnPJjvn",
        "colab_type": "text"
      },
      "source": [
        "## Train a simple convnet on the Fashion MNIST dataset"
      ]
    },
    {
      "cell_type": "markdown",
      "metadata": {
        "id": "zjcGOJhcJjvp",
        "colab_type": "text"
      },
      "source": [
        "In this, we will see how to deal with image data and train a convnet for image classification task."
      ]
    },
    {
      "cell_type": "markdown",
      "metadata": {
        "id": "jR0Pl2XjJjvq",
        "colab_type": "text"
      },
      "source": [
        "### Load the  `fashion_mnist`  dataset\n",
        "\n",
        "** Use keras.datasets to load the dataset **"
      ]
    },
    {
      "cell_type": "code",
      "metadata": {
        "id": "Qr75v_UYJjvs",
        "colab_type": "code",
        "colab": {
          "base_uri": "https://localhost:8080/",
          "height": 170
        },
        "outputId": "2a3c45b6-7d8f-44fe-e7a9-e6c50fe05089"
      },
      "source": [
        "from keras.datasets import fashion_mnist\n",
        "(x_train, y_train), (x_test, y_test) = fashion_mnist.load_data()"
      ],
      "execution_count": 2,
      "outputs": [
        {
          "output_type": "stream",
          "text": [
            "Using TensorFlow backend.\n"
          ],
          "name": "stderr"
        },
        {
          "output_type": "stream",
          "text": [
            "Downloading data from http://fashion-mnist.s3-website.eu-central-1.amazonaws.com/train-labels-idx1-ubyte.gz\n",
            "32768/29515 [=================================] - 0s 3us/step\n",
            "Downloading data from http://fashion-mnist.s3-website.eu-central-1.amazonaws.com/train-images-idx3-ubyte.gz\n",
            "26427392/26421880 [==============================] - 2s 0us/step\n",
            "Downloading data from http://fashion-mnist.s3-website.eu-central-1.amazonaws.com/t10k-labels-idx1-ubyte.gz\n",
            "8192/5148 [===============================================] - 0s 0us/step\n",
            "Downloading data from http://fashion-mnist.s3-website.eu-central-1.amazonaws.com/t10k-images-idx3-ubyte.gz\n",
            "4423680/4422102 [==============================] - 1s 0us/step\n"
          ],
          "name": "stdout"
        }
      ]
    },
    {
      "cell_type": "markdown",
      "metadata": {
        "id": "hTI42-0qJjvw",
        "colab_type": "text"
      },
      "source": [
        "### Find no.of samples are there in training and test datasets"
      ]
    },
    {
      "cell_type": "code",
      "metadata": {
        "id": "g2sf67VoJjvx",
        "colab_type": "code",
        "colab": {
          "base_uri": "https://localhost:8080/",
          "height": 85
        },
        "outputId": "82fcfb4e-979d-4945-e0ec-776d709aa490"
      },
      "source": [
        "print(\"No. of samples in the training set:\", x_train.shape[0])\n",
        "print(\"No. of samples in the training set:\", y_train.shape[0])\n",
        "print(\"No. of samples in the test set:\", x_test.shape[0])\n",
        "print(\"No. of samples in the test set:\", y_test.shape[0])\n"
      ],
      "execution_count": 3,
      "outputs": [
        {
          "output_type": "stream",
          "text": [
            "No. of samples in the training set: 60000\n",
            "No. of samples in the training set: 60000\n",
            "No. of samples in the test set: 10000\n",
            "No. of samples in the test set: 10000\n"
          ],
          "name": "stdout"
        }
      ]
    },
    {
      "cell_type": "code",
      "metadata": {
        "id": "zewyDcBlJjv1",
        "colab_type": "code",
        "colab": {
          "base_uri": "https://localhost:8080/",
          "height": 34
        },
        "outputId": "fe8718e6-413b-4149-ae28-057401efe320"
      },
      "source": [
        "\"\""
      ],
      "execution_count": 4,
      "outputs": [
        {
          "output_type": "execute_result",
          "data": {
            "text/plain": [
              "''"
            ]
          },
          "metadata": {
            "tags": []
          },
          "execution_count": 4
        }
      ]
    },
    {
      "cell_type": "markdown",
      "metadata": {
        "id": "WytT2eRnJjv4",
        "colab_type": "text"
      },
      "source": [
        "### Find dimensions of an image in the dataset"
      ]
    },
    {
      "cell_type": "code",
      "metadata": {
        "id": "XycQGBSGJjv5",
        "colab_type": "code",
        "colab": {
          "base_uri": "https://localhost:8080/",
          "height": 34
        },
        "outputId": "c39fd9b1-6ffa-4816-82c3-4c7506163367"
      },
      "source": [
        "print(\"Dimensions of an image:\", x_train[0].shape)"
      ],
      "execution_count": 5,
      "outputs": [
        {
          "output_type": "stream",
          "text": [
            "Dimensions of an image: (28, 28)\n"
          ],
          "name": "stdout"
        }
      ]
    },
    {
      "cell_type": "markdown",
      "metadata": {
        "id": "5jtdZ7RqJjv8",
        "colab_type": "text"
      },
      "source": [
        "### Convert train and test labels to one hot vectors\n",
        "\n",
        "** check `keras.utils.to_categorical()` **"
      ]
    },
    {
      "cell_type": "code",
      "metadata": {
        "id": "4ty9AVI43pnJ",
        "colab_type": "code",
        "colab": {
          "base_uri": "https://localhost:8080/",
          "height": 34
        },
        "outputId": "817a691b-03e2-4626-ed97-23a4abc5650d"
      },
      "source": [
        "import pandas as pd\n",
        "df = pd.DataFrame(y_train)\n",
        "num_classes=len(df[0].unique())\n",
        "print(\"Number of classes : \", num_classes)\n",
        "#pd.crosstab(y_train, columns='0')"
      ],
      "execution_count": 6,
      "outputs": [
        {
          "output_type": "stream",
          "text": [
            "Number of classes :  10\n"
          ],
          "name": "stdout"
        }
      ]
    },
    {
      "cell_type": "code",
      "metadata": {
        "id": "sAD3q5I6Jjv9",
        "colab_type": "code",
        "colab": {}
      },
      "source": [
        "from keras.utils import np_utils\n",
        "\n",
        "Y_train=np_utils.to_categorical(y_train,num_classes)\n",
        "Y_test=np_utils.to_categorical(y_test,num_classes)"
      ],
      "execution_count": 0,
      "outputs": []
    },
    {
      "cell_type": "code",
      "metadata": {
        "id": "mgHSCXy3JjwA",
        "colab_type": "code",
        "colab": {}
      },
      "source": [
        ""
      ],
      "execution_count": 0,
      "outputs": []
    },
    {
      "cell_type": "markdown",
      "metadata": {
        "id": "xO5BRBzBJjwD",
        "colab_type": "text"
      },
      "source": [
        "### Normalize both the train and test image data from 0-255 to 0-1"
      ]
    },
    {
      "cell_type": "code",
      "metadata": {
        "id": "3fUQpMHxJjwE",
        "colab_type": "code",
        "colab": {}
      },
      "source": [
        "X_train=x_train/255\n",
        "X_test=x_test/255"
      ],
      "execution_count": 0,
      "outputs": []
    },
    {
      "cell_type": "code",
      "metadata": {
        "id": "Okwo_SB5JjwI",
        "colab_type": "code",
        "colab": {}
      },
      "source": [
        ""
      ],
      "execution_count": 0,
      "outputs": []
    },
    {
      "cell_type": "markdown",
      "metadata": {
        "id": "da5-DwgrJjwM",
        "colab_type": "text"
      },
      "source": [
        "### Reshape the data from 28x28 to 28x28x1 to match input dimensions in Conv2D layer in keras"
      ]
    },
    {
      "cell_type": "code",
      "metadata": {
        "id": "LPGVQ-JJJjwN",
        "colab_type": "code",
        "colab": {}
      },
      "source": [
        "X_train=X_train.reshape(X_train.shape[0],28,28,1).astype('float32')\n",
        "X_test=X_test.reshape(X_test.shape[0],28,28,1).astype('float32')"
      ],
      "execution_count": 0,
      "outputs": []
    },
    {
      "cell_type": "markdown",
      "metadata": {
        "id": "OFRRTJq8JjwQ",
        "colab_type": "text"
      },
      "source": [
        "### Import the necessary layers from keras to build the model"
      ]
    },
    {
      "cell_type": "code",
      "metadata": {
        "id": "dWTZYnKSJjwR",
        "colab_type": "code",
        "colab": {}
      },
      "source": [
        "from keras.models import Sequential\n",
        "from keras.layers.core import Dense, Dropout, Activation, Flatten\n",
        "from keras.layers.convolutional import Conv2D,MaxPooling2D"
      ],
      "execution_count": 0,
      "outputs": []
    },
    {
      "cell_type": "markdown",
      "metadata": {
        "id": "C18AoS7eJjwU",
        "colab_type": "text"
      },
      "source": [
        "### Build a model \n",
        "\n",
        "** with 2 Conv layers having `32 3x3 filters` in both convolutions with `relu activations` and `flatten` before passing the feature map into 2 fully connected layers (or Dense Layers) having 128 and 10 neurons with `relu` and `softmax` activations respectively. Now, using `categorical_crossentropy` loss with `adam` optimizer train the model with early stopping `patience=5` and no.of `epochs=10`. **"
      ]
    },
    {
      "cell_type": "code",
      "metadata": {
        "id": "DORCLgSwJjwV",
        "colab_type": "code",
        "colab": {
          "base_uri": "https://localhost:8080/",
          "height": 734
        },
        "outputId": "3562233e-b7cf-4888-8234-f3888b702b5f"
      },
      "source": [
        "import keras\n",
        "epoch=10\n",
        "model = Sequential()\n",
        "model.add(Conv2D(32,(3,3), activation=\"relu\", input_shape=(28,28,1)))\n",
        "model.add(Conv2D(32,(3,3), activation=\"relu\"))\n",
        "\n",
        "model.add(Flatten())\n",
        "\n",
        "model.add(Dense(128, activation=\"relu\"))\n",
        "model.add(Dense(num_classes, activation=\"softmax\"))\n",
        "\n",
        "model.compile(loss='categorical_crossentropy',optimizer='adam',metrics=['accuracy'])\n",
        "early_stopping = keras.callbacks.EarlyStopping(monitor=\"val_acc\", patience=5, verbose=1, mode=\"auto\")\n",
        "callback_list = [early_stopping]\n",
        "model.fit(X_train, Y_train, batch_size=32, nb_epoch=epoch, validation_data=(X_test,Y_test), callbacks=callback_list)\n"
      ],
      "execution_count": 11,
      "outputs": [
        {
          "output_type": "stream",
          "text": [
            "WARNING: Logging before flag parsing goes to stderr.\n",
            "W0728 13:06:59.080081 140176324917120 deprecation_wrapper.py:119] From /usr/local/lib/python3.6/dist-packages/keras/backend/tensorflow_backend.py:74: The name tf.get_default_graph is deprecated. Please use tf.compat.v1.get_default_graph instead.\n",
            "\n",
            "W0728 13:06:59.117031 140176324917120 deprecation_wrapper.py:119] From /usr/local/lib/python3.6/dist-packages/keras/backend/tensorflow_backend.py:517: The name tf.placeholder is deprecated. Please use tf.compat.v1.placeholder instead.\n",
            "\n",
            "W0728 13:06:59.124598 140176324917120 deprecation_wrapper.py:119] From /usr/local/lib/python3.6/dist-packages/keras/backend/tensorflow_backend.py:4138: The name tf.random_uniform is deprecated. Please use tf.random.uniform instead.\n",
            "\n",
            "W0728 13:06:59.195936 140176324917120 deprecation_wrapper.py:119] From /usr/local/lib/python3.6/dist-packages/keras/optimizers.py:790: The name tf.train.Optimizer is deprecated. Please use tf.compat.v1.train.Optimizer instead.\n",
            "\n",
            "W0728 13:06:59.219694 140176324917120 deprecation_wrapper.py:119] From /usr/local/lib/python3.6/dist-packages/keras/backend/tensorflow_backend.py:3295: The name tf.log is deprecated. Please use tf.math.log instead.\n",
            "\n",
            "/usr/local/lib/python3.6/dist-packages/ipykernel_launcher.py:15: UserWarning: The `nb_epoch` argument in `fit` has been renamed `epochs`.\n",
            "  from ipykernel import kernelapp as app\n",
            "W0728 13:06:59.333358 140176324917120 deprecation.py:323] From /usr/local/lib/python3.6/dist-packages/tensorflow/python/ops/math_grad.py:1250: add_dispatch_support.<locals>.wrapper (from tensorflow.python.ops.array_ops) is deprecated and will be removed in a future version.\n",
            "Instructions for updating:\n",
            "Use tf.where in 2.0, which has the same broadcast rule as np.where\n",
            "W0728 13:06:59.390459 140176324917120 deprecation_wrapper.py:119] From /usr/local/lib/python3.6/dist-packages/keras/backend/tensorflow_backend.py:986: The name tf.assign_add is deprecated. Please use tf.compat.v1.assign_add instead.\n",
            "\n"
          ],
          "name": "stderr"
        },
        {
          "output_type": "stream",
          "text": [
            "Train on 60000 samples, validate on 10000 samples\n",
            "Epoch 1/10\n",
            "60000/60000 [==============================] - 17s 289us/step - loss: 0.3837 - acc: 0.8618 - val_loss: 0.3110 - val_acc: 0.8877\n",
            "Epoch 2/10\n",
            "60000/60000 [==============================] - 11s 178us/step - loss: 0.2390 - acc: 0.9115 - val_loss: 0.2758 - val_acc: 0.8972\n",
            "Epoch 3/10\n",
            "60000/60000 [==============================] - 11s 177us/step - loss: 0.1727 - acc: 0.9363 - val_loss: 0.2521 - val_acc: 0.9109\n",
            "Epoch 4/10\n",
            "60000/60000 [==============================] - 11s 177us/step - loss: 0.1216 - acc: 0.9546 - val_loss: 0.2824 - val_acc: 0.9109\n",
            "Epoch 5/10\n",
            "60000/60000 [==============================] - 11s 177us/step - loss: 0.0819 - acc: 0.9697 - val_loss: 0.3026 - val_acc: 0.9153\n",
            "Epoch 6/10\n",
            "60000/60000 [==============================] - 11s 177us/step - loss: 0.0563 - acc: 0.9790 - val_loss: 0.3391 - val_acc: 0.9131\n",
            "Epoch 7/10\n",
            "60000/60000 [==============================] - 11s 177us/step - loss: 0.0413 - acc: 0.9853 - val_loss: 0.4114 - val_acc: 0.9109\n",
            "Epoch 8/10\n",
            "60000/60000 [==============================] - 11s 177us/step - loss: 0.0300 - acc: 0.9892 - val_loss: 0.4605 - val_acc: 0.9096\n",
            "Epoch 9/10\n",
            "60000/60000 [==============================] - 11s 176us/step - loss: 0.0254 - acc: 0.9907 - val_loss: 0.4795 - val_acc: 0.9122\n",
            "Epoch 10/10\n",
            "60000/60000 [==============================] - 11s 176us/step - loss: 0.0204 - acc: 0.9927 - val_loss: 0.5235 - val_acc: 0.9106\n",
            "Epoch 00010: early stopping\n"
          ],
          "name": "stdout"
        },
        {
          "output_type": "execute_result",
          "data": {
            "text/plain": [
              "<keras.callbacks.History at 0x7f7d0c977f98>"
            ]
          },
          "metadata": {
            "tags": []
          },
          "execution_count": 11
        }
      ]
    },
    {
      "cell_type": "markdown",
      "metadata": {
        "id": "ju69vKdIJjwX",
        "colab_type": "text"
      },
      "source": [
        "### Now, to the above model add `max` pooling layer of `filter size 2x2` and `dropout` layer with `p=0.25` after the 2 conv layers and run the model"
      ]
    },
    {
      "cell_type": "code",
      "metadata": {
        "id": "L2hAP94vJjwY",
        "colab_type": "code",
        "colab": {
          "base_uri": "https://localhost:8080/",
          "height": 530
        },
        "outputId": "48b65c4d-a6e9-474a-d160-7cd00634a793"
      },
      "source": [
        "\n",
        "model = Sequential()\n",
        "model.add(Conv2D(32,(3,3), activation=\"relu\", input_shape=(28,28,1)))\n",
        "model.add(Conv2D(32,(3,3), activation=\"relu\"))\n",
        "model.add(MaxPooling2D(pool_size=(2,2)))\n",
        "model.add(Dropout(0.25))\n",
        "model.add(Flatten())\n",
        "\n",
        "model.add(Dense(128, activation=\"relu\"))\n",
        "model.add(Dense(num_classes, activation=\"softmax\"))\n",
        "\n",
        "model.compile(loss='categorical_crossentropy',optimizer='adam',metrics=['accuracy'])\n",
        "early_stopping = keras.callbacks.EarlyStopping(monitor=\"val_acc\", patience=5, verbose=1, mode=\"auto\")\n",
        "callback_list = [early_stopping]\n",
        "model.fit(X_train, Y_train, batch_size=64, nb_epoch=10, validation_data=(X_test,Y_test), callbacks=callback_list)"
      ],
      "execution_count": 12,
      "outputs": [
        {
          "output_type": "stream",
          "text": [
            "W0728 13:08:52.691972 140176324917120 deprecation_wrapper.py:119] From /usr/local/lib/python3.6/dist-packages/keras/backend/tensorflow_backend.py:3976: The name tf.nn.max_pool is deprecated. Please use tf.nn.max_pool2d instead.\n",
            "\n",
            "W0728 13:08:52.702113 140176324917120 deprecation.py:506] From /usr/local/lib/python3.6/dist-packages/keras/backend/tensorflow_backend.py:3445: calling dropout (from tensorflow.python.ops.nn_ops) with keep_prob is deprecated and will be removed in a future version.\n",
            "Instructions for updating:\n",
            "Please use `rate` instead of `keep_prob`. Rate should be set to `rate = 1 - keep_prob`.\n",
            "/usr/local/lib/python3.6/dist-packages/ipykernel_launcher.py:15: UserWarning: The `nb_epoch` argument in `fit` has been renamed `epochs`.\n",
            "  from ipykernel import kernelapp as app\n"
          ],
          "name": "stderr"
        },
        {
          "output_type": "stream",
          "text": [
            "Train on 60000 samples, validate on 10000 samples\n",
            "Epoch 1/10\n",
            "60000/60000 [==============================] - 5s 86us/step - loss: 0.4312 - acc: 0.8452 - val_loss: 0.3251 - val_acc: 0.8814\n",
            "Epoch 2/10\n",
            "60000/60000 [==============================] - 5s 80us/step - loss: 0.2783 - acc: 0.8993 - val_loss: 0.2628 - val_acc: 0.9055\n",
            "Epoch 3/10\n",
            "60000/60000 [==============================] - 5s 80us/step - loss: 0.2317 - acc: 0.9142 - val_loss: 0.2557 - val_acc: 0.9063\n",
            "Epoch 4/10\n",
            "60000/60000 [==============================] - 5s 81us/step - loss: 0.1982 - acc: 0.9262 - val_loss: 0.2309 - val_acc: 0.9144\n",
            "Epoch 5/10\n",
            "60000/60000 [==============================] - 5s 82us/step - loss: 0.1702 - acc: 0.9369 - val_loss: 0.2198 - val_acc: 0.9225\n",
            "Epoch 6/10\n",
            "60000/60000 [==============================] - 5s 82us/step - loss: 0.1459 - acc: 0.9445 - val_loss: 0.2326 - val_acc: 0.9159\n",
            "Epoch 7/10\n",
            "60000/60000 [==============================] - 5s 81us/step - loss: 0.1255 - acc: 0.9534 - val_loss: 0.2284 - val_acc: 0.9235\n",
            "Epoch 8/10\n",
            "60000/60000 [==============================] - 5s 80us/step - loss: 0.1095 - acc: 0.9583 - val_loss: 0.2421 - val_acc: 0.9224\n",
            "Epoch 9/10\n",
            "60000/60000 [==============================] - 5s 80us/step - loss: 0.0901 - acc: 0.9668 - val_loss: 0.2605 - val_acc: 0.9255\n",
            "Epoch 10/10\n",
            "60000/60000 [==============================] - 5s 80us/step - loss: 0.0830 - acc: 0.9680 - val_loss: 0.2627 - val_acc: 0.9224\n"
          ],
          "name": "stdout"
        },
        {
          "output_type": "execute_result",
          "data": {
            "text/plain": [
              "<keras.callbacks.History at 0x7f7d000baac8>"
            ]
          },
          "metadata": {
            "tags": []
          },
          "execution_count": 12
        }
      ]
    },
    {
      "cell_type": "markdown",
      "metadata": {
        "id": "lGTA3bfEJjwa",
        "colab_type": "text"
      },
      "source": [
        "### Now, to the above model, lets add Data Augmentation "
      ]
    },
    {
      "cell_type": "markdown",
      "metadata": {
        "id": "F6gX8n5SJjwb",
        "colab_type": "text"
      },
      "source": [
        "### Import the ImageDataGenrator from keras and fit the training images"
      ]
    },
    {
      "cell_type": "code",
      "metadata": {
        "id": "Cbz4uHBuJjwc",
        "colab_type": "code",
        "colab": {}
      },
      "source": [
        "from keras.preprocessing.image import ImageDataGenerator\n",
        "\n",
        "# This will do preprocessing and realtime data augmentation:\n",
        "datagen = ImageDataGenerator(\n",
        "    featurewise_center=False,  # set input mean to 0 over the dataset\n",
        "    samplewise_center=False,  # set each sample mean to 0\n",
        "    featurewise_std_normalization=False,  # divide inputs by std of the dataset\n",
        "    samplewise_std_normalization=False,  # divide each input by its std\n",
        "    zca_whitening=False,  # apply ZCA whitening\n",
        "    rotation_range=50,  # randomly rotate images in the range (degrees, 0 to 180)\n",
        "    width_shift_range=0.1,  # randomly shift images horizontally (fraction of total width)\n",
        "    height_shift_range=0.1,  # randomly shift images vertically (fraction of total height)\n",
        "    horizontal_flip=False,  # randomly flip images\n",
        "    vertical_flip=False)  # randomly flip images\n",
        "\n",
        "# Prepare the generator\n",
        "datagen.fit(X_train)"
      ],
      "execution_count": 0,
      "outputs": []
    },
    {
      "cell_type": "markdown",
      "metadata": {
        "id": "pl-8dOo7Jjwf",
        "colab_type": "text"
      },
      "source": [
        "#### Showing 5 versions of the first image in training dataset using image datagenerator.flow()"
      ]
    },
    {
      "cell_type": "code",
      "metadata": {
        "scrolled": true,
        "id": "DpI1_McYJjwg",
        "colab_type": "code",
        "outputId": "e1c45d68-2fd1-43db-e3c9-42a1d0e30437",
        "colab": {
          "base_uri": "https://localhost:8080/",
          "height": 109
        }
      },
      "source": [
        "from matplotlib import pyplot as plt\n",
        "gen = datagen.flow(X_train[0:1], batch_size=1)\n",
        "for i in range(1, 6):\n",
        "    plt.subplot(1,5,i)\n",
        "    plt.axis(\"off\")\n",
        "    plt.imshow(gen.next().squeeze(), cmap='gray')\n",
        "    plt.plot()\n",
        "plt.show()"
      ],
      "execution_count": 14,
      "outputs": [
        {
          "output_type": "display_data",
          "data": {
            "image/png": "[encoded data removed]",
            "text/plain": [
              "<Figure size 432x288 with 5 Axes>"
            ]
          },
          "metadata": {
            "tags": []
          }
        }
      ]
    },
    {
      "cell_type": "markdown",
      "metadata": {
        "id": "dmPl5yE8Jjwm",
        "colab_type": "text"
      },
      "source": [
        "### Run the above model using fit_generator()"
      ]
    },
    {
      "cell_type": "code",
      "metadata": {
        "id": "44ZnDdJYJjwn",
        "colab_type": "code",
        "colab": {
          "base_uri": "https://localhost:8080/",
          "height": 462
        },
        "outputId": "4fd50aed-1382-4d40-8f6a-b8dbc416c6bc"
      },
      "source": [
        "\n",
        "\n",
        "model.fit_generator(datagen.flow(X_train, Y_train,\n",
        "                    batch_size=32),\n",
        "                    samples_per_epoch=X_train.shape[0],\n",
        "                    nb_epoch=10,\n",
        "                    validation_data=(X_test, Y_test), callbacks=callback_list)"
      ],
      "execution_count": 15,
      "outputs": [
        {
          "output_type": "stream",
          "text": [
            "Epoch 1/10\n",
            "  13/1875 [..............................] - ETA: 19s - loss: 2.2712 - acc: 0.4399"
          ],
          "name": "stdout"
        },
        {
          "output_type": "stream",
          "text": [
            "/usr/local/lib/python3.6/dist-packages/ipykernel_launcher.py:7: UserWarning: The semantics of the Keras 2 argument `steps_per_epoch` is not the same as the Keras 1 argument `samples_per_epoch`. `steps_per_epoch` is the number of batches to draw from the generator at each epoch. Basically steps_per_epoch = samples_per_epoch/batch_size. Similarly `nb_val_samples`->`validation_steps` and `val_samples`->`steps` arguments have changed. Update your method calls accordingly.\n",
            "  import sys\n",
            "/usr/local/lib/python3.6/dist-packages/ipykernel_launcher.py:7: UserWarning: Update your `fit_generator` call to the Keras 2 API: `fit_generator(<keras_pre..., validation_data=(array([[[..., callbacks=[<keras.ca..., steps_per_epoch=1875, epochs=10)`\n",
            "  import sys\n"
          ],
          "name": "stderr"
        },
        {
          "output_type": "stream",
          "text": [
            "1875/1875 [==============================] - 19s 10ms/step - loss: 0.6774 - acc: 0.7504 - val_loss: 0.3454 - val_acc: 0.8787\n",
            "Epoch 2/10\n",
            "1875/1875 [==============================] - 19s 10ms/step - loss: 0.5191 - acc: 0.8056 - val_loss: 0.3887 - val_acc: 0.8587\n",
            "Epoch 3/10\n",
            "1875/1875 [==============================] - 19s 10ms/step - loss: 0.4674 - acc: 0.8246 - val_loss: 0.3418 - val_acc: 0.8751\n",
            "Epoch 4/10\n",
            "1875/1875 [==============================] - 19s 10ms/step - loss: 0.4389 - acc: 0.8364 - val_loss: 0.3469 - val_acc: 0.8755\n",
            "Epoch 5/10\n",
            "1875/1875 [==============================] - 19s 10ms/step - loss: 0.4209 - acc: 0.8447 - val_loss: 0.3272 - val_acc: 0.8822\n",
            "Epoch 6/10\n",
            "1875/1875 [==============================] - 19s 10ms/step - loss: 0.4023 - acc: 0.8507 - val_loss: 0.3036 - val_acc: 0.8911\n",
            "Epoch 7/10\n",
            "1875/1875 [==============================] - 18s 10ms/step - loss: 0.3954 - acc: 0.8539 - val_loss: 0.3211 - val_acc: 0.8880\n",
            "Epoch 8/10\n",
            "1875/1875 [==============================] - 18s 10ms/step - loss: 0.3821 - acc: 0.8590 - val_loss: 0.3053 - val_acc: 0.8927\n",
            "Epoch 9/10\n",
            "1875/1875 [==============================] - 19s 10ms/step - loss: 0.3740 - acc: 0.8619 - val_loss: 0.3084 - val_acc: 0.8935\n",
            "Epoch 10/10\n",
            "1875/1875 [==============================] - 18s 10ms/step - loss: 0.3648 - acc: 0.8655 - val_loss: 0.3143 - val_acc: 0.8910\n"
          ],
          "name": "stdout"
        },
        {
          "output_type": "execute_result",
          "data": {
            "text/plain": [
              "<keras.callbacks.History at 0x7f7d0d668390>"
            ]
          },
          "metadata": {
            "tags": []
          },
          "execution_count": 15
        }
      ]
    },
    {
      "cell_type": "markdown",
      "metadata": {
        "id": "MwQQW5iOJjwq",
        "colab_type": "text"
      },
      "source": [
        "###  Report the final train and validation accuracy"
      ]
    },
    {
      "cell_type": "markdown",
      "metadata": {
        "id": "2uqlhX0mEPQ9",
        "colab_type": "text"
      },
      "source": [
        "After adding max pooling, dropout and data augmentation,  the model has given good result for both train and test accuracy.\n",
        "\n",
        "Without augmentation, loss: 0.0800 - acc: 0.9694 - val_loss: 0.2604 - val_acc: 0.9200\n",
        "\n",
        "With augmentation, loss: 0.3648 - acc: 0.8655 - val_loss: 0.3143 - val_acc: 0.8910\n",
        "\n"
      ]
    },
    {
      "cell_type": "code",
      "metadata": {
        "id": "ZBwVWNQC2qZD",
        "colab_type": "code",
        "colab": {
          "base_uri": "https://localhost:8080/",
          "height": 51
        },
        "outputId": "e4edf4e8-6d66-40fa-f6a2-ae7b35d1ac1d"
      },
      "source": [
        "score=model.evaluate(X_test,Y_test)\n",
        "\n",
        "score\n"
      ],
      "execution_count": 16,
      "outputs": [
        {
          "output_type": "stream",
          "text": [
            "10000/10000 [==============================] - 1s 55us/step\n"
          ],
          "name": "stdout"
        },
        {
          "output_type": "execute_result",
          "data": {
            "text/plain": [
              "[0.31425105699300765, 0.891]"
            ]
          },
          "metadata": {
            "tags": []
          },
          "execution_count": 16
        }
      ]
    },
    {
      "cell_type": "markdown",
      "metadata": {
        "id": "8KXqmUDW2rM1",
        "colab_type": "text"
      },
      "source": [
        "## **DATA AUGMENTATION ON CIFAR10 DATASET**"
      ]
    },
    {
      "cell_type": "markdown",
      "metadata": {
        "id": "8mja6OgQ3L18",
        "colab_type": "text"
      },
      "source": [
        "One of the best ways to improve the performance of a Deep Learning model is to add more data to the training set. Aside from gathering more instances from the wild that are representative of the distinction task, we want to develop a set of methods that enhance the data we already have. There are many ways to augment existing datasets and produce more robust models. In the image domain, these are done to utilize the full power of the convolutional neural network, which is able to capture translational invariance. This translational invariance is what makes image recognition such a difficult task in the first place. You want the dataset to be representative of the many different positions, angles, lightings, and miscellaneous distortions that are of interest to the vision task."
      ]
    },
    {
      "cell_type": "markdown",
      "metadata": {
        "id": "6HzVTPUM3WZJ",
        "colab_type": "text"
      },
      "source": [
        "### **Import neessary libraries for data augmentation**"
      ]
    },
    {
      "cell_type": "code",
      "metadata": {
        "id": "PPM558TX4KMb",
        "colab_type": "code",
        "colab": {}
      },
      "source": [
        "from keras.preprocessing.image import ImageDataGenerator"
      ],
      "execution_count": 0,
      "outputs": []
    },
    {
      "cell_type": "markdown",
      "metadata": {
        "id": "W6hicLwP4SqY",
        "colab_type": "text"
      },
      "source": [
        "### **Load CIFAR10 dataset**"
      ]
    },
    {
      "cell_type": "code",
      "metadata": {
        "id": "NQ1WzrXd4WNk",
        "colab_type": "code",
        "colab": {
          "base_uri": "https://localhost:8080/",
          "height": 68
        },
        "outputId": "d52ae150-5d68-4f32-ef14-7a51de5c5caa"
      },
      "source": [
        "from keras.datasets import cifar10\n",
        "(cix_train, ciy_train), (cix_test, ciy_test) = cifar10.load_data()\n",
        "cix_train[1].shape"
      ],
      "execution_count": 18,
      "outputs": [
        {
          "output_type": "stream",
          "text": [
            "Downloading data from https://www.cs.toronto.edu/~kriz/cifar-10-python.tar.gz\n",
            "170500096/170498071 [==============================] - 2s 0us/step\n"
          ],
          "name": "stdout"
        },
        {
          "output_type": "execute_result",
          "data": {
            "text/plain": [
              "(32, 32, 3)"
            ]
          },
          "metadata": {
            "tags": []
          },
          "execution_count": 18
        }
      ]
    },
    {
      "cell_type": "code",
      "metadata": {
        "id": "R9Pht1ggHuiT",
        "colab_type": "code",
        "colab": {}
      },
      "source": [
        "\n",
        "ciX_train=cix_train.reshape(cix_train.shape[0],32,32,3).astype('float32')\n",
        "ciX_test=cix_test.reshape(cix_test.shape[0],32,32,3).astype('float32')\n",
        "\n",
        "ciX_train/=255\n",
        "ciX_test/=255\n"
      ],
      "execution_count": 0,
      "outputs": []
    },
    {
      "cell_type": "code",
      "metadata": {
        "id": "3n28ccU6Hp6s",
        "colab_type": "code",
        "colab": {}
      },
      "source": [
        "#Encoding the output in onehot encoding\n",
        "ciY_train = np_utils.to_categorical(ciy_train, 10)\n",
        "ciY_test = np_utils.to_categorical(ciy_test, 10)"
      ],
      "execution_count": 0,
      "outputs": []
    },
    {
      "cell_type": "markdown",
      "metadata": {
        "id": "JN3vYYhK4W0u",
        "colab_type": "text"
      },
      "source": [
        "### **Create a data_gen funtion to genererator with image rotation,shifting image horizontally and vertically with random flip horizontally.**"
      ]
    },
    {
      "cell_type": "code",
      "metadata": {
        "id": "JJbekTKi4cmM",
        "colab_type": "code",
        "colab": {
          "base_uri": "https://localhost:8080/",
          "height": 109
        },
        "outputId": "b08720e7-1e01-4adf-fe88-d738808293ae"
      },
      "source": [
        "# This will do preprocessing and realtime data augmentation:\n",
        "datagen = ImageDataGenerator(\n",
        "    featurewise_center=False,  # set input mean to 0 over the dataset\n",
        "    samplewise_center=False,  # set each sample mean to 0\n",
        "    featurewise_std_normalization=False,  # divide inputs by std of the dataset\n",
        "    samplewise_std_normalization=False,  # divide each input by its std\n",
        "    zca_whitening=False,  # apply ZCA whitening\n",
        "    rotation_range=50,  # randomly rotate images in the range (degrees, 0 to 180)\n",
        "    width_shift_range=0.1,  # randomly shift images horizontally (fraction of total width)\n",
        "    height_shift_range=0.1,  # randomly shift images vertically (fraction of total height)\n",
        "    horizontal_flip=False,  # randomly flip images\n",
        "    vertical_flip=False)  # randomly flip images\n",
        "\n",
        "# Prepare the generator\n",
        "datagen.fit(ciX_train)\n",
        "\n",
        "from matplotlib import pyplot as plt\n",
        "gen = datagen.flow(ciX_train[0:1], batch_size=1)\n",
        "for i in range(1, 6):\n",
        "    plt.subplot(1,5,i)\n",
        "    plt.axis(\"off\")\n",
        "    plt.imshow(gen.next().squeeze())\n",
        "    plt.plot()\n",
        "plt.show()"
      ],
      "execution_count": 21,
      "outputs": [
        {
          "output_type": "display_data",
          "data": {
            "image/png": "[encoded data removed]",
            "text/plain": [
              "<Figure size 432x288 with 5 Axes>"
            ]
          },
          "metadata": {
            "tags": []
          }
        }
      ]
    },
    {
      "cell_type": "markdown",
      "metadata": {
        "id": "e-SLtUhC4dK2",
        "colab_type": "text"
      },
      "source": [
        "### **Prepare/fit the generator.**"
      ]
    },
    {
      "cell_type": "code",
      "metadata": {
        "id": "CSw8Bv2_4hb0",
        "colab_type": "code",
        "colab": {
          "base_uri": "https://localhost:8080/",
          "height": 836
        },
        "outputId": "9c7fda3e-d875-40ab-e436-f75dea72feda"
      },
      "source": [
        "cimodel = Sequential()\n",
        "cimodel.add(Conv2D(64,(3,3),border_mode=\"valid\", input_shape=(32,32,3), activation=\"relu\"))\n",
        "cimodel.add(Conv2D(128,(3,3),border_mode=\"valid\", input_shape=(32,32,3), activation=\"relu\"))\n",
        "cimodel.add(Flatten())\n",
        "cimodel.add(Dense(128,activation=\"relu\"))\n",
        "cimodel.add(Dense(128,activation=\"relu\"))\n",
        "cimodel.add(Dense(10,activation=\"softmax\"))\n",
        "\n",
        "cimodel.compile(loss=\"categorical_crossentropy\", optimizer=\"adam\", metrics=[\"accuracy\"])\n",
        "early_stopping = keras.callbacks.EarlyStopping(monitor=\"val_acc\", patience=10, verbose=1, mode=\"auto\")\n",
        "callback_list = [early_stopping]\n",
        "#model.fit(X_train,Y_train,batch_size=Batch_size,epochs=epoch, validation_data=(X_test, Y_test), callbacks=callback_list)\n",
        "\n",
        "\n",
        "cimodel.fit_generator(datagen.flow(ciX_train, ciY_train,\n",
        "                    batch_size=32),\n",
        "                    samples_per_epoch=ciX_train.shape[0],\n",
        "                    nb_epoch=20,\n",
        "                    validation_data=(ciX_test, ciY_test), callbacks=callback_list)"
      ],
      "execution_count": 22,
      "outputs": [
        {
          "output_type": "stream",
          "text": [
            "/usr/local/lib/python3.6/dist-packages/ipykernel_launcher.py:2: UserWarning: Update your `Conv2D` call to the Keras 2 API: `Conv2D(64, (3, 3), input_shape=(32, 32, 3..., activation=\"relu\", padding=\"valid\")`\n",
            "  \n",
            "/usr/local/lib/python3.6/dist-packages/ipykernel_launcher.py:3: UserWarning: Update your `Conv2D` call to the Keras 2 API: `Conv2D(128, (3, 3), input_shape=(32, 32, 3..., activation=\"relu\", padding=\"valid\")`\n",
            "  This is separate from the ipykernel package so we can avoid doing imports until\n",
            "/usr/local/lib/python3.6/dist-packages/ipykernel_launcher.py:19: UserWarning: The semantics of the Keras 2 argument `steps_per_epoch` is not the same as the Keras 1 argument `samples_per_epoch`. `steps_per_epoch` is the number of batches to draw from the generator at each epoch. Basically steps_per_epoch = samples_per_epoch/batch_size. Similarly `nb_val_samples`->`validation_steps` and `val_samples`->`steps` arguments have changed. Update your method calls accordingly.\n",
            "/usr/local/lib/python3.6/dist-packages/ipykernel_launcher.py:19: UserWarning: Update your `fit_generator` call to the Keras 2 API: `fit_generator(<keras_pre..., validation_data=(array([[[..., callbacks=[<keras.ca..., steps_per_epoch=1562, epochs=20)`\n"
          ],
          "name": "stderr"
        },
        {
          "output_type": "stream",
          "text": [
            "Epoch 1/20\n",
            "1562/1562 [==============================] - 31s 20ms/step - loss: 1.7361 - acc: 0.3740 - val_loss: 1.4261 - val_acc: 0.4778\n",
            "Epoch 2/20\n",
            "1562/1562 [==============================] - 30s 19ms/step - loss: 1.5104 - acc: 0.4534 - val_loss: 1.3281 - val_acc: 0.5199\n",
            "Epoch 3/20\n",
            "1562/1562 [==============================] - 30s 19ms/step - loss: 1.4080 - acc: 0.4922 - val_loss: 1.2545 - val_acc: 0.5490\n",
            "Epoch 4/20\n",
            "1562/1562 [==============================] - 30s 19ms/step - loss: 1.3450 - acc: 0.5193 - val_loss: 1.2672 - val_acc: 0.5428\n",
            "Epoch 5/20\n",
            "1562/1562 [==============================] - 30s 19ms/step - loss: 1.3071 - acc: 0.5321 - val_loss: 1.1647 - val_acc: 0.5859\n",
            "Epoch 6/20\n",
            "1562/1562 [==============================] - 30s 19ms/step - loss: 1.2662 - acc: 0.5483 - val_loss: 1.2446 - val_acc: 0.5597\n",
            "Epoch 7/20\n",
            "1562/1562 [==============================] - 30s 19ms/step - loss: 1.2381 - acc: 0.5578 - val_loss: 1.1655 - val_acc: 0.5891\n",
            "Epoch 8/20\n",
            "1562/1562 [==============================] - 30s 19ms/step - loss: 1.2174 - acc: 0.5645 - val_loss: 1.1163 - val_acc: 0.6077\n",
            "Epoch 9/20\n",
            "1562/1562 [==============================] - 30s 19ms/step - loss: 1.1992 - acc: 0.5707 - val_loss: 1.1067 - val_acc: 0.6100\n",
            "Epoch 10/20\n",
            "1562/1562 [==============================] - 30s 19ms/step - loss: 1.1802 - acc: 0.5810 - val_loss: 1.1228 - val_acc: 0.6049\n",
            "Epoch 11/20\n",
            "1562/1562 [==============================] - 29s 19ms/step - loss: 1.1612 - acc: 0.5871 - val_loss: 1.0473 - val_acc: 0.6259\n",
            "Epoch 12/20\n",
            "1562/1562 [==============================] - 30s 19ms/step - loss: 1.1477 - acc: 0.5911 - val_loss: 1.0890 - val_acc: 0.6165\n",
            "Epoch 13/20\n",
            "1562/1562 [==============================] - 30s 19ms/step - loss: 1.1348 - acc: 0.5974 - val_loss: 1.1372 - val_acc: 0.6049\n",
            "Epoch 14/20\n",
            "1562/1562 [==============================] - 30s 19ms/step - loss: 1.1241 - acc: 0.6021 - val_loss: 1.0867 - val_acc: 0.6140\n",
            "Epoch 15/20\n",
            "1562/1562 [==============================] - 30s 19ms/step - loss: 1.1143 - acc: 0.6026 - val_loss: 1.0807 - val_acc: 0.6221\n",
            "Epoch 16/20\n",
            "1562/1562 [==============================] - 30s 19ms/step - loss: 1.1126 - acc: 0.6041 - val_loss: 1.0823 - val_acc: 0.6258\n",
            "Epoch 17/20\n",
            "1562/1562 [==============================] - 30s 19ms/step - loss: 1.0980 - acc: 0.6126 - val_loss: 1.1750 - val_acc: 0.6003\n",
            "Epoch 18/20\n",
            "1562/1562 [==============================] - 30s 19ms/step - loss: 1.0885 - acc: 0.6138 - val_loss: 1.0635 - val_acc: 0.6313\n",
            "Epoch 19/20\n",
            "1562/1562 [==============================] - 30s 19ms/step - loss: 1.0822 - acc: 0.6156 - val_loss: 1.1238 - val_acc: 0.6162\n",
            "Epoch 20/20\n",
            "1562/1562 [==============================] - 30s 19ms/step - loss: 1.0840 - acc: 0.6179 - val_loss: 1.0888 - val_acc: 0.6258\n"
          ],
          "name": "stdout"
        },
        {
          "output_type": "execute_result",
          "data": {
            "text/plain": [
              "<keras.callbacks.History at 0x7f7cb2c6b240>"
            ]
          },
          "metadata": {
            "tags": []
          },
          "execution_count": 22
        }
      ]
    },
    {
      "cell_type": "markdown",
      "metadata": {
        "id": "gYyF-P8O4jQ8",
        "colab_type": "text"
      },
      "source": [
        "### **Generate 5 images for 1 of the image of CIFAR10 train dataset.**"
      ]
    },
    {
      "cell_type": "code",
      "metadata": {
        "id": "mXug4z234mwQ",
        "colab_type": "code",
        "colab": {
          "base_uri": "https://localhost:8080/",
          "height": 109
        },
        "outputId": "800dacb6-87c6-4774-f65a-17454ee83642"
      },
      "source": [
        "from matplotlib import pyplot as plt\n",
        "gen = datagen.flow(ciX_train[0:1], batch_size=1)\n",
        "for i in range(1, 6):\n",
        "    plt.subplot(1,5,i)\n",
        "    plt.axis(\"off\")\n",
        "    plt.imshow(gen.next().squeeze())\n",
        "    plt.plot()\n",
        "plt.show()"
      ],
      "execution_count": 26,
      "outputs": [
        {
          "output_type": "display_data",
          "data": {
            "image/png": "[encoded data removed]",
            "text/plain": [
              "<Figure size 432x288 with 5 Axes>"
            ]
          },
          "metadata": {
            "tags": []
          }
        }
      ]
    },
    {
      "cell_type": "code",
      "metadata": {
        "id": "QaJLbH17L-bi",
        "colab_type": "code",
        "colab": {}
      },
      "source": [
        ""
      ],
      "execution_count": 0,
      "outputs": []
    }
  ]
}