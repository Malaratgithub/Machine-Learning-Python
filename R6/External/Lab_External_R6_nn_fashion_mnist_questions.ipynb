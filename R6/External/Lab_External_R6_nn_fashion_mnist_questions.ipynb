{
  "nbformat": 4,
  "nbformat_minor": 0,
  "metadata": {
    "colab": {
      "name": "Lab_External_R6_nn_fashion_mnist_questions.ipynb",
      "version": "0.3.2",
      "provenance": [],
      "collapsed_sections": []
    },
    "language_info": {
      "codemirror_mode": {
        "name": "ipython",
        "version": 3
      },
      "file_extension": ".py",
      "mimetype": "text/x-python",
      "name": "python",
      "nbconvert_exporter": "python",
      "pygments_lexer": "ipython3",
      "version": "3.7.3"
    },
    "kernelspec": {
      "display_name": "Python 3",
      "language": "python",
      "name": "python3"
    }
  },
  "cells": [
    {
      "cell_type": "markdown",
      "metadata": {
        "id": "V7FNpC_EJ4UW",
        "colab_type": "text"
      },
      "source": [
        "# A MNIST-like fashion product database\n",
        "\n",
        "In this assignment, we will train a neural net on image data. We will use tensorflow's implementation of keras to solve this and check the accuracy scores.\n",
        "\n",
        "***Dataset to be used: keras.datasets.fashion_mnist***"
      ]
    },
    {
      "cell_type": "markdown",
      "metadata": {
        "id": "uxBhSiepJ4Ua",
        "colab_type": "text"
      },
      "source": [
        "## Import tensorflow"
      ]
    },
    {
      "cell_type": "code",
      "metadata": {
        "id": "i0H4kewgJ4Uc",
        "colab_type": "code",
        "colab": {}
      },
      "source": [
        "import tensorflow as tf"
      ],
      "execution_count": 0,
      "outputs": []
    },
    {
      "cell_type": "markdown",
      "metadata": {
        "id": "jTMavS4-LV1Y",
        "colab_type": "text"
      },
      "source": [
        "Check the version"
      ]
    },
    {
      "cell_type": "code",
      "metadata": {
        "id": "dtwEO8ytJ4Uj",
        "colab_type": "code",
        "outputId": "75911fae-8de4-4906-90e7-598a161e960e",
        "colab": {
          "base_uri": "https://localhost:8080/",
          "height": 34
        }
      },
      "source": [
        "tf.VERSION"
      ],
      "execution_count": 2,
      "outputs": [
        {
          "output_type": "execute_result",
          "data": {
            "text/plain": [
              "'1.14.0'"
            ]
          },
          "metadata": {
            "tags": []
          },
          "execution_count": 2
        }
      ]
    },
    {
      "cell_type": "markdown",
      "metadata": {
        "id": "B74u712TJ4Ur",
        "colab_type": "text"
      },
      "source": [
        "## Load dataset"
      ]
    },
    {
      "cell_type": "markdown",
      "metadata": {
        "id": "BVYjGo4cLect",
        "colab_type": "text"
      },
      "source": [
        "Import keras"
      ]
    },
    {
      "cell_type": "code",
      "metadata": {
        "id": "YzX3QUF8J4Ut",
        "colab_type": "code",
        "colab": {}
      },
      "source": [
        "from tensorflow import keras\n",
        "import matplotlib.pyplot as plt\n",
        "\n",
        "import numpy as np"
      ],
      "execution_count": 0,
      "outputs": []
    },
    {
      "cell_type": "markdown",
      "metadata": {
        "id": "46BfbDHkLhuA",
        "colab_type": "text"
      },
      "source": [
        "Get fashion mnist data using `keras.datasets.fashion_mnist.load_data()`"
      ]
    },
    {
      "cell_type": "code",
      "metadata": {
        "id": "ZybT44FuJ4Uy",
        "colab_type": "code",
        "outputId": "cf26fe57-c81f-459b-fb76-6ca767369a03",
        "colab": {
          "base_uri": "https://localhost:8080/",
          "height": 170
        }
      },
      "source": [
        "from keras.datasets import fashion_mnist\n",
        "(x_train, y_train), (x_test, y_test) = fashion_mnist.load_data()"
      ],
      "execution_count": 4,
      "outputs": [
        {
          "output_type": "stream",
          "text": [
            "Using TensorFlow backend.\n"
          ],
          "name": "stderr"
        },
        {
          "output_type": "stream",
          "text": [
            "Downloading data from http://fashion-mnist.s3-website.eu-central-1.amazonaws.com/train-labels-idx1-ubyte.gz\n",
            "32768/29515 [=================================] - 0s 3us/step\n",
            "Downloading data from http://fashion-mnist.s3-website.eu-central-1.amazonaws.com/train-images-idx3-ubyte.gz\n",
            "26427392/26421880 [==============================] - 1s 0us/step\n",
            "Downloading data from http://fashion-mnist.s3-website.eu-central-1.amazonaws.com/t10k-labels-idx1-ubyte.gz\n",
            "8192/5148 [===============================================] - 0s 0us/step\n",
            "Downloading data from http://fashion-mnist.s3-website.eu-central-1.amazonaws.com/t10k-images-idx3-ubyte.gz\n",
            "4423680/4422102 [==============================] - 1s 0us/step\n"
          ],
          "name": "stdout"
        }
      ]
    },
    {
      "cell_type": "markdown",
      "metadata": {
        "id": "69LCNocXLrX8",
        "colab_type": "text"
      },
      "source": [
        "Print the shape of the training data"
      ]
    },
    {
      "cell_type": "code",
      "metadata": {
        "id": "EmtKu5YUJ4U6",
        "colab_type": "code",
        "outputId": "3491aea2-f860-494d-b537-9442b3bbc49b",
        "colab": {
          "base_uri": "https://localhost:8080/",
          "height": 68
        }
      },
      "source": [
        "print(\"fashion_mnist training dataset shapes\")\n",
        "print(x_train.shape)\n",
        "print(y_train.shape)"
      ],
      "execution_count": 5,
      "outputs": [
        {
          "output_type": "stream",
          "text": [
            "fashion_mnist training dataset shapes\n",
            "(60000, 28, 28)\n",
            "(60000,)\n"
          ],
          "name": "stdout"
        }
      ]
    },
    {
      "cell_type": "markdown",
      "metadata": {
        "id": "wH9OTDkxL0Wf",
        "colab_type": "text"
      },
      "source": [
        "Print the shape of the testing data"
      ]
    },
    {
      "cell_type": "code",
      "metadata": {
        "id": "jdZ4KxpeJ4VA",
        "colab_type": "code",
        "outputId": "a9503f03-3bd2-4f44-a324-90bad74fa5b2",
        "colab": {
          "base_uri": "https://localhost:8080/",
          "height": 68
        }
      },
      "source": [
        "print(\"fashion_mnist testing dataset shapes\")\n",
        "print(x_test.shape)\n",
        "print(y_test.shape)"
      ],
      "execution_count": 6,
      "outputs": [
        {
          "output_type": "stream",
          "text": [
            "fashion_mnist testing dataset shapes\n",
            "(10000, 28, 28)\n",
            "(10000,)\n"
          ],
          "name": "stdout"
        }
      ]
    },
    {
      "cell_type": "markdown",
      "metadata": {
        "id": "YndXhJn3L5Hh",
        "colab_type": "text"
      },
      "source": [
        "View the test data using `.view()` function"
      ]
    },
    {
      "cell_type": "code",
      "metadata": {
        "id": "QhsbTWOBJ4VG",
        "colab_type": "code",
        "outputId": "6ec0ee0e-703b-4fc2-b957-05218495a2ed",
        "colab": {
          "base_uri": "https://localhost:8080/",
          "height": 850
        }
      },
      "source": [
        "x_test.view()"
      ],
      "execution_count": 7,
      "outputs": [
        {
          "output_type": "execute_result",
          "data": {
            "text/plain": [
              "array([[[0, 0, 0, ..., 0, 0, 0],\n",
              "        [0, 0, 0, ..., 0, 0, 0],\n",
              "        [0, 0, 0, ..., 0, 0, 0],\n",
              "        ...,\n",
              "        [0, 0, 0, ..., 0, 0, 0],\n",
              "        [0, 0, 0, ..., 0, 0, 0],\n",
              "        [0, 0, 0, ..., 0, 0, 0]],\n",
              "\n",
              "       [[0, 0, 0, ..., 0, 0, 0],\n",
              "        [0, 0, 0, ..., 0, 0, 0],\n",
              "        [0, 0, 0, ..., 0, 0, 0],\n",
              "        ...,\n",
              "        [0, 0, 0, ..., 0, 0, 0],\n",
              "        [0, 0, 0, ..., 0, 0, 0],\n",
              "        [0, 0, 0, ..., 0, 0, 0]],\n",
              "\n",
              "       [[0, 0, 0, ..., 0, 0, 0],\n",
              "        [0, 0, 0, ..., 0, 0, 0],\n",
              "        [0, 0, 0, ..., 0, 0, 0],\n",
              "        ...,\n",
              "        [0, 0, 0, ..., 0, 0, 0],\n",
              "        [0, 0, 0, ..., 0, 0, 0],\n",
              "        [0, 0, 0, ..., 0, 0, 0]],\n",
              "\n",
              "       ...,\n",
              "\n",
              "       [[0, 0, 0, ..., 0, 0, 0],\n",
              "        [0, 0, 0, ..., 0, 0, 0],\n",
              "        [0, 0, 0, ..., 0, 0, 0],\n",
              "        ...,\n",
              "        [0, 0, 0, ..., 0, 0, 0],\n",
              "        [0, 0, 0, ..., 0, 0, 0],\n",
              "        [0, 0, 0, ..., 0, 0, 0]],\n",
              "\n",
              "       [[0, 0, 0, ..., 0, 0, 0],\n",
              "        [0, 0, 0, ..., 0, 0, 0],\n",
              "        [0, 0, 0, ..., 0, 0, 0],\n",
              "        ...,\n",
              "        [0, 0, 0, ..., 0, 0, 0],\n",
              "        [0, 0, 0, ..., 0, 0, 0],\n",
              "        [0, 0, 0, ..., 0, 0, 0]],\n",
              "\n",
              "       [[0, 0, 0, ..., 0, 0, 0],\n",
              "        [0, 0, 0, ..., 0, 0, 0],\n",
              "        [0, 0, 0, ..., 0, 0, 0],\n",
              "        ...,\n",
              "        [0, 0, 0, ..., 0, 0, 0],\n",
              "        [0, 0, 0, ..., 0, 0, 0],\n",
              "        [0, 0, 0, ..., 0, 0, 0]]], dtype=uint8)"
            ]
          },
          "metadata": {
            "tags": []
          },
          "execution_count": 7
        }
      ]
    },
    {
      "cell_type": "code",
      "metadata": {
        "id": "7sY8G1fQUJZ3",
        "colab_type": "code",
        "outputId": "78de7516-869e-4d27-a22f-b4d48eae0228",
        "colab": {
          "base_uri": "https://localhost:8080/",
          "height": 34
        }
      },
      "source": [
        "y_test.view()"
      ],
      "execution_count": 8,
      "outputs": [
        {
          "output_type": "execute_result",
          "data": {
            "text/plain": [
              "array([9, 2, 1, ..., 8, 1, 5], dtype=uint8)"
            ]
          },
          "metadata": {
            "tags": []
          },
          "execution_count": 8
        }
      ]
    },
    {
      "cell_type": "markdown",
      "metadata": {
        "id": "_2vIWudBJ4VL",
        "colab_type": "text"
      },
      "source": [
        "## Convert both training and testing labels into one-hot vectors."
      ]
    },
    {
      "cell_type": "markdown",
      "metadata": {
        "id": "afr5WC9fJ4VN",
        "colab_type": "text"
      },
      "source": [
        "Hint: check tf.keras.utils.to_categorical()"
      ]
    },
    {
      "cell_type": "code",
      "metadata": {
        "id": "PJ944sKcJ4VP",
        "colab_type": "code",
        "outputId": "0865941a-9dcb-429e-de1b-663929bf3d68",
        "colab": {
          "base_uri": "https://localhost:8080/",
          "height": 136
        }
      },
      "source": [
        "tf.keras.utils.to_categorical(\n",
        "    y_train,\n",
        "    num_classes=None,\n",
        "    dtype='uint8'\n",
        ")"
      ],
      "execution_count": 9,
      "outputs": [
        {
          "output_type": "execute_result",
          "data": {
            "text/plain": [
              "array([[0, 0, 0, ..., 0, 0, 1],\n",
              "       [1, 0, 0, ..., 0, 0, 0],\n",
              "       [1, 0, 0, ..., 0, 0, 0],\n",
              "       ...,\n",
              "       [0, 0, 0, ..., 0, 0, 0],\n",
              "       [1, 0, 0, ..., 0, 0, 0],\n",
              "       [0, 0, 0, ..., 0, 0, 0]], dtype=uint8)"
            ]
          },
          "metadata": {
            "tags": []
          },
          "execution_count": 9
        }
      ]
    },
    {
      "cell_type": "code",
      "metadata": {
        "id": "NdiubV24POgS",
        "colab_type": "code",
        "outputId": "1d67930a-445a-4b20-ad8c-0e824fb3b1d3",
        "colab": {
          "base_uri": "https://localhost:8080/",
          "height": 136
        }
      },
      "source": [
        "tf.keras.utils.to_categorical(\n",
        "    y_test,\n",
        "    num_classes=None,\n",
        "    dtype='uint8'\n",
        ")"
      ],
      "execution_count": 10,
      "outputs": [
        {
          "output_type": "execute_result",
          "data": {
            "text/plain": [
              "array([[0, 0, 0, ..., 0, 0, 1],\n",
              "       [0, 0, 1, ..., 0, 0, 0],\n",
              "       [0, 1, 0, ..., 0, 0, 0],\n",
              "       ...,\n",
              "       [0, 0, 0, ..., 0, 1, 0],\n",
              "       [0, 1, 0, ..., 0, 0, 0],\n",
              "       [0, 0, 0, ..., 0, 0, 0]], dtype=uint8)"
            ]
          },
          "metadata": {
            "tags": []
          },
          "execution_count": 10
        }
      ]
    },
    {
      "cell_type": "markdown",
      "metadata": {
        "id": "xf5FugQuJ4VU",
        "colab_type": "text"
      },
      "source": [
        "Print the shape of training data and first five examples"
      ]
    },
    {
      "cell_type": "code",
      "metadata": {
        "id": "N1iUpqHiJ4Va",
        "colab_type": "code",
        "outputId": "d09656d9-7f9e-4a60-9776-742ddc250a8f",
        "colab": {
          "base_uri": "https://localhost:8080/",
          "height": 1000
        }
      },
      "source": [
        "print(x_train.shape,y_train.shape)\n",
        "x_train[:5,:5,:]"
      ],
      "execution_count": 11,
      "outputs": [
        {
          "output_type": "stream",
          "text": [
            "(60000, 28, 28) (60000,)\n"
          ],
          "name": "stdout"
        },
        {
          "output_type": "execute_result",
          "data": {
            "text/plain": [
              "array([[[  0,   0,   0,   0,   0,   0,   0,   0,   0,   0,   0,   0,\n",
              "           0,   0,   0,   0,   0,   0,   0,   0,   0,   0,   0,   0,\n",
              "           0,   0,   0,   0],\n",
              "        [  0,   0,   0,   0,   0,   0,   0,   0,   0,   0,   0,   0,\n",
              "           0,   0,   0,   0,   0,   0,   0,   0,   0,   0,   0,   0,\n",
              "           0,   0,   0,   0],\n",
              "        [  0,   0,   0,   0,   0,   0,   0,   0,   0,   0,   0,   0,\n",
              "           0,   0,   0,   0,   0,   0,   0,   0,   0,   0,   0,   0,\n",
              "           0,   0,   0,   0],\n",
              "        [  0,   0,   0,   0,   0,   0,   0,   0,   0,   0,   0,   0,\n",
              "           1,   0,   0,  13,  73,   0,   0,   1,   4,   0,   0,   0,\n",
              "           0,   1,   1,   0],\n",
              "        [  0,   0,   0,   0,   0,   0,   0,   0,   0,   0,   0,   0,\n",
              "           3,   0,  36, 136, 127,  62,  54,   0,   0,   0,   1,   3,\n",
              "           4,   0,   0,   3]],\n",
              "\n",
              "       [[  0,   0,   0,   0,   0,   1,   0,   0,   0,   0,  41, 188,\n",
              "         103,  54,  48,  43,  87, 168, 133,  16,   0,   0,   0,   0,\n",
              "           0,   0,   0,   0],\n",
              "        [  0,   0,   0,   1,   0,   0,   0,  49, 136, 219, 216, 228,\n",
              "         236, 255, 255, 255, 255, 217, 215, 254, 231, 160,  45,   0,\n",
              "           0,   0,   0,   0],\n",
              "        [  0,   0,   0,   0,   0,  14, 176, 222, 224, 212, 203, 198,\n",
              "         196, 200, 215, 204, 202, 201, 201, 201, 209, 218, 224, 164,\n",
              "           0,   0,   0,   0],\n",
              "        [  0,   0,   0,   0,   0, 188, 219, 200, 198, 202, 198, 199,\n",
              "         199, 201, 196, 198, 198, 200, 200, 200, 200, 201, 200, 225,\n",
              "          41,   0,   0,   0],\n",
              "        [  0,   0,   0,   0,  51, 219, 199, 203, 203, 212, 238, 248,\n",
              "         250, 245, 249, 246, 247, 252, 248, 235, 207, 203, 203, 222,\n",
              "         140,   0,   0,   0]],\n",
              "\n",
              "       [[  0,   0,   0,   0,   0,   0,   0,   0,   0,  22, 118,  24,\n",
              "           0,   0,   0,   0,   0,  48,  88,   5,   0,   0,   0,   0,\n",
              "           0,   0,   0,   0],\n",
              "        [  0,   0,   0,   0,   0,   0,   0,   0,  12, 100, 212, 205,\n",
              "         185, 179, 173, 186, 193, 221, 142,  85,   0,   0,   0,   0,\n",
              "           0,   0,   0,   0],\n",
              "        [  0,   0,   0,   0,   0,   0,   0,   0,   0,  85,  76, 199,\n",
              "         225, 248, 255, 238, 226, 157,  68,  80,   0,   0,   0,   0,\n",
              "           0,   0,   0,   0],\n",
              "        [  0,   0,   0,   0,   0,   0,   0,   0,   0,  91,  69,  91,\n",
              "         201, 218, 225, 209, 158,  61,  93,  72,   0,   0,   0,   0,\n",
              "           0,   0,   0,   0],\n",
              "        [  0,   0,   0,   0,   0,   0,   0,   0,   0,  79,  89,  61,\n",
              "          59,  87, 108,  75,  56,  76,  97,  73,   0,   0,   0,   0,\n",
              "           0,   0,   0,   0]],\n",
              "\n",
              "       [[  0,   0,   0,   0,   0,   0,   0,   0,  33,  96, 175, 156,\n",
              "          64,  14,  54, 137, 204, 194, 102,   0,   0,   0,   0,   0,\n",
              "           0,   0,   0,   0],\n",
              "        [  0,   0,   0,   0,   0,   0,  73, 186, 177, 183, 175, 188,\n",
              "         232, 255, 223, 219, 194, 179, 186, 213, 146,   0,   0,   0,\n",
              "           0,   0,   0,   0],\n",
              "        [  0,   0,   0,   0,   0,  35, 163, 140, 150, 152, 150, 146,\n",
              "         175, 175, 173, 171, 156, 152, 148, 129, 156, 140,   0,   0,\n",
              "           0,   0,   0,   0],\n",
              "        [  0,   0,   0,   0,   0, 150, 142, 140, 152, 160, 156, 146,\n",
              "         142, 127, 135, 133, 140, 140, 137, 133, 125, 169,  75,   0,\n",
              "           0,   0,   0,   0],\n",
              "        [  0,   0,   0,   0,   0,  54, 167, 146, 129, 142, 137, 137,\n",
              "         131, 148, 148, 133, 131, 131, 131, 125, 140, 140,   0,   0,\n",
              "           0,   0,   0,   0]],\n",
              "\n",
              "       [[  0,   0,   0,   0,   0,   0,   0,   0,   0,   0,   0,   0,\n",
              "           0,   0,   0,   0,   0,  26,   0,   0,   0,   0,   0,   0,\n",
              "           0,   0,   0,   0],\n",
              "        [  0,   0,   0,   0,   0,   0,   0,   0, 189, 206, 187,  32,\n",
              "           0,   0,   0,  26, 217, 226, 196,  11,   0,   0,   0,   0,\n",
              "           0,   0,   0,   0],\n",
              "        [  0,   0,   0,   0,   0,   0,   0,   0, 192, 227, 234, 243,\n",
              "         230, 147, 239, 242, 234, 218, 209,   0,   0,   0,   0,   0,\n",
              "           0,   0,   0,   0],\n",
              "        [  0,   0,   0,   0,   0,   0,   0,   0, 173, 225, 215, 233,\n",
              "         254,   0, 194, 240, 217, 221, 190,   0,   0,   0,   0,   0,\n",
              "           0,   0,   0,   0],\n",
              "        [  0,   0,   0,   0,   0,   0,   0,   0, 139, 229, 212, 226,\n",
              "         255,   0, 162, 255, 213, 226, 200,   0,   0,   0,   0,   0,\n",
              "           0,   0,   0,   0]]], dtype=uint8)"
            ]
          },
          "metadata": {
            "tags": []
          },
          "execution_count": 11
        }
      ]
    },
    {
      "cell_type": "markdown",
      "metadata": {
        "id": "XxbczAmnJ4Vg",
        "colab_type": "text"
      },
      "source": [
        "## Visualize the data\n",
        "Plot first 10 images in the triaining set and their labels."
      ]
    },
    {
      "cell_type": "code",
      "metadata": {
        "id": "OPNaZ6cJJ4Vh",
        "colab_type": "code",
        "outputId": "41e651d5-fbd0-4b04-a4a1-aa7ae6ba66b9",
        "colab": {
          "base_uri": "https://localhost:8080/",
          "height": 255
        }
      },
      "source": [
        "class_names = ['T-shirt/top', 'Trouser', 'Pullover', 'Dress', 'Coat', \n",
        "               'Sandal', 'Shirt', 'Sneaker', 'Bag', 'Ankle boot']\n",
        "plt.figure(figsize=(10,10))\n",
        "for i in np.arange(10):\n",
        "  plt.subplot(5,5,i+1)\n",
        "  plt.xticks([])\n",
        "  plt.yticks([])\n",
        "  plt.grid(False)\n",
        "  plt.imshow(x_train[i], cmap=plt.cm.binary)\n",
        "  plt.xlabel(class_names[y_train[i]])\n",
        "plt.show()"
      ],
      "execution_count": 12,
      "outputs": [
        {
          "output_type": "display_data",
          "data": {
            "image/png": "[encoded data removed]",
            "text/plain": [
              "<Figure size 720x720 with 10 Axes>"
            ]
          },
          "metadata": {
            "tags": []
          }
        }
      ]
    },
    {
      "cell_type": "markdown",
      "metadata": {
        "id": "xYdRnns6J4Vn",
        "colab_type": "text"
      },
      "source": [
        "## Build a neural Network with a cross entropy loss function and sgd optimizer in Keras.\n",
        "The output layer will have 10 neurons as we have 10 classes."
      ]
    },
    {
      "cell_type": "markdown",
      "metadata": {
        "id": "3lPX3zmtMoz9",
        "colab_type": "text"
      },
      "source": [
        "Initialize a sequential model"
      ]
    },
    {
      "cell_type": "code",
      "metadata": {
        "id": "ztqUTQpSJ4Vo",
        "colab_type": "code",
        "outputId": "5aa61997-66de-4156-92c9-50d92b9f5873",
        "colab": {
          "base_uri": "https://localhost:8080/",
          "height": 88
        }
      },
      "source": [
        "\n",
        "from keras.models import Sequential\n",
        "from keras.layers import Dense,Dropout\n",
        "from keras.optimizers import SGD \n",
        "model = Sequential()"
      ],
      "execution_count": 13,
      "outputs": [
        {
          "output_type": "stream",
          "text": [
            "WARNING: Logging before flag parsing goes to stderr.\n",
            "W0704 04:53:35.915138 140103363282816 deprecation_wrapper.py:119] From /usr/local/lib/python3.6/dist-packages/keras/backend/tensorflow_backend.py:74: The name tf.get_default_graph is deprecated. Please use tf.compat.v1.get_default_graph instead.\n",
            "\n"
          ],
          "name": "stderr"
        }
      ]
    },
    {
      "cell_type": "markdown",
      "metadata": {
        "id": "nuz-jOOiMr9j",
        "colab_type": "text"
      },
      "source": [
        "Reshape the data from 2D to 1D -> 28*28 to 784"
      ]
    },
    {
      "cell_type": "code",
      "metadata": {
        "id": "7RDmr9uLJ4Vu",
        "colab_type": "code",
        "outputId": "18fedae5-a245-4ddf-a3fc-ea3b6bf4018b",
        "colab": {
          "base_uri": "https://localhost:8080/",
          "height": 136
        }
      },
      "source": [
        "reshaped_x_train = x_train.reshape(60000, 784)\n",
        "reshaped_x_train"
      ],
      "execution_count": 22,
      "outputs": [
        {
          "output_type": "execute_result",
          "data": {
            "text/plain": [
              "array([[0, 0, 0, ..., 0, 0, 0],\n",
              "       [0, 0, 0, ..., 0, 0, 0],\n",
              "       [0, 0, 0, ..., 0, 0, 0],\n",
              "       ...,\n",
              "       [0, 0, 0, ..., 0, 0, 0],\n",
              "       [0, 0, 0, ..., 0, 0, 0],\n",
              "       [0, 0, 0, ..., 0, 0, 0]], dtype=uint8)"
            ]
          },
          "metadata": {
            "tags": []
          },
          "execution_count": 22
        }
      ]
    },
    {
      "cell_type": "markdown",
      "metadata": {
        "id": "XxI3AlkdM2YY",
        "colab_type": "text"
      },
      "source": [
        "Add dense layer which provides 10 outputs after applying softmax"
      ]
    },
    {
      "cell_type": "code",
      "metadata": {
        "id": "pBj2Ame8J4Vy",
        "colab_type": "code",
        "colab": {}
      },
      "source": [
        "model.add(keras.layers.Dense(10, activation=tf.nn.softmax, input_shape=(784,)))\n",
        "    \n"
      ],
      "execution_count": 0,
      "outputs": []
    },
    {
      "cell_type": "markdown",
      "metadata": {
        "id": "gWOMs_bZPaZ3",
        "colab_type": "text"
      },
      "source": [
        "compile the model: optimizer='sgd', loss='categorical_crossentropy',  metrics = ['accuracy']"
      ]
    },
    {
      "cell_type": "code",
      "metadata": {
        "id": "PO3VBEhVJ4V3",
        "colab_type": "code",
        "colab": {}
      },
      "source": [
        "# compile the model\n",
        "model.compile(optimizer='sgd',\n",
        "              loss='sparse_categorical_crossentropy',\n",
        "              metrics=['accuracy'])"
      ],
      "execution_count": 0,
      "outputs": []
    },
    {
      "cell_type": "markdown",
      "metadata": {
        "id": "ghRmeCHXJ4V-",
        "colab_type": "text"
      },
      "source": [
        "### Execute the model using model.fit()\n",
        "- Epochs = 10"
      ]
    },
    {
      "cell_type": "code",
      "metadata": {
        "id": "f8hiq81DJ4WA",
        "colab_type": "code",
        "outputId": "7d71fb8b-5560-4194-b29c-267d86986a57",
        "colab": {
          "base_uri": "https://localhost:8080/",
          "height": 374
        }
      },
      "source": [
        "model.fit(reshaped_x_train, y_train, epochs=10)"
      ],
      "execution_count": 25,
      "outputs": [
        {
          "output_type": "stream",
          "text": [
            "Epoch 1/10\n",
            "60000/60000 [==============================] - 2s 41us/sample - loss: 2.2814 - acc: 0.1475\n",
            "Epoch 2/10\n",
            "60000/60000 [==============================] - 2s 40us/sample - loss: 2.2300 - acc: 0.1856\n",
            "Epoch 3/10\n",
            "60000/60000 [==============================] - 2s 40us/sample - loss: 2.1852 - acc: 0.1942\n",
            "Epoch 4/10\n",
            "60000/60000 [==============================] - 2s 40us/sample - loss: 2.1400 - acc: 0.1972\n",
            "Epoch 5/10\n",
            "60000/60000 [==============================] - 2s 41us/sample - loss: 2.1284 - acc: 0.1884\n",
            "Epoch 6/10\n",
            "60000/60000 [==============================] - 2s 40us/sample - loss: 2.0628 - acc: 0.1991\n",
            "Epoch 7/10\n",
            "60000/60000 [==============================] - 2s 40us/sample - loss: 1.9891 - acc: 0.1947\n",
            "Epoch 8/10\n",
            "60000/60000 [==============================] - 2s 40us/sample - loss: 1.9346 - acc: 0.1949\n",
            "Epoch 9/10\n",
            "60000/60000 [==============================] - 2s 40us/sample - loss: 1.9582 - acc: 0.1946\n",
            "Epoch 10/10\n",
            "60000/60000 [==============================] - 2s 40us/sample - loss: 1.8859 - acc: 0.1964\n"
          ],
          "name": "stdout"
        },
        {
          "output_type": "execute_result",
          "data": {
            "text/plain": [
              "<tensorflow.python.keras.callbacks.History at 0x7f6c1f9b90f0>"
            ]
          },
          "metadata": {
            "tags": []
          },
          "execution_count": 25
        }
      ]
    },
    {
      "cell_type": "code",
      "metadata": {
        "id": "QrRMdOYBfiPb",
        "colab_type": "code",
        "outputId": "eeeb0817-8d62-498f-b7bb-9f40a4b80f3b",
        "colab": {
          "base_uri": "https://localhost:8080/",
          "height": 51
        }
      },
      "source": [
        "test_loss, test_acc = model.evaluate(x_test.reshape(10000, 784), y_test)\n",
        "\n",
        "print('Test accuracy:', test_acc)"
      ],
      "execution_count": 26,
      "outputs": [
        {
          "output_type": "stream",
          "text": [
            "10000/10000 [==============================] - 0s 26us/sample - loss: 1.8969 - acc: 0.1968\n",
            "Test accuracy: 0.1968\n"
          ],
          "name": "stdout"
        }
      ]
    },
    {
      "cell_type": "markdown",
      "metadata": {
        "id": "Q3YU88laJ4Wl",
        "colab_type": "text"
      },
      "source": [
        "### Customize the learning rate to 0.001 in sgd optimizer and run the model"
      ]
    },
    {
      "cell_type": "markdown",
      "metadata": {
        "id": "26frNSSSRuhK",
        "colab_type": "text"
      },
      "source": [
        "Initialize the sequential model"
      ]
    },
    {
      "cell_type": "code",
      "metadata": {
        "id": "neltT236J4Wm",
        "colab_type": "code",
        "colab": {}
      },
      "source": [
        "model1 = keras.Sequential()\n",
        "    #[keras.layers.Flatten(input_shape=(28, 28))])"
      ],
      "execution_count": 0,
      "outputs": []
    },
    {
      "cell_type": "markdown",
      "metadata": {
        "id": "nGUMyy3pRvu5",
        "colab_type": "text"
      },
      "source": [
        "Reshape the data from 2D to 1D -> 28*28 to 784"
      ]
    },
    {
      "cell_type": "code",
      "metadata": {
        "id": "4o6QQu57J4Wq",
        "colab_type": "code",
        "outputId": "a810a755-1725-4656-8d79-78644efd135d",
        "colab": {
          "base_uri": "https://localhost:8080/",
          "height": 136
        }
      },
      "source": [
        "reshaped_x_train = x_train.reshape(60000, 784)\n",
        "reshaped_x_test = x_test.reshape(10000, 784)\n",
        "reshaped_x_train"
      ],
      "execution_count": 28,
      "outputs": [
        {
          "output_type": "execute_result",
          "data": {
            "text/plain": [
              "array([[0, 0, 0, ..., 0, 0, 0],\n",
              "       [0, 0, 0, ..., 0, 0, 0],\n",
              "       [0, 0, 0, ..., 0, 0, 0],\n",
              "       ...,\n",
              "       [0, 0, 0, ..., 0, 0, 0],\n",
              "       [0, 0, 0, ..., 0, 0, 0],\n",
              "       [0, 0, 0, ..., 0, 0, 0]], dtype=uint8)"
            ]
          },
          "metadata": {
            "tags": []
          },
          "execution_count": 28
        }
      ]
    },
    {
      "cell_type": "markdown",
      "metadata": {
        "id": "ylr177YaR1pp",
        "colab_type": "text"
      },
      "source": [
        "Normalize the data"
      ]
    },
    {
      "cell_type": "code",
      "metadata": {
        "id": "-T-TfivrJ4Wu",
        "colab_type": "code",
        "colab": {}
      },
      "source": [
        "from sklearn.preprocessing import Normalizer\n",
        "normalizer = Normalizer()\n",
        "X_train_norm = normalizer.fit_transform(reshaped_x_train)\n",
        "X_test_norm = normalizer.fit_transform(reshaped_x_test)"
      ],
      "execution_count": 0,
      "outputs": []
    },
    {
      "cell_type": "markdown",
      "metadata": {
        "id": "6FOYJv_vR5HR",
        "colab_type": "text"
      },
      "source": [
        "Add dense layer which provides 10 outputs after applying softmax"
      ]
    },
    {
      "cell_type": "code",
      "metadata": {
        "id": "toUTu3GXJ4Wx",
        "colab_type": "code",
        "colab": {}
      },
      "source": [
        "\n",
        "model1.add( keras.layers.Dense( units = 10, activation =tf.nn.softmax, input_shape=(784,))) # add dropout layer for preventing overfitting "
      ],
      "execution_count": 0,
      "outputs": []
    },
    {
      "cell_type": "markdown",
      "metadata": {
        "id": "-6SlAaDbR-fm",
        "colab_type": "text"
      },
      "source": [
        "Get the SGD Optimizer and compile the model"
      ]
    },
    {
      "cell_type": "code",
      "metadata": {
        "id": "UK3CI2fdJ4W0",
        "colab_type": "code",
        "colab": {}
      },
      "source": [
        "\n",
        "# compile the model \n",
        "model1.compile( loss ='sparse_categorical_crossentropy', optimizer = keras.optimizers.SGD(learning_rate=0.001), metrics =['accuracy'],) "
      ],
      "execution_count": 0,
      "outputs": []
    },
    {
      "cell_type": "markdown",
      "metadata": {
        "id": "JlEbqTi9SD4C",
        "colab_type": "text"
      },
      "source": [
        "Fit the model"
      ]
    },
    {
      "cell_type": "code",
      "metadata": {
        "id": "vYbdgesdJ4W3",
        "colab_type": "code",
        "outputId": "546e9e3f-60a9-4fe1-baf2-a712eb73f5e2",
        "colab": {
          "base_uri": "https://localhost:8080/",
          "height": 391
        }
      },
      "source": [
        "model1.fit(X_train_norm, y_train, epochs=10)\n",
        "\n"
      ],
      "execution_count": 33,
      "outputs": [
        {
          "output_type": "stream",
          "text": [
            "Epoch 1/10\n",
            "60000/60000 [==============================] - 2s 39us/sample - loss: 2.0335 - acc: 0.6161\n",
            "Epoch 2/10\n",
            "60000/60000 [==============================] - 2s 40us/sample - loss: 2.0111 - acc: 0.6210\n",
            "Epoch 3/10\n",
            "60000/60000 [==============================] - 2s 39us/sample - loss: 1.9892 - acc: 0.6238\n",
            "Epoch 4/10\n",
            "60000/60000 [==============================] - 2s 39us/sample - loss: 1.9679 - acc: 0.6258\n",
            "Epoch 5/10\n",
            "60000/60000 [==============================] - 2s 39us/sample - loss: 1.9471 - acc: 0.6278\n",
            "Epoch 6/10\n",
            "60000/60000 [==============================] - 2s 39us/sample - loss: 1.9270 - acc: 0.6319\n",
            "Epoch 7/10\n",
            "60000/60000 [==============================] - 2s 42us/sample - loss: 1.9073 - acc: 0.6331\n",
            "Epoch 8/10\n",
            "60000/60000 [==============================] - 3s 42us/sample - loss: 1.8882 - acc: 0.6362\n",
            "Epoch 9/10\n",
            "60000/60000 [==============================] - 2s 41us/sample - loss: 1.8695 - acc: 0.6378\n",
            "Epoch 10/10\n",
            "60000/60000 [==============================] - 2s 39us/sample - loss: 1.8514 - acc: 0.6403\n",
            "10000/10000 [==============================] - 0s 28us/sample - loss: 2.0823 - acc: 0.1652\n",
            "Test accuracy: 0.1652\n"
          ],
          "name": "stdout"
        }
      ]
    },
    {
      "cell_type": "markdown",
      "metadata": {
        "id": "k2iDC-ThJ4W-",
        "colab_type": "text"
      },
      "source": [
        "## Build the Neural Network model with 3 Dense layers (optional)\n",
        "- One layer with 100 neurons\n",
        "- 2nd with 100 neurons\n",
        "- 3rd dense layer with 10 neurons\n",
        "- Use sigmoid as activation in the hidden layers\n",
        "- Use softmax as activation function in the output layer\n",
        "- Use cross entropy loss\n",
        "- Use sgd optimizer with learning rate 0.03"
      ]
    },
    {
      "cell_type": "markdown",
      "metadata": {
        "id": "hmI-ECO_SNKg",
        "colab_type": "text"
      },
      "source": [
        "Initialize sequential model"
      ]
    },
    {
      "cell_type": "code",
      "metadata": {
        "id": "8J9oa_KZJ4W_",
        "colab_type": "code",
        "colab": {}
      },
      "source": [
        "model2 = keras.Sequential()"
      ],
      "execution_count": 0,
      "outputs": []
    },
    {
      "cell_type": "markdown",
      "metadata": {
        "id": "XbyHHtp3SQqb",
        "colab_type": "text"
      },
      "source": [
        "Reshape data from 2D to 1D -> 28 X 28 to 784"
      ]
    },
    {
      "cell_type": "code",
      "metadata": {
        "id": "qhBp26MjJ4XC",
        "colab_type": "code",
        "outputId": "1c951a9f-911d-45f9-eeae-c5239924ee59",
        "colab": {
          "base_uri": "https://localhost:8080/",
          "height": 136
        }
      },
      "source": [
        "reshaped_x_train = x_train.reshape(60000, 784, order='F')\n",
        "reshaped_x_train"
      ],
      "execution_count": 55,
      "outputs": [
        {
          "output_type": "execute_result",
          "data": {
            "text/plain": [
              "array([[0, 0, 0, ..., 0, 0, 0],\n",
              "       [0, 0, 0, ..., 0, 0, 0],\n",
              "       [0, 0, 0, ..., 0, 0, 0],\n",
              "       ...,\n",
              "       [0, 0, 0, ..., 0, 0, 0],\n",
              "       [0, 0, 0, ..., 0, 0, 0],\n",
              "       [0, 0, 0, ..., 0, 0, 0]], dtype=uint8)"
            ]
          },
          "metadata": {
            "tags": []
          },
          "execution_count": 55
        }
      ]
    },
    {
      "cell_type": "markdown",
      "metadata": {
        "id": "nbMQFmcoSTDm",
        "colab_type": "text"
      },
      "source": [
        "Normalize the data"
      ]
    },
    {
      "cell_type": "code",
      "metadata": {
        "id": "FoKcEBbfJ4XF",
        "colab_type": "code",
        "colab": {}
      },
      "source": [
        "from sklearn.preprocessing import Normalizer\n",
        "normalizer = Normalizer()\n",
        "X_train_norm = normalizer.fit_transform(reshaped_x_train)"
      ],
      "execution_count": 0,
      "outputs": []
    },
    {
      "cell_type": "markdown",
      "metadata": {
        "id": "uIjZzDkqSWYx",
        "colab_type": "text"
      },
      "source": [
        "Add Dense Layer which provides 100 hidden neurons for 1st layer with sigmoid"
      ]
    },
    {
      "cell_type": "code",
      "metadata": {
        "id": "p4eotgAPJ4XH",
        "colab_type": "code",
        "colab": {}
      },
      "source": [
        "\n",
        "model2.add( keras.layers.Dense( units = 100, activation =tf.nn.sigmoid, input_shape=(784,)))"
      ],
      "execution_count": 0,
      "outputs": []
    },
    {
      "cell_type": "markdown",
      "metadata": {
        "id": "cVlpr-LdUTn8",
        "colab_type": "text"
      },
      "source": [
        "Add Dense Layer which provides 100 hidden neurons for 2nd layer with sigmoid"
      ]
    },
    {
      "cell_type": "code",
      "metadata": {
        "id": "_W04t5s9J4XR",
        "colab_type": "code",
        "colab": {}
      },
      "source": [
        "\n",
        "model2.add( keras.layers.Dense( units = 100, activation =tf.nn.sigmoid))"
      ],
      "execution_count": 0,
      "outputs": []
    },
    {
      "cell_type": "markdown",
      "metadata": {
        "id": "UnplZouwUXvJ",
        "colab_type": "text"
      },
      "source": [
        "Add Dense Layer which provides 10 outputs after applying softmax"
      ]
    },
    {
      "cell_type": "code",
      "metadata": {
        "id": "OIuCo_wwJ4XW",
        "colab_type": "code",
        "colab": {}
      },
      "source": [
        "\n",
        "model2.add( keras.layers.Dense( units = 10, activation =tf.nn.softmax))"
      ],
      "execution_count": 0,
      "outputs": []
    },
    {
      "cell_type": "markdown",
      "metadata": {
        "id": "maqIwUmfUzYv",
        "colab_type": "text"
      },
      "source": [
        "Get the SGD Optimizer with learning rate 0.03 and compile the model "
      ]
    },
    {
      "cell_type": "code",
      "metadata": {
        "id": "cPPVKTu3J4XY",
        "colab_type": "code",
        "colab": {}
      },
      "source": [
        "\n",
        "# compile the model \n",
        "model2.compile( loss ='sparse_categorical_crossentropy', optimizer = keras.optimizers.SGD(learning_rate=0.03), metrics =['accuracy'],) "
      ],
      "execution_count": 0,
      "outputs": []
    },
    {
      "cell_type": "markdown",
      "metadata": {
        "id": "Te1dWsO_TKTO",
        "colab_type": "text"
      },
      "source": [
        "Fit the model"
      ]
    },
    {
      "cell_type": "code",
      "metadata": {
        "id": "aohulmhlJ4Xa",
        "colab_type": "code",
        "outputId": "7c531b24-c1bb-41fd-b836-335526c68bf2",
        "colab": {
          "base_uri": "https://localhost:8080/",
          "height": 374
        }
      },
      "source": [
        "model2.fit(X_train_norm, y_train, epochs=10)"
      ],
      "execution_count": 61,
      "outputs": [
        {
          "output_type": "stream",
          "text": [
            "Epoch 1/10\n",
            "60000/60000 [==============================] - 6s 103us/sample - loss: 2.3077 - acc: 0.1059\n",
            "Epoch 2/10\n",
            "60000/60000 [==============================] - 6s 104us/sample - loss: 2.2899 - acc: 0.1272\n",
            "Epoch 3/10\n",
            "60000/60000 [==============================] - 6s 105us/sample - loss: 2.2122 - acc: 0.2190\n",
            "Epoch 4/10\n",
            "60000/60000 [==============================] - 6s 103us/sample - loss: 1.8238 - acc: 0.3350\n",
            "Epoch 5/10\n",
            "60000/60000 [==============================] - 6s 103us/sample - loss: 1.4911 - acc: 0.4193\n",
            "Epoch 6/10\n",
            "60000/60000 [==============================] - 6s 104us/sample - loss: 1.3469 - acc: 0.4689\n",
            "Epoch 7/10\n",
            "60000/60000 [==============================] - 6s 101us/sample - loss: 1.2532 - acc: 0.5145\n",
            "Epoch 8/10\n",
            "60000/60000 [==============================] - 6s 104us/sample - loss: 1.1751 - acc: 0.5618\n",
            "Epoch 9/10\n",
            "60000/60000 [==============================] - 6s 101us/sample - loss: 1.0995 - acc: 0.6007\n",
            "Epoch 10/10\n",
            "60000/60000 [==============================] - 6s 104us/sample - loss: 1.0223 - acc: 0.6276\n"
          ],
          "name": "stdout"
        },
        {
          "output_type": "execute_result",
          "data": {
            "text/plain": [
              "<tensorflow.python.keras.callbacks.History at 0x7f6c126360f0>"
            ]
          },
          "metadata": {
            "tags": []
          },
          "execution_count": 61
        }
      ]
    },
    {
      "cell_type": "markdown",
      "metadata": {
        "id": "eF5bX5sDJ4Xd",
        "colab_type": "text"
      },
      "source": [
        "## Review Model\n",
        "Use summary() method"
      ]
    },
    {
      "cell_type": "code",
      "metadata": {
        "id": "Q6PfQD72J4Xe",
        "colab_type": "code",
        "outputId": "efd494ca-ff5b-4ea4-a4d5-33099733d984",
        "colab": {
          "base_uri": "https://localhost:8080/",
          "height": 255
        }
      },
      "source": [
        "model2.summary()"
      ],
      "execution_count": 63,
      "outputs": [
        {
          "output_type": "stream",
          "text": [
            "Model: \"sequential_4\"\n",
            "_________________________________________________________________\n",
            "Layer (type)                 Output Shape              Param #   \n",
            "=================================================================\n",
            "dense_15 (Dense)             (None, 100)               78500     \n",
            "_________________________________________________________________\n",
            "dense_16 (Dense)             (None, 100)               10100     \n",
            "_________________________________________________________________\n",
            "dense_17 (Dense)             (None, 10)                1010      \n",
            "=================================================================\n",
            "Total params: 89,610\n",
            "Trainable params: 89,610\n",
            "Non-trainable params: 0\n",
            "_________________________________________________________________\n"
          ],
          "name": "stdout"
        }
      ]
    },
    {
      "cell_type": "code",
      "metadata": {
        "id": "yHQht7z9VU8I",
        "colab_type": "code",
        "colab": {}
      },
      "source": [
        ""
      ],
      "execution_count": 0,
      "outputs": []
    }
  ]
}