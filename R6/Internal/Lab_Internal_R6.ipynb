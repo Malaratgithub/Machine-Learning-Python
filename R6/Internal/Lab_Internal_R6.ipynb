{
  "nbformat": 4,
  "nbformat_minor": 0,
  "metadata": {
    "colab": {
      "name": "Lab_Internal_R6.ipynb",
      "version": "0.3.2",
      "provenance": [],
      "collapsed_sections": [],
      "toc_visible": true
    },
    "language_info": {
      "codemirror_mode": {
        "name": "ipython",
        "version": 2
      },
      "file_extension": ".py",
      "mimetype": "text/x-python",
      "name": "python",
      "nbconvert_exporter": "python",
      "pygments_lexer": "ipython2",
      "version": "2.7.15"
    },
    "kernelspec": {
      "display_name": "Python 2",
      "language": "python",
      "name": "python2"
    }
  },
  "cells": [
    {
      "cell_type": "markdown",
      "metadata": {
        "colab_type": "text",
        "id": "84Q8JfvaeZZ6"
      },
      "source": [
        "## Linear Classifier in TensorFlow \n",
        "Using Low Level API in Eager Execution mode"
      ]
    },
    {
      "cell_type": "markdown",
      "metadata": {
        "colab_type": "text",
        "id": "sb7Epo0VOB58"
      },
      "source": [
        "### Load tensorflow"
      ]
    },
    {
      "cell_type": "code",
      "metadata": {
        "colab_type": "code",
        "id": "fHpCNRv1OB5-",
        "colab": {}
      },
      "source": [
        "import tensorflow as tf"
      ],
      "execution_count": 0,
      "outputs": []
    },
    {
      "cell_type": "code",
      "metadata": {
        "id": "Gh7MgTp4sIQx",
        "colab_type": "code",
        "colab": {}
      },
      "source": [
        ""
      ],
      "execution_count": 0,
      "outputs": []
    },
    {
      "cell_type": "markdown",
      "metadata": {
        "colab_type": "text",
        "id": "DxJDmJqqOB6K",
        "slideshow": {
          "slide_type": "slide"
        }
      },
      "source": [
        "### Collect Data"
      ]
    },
    {
      "cell_type": "code",
      "metadata": {
        "colab_type": "code",
        "id": "FhllFLyKOB6N",
        "outputId": "9e571d5a-7a8c-4eeb-bbf6-8a7edb10b5f7",
        "colab": {
          "base_uri": "https://localhost:8080/",
          "height": 34
        }
      },
      "source": [
        "from google.colab import drive\n",
        "drive.mount('gdrive')"
      ],
      "execution_count": 0,
      "outputs": [
        {
          "output_type": "stream",
          "text": [
            "Drive already mounted at gdrive; to attempt to forcibly remount, call drive.mount(\"gdrive\", force_remount=True).\n"
          ],
          "name": "stdout"
        }
      ]
    },
    {
      "cell_type": "code",
      "metadata": {
        "colab_type": "code",
        "id": "KiObW4V4SIOz",
        "colab": {}
      },
      "source": [
        "import pandas as pd"
      ],
      "execution_count": 0,
      "outputs": []
    },
    {
      "cell_type": "code",
      "metadata": {
        "colab_type": "code",
        "id": "B4yQKMiJOB6R",
        "colab": {}
      },
      "source": [
        "data = pd.read_csv('gdrive/My Drive/Colab Notebooks/R6/R6_Internal_Lab/prices.csv')"
      ],
      "execution_count": 0,
      "outputs": []
    },
    {
      "cell_type": "markdown",
      "metadata": {
        "colab_type": "text",
        "id": "fgkX6SEqOB6W"
      },
      "source": [
        "### Check all columns in the dataset"
      ]
    },
    {
      "cell_type": "code",
      "metadata": {
        "colab_type": "code",
        "id": "7K8pWsNQOB6X",
        "outputId": "59ff6ae6-cc1e-4203-e4e5-7e810052c194",
        "colab": {
          "base_uri": "https://localhost:8080/",
          "height": 221
        }
      },
      "source": [
        "data.info()"
      ],
      "execution_count": 0,
      "outputs": [
        {
          "output_type": "stream",
          "text": [
            "<class 'pandas.core.frame.DataFrame'>\n",
            "RangeIndex: 851264 entries, 0 to 851263\n",
            "Data columns (total 7 columns):\n",
            "date      851264 non-null object\n",
            "symbol    851264 non-null object\n",
            "open      851264 non-null float64\n",
            "close     851264 non-null float64\n",
            "low       851264 non-null float64\n",
            "high      851264 non-null float64\n",
            "volume    851264 non-null float64\n",
            "dtypes: float64(5), object(2)\n",
            "memory usage: 45.5+ MB\n"
          ],
          "name": "stdout"
        }
      ]
    },
    {
      "cell_type": "markdown",
      "metadata": {
        "colab_type": "text",
        "id": "7dU6X7MpOB6c"
      },
      "source": [
        "### Drop columns `date` and  `symbol`"
      ]
    },
    {
      "cell_type": "code",
      "metadata": {
        "colab_type": "code",
        "id": "lh_6spSKOB6e",
        "colab": {}
      },
      "source": [
        "data.drop([\"date\", \"symbol\"], axis=1, inplace=True)\n"
      ],
      "execution_count": 0,
      "outputs": []
    },
    {
      "cell_type": "code",
      "metadata": {
        "colab_type": "code",
        "id": "xlwbUgTwOB6i",
        "outputId": "c1930d82-9ebd-4559-d5bd-77acbc46c94d",
        "colab": {
          "base_uri": "https://localhost:8080/",
          "height": 204
        }
      },
      "source": [
        "data.head()"
      ],
      "execution_count": 0,
      "outputs": [
        {
          "output_type": "execute_result",
          "data": {
            "text/html": [
              "<div>\n",
              "<style scoped>\n",
              "    .dataframe tbody tr th:only-of-type {\n",
              "        vertical-align: middle;\n",
              "    }\n",
              "\n",
              "    .dataframe tbody tr th {\n",
              "        vertical-align: top;\n",
              "    }\n",
              "\n",
              "    .dataframe thead th {\n",
              "        text-align: right;\n",
              "    }\n",
              "</style>\n",
              "<table border=\"1\" class=\"dataframe\">\n",
              "  <thead>\n",
              "    <tr style=\"text-align: right;\">\n",
              "      <th></th>\n",
              "      <th>open</th>\n",
              "      <th>close</th>\n",
              "      <th>low</th>\n",
              "      <th>high</th>\n",
              "      <th>volume</th>\n",
              "    </tr>\n",
              "  </thead>\n",
              "  <tbody>\n",
              "    <tr>\n",
              "      <th>0</th>\n",
              "      <td>123.430000</td>\n",
              "      <td>125.839996</td>\n",
              "      <td>122.309998</td>\n",
              "      <td>126.250000</td>\n",
              "      <td>2163600.0</td>\n",
              "    </tr>\n",
              "    <tr>\n",
              "      <th>1</th>\n",
              "      <td>125.239998</td>\n",
              "      <td>119.980003</td>\n",
              "      <td>119.940002</td>\n",
              "      <td>125.540001</td>\n",
              "      <td>2386400.0</td>\n",
              "    </tr>\n",
              "    <tr>\n",
              "      <th>2</th>\n",
              "      <td>116.379997</td>\n",
              "      <td>114.949997</td>\n",
              "      <td>114.930000</td>\n",
              "      <td>119.739998</td>\n",
              "      <td>2489500.0</td>\n",
              "    </tr>\n",
              "    <tr>\n",
              "      <th>3</th>\n",
              "      <td>115.480003</td>\n",
              "      <td>116.620003</td>\n",
              "      <td>113.500000</td>\n",
              "      <td>117.440002</td>\n",
              "      <td>2006300.0</td>\n",
              "    </tr>\n",
              "    <tr>\n",
              "      <th>4</th>\n",
              "      <td>117.010002</td>\n",
              "      <td>114.970001</td>\n",
              "      <td>114.089996</td>\n",
              "      <td>117.330002</td>\n",
              "      <td>1408600.0</td>\n",
              "    </tr>\n",
              "  </tbody>\n",
              "</table>\n",
              "</div>"
            ],
            "text/plain": [
              "         open       close         low        high     volume\n",
              "0  123.430000  125.839996  122.309998  126.250000  2163600.0\n",
              "1  125.239998  119.980003  119.940002  125.540001  2386400.0\n",
              "2  116.379997  114.949997  114.930000  119.739998  2489500.0\n",
              "3  115.480003  116.620003  113.500000  117.440002  2006300.0\n",
              "4  117.010002  114.970001  114.089996  117.330002  1408600.0"
            ]
          },
          "metadata": {
            "tags": []
          },
          "execution_count": 250
        }
      ]
    },
    {
      "cell_type": "markdown",
      "metadata": {
        "colab_type": "text",
        "id": "3DBv3WWYOB6q"
      },
      "source": [
        "### Consider only first 1000 rows in the dataset for building feature set and target set\n",
        "Target 'Volume' has very high values. Divide 'Volume' by 1000,000"
      ]
    },
    {
      "cell_type": "code",
      "metadata": {
        "colab_type": "code",
        "id": "Z_hG9rGBOB6s",
        "outputId": "29f0ebb8-22fd-424d-ed54-4e0681071776",
        "colab": {
          "base_uri": "https://localhost:8080/",
          "height": 139
        }
      },
      "source": [
        "df = data.loc[:999,:]\n",
        "df['volume'] = df['volume']/1000000"
      ],
      "execution_count": 0,
      "outputs": [
        {
          "output_type": "stream",
          "text": [
            "/usr/local/lib/python2.7/dist-packages/ipykernel_launcher.py:2: SettingWithCopyWarning: \n",
            "A value is trying to be set on a copy of a slice from a DataFrame.\n",
            "Try using .loc[row_indexer,col_indexer] = value instead\n",
            "\n",
            "See the caveats in the documentation: http://pandas.pydata.org/pandas-docs/stable/indexing.html#indexing-view-versus-copy\n",
            "  \n"
          ],
          "name": "stderr"
        }
      ]
    },
    {
      "cell_type": "markdown",
      "metadata": {
        "colab_type": "text",
        "id": "M3UaApqYOB6x"
      },
      "source": [
        "### Divide the data into train and test sets"
      ]
    },
    {
      "cell_type": "code",
      "metadata": {
        "id": "3jrGtARXTGFT",
        "colab_type": "code",
        "colab": {}
      },
      "source": [
        "\n",
        "X = df.drop('volume',axis=1)\n",
        "y = df[['volume']]\n",
        "\n"
      ],
      "execution_count": 0,
      "outputs": []
    },
    {
      "cell_type": "code",
      "metadata": {
        "colab_type": "code",
        "id": "4LE4U8lTdQJq",
        "outputId": "dd54720f-c4e6-4b9d-82c4-5181ff497d2c",
        "colab": {
          "base_uri": "https://localhost:8080/",
          "height": 34
        }
      },
      "source": [
        "\n",
        "from sklearn.model_selection import train_test_split\n",
        "X_train,  X_test, y_train, y_test = train_test_split(X, y, test_size=.3, random_state=10900)\n",
        "print(\"X_Train : {}, X_test : {}, y_train : {}, y_test : {}\".format(X_train.shape,  X_test.shape, y_train.shape, y_test.shape))\n"
      ],
      "execution_count": 0,
      "outputs": [
        {
          "output_type": "stream",
          "text": [
            "X_Train : (700, 4), X_test : (300, 4), y_train : (700, 1), y_test : (300, 1)\n"
          ],
          "name": "stdout"
        }
      ]
    },
    {
      "cell_type": "markdown",
      "metadata": {
        "colab_type": "text",
        "id": "oYK-aUuLbrz2"
      },
      "source": [
        "#### Convert Training and Test Data to numpy float32 arrays\n"
      ]
    },
    {
      "cell_type": "code",
      "metadata": {
        "colab_type": "code",
        "id": "Ao-S0tQGcncz",
        "colab": {}
      },
      "source": [
        "import numpy as np\n",
        "X_train_array = np.asarray(X_train, dtype=np.float32)\n",
        "X_test_array = np.asarray(X_test, dtype=np.float32)\n",
        "y_train_array = np.asarray(y_train, dtype=np.float32)\n",
        "y_test_array = np.asarray(y_test, dtype=np.float32)\n"
      ],
      "execution_count": 0,
      "outputs": []
    },
    {
      "cell_type": "markdown",
      "metadata": {
        "colab_type": "text",
        "id": "im1ZegbDdKgv"
      },
      "source": [
        "### Normalize the data\n",
        "You can use Normalizer from sklearn.preprocessing"
      ]
    },
    {
      "cell_type": "code",
      "metadata": {
        "colab_type": "code",
        "id": "2EkKAy7fOB6y",
        "colab": {}
      },
      "source": [
        "from sklearn.preprocessing import Normalizer\n",
        "normalizer = Normalizer()\n",
        "X_train_std = normalizer.fit_transform(X_train_array)\n",
        "X_test_std = normalizer.fit_transform(X_test_array)"
      ],
      "execution_count": 0,
      "outputs": []
    },
    {
      "cell_type": "markdown",
      "metadata": {
        "colab_type": "text",
        "id": "v6vE4eYCOB62",
        "slideshow": {
          "slide_type": "slide"
        }
      },
      "source": [
        "## Building the Model in tensorflow"
      ]
    },
    {
      "cell_type": "markdown",
      "metadata": {
        "colab_type": "text",
        "id": "297_qja4OB7A",
        "slideshow": {
          "slide_type": "slide"
        }
      },
      "source": [
        "1.Define Weights and Bias, use tf.zeros to initialize weights and Bias; Set placeholders for feature and target vectors "
      ]
    },
    {
      "cell_type": "code",
      "metadata": {
        "id": "hgoIxCNbv6tp",
        "colab_type": "code",
        "colab": {}
      },
      "source": [
        "sess = tf.Session()"
      ],
      "execution_count": 0,
      "outputs": []
    },
    {
      "cell_type": "code",
      "metadata": {
        "colab_type": "code",
        "id": "L205qPeQOB7B",
        "outputId": "8a69c6e6-d3bc-42be-d80f-c5e6a2bd60d2",
        "colab": {
          "base_uri": "https://localhost:8080/",
          "height": 34
        }
      },
      "source": [
        "n_samples = X_train.shape[0]\n",
        "n_features = float(X_train.shape[1])\n",
        "print(n_samples, n_features)\n",
        "W = tf.Variable(tf.zeros([4,1]), tf.float32, name=\"weight\") \n",
        "b = tf.Variable(tf.zeros(1), name=\"bias\") \n",
        "\n",
        "X_tf = tf.placeholder(tf.float32, shape=([n_samples, n_features])) \n",
        "\n",
        "y_tf = tf.placeholder(tf.float32, shape=([n_samples, 1]))"
      ],
      "execution_count": 0,
      "outputs": [
        {
          "output_type": "stream",
          "text": [
            "(700, 4.0)\n"
          ],
          "name": "stdout"
        }
      ]
    },
    {
      "cell_type": "code",
      "metadata": {
        "id": "dW8w4MVmwDvp",
        "colab_type": "code",
        "outputId": "fce075f3-3778-4e17-81ba-8560bd3466e3",
        "colab": {
          "base_uri": "https://localhost:8080/",
          "height": 51
        }
      },
      "source": [
        "print(sess.run(tf.rank(W)))\n",
        "print(sess.run(tf.shape(W)))"
      ],
      "execution_count": 0,
      "outputs": [
        {
          "output_type": "stream",
          "text": [
            "2\n",
            "[4 1]\n"
          ],
          "name": "stdout"
        }
      ]
    },
    {
      "cell_type": "markdown",
      "metadata": {
        "colab_type": "text",
        "id": "HgtWA-UIOB7F",
        "slideshow": {
          "slide_type": "slide"
        }
      },
      "source": [
        "2.Define a linear model"
      ]
    },
    {
      "cell_type": "code",
      "metadata": {
        "colab_type": "code",
        "id": "JveGlx25OB7H",
        "colab": {}
      },
      "source": [
        "linear_model = tf.matmul(X_tf , W) + b"
      ],
      "execution_count": 0,
      "outputs": []
    },
    {
      "cell_type": "markdown",
      "metadata": {
        "colab_type": "text",
        "id": "TL1hIwf_OB7M",
        "slideshow": {
          "slide_type": "slide"
        }
      },
      "source": [
        "*3*.Define Loss (Cost) [Mean square error]"
      ]
    },
    {
      "cell_type": "code",
      "metadata": {
        "colab_type": "code",
        "id": "8VSWPiGXOB7P",
        "colab": {}
      },
      "source": [
        "# Mean squared error \n",
        "cost = tf.reduce_sum(tf.square(linear_model - y_tf)) / (2*n_samples)    # Operatinal tensor\n"
      ],
      "execution_count": 0,
      "outputs": []
    },
    {
      "cell_type": "markdown",
      "metadata": {
        "id": "g1ndQePUBZ-R",
        "colab_type": "text"
      },
      "source": [
        "4.Initialize the optimizer and global variables"
      ]
    },
    {
      "cell_type": "code",
      "metadata": {
        "id": "-H6KMJW5BqC6",
        "colab_type": "code",
        "colab": {}
      },
      "source": [
        "learning_rate = 0.1\n",
        "# Gradient descent \n",
        "optimizer = tf.train.GradientDescentOptimizer(learning_rate).minimize(cost) # opearational tensor\n",
        "\n",
        "# Initializing the variables \n",
        "init = tf.global_variables_initializer() \n"
      ],
      "execution_count": 0,
      "outputs": []
    },
    {
      "cell_type": "markdown",
      "metadata": {
        "colab_type": "text",
        "id": "xSypb_u8OB7e",
        "slideshow": {
          "slide_type": "slide"
        }
      },
      "source": [
        "## Train the model for 100 epochs with TF session\n",
        "1. Observe the training loss at every iteration\n",
        "2. Observe Train loss at every 5th iteration\n",
        "3. Model Prediction on 1st Examples in Test Dataset"
      ]
    },
    {
      "cell_type": "code",
      "metadata": {
        "id": "BmF6RBXnxNK2",
        "colab_type": "code",
        "colab": {}
      },
      "source": [
        "# Model Parameters \n",
        "\n",
        "training_epochs = 100\n",
        "display_step = 5"
      ],
      "execution_count": 0,
      "outputs": []
    },
    {
      "cell_type": "code",
      "metadata": {
        "colab_type": "code",
        "id": "DVvgj7eQOB7f",
        "colab": {}
      },
      "source": [
        ""
      ],
      "execution_count": 0,
      "outputs": []
    },
    {
      "cell_type": "code",
      "metadata": {
        "colab_type": "code",
        "id": "ZGvtyTeuOB7r",
        "outputId": "77be8acb-5720-40bb-d2ec-482b9171ddbc",
        "colab": {
          "base_uri": "https://localhost:8080/",
          "height": 1000
        }
      },
      "source": [
        "# Launch the graph \n",
        "with tf.Session() as sess:\n",
        "    # Load initialized variables in current session\n",
        "    sess.run(init)\n",
        "    # Fit all training data\n",
        "    for epoch in range(training_epochs):\n",
        "        # perform gradient descent step\n",
        "        sess.run(optimizer, feed_dict={X_tf: X_train_std, y_tf: y_train_array})\n",
        "        if (epoch+1) % display_step == 0:\n",
        "            c = sess.run(cost, feed_dict={X_tf: X_train_std, y_tf: y_train_array})\n",
        "            print(\"---------Iteration-{}---------\".format(epoch+1))\n",
        "            print(sess.run(W))\n",
        "            print(\"COST \", c)\n",
        "    # Print final parameter values\n",
        "    print(\"Optimization Finished!\")\n",
        "    training_cost = sess.run(cost, feed_dict={X_tf: X_train_std, y_tf: y_train_array}) \n",
        "    \n",
        "    \n",
        "    w = sess.run(W)\n",
        "    intercept = sess.run(b)\n",
        "    \n",
        "    print(\"Final training cost:\", training_cost, \"W:\", w, \"b:\",intercept, '\\n') \n",
        "    \n",
        "    \n"
      ],
      "execution_count": 0,
      "outputs": [
        {
          "output_type": "stream",
          "text": [
            "---------Iteration-5---------\n",
            "[[0.86796784]\n",
            " [0.8777089 ]\n",
            " [0.86023515]\n",
            " [0.8839077 ]]\n",
            "('COST ', 94.45406)\n",
            "---------Iteration-10---------\n",
            "[[1.1500865]\n",
            " [1.1675982]\n",
            " [1.140577 ]\n",
            " [1.1750749]]\n",
            "('COST ', 93.16257)\n",
            "---------Iteration-15---------\n",
            "[[1.240229 ]\n",
            " [1.2648655]\n",
            " [1.230894 ]\n",
            " [1.2720077]]\n",
            "('COST ', 93.023834)\n",
            "---------Iteration-20---------\n",
            "[[1.2674631]\n",
            " [1.2990128]\n",
            " [1.2589421]\n",
            " [1.305292 ]]\n",
            "('COST ', 93.00885)\n",
            "---------Iteration-25---------\n",
            "[[1.2740828]\n",
            " [1.3124763]\n",
            " [1.2665855]\n",
            " [1.3177195]]\n",
            "('COST ', 93.007195)\n",
            "---------Iteration-30---------\n",
            "[[1.2739474]\n",
            " [1.3191619]\n",
            " [1.2675425]\n",
            " [1.3233124]]\n",
            "('COST ', 93.00696)\n",
            "---------Iteration-35---------\n",
            "[[1.2715985]\n",
            " [1.3236263]\n",
            " [1.2663083]\n",
            " [1.3266656]]\n",
            "('COST ', 93.00688)\n",
            "---------Iteration-40---------\n",
            "[[1.2685243]\n",
            " [1.3273628]\n",
            " [1.2643563]\n",
            " [1.3292849]]\n",
            "('COST ', 93.0068)\n",
            "---------Iteration-45---------\n",
            "[[1.2652124]\n",
            " [1.3308609]\n",
            " [1.2621689]\n",
            " [1.3316636]]\n",
            "('COST ', 93.00673)\n",
            "---------Iteration-50---------\n",
            "[[1.2618227]\n",
            " [1.3342808]\n",
            " [1.2599045]\n",
            " [1.3339635]]\n",
            "('COST ', 93.00667)\n",
            "---------Iteration-55---------\n",
            "[[1.2584074]\n",
            " [1.3376752]\n",
            " [1.2576151]\n",
            " [1.3362375]]\n",
            "('COST ', 93.00659)\n",
            "---------Iteration-60---------\n",
            "[[1.254984 ]\n",
            " [1.3410611]\n",
            " [1.2553172]\n",
            " [1.3385031]]\n",
            "('COST ', 93.00652)\n",
            "---------Iteration-65---------\n",
            "[[1.2515578]\n",
            " [1.344444 ]\n",
            " [1.2530166]\n",
            " [1.3407658]]\n",
            "('COST ', 93.006454)\n",
            "---------Iteration-70---------\n",
            "[[1.2481309]\n",
            " [1.347826 ]\n",
            " [1.2507153]\n",
            " [1.3430278]]\n",
            "('COST ', 93.006386)\n",
            "---------Iteration-75---------\n",
            "[[1.2447037]\n",
            " [1.3512076]\n",
            " [1.2484136]\n",
            " [1.3452892]]\n",
            "('COST ', 93.006325)\n",
            "---------Iteration-80---------\n",
            "[[1.2412764]\n",
            " [1.354589 ]\n",
            " [1.2461116]\n",
            " [1.3475506]]\n",
            "('COST ', 93.006256)\n",
            "---------Iteration-85---------\n",
            "[[1.2378491]\n",
            " [1.3579704]\n",
            " [1.2438098]\n",
            " [1.349812 ]]\n",
            "('COST ', 93.0062)\n",
            "---------Iteration-90---------\n",
            "[[1.2344218]\n",
            " [1.3613517]\n",
            " [1.2415082]\n",
            " [1.3520734]]\n",
            "('COST ', 93.006134)\n",
            "---------Iteration-95---------\n",
            "[[1.2309946]\n",
            " [1.3647331]\n",
            " [1.2392067]\n",
            " [1.3543348]]\n",
            "('COST ', 93.006065)\n",
            "---------Iteration-100---------\n",
            "[[1.2275673]\n",
            " [1.3681145]\n",
            " [1.2369053]\n",
            " [1.3565962]]\n",
            "('COST ', 93.006)\n",
            "Optimization Finished!\n",
            "('Final training cost:', 93.006, 'W:', array([[1.2275673],\n",
            "       [1.3681145],\n",
            "       [1.2369053],\n",
            "       [1.3565962]], dtype=float32), 'b:', array([2.5958383], dtype=float32), '\\n')\n"
          ],
          "name": "stdout"
        }
      ]
    },
    {
      "cell_type": "code",
      "metadata": {
        "colab_type": "code",
        "id": "vhDtOv5UOB7x",
        "outputId": "404b58c2-03c8-4d92-e7bb-ea0a6c6c4fcd",
        "colab": {
          "base_uri": "https://localhost:8080/",
          "height": 34
        }
      },
      "source": [
        "\n",
        "firstSampleYhat = np.dot( X_test_std[0] , w) + intercept\n",
        "print(\"First Sample Prediction :- yhat : {} y : {}\".format(firstSampleYhat, y_test_array[0]))\n"
      ],
      "execution_count": 0,
      "outputs": [
        {
          "output_type": "stream",
          "text": [
            "First Sample Prediction :- yhat : [5.190363] y : [7.5171]\n"
          ],
          "name": "stdout"
        }
      ]
    },
    {
      "cell_type": "markdown",
      "metadata": {
        "id": "SzoGiPpYELwN",
        "colab_type": "text"
      },
      "source": [
        "4. Print the values of Weight and bia"
      ]
    },
    {
      "cell_type": "code",
      "metadata": {
        "id": "yJTgdd_1YDWg",
        "colab_type": "code",
        "outputId": "2b04d1ec-015b-4199-9188-0de51e674b98",
        "colab": {
          "base_uri": "https://localhost:8080/",
          "height": 85
        }
      },
      "source": [
        "print(\"Weight: {}, Bias : {}\".format(w, intercept))"
      ],
      "execution_count": 0,
      "outputs": [
        {
          "output_type": "stream",
          "text": [
            "Weight: [[1.2275673]\n",
            " [1.3681145]\n",
            " [1.2369053]\n",
            " [1.3565962]], Bias : [2.5958383]\n"
          ],
          "name": "stdout"
        }
      ]
    },
    {
      "cell_type": "code",
      "metadata": {
        "colab_type": "code",
        "id": "gKGvUWahcihp",
        "colab": {}
      },
      "source": [
        ""
      ],
      "execution_count": 0,
      "outputs": []
    },
    {
      "cell_type": "markdown",
      "metadata": {
        "colab_type": "text",
        "id": "YJRBuqXhOB7_"
      },
      "source": [
        "## Classification using tf.Keras\n",
        "\n",
        "In this exercise, we will build a Deep Neural Network using tf.Keras. We will use Iris Dataset for this exercise."
      ]
    },
    {
      "cell_type": "markdown",
      "metadata": {
        "colab_type": "text",
        "id": "O0g6lorycihf"
      },
      "source": [
        "### Load the given Iris data using pandas (Iris.csv)"
      ]
    },
    {
      "cell_type": "code",
      "metadata": {
        "colab_type": "code",
        "id": "6xFvb5sRcihg",
        "outputId": "4249d0d2-890a-4a85-c259-47c6ffabd60d",
        "colab": {
          "base_uri": "https://localhost:8080/",
          "height": 204
        }
      },
      "source": [
        "df = pd.read_csv(\"gdrive/My Drive/Colab Notebooks/R6/R6_Internal_Lab/Iris.csv\")\n",
        "df.head()"
      ],
      "execution_count": 0,
      "outputs": [
        {
          "output_type": "execute_result",
          "data": {
            "text/html": [
              "<div>\n",
              "<style scoped>\n",
              "    .dataframe tbody tr th:only-of-type {\n",
              "        vertical-align: middle;\n",
              "    }\n",
              "\n",
              "    .dataframe tbody tr th {\n",
              "        vertical-align: top;\n",
              "    }\n",
              "\n",
              "    .dataframe thead th {\n",
              "        text-align: right;\n",
              "    }\n",
              "</style>\n",
              "<table border=\"1\" class=\"dataframe\">\n",
              "  <thead>\n",
              "    <tr style=\"text-align: right;\">\n",
              "      <th></th>\n",
              "      <th>Id</th>\n",
              "      <th>SepalLengthCm</th>\n",
              "      <th>SepalWidthCm</th>\n",
              "      <th>PetalLengthCm</th>\n",
              "      <th>PetalWidthCm</th>\n",
              "      <th>Species</th>\n",
              "    </tr>\n",
              "  </thead>\n",
              "  <tbody>\n",
              "    <tr>\n",
              "      <th>0</th>\n",
              "      <td>1</td>\n",
              "      <td>5.1</td>\n",
              "      <td>3.5</td>\n",
              "      <td>1.4</td>\n",
              "      <td>0.2</td>\n",
              "      <td>Iris-setosa</td>\n",
              "    </tr>\n",
              "    <tr>\n",
              "      <th>1</th>\n",
              "      <td>2</td>\n",
              "      <td>4.9</td>\n",
              "      <td>3.0</td>\n",
              "      <td>1.4</td>\n",
              "      <td>0.2</td>\n",
              "      <td>Iris-setosa</td>\n",
              "    </tr>\n",
              "    <tr>\n",
              "      <th>2</th>\n",
              "      <td>3</td>\n",
              "      <td>4.7</td>\n",
              "      <td>3.2</td>\n",
              "      <td>1.3</td>\n",
              "      <td>0.2</td>\n",
              "      <td>Iris-setosa</td>\n",
              "    </tr>\n",
              "    <tr>\n",
              "      <th>3</th>\n",
              "      <td>4</td>\n",
              "      <td>4.6</td>\n",
              "      <td>3.1</td>\n",
              "      <td>1.5</td>\n",
              "      <td>0.2</td>\n",
              "      <td>Iris-setosa</td>\n",
              "    </tr>\n",
              "    <tr>\n",
              "      <th>4</th>\n",
              "      <td>5</td>\n",
              "      <td>5.0</td>\n",
              "      <td>3.6</td>\n",
              "      <td>1.4</td>\n",
              "      <td>0.2</td>\n",
              "      <td>Iris-setosa</td>\n",
              "    </tr>\n",
              "  </tbody>\n",
              "</table>\n",
              "</div>"
            ],
            "text/plain": [
              "   Id  SepalLengthCm  SepalWidthCm  PetalLengthCm  PetalWidthCm      Species\n",
              "0   1            5.1           3.5            1.4           0.2  Iris-setosa\n",
              "1   2            4.9           3.0            1.4           0.2  Iris-setosa\n",
              "2   3            4.7           3.2            1.3           0.2  Iris-setosa\n",
              "3   4            4.6           3.1            1.5           0.2  Iris-setosa\n",
              "4   5            5.0           3.6            1.4           0.2  Iris-setosa"
            ]
          },
          "metadata": {
            "tags": []
          },
          "execution_count": 266
        }
      ]
    },
    {
      "cell_type": "markdown",
      "metadata": {
        "colab_type": "text",
        "id": "SAB--Qdwcihm"
      },
      "source": [
        "### Target set has different categories. So, Label encode them. And convert into one-hot vectors using get_dummies in pandas."
      ]
    },
    {
      "cell_type": "code",
      "metadata": {
        "colab_type": "code",
        "id": "IJr5dYnocihm",
        "colab": {}
      },
      "source": [
        "df = pd.get_dummies(df)\n"
      ],
      "execution_count": 0,
      "outputs": []
    },
    {
      "cell_type": "markdown",
      "metadata": {
        "colab_type": "text",
        "id": "D95nY5ILcihj"
      },
      "source": [
        "### Splitting the data into feature set and target set"
      ]
    },
    {
      "cell_type": "code",
      "metadata": {
        "colab_type": "code",
        "id": "RyMQoLMucihj",
        "outputId": "d890a264-c5c9-4d7f-a84c-d83b1552facc",
        "colab": {
          "base_uri": "https://localhost:8080/",
          "height": 34
        }
      },
      "source": [
        "X = df.iloc[:, 1:5]\n",
        "y = df.iloc[:, 5:8]\n",
        "print(X.shape, y.shape)"
      ],
      "execution_count": 0,
      "outputs": [
        {
          "output_type": "stream",
          "text": [
            "((150, 4), (150, 3))\n"
          ],
          "name": "stdout"
        }
      ]
    },
    {
      "cell_type": "markdown",
      "metadata": {
        "colab_type": "text",
        "id": "b22qpC5xcihr"
      },
      "source": [
        "###  Building Model in tf.keras\n",
        "\n",
        "Build a Linear Classifier model  <br>\n",
        "1.  Use Dense Layer  with input shape of 4 (according to the feature set) and number of outputs set to 3<br> \n",
        "2. Apply Softmax on Dense Layer outputs <br>\n",
        "3. Use SGD as Optimizer\n",
        "4. Use categorical_crossentropy as loss function "
      ]
    },
    {
      "cell_type": "code",
      "metadata": {
        "colab_type": "code",
        "id": "Hov_UFnUciht",
        "outputId": "a92902fb-49d0-440b-c353-617bff8891af",
        "colab": {
          "base_uri": "https://localhost:8080/",
          "height": 34
        }
      },
      "source": [
        "import keras \n",
        "from keras.datasets import mnist \n",
        "from keras.models import Sequential \n",
        "from keras.layers import Dense, Dropout \n",
        "from keras.optimizers import SGD \n",
        "from keras import utils \n",
        "import numpy as np "
      ],
      "execution_count": 0,
      "outputs": [
        {
          "output_type": "stream",
          "text": [
            "Using TensorFlow backend.\n"
          ],
          "name": "stderr"
        }
      ]
    },
    {
      "cell_type": "markdown",
      "metadata": {
        "colab_type": "text",
        "id": "T5FdzqIKcihw"
      },
      "source": [
        "### Model Training "
      ]
    },
    {
      "cell_type": "code",
      "metadata": {
        "colab_type": "code",
        "id": "4qLEdHPscihx",
        "outputId": "88974549-a57c-463b-99d1-db0d622e1d4a",
        "colab": {
          "base_uri": "https://localhost:8080/",
          "height": 1000
        }
      },
      "source": [
        "batch_size = 80\n",
        "n_inputs = 4 \n",
        "n_classes = 3 \n",
        "n_epochs = 100\n",
        "\n",
        "\n",
        "X_train,  X_test, y_train, y_test = train_test_split(X, y, test_size=.3, random_state=989898)\n",
        "\n",
        "# build a sequential model \n",
        "model = Sequential() # the first layer has to specify the dimensions of the input vector \n",
        "model.add( Dense( units = 90, activation ='tanh', input_shape =( n_inputs,))) # add dropout layer for preventing overfitting \n",
        "model.add( Dropout( 0.1)) \n",
        "\n",
        "model.add( Dense( units = 90, activation ='tanh')) \n",
        "model.add( Dropout( 0.1)) # output layer can only have the neurons equal to the number of outputs \n",
        "\n",
        "model.add( Dense( units = n_classes, activation ='softmax')) # print the summary of our model \n",
        "\n",
        "model.summary() \n",
        "# compile the model \n",
        "model.compile( loss ='categorical_crossentropy', optimizer = SGD(), metrics =['accuracy']) \n",
        "\n",
        "# train the model \n",
        "model.fit( X_train, y_train, batch_size = batch_size, epochs = n_epochs) \n"
      ],
      "execution_count": 0,
      "outputs": [
        {
          "output_type": "stream",
          "text": [
            "WARNING: Logging before flag parsing goes to stderr.\n",
            "W0630 13:10:42.103975 140266104403840 deprecation_wrapper.py:119] From /usr/local/lib/python2.7/dist-packages/keras/backend/tensorflow_backend.py:74: The name tf.get_default_graph is deprecated. Please use tf.compat.v1.get_default_graph instead.\n",
            "\n",
            "W0630 13:10:42.107078 140266104403840 deprecation_wrapper.py:119] From /usr/local/lib/python2.7/dist-packages/keras/backend/tensorflow_backend.py:517: The name tf.placeholder is deprecated. Please use tf.compat.v1.placeholder instead.\n",
            "\n",
            "W0630 13:10:42.110883 140266104403840 deprecation_wrapper.py:119] From /usr/local/lib/python2.7/dist-packages/keras/backend/tensorflow_backend.py:4138: The name tf.random_uniform is deprecated. Please use tf.random.uniform instead.\n",
            "\n",
            "W0630 13:10:42.127995 140266104403840 deprecation_wrapper.py:119] From /usr/local/lib/python2.7/dist-packages/keras/backend/tensorflow_backend.py:133: The name tf.placeholder_with_default is deprecated. Please use tf.compat.v1.placeholder_with_default instead.\n",
            "\n",
            "W0630 13:10:42.137440 140266104403840 deprecation.py:506] From /usr/local/lib/python2.7/dist-packages/keras/backend/tensorflow_backend.py:3445: calling dropout (from tensorflow.python.ops.nn_ops) with keep_prob is deprecated and will be removed in a future version.\n",
            "Instructions for updating:\n",
            "Please use `rate` instead of `keep_prob`. Rate should be set to `rate = 1 - keep_prob`.\n",
            "W0630 13:10:42.211869 140266104403840 deprecation_wrapper.py:119] From /usr/local/lib/python2.7/dist-packages/keras/optimizers.py:790: The name tf.train.Optimizer is deprecated. Please use tf.compat.v1.train.Optimizer instead.\n",
            "\n",
            "W0630 13:10:42.221923 140266104403840 deprecation_wrapper.py:119] From /usr/local/lib/python2.7/dist-packages/keras/backend/tensorflow_backend.py:3295: The name tf.log is deprecated. Please use tf.math.log instead.\n",
            "\n",
            "W0630 13:10:42.337474 140266104403840 deprecation.py:323] From /usr/local/lib/python2.7/dist-packages/tensorflow/python/ops/math_grad.py:1250: where (from tensorflow.python.ops.array_ops) is deprecated and will be removed in a future version.\n",
            "Instructions for updating:\n",
            "Use tf.where in 2.0, which has the same broadcast rule as np.where\n"
          ],
          "name": "stderr"
        },
        {
          "output_type": "stream",
          "text": [
            "_________________________________________________________________\n",
            "Layer (type)                 Output Shape              Param #   \n",
            "=================================================================\n",
            "dense_1 (Dense)              (None, 90)                450       \n",
            "_________________________________________________________________\n",
            "dropout_1 (Dropout)          (None, 90)                0         \n",
            "_________________________________________________________________\n",
            "dense_2 (Dense)              (None, 90)                8190      \n",
            "_________________________________________________________________\n",
            "dropout_2 (Dropout)          (None, 90)                0         \n",
            "_________________________________________________________________\n",
            "dense_3 (Dense)              (None, 3)                 273       \n",
            "=================================================================\n",
            "Total params: 8,913\n",
            "Trainable params: 8,913\n",
            "Non-trainable params: 0\n",
            "_________________________________________________________________\n",
            "Epoch 1/100\n",
            "105/105 [==============================] - 1s 5ms/step - loss: 1.4004 - acc: 0.3429\n",
            "Epoch 2/100\n",
            "105/105 [==============================] - 0s 97us/step - loss: 1.2124 - acc: 0.3810\n",
            "Epoch 3/100\n",
            "105/105 [==============================] - 0s 88us/step - loss: 1.1360 - acc: 0.4095\n",
            "Epoch 4/100\n",
            "105/105 [==============================] - 0s 100us/step - loss: 1.0616 - acc: 0.4381\n",
            "Epoch 5/100\n",
            "105/105 [==============================] - 0s 67us/step - loss: 1.0270 - acc: 0.5143\n",
            "Epoch 6/100\n",
            "105/105 [==============================] - 0s 51us/step - loss: 1.0339 - acc: 0.5143\n",
            "Epoch 7/100\n",
            "105/105 [==============================] - 0s 63us/step - loss: 1.0060 - acc: 0.5429\n",
            "Epoch 8/100\n",
            "105/105 [==============================] - 0s 99us/step - loss: 0.9520 - acc: 0.5810\n",
            "Epoch 9/100\n",
            "105/105 [==============================] - 0s 56us/step - loss: 0.9742 - acc: 0.5619\n",
            "Epoch 10/100\n",
            "105/105 [==============================] - 0s 59us/step - loss: 0.9349 - acc: 0.5810\n",
            "Epoch 11/100\n",
            "105/105 [==============================] - 0s 53us/step - loss: 0.9121 - acc: 0.6190\n",
            "Epoch 12/100\n",
            "105/105 [==============================] - 0s 53us/step - loss: 0.8709 - acc: 0.6381\n",
            "Epoch 13/100\n",
            "105/105 [==============================] - 0s 52us/step - loss: 0.8830 - acc: 0.6000\n",
            "Epoch 14/100\n",
            "105/105 [==============================] - 0s 183us/step - loss: 0.8196 - acc: 0.6762\n",
            "Epoch 15/100\n",
            "105/105 [==============================] - 0s 86us/step - loss: 0.8149 - acc: 0.6286\n",
            "Epoch 16/100\n",
            "105/105 [==============================] - 0s 86us/step - loss: 0.7973 - acc: 0.6762\n",
            "Epoch 17/100\n",
            "105/105 [==============================] - 0s 107us/step - loss: 0.8214 - acc: 0.6381\n",
            "Epoch 18/100\n",
            "105/105 [==============================] - 0s 83us/step - loss: 0.7591 - acc: 0.7524\n",
            "Epoch 19/100\n",
            "105/105 [==============================] - 0s 85us/step - loss: 0.7643 - acc: 0.6667\n",
            "Epoch 20/100\n",
            "105/105 [==============================] - 0s 61us/step - loss: 0.7588 - acc: 0.6571\n",
            "Epoch 21/100\n",
            "105/105 [==============================] - 0s 85us/step - loss: 0.7294 - acc: 0.7238\n",
            "Epoch 22/100\n",
            "105/105 [==============================] - 0s 90us/step - loss: 0.6934 - acc: 0.7143\n",
            "Epoch 23/100\n",
            "105/105 [==============================] - 0s 87us/step - loss: 0.7062 - acc: 0.7143\n",
            "Epoch 24/100\n",
            "105/105 [==============================] - 0s 86us/step - loss: 0.6717 - acc: 0.7333\n",
            "Epoch 25/100\n",
            "105/105 [==============================] - 0s 88us/step - loss: 0.6836 - acc: 0.7143\n",
            "Epoch 26/100\n",
            "105/105 [==============================] - 0s 98us/step - loss: 0.6765 - acc: 0.7619\n",
            "Epoch 27/100\n",
            "105/105 [==============================] - 0s 66us/step - loss: 0.7004 - acc: 0.6381\n",
            "Epoch 28/100\n",
            "105/105 [==============================] - 0s 69us/step - loss: 0.6408 - acc: 0.7333\n",
            "Epoch 29/100\n",
            "105/105 [==============================] - 0s 68us/step - loss: 0.6655 - acc: 0.6857\n",
            "Epoch 30/100\n",
            "105/105 [==============================] - 0s 64us/step - loss: 0.6382 - acc: 0.7238\n",
            "Epoch 31/100\n",
            "105/105 [==============================] - 0s 65us/step - loss: 0.6433 - acc: 0.7048\n",
            "Epoch 32/100\n",
            "105/105 [==============================] - 0s 67us/step - loss: 0.6042 - acc: 0.8286\n",
            "Epoch 33/100\n",
            "105/105 [==============================] - 0s 73us/step - loss: 0.6035 - acc: 0.7143\n",
            "Epoch 34/100\n",
            "105/105 [==============================] - 0s 76us/step - loss: 0.5775 - acc: 0.7810\n",
            "Epoch 35/100\n",
            "105/105 [==============================] - 0s 66us/step - loss: 0.6217 - acc: 0.7238\n",
            "Epoch 36/100\n",
            "105/105 [==============================] - 0s 70us/step - loss: 0.6061 - acc: 0.7429\n",
            "Epoch 37/100\n",
            "105/105 [==============================] - 0s 59us/step - loss: 0.5916 - acc: 0.7714\n",
            "Epoch 38/100\n",
            "105/105 [==============================] - 0s 69us/step - loss: 0.5588 - acc: 0.7905\n",
            "Epoch 39/100\n",
            "105/105 [==============================] - 0s 105us/step - loss: 0.5769 - acc: 0.7619\n",
            "Epoch 40/100\n",
            "105/105 [==============================] - 0s 51us/step - loss: 0.5764 - acc: 0.7429\n",
            "Epoch 41/100\n",
            "105/105 [==============================] - 0s 88us/step - loss: 0.5637 - acc: 0.7238\n",
            "Epoch 42/100\n",
            "105/105 [==============================] - 0s 100us/step - loss: 0.5331 - acc: 0.7619\n",
            "Epoch 43/100\n",
            "105/105 [==============================] - 0s 94us/step - loss: 0.5298 - acc: 0.7905\n",
            "Epoch 44/100\n",
            "105/105 [==============================] - 0s 98us/step - loss: 0.5258 - acc: 0.8000\n",
            "Epoch 45/100\n",
            "105/105 [==============================] - 0s 83us/step - loss: 0.5565 - acc: 0.7810\n",
            "Epoch 46/100\n",
            "105/105 [==============================] - 0s 91us/step - loss: 0.5469 - acc: 0.7429\n",
            "Epoch 47/100\n",
            "105/105 [==============================] - 0s 67us/step - loss: 0.4979 - acc: 0.8476\n",
            "Epoch 48/100\n",
            "105/105 [==============================] - 0s 85us/step - loss: 0.4945 - acc: 0.8571\n",
            "Epoch 49/100\n",
            "105/105 [==============================] - 0s 86us/step - loss: 0.5391 - acc: 0.7524\n",
            "Epoch 50/100\n",
            "105/105 [==============================] - 0s 90us/step - loss: 0.5140 - acc: 0.8000\n",
            "Epoch 51/100\n",
            "105/105 [==============================] - 0s 87us/step - loss: 0.5164 - acc: 0.7714\n",
            "Epoch 52/100\n",
            "105/105 [==============================] - 0s 129us/step - loss: 0.4915 - acc: 0.8000\n",
            "Epoch 53/100\n",
            "105/105 [==============================] - 0s 174us/step - loss: 0.4606 - acc: 0.8286\n",
            "Epoch 54/100\n",
            "105/105 [==============================] - 0s 104us/step - loss: 0.4908 - acc: 0.7714\n",
            "Epoch 55/100\n",
            "105/105 [==============================] - 0s 88us/step - loss: 0.4669 - acc: 0.8571\n",
            "Epoch 56/100\n",
            "105/105 [==============================] - 0s 84us/step - loss: 0.5071 - acc: 0.7524\n",
            "Epoch 57/100\n",
            "105/105 [==============================] - 0s 71us/step - loss: 0.4419 - acc: 0.8762\n",
            "Epoch 58/100\n",
            "105/105 [==============================] - 0s 109us/step - loss: 0.5104 - acc: 0.7429\n",
            "Epoch 59/100\n",
            "105/105 [==============================] - 0s 84us/step - loss: 0.4988 - acc: 0.8000\n",
            "Epoch 60/100\n",
            "105/105 [==============================] - 0s 87us/step - loss: 0.4609 - acc: 0.8476\n",
            "Epoch 61/100\n",
            "105/105 [==============================] - 0s 77us/step - loss: 0.4719 - acc: 0.8190\n",
            "Epoch 62/100\n",
            "105/105 [==============================] - 0s 66us/step - loss: 0.4699 - acc: 0.7905\n",
            "Epoch 63/100\n",
            "105/105 [==============================] - 0s 77us/step - loss: 0.4433 - acc: 0.8190\n",
            "Epoch 64/100\n",
            "105/105 [==============================] - 0s 80us/step - loss: 0.4391 - acc: 0.8762\n",
            "Epoch 65/100\n",
            "105/105 [==============================] - 0s 58us/step - loss: 0.4698 - acc: 0.8190\n",
            "Epoch 66/100\n",
            "105/105 [==============================] - 0s 65us/step - loss: 0.4450 - acc: 0.8095\n",
            "Epoch 67/100\n",
            "105/105 [==============================] - 0s 71us/step - loss: 0.4476 - acc: 0.8476\n",
            "Epoch 68/100\n",
            "105/105 [==============================] - 0s 60us/step - loss: 0.4563 - acc: 0.8476\n",
            "Epoch 69/100\n",
            "105/105 [==============================] - 0s 60us/step - loss: 0.4345 - acc: 0.8762\n",
            "Epoch 70/100\n",
            "105/105 [==============================] - 0s 55us/step - loss: 0.4656 - acc: 0.7905\n",
            "Epoch 71/100\n",
            "105/105 [==============================] - 0s 66us/step - loss: 0.4202 - acc: 0.8667\n",
            "Epoch 72/100\n",
            "105/105 [==============================] - 0s 63us/step - loss: 0.4646 - acc: 0.7810\n",
            "Epoch 73/100\n",
            "105/105 [==============================] - 0s 67us/step - loss: 0.4326 - acc: 0.8571\n",
            "Epoch 74/100\n",
            "105/105 [==============================] - 0s 77us/step - loss: 0.4591 - acc: 0.7905\n",
            "Epoch 75/100\n",
            "105/105 [==============================] - 0s 82us/step - loss: 0.4439 - acc: 0.8476\n",
            "Epoch 76/100\n",
            "105/105 [==============================] - 0s 97us/step - loss: 0.3964 - acc: 0.9143\n",
            "Epoch 77/100\n",
            "105/105 [==============================] - 0s 83us/step - loss: 0.4255 - acc: 0.8381\n",
            "Epoch 78/100\n",
            "105/105 [==============================] - 0s 76us/step - loss: 0.4193 - acc: 0.8571\n",
            "Epoch 79/100\n",
            "105/105 [==============================] - 0s 67us/step - loss: 0.4337 - acc: 0.8286\n",
            "Epoch 80/100\n",
            "105/105 [==============================] - 0s 71us/step - loss: 0.4102 - acc: 0.8667\n",
            "Epoch 81/100\n",
            "105/105 [==============================] - 0s 89us/step - loss: 0.4429 - acc: 0.7714\n",
            "Epoch 82/100\n",
            "105/105 [==============================] - 0s 88us/step - loss: 0.3911 - acc: 0.8762\n",
            "Epoch 83/100\n",
            "105/105 [==============================] - 0s 89us/step - loss: 0.4035 - acc: 0.8571\n",
            "Epoch 84/100\n",
            "105/105 [==============================] - 0s 84us/step - loss: 0.4178 - acc: 0.8286\n",
            "Epoch 85/100\n",
            "105/105 [==============================] - 0s 82us/step - loss: 0.3680 - acc: 0.9048\n",
            "Epoch 86/100\n",
            "105/105 [==============================] - 0s 80us/step - loss: 0.4321 - acc: 0.8286\n",
            "Epoch 87/100\n",
            "105/105 [==============================] - 0s 80us/step - loss: 0.3930 - acc: 0.8762\n",
            "Epoch 88/100\n",
            "105/105 [==============================] - 0s 100us/step - loss: 0.4289 - acc: 0.8381\n",
            "Epoch 89/100\n",
            "105/105 [==============================] - 0s 87us/step - loss: 0.4139 - acc: 0.8667\n",
            "Epoch 90/100\n",
            "105/105 [==============================] - 0s 70us/step - loss: 0.3923 - acc: 0.8857\n",
            "Epoch 91/100\n",
            "105/105 [==============================] - 0s 93us/step - loss: 0.3803 - acc: 0.8857\n",
            "Epoch 92/100\n",
            "105/105 [==============================] - 0s 88us/step - loss: 0.4132 - acc: 0.8381\n",
            "Epoch 93/100\n",
            "105/105 [==============================] - 0s 92us/step - loss: 0.3736 - acc: 0.9048\n",
            "Epoch 94/100\n",
            "105/105 [==============================] - 0s 112us/step - loss: 0.3679 - acc: 0.8952\n",
            "Epoch 95/100\n",
            "105/105 [==============================] - 0s 86us/step - loss: 0.3807 - acc: 0.8762\n",
            "Epoch 96/100\n",
            "105/105 [==============================] - 0s 86us/step - loss: 0.3827 - acc: 0.8952\n",
            "Epoch 97/100\n",
            "105/105 [==============================] - 0s 77us/step - loss: 0.3860 - acc: 0.8762\n",
            "Epoch 98/100\n",
            "105/105 [==============================] - 0s 78us/step - loss: 0.3490 - acc: 0.9238\n",
            "Epoch 99/100\n",
            "105/105 [==============================] - 0s 85us/step - loss: 0.3517 - acc: 0.9048\n",
            "Epoch 100/100\n",
            "105/105 [==============================] - 0s 99us/step - loss: 0.3754 - acc: 0.8952\n"
          ],
          "name": "stdout"
        },
        {
          "output_type": "execute_result",
          "data": {
            "text/plain": [
              "<keras.callbacks.History at 0x7f91fb13da10>"
            ]
          },
          "metadata": {
            "tags": []
          },
          "execution_count": 270
        }
      ]
    },
    {
      "cell_type": "markdown",
      "metadata": {
        "colab_type": "text",
        "id": "y-SgSSdRcih5"
      },
      "source": [
        "### Model Prediction"
      ]
    },
    {
      "cell_type": "code",
      "metadata": {
        "colab_type": "code",
        "id": "GBgKZkhkcih6",
        "outputId": "75ad253f-163b-42cc-9aa8-1a4de5e396ba",
        "colab": {
          "base_uri": "https://localhost:8080/",
          "height": 68
        }
      },
      "source": [
        "scores = model.evaluate( X_test, y_test)\n",
        "\n",
        "print('\\ n loss:', scores[ 0]) \n",
        "\n",
        "print('\\ n accuracy:', scores[ 1])"
      ],
      "execution_count": 0,
      "outputs": [
        {
          "output_type": "stream",
          "text": [
            "45/45 [==============================] - 0s 2ms/step\n",
            "('\\\\ n loss:', 0.34040354556507535)\n",
            "('\\\\ n accuracy:', 0.9777777777777777)\n"
          ],
          "name": "stdout"
        }
      ]
    },
    {
      "cell_type": "markdown",
      "metadata": {
        "colab_type": "text",
        "id": "P32ASP1Vjt0a"
      },
      "source": [
        "### Save the Model"
      ]
    },
    {
      "cell_type": "code",
      "metadata": {
        "colab_type": "code",
        "id": "n8rd0jjAjyTR",
        "colab": {}
      },
      "source": [
        "model.save(\"/content/gdrive/My Drive/Colab Notebooks/R6/R6_Internal_Lab/KerasModel1.sav\")"
      ],
      "execution_count": 0,
      "outputs": []
    },
    {
      "cell_type": "markdown",
      "metadata": {
        "colab_type": "text",
        "id": "XiipRpe7rbVh"
      },
      "source": [
        "### Build and Train a Deep Neural network with 2 hidden layer  - Optional - For Practice\n",
        "\n",
        "Does it perform better than Linear Classifier? What could be the reason for difference in performance?"
      ]
    },
    {
      "cell_type": "code",
      "metadata": {
        "colab_type": "code",
        "id": "v5Du3lubr4sA",
        "colab": {}
      },
      "source": [
        ""
      ],
      "execution_count": 0,
      "outputs": []
    }
  ]
}