{
  "nbformat": 4,
  "nbformat_minor": 0,
  "metadata": {
    "colab": {
      "name": "Recommended Systems_R6_Project2_Amazon_Reviews.ipynb",
      "version": "0.3.2",
      "provenance": [],
      "collapsed_sections": []
    },
    "kernelspec": {
      "name": "python3",
      "display_name": "Python 3"
    }
  },
  "cells": [
    {
      "cell_type": "code",
      "metadata": {
        "id": "qwGZHACYumT6",
        "colab_type": "code",
        "outputId": "7074490e-9b85-455c-9d09-27308e3925b5",
        "colab": {
          "base_uri": "https://localhost:8080/",
          "height": 34
        }
      },
      "source": [
        "from google.colab import drive\n",
        "drive.mount(\"/content/gdrive\")"
      ],
      "execution_count": 1,
      "outputs": [
        {
          "output_type": "stream",
          "text": [
            "Drive already mounted at /content/gdrive; to attempt to forcibly remount, call drive.mount(\"/content/gdrive\", force_remount=True).\n"
          ],
          "name": "stdout"
        }
      ]
    },
    {
      "cell_type": "code",
      "metadata": {
        "id": "wYjmSrsfwO9f",
        "colab_type": "code",
        "colab": {}
      },
      "source": [
        "import pandas as pd\n",
        "import numpy as np"
      ],
      "execution_count": 0,
      "outputs": []
    },
    {
      "cell_type": "markdown",
      "metadata": {
        "id": "d0VHJmHJ5P4X",
        "colab_type": "text"
      },
      "source": [
        "\n",
        "### 1.\tRead and explore the given dataset.  "
      ]
    },
    {
      "cell_type": "code",
      "metadata": {
        "id": "WwyBtQs1vtq0",
        "colab_type": "code",
        "outputId": "b161586e-bb23-4b28-a611-fbb985d771e3",
        "colab": {
          "base_uri": "https://localhost:8080/",
          "height": 1000
        }
      },
      "source": [
        "colnames=['Userid', 'Productid', 'Rating', 'Timestamp']\n",
        "ratings = pd.read_csv(\"/content/gdrive/My Drive/Colab Notebooks/AIML/R6/Projects/Project2/ratings_Electronics.csv\",names=colnames, encoding = \"ISO-8859-1\")\n",
        "ratings.drop('Timestamp', axis=1, inplace=True) # timestamp is not dropped as the goal is to get new products, which can be fetched from timestamp\n",
        "ratings"
      ],
      "execution_count": 3,
      "outputs": [
        {
          "output_type": "execute_result",
          "data": {
            "text/html": [
              "<div>\n",
              "<style scoped>\n",
              "    .dataframe tbody tr th:only-of-type {\n",
              "        vertical-align: middle;\n",
              "    }\n",
              "\n",
              "    .dataframe tbody tr th {\n",
              "        vertical-align: top;\n",
              "    }\n",
              "\n",
              "    .dataframe thead th {\n",
              "        text-align: right;\n",
              "    }\n",
              "</style>\n",
              "<table border=\"1\" class=\"dataframe\">\n",
              "  <thead>\n",
              "    <tr style=\"text-align: right;\">\n",
              "      <th></th>\n",
              "      <th>Userid</th>\n",
              "      <th>Productid</th>\n",
              "      <th>Rating</th>\n",
              "    </tr>\n",
              "  </thead>\n",
              "  <tbody>\n",
              "    <tr>\n",
              "      <th>0</th>\n",
              "      <td>AKM1MP6P0OYPR</td>\n",
              "      <td>0132793040</td>\n",
              "      <td>5.0</td>\n",
              "    </tr>\n",
              "    <tr>\n",
              "      <th>1</th>\n",
              "      <td>A2CX7LUOHB2NDG</td>\n",
              "      <td>0321732944</td>\n",
              "      <td>5.0</td>\n",
              "    </tr>\n",
              "    <tr>\n",
              "      <th>2</th>\n",
              "      <td>A2NWSAGRHCP8N5</td>\n",
              "      <td>0439886341</td>\n",
              "      <td>1.0</td>\n",
              "    </tr>\n",
              "    <tr>\n",
              "      <th>3</th>\n",
              "      <td>A2WNBOD3WNDNKT</td>\n",
              "      <td>0439886341</td>\n",
              "      <td>3.0</td>\n",
              "    </tr>\n",
              "    <tr>\n",
              "      <th>4</th>\n",
              "      <td>A1GI0U4ZRJA8WN</td>\n",
              "      <td>0439886341</td>\n",
              "      <td>1.0</td>\n",
              "    </tr>\n",
              "    <tr>\n",
              "      <th>5</th>\n",
              "      <td>A1QGNMC6O1VW39</td>\n",
              "      <td>0511189877</td>\n",
              "      <td>5.0</td>\n",
              "    </tr>\n",
              "    <tr>\n",
              "      <th>6</th>\n",
              "      <td>A3J3BRHTDRFJ2G</td>\n",
              "      <td>0511189877</td>\n",
              "      <td>2.0</td>\n",
              "    </tr>\n",
              "    <tr>\n",
              "      <th>7</th>\n",
              "      <td>A2TY0BTJOTENPG</td>\n",
              "      <td>0511189877</td>\n",
              "      <td>5.0</td>\n",
              "    </tr>\n",
              "    <tr>\n",
              "      <th>8</th>\n",
              "      <td>A34ATBPOK6HCHY</td>\n",
              "      <td>0511189877</td>\n",
              "      <td>5.0</td>\n",
              "    </tr>\n",
              "    <tr>\n",
              "      <th>9</th>\n",
              "      <td>A89DO69P0XZ27</td>\n",
              "      <td>0511189877</td>\n",
              "      <td>5.0</td>\n",
              "    </tr>\n",
              "    <tr>\n",
              "      <th>10</th>\n",
              "      <td>AZYNQZ94U6VDB</td>\n",
              "      <td>0511189877</td>\n",
              "      <td>5.0</td>\n",
              "    </tr>\n",
              "    <tr>\n",
              "      <th>11</th>\n",
              "      <td>A1DA3W4GTFXP6O</td>\n",
              "      <td>0528881469</td>\n",
              "      <td>5.0</td>\n",
              "    </tr>\n",
              "    <tr>\n",
              "      <th>12</th>\n",
              "      <td>A29LPQQDG7LD5J</td>\n",
              "      <td>0528881469</td>\n",
              "      <td>1.0</td>\n",
              "    </tr>\n",
              "    <tr>\n",
              "      <th>13</th>\n",
              "      <td>AO94DHGC771SJ</td>\n",
              "      <td>0528881469</td>\n",
              "      <td>5.0</td>\n",
              "    </tr>\n",
              "    <tr>\n",
              "      <th>14</th>\n",
              "      <td>AMO214LNFCEI4</td>\n",
              "      <td>0528881469</td>\n",
              "      <td>1.0</td>\n",
              "    </tr>\n",
              "    <tr>\n",
              "      <th>15</th>\n",
              "      <td>A28B1G1MSJ6OO1</td>\n",
              "      <td>0528881469</td>\n",
              "      <td>4.0</td>\n",
              "    </tr>\n",
              "    <tr>\n",
              "      <th>16</th>\n",
              "      <td>A3N7T0DY83Y4IG</td>\n",
              "      <td>0528881469</td>\n",
              "      <td>3.0</td>\n",
              "    </tr>\n",
              "    <tr>\n",
              "      <th>17</th>\n",
              "      <td>A1H8PY3QHMQQA0</td>\n",
              "      <td>0528881469</td>\n",
              "      <td>2.0</td>\n",
              "    </tr>\n",
              "    <tr>\n",
              "      <th>18</th>\n",
              "      <td>A2CPBQ5W4OGBX</td>\n",
              "      <td>0528881469</td>\n",
              "      <td>2.0</td>\n",
              "    </tr>\n",
              "    <tr>\n",
              "      <th>19</th>\n",
              "      <td>A265MKAR2WEH3Y</td>\n",
              "      <td>0528881469</td>\n",
              "      <td>4.0</td>\n",
              "    </tr>\n",
              "    <tr>\n",
              "      <th>20</th>\n",
              "      <td>A37K02NKUIT68K</td>\n",
              "      <td>0528881469</td>\n",
              "      <td>5.0</td>\n",
              "    </tr>\n",
              "    <tr>\n",
              "      <th>21</th>\n",
              "      <td>A2AW1SSVUIYV9Y</td>\n",
              "      <td>0528881469</td>\n",
              "      <td>4.0</td>\n",
              "    </tr>\n",
              "    <tr>\n",
              "      <th>22</th>\n",
              "      <td>A2AEHUKOV014BP</td>\n",
              "      <td>0528881469</td>\n",
              "      <td>5.0</td>\n",
              "    </tr>\n",
              "    <tr>\n",
              "      <th>23</th>\n",
              "      <td>AMLFNXUIEMN4T</td>\n",
              "      <td>0528881469</td>\n",
              "      <td>1.0</td>\n",
              "    </tr>\n",
              "    <tr>\n",
              "      <th>24</th>\n",
              "      <td>A2O8FIJR9EBU56</td>\n",
              "      <td>0528881469</td>\n",
              "      <td>4.0</td>\n",
              "    </tr>\n",
              "    <tr>\n",
              "      <th>25</th>\n",
              "      <td>A3IQGFB959IR4P</td>\n",
              "      <td>0528881469</td>\n",
              "      <td>1.0</td>\n",
              "    </tr>\n",
              "    <tr>\n",
              "      <th>26</th>\n",
              "      <td>AYTBGUX49LF3W</td>\n",
              "      <td>0528881469</td>\n",
              "      <td>4.0</td>\n",
              "    </tr>\n",
              "    <tr>\n",
              "      <th>27</th>\n",
              "      <td>A24QFSUU00IZ05</td>\n",
              "      <td>0528881469</td>\n",
              "      <td>2.0</td>\n",
              "    </tr>\n",
              "    <tr>\n",
              "      <th>28</th>\n",
              "      <td>A1NG5X8VYZWX0Q</td>\n",
              "      <td>0528881469</td>\n",
              "      <td>1.0</td>\n",
              "    </tr>\n",
              "    <tr>\n",
              "      <th>29</th>\n",
              "      <td>A1E4WG8HRWWK4R</td>\n",
              "      <td>0528881469</td>\n",
              "      <td>5.0</td>\n",
              "    </tr>\n",
              "    <tr>\n",
              "      <th>...</th>\n",
              "      <td>...</td>\n",
              "      <td>...</td>\n",
              "      <td>...</td>\n",
              "    </tr>\n",
              "    <tr>\n",
              "      <th>7824452</th>\n",
              "      <td>A3AENU8Y9HLRAQ</td>\n",
              "      <td>B00LMOH8DU</td>\n",
              "      <td>5.0</td>\n",
              "    </tr>\n",
              "    <tr>\n",
              "      <th>7824453</th>\n",
              "      <td>ABX8TXRB2GSKO</td>\n",
              "      <td>B00LMOH8DU</td>\n",
              "      <td>5.0</td>\n",
              "    </tr>\n",
              "    <tr>\n",
              "      <th>7824454</th>\n",
              "      <td>A1QUWXCBPGCQMW</td>\n",
              "      <td>B00LMOH8DU</td>\n",
              "      <td>5.0</td>\n",
              "    </tr>\n",
              "    <tr>\n",
              "      <th>7824455</th>\n",
              "      <td>A37B1XSZUYNSNK</td>\n",
              "      <td>B00LMOH8DU</td>\n",
              "      <td>5.0</td>\n",
              "    </tr>\n",
              "    <tr>\n",
              "      <th>7824456</th>\n",
              "      <td>A3FOXB6244Y5PC</td>\n",
              "      <td>B00LNUH5X6</td>\n",
              "      <td>5.0</td>\n",
              "    </tr>\n",
              "    <tr>\n",
              "      <th>7824457</th>\n",
              "      <td>AELQMX8YAEEYI</td>\n",
              "      <td>B00LOLBBQQ</td>\n",
              "      <td>5.0</td>\n",
              "    </tr>\n",
              "    <tr>\n",
              "      <th>7824458</th>\n",
              "      <td>AG1NNE1V43RWC</td>\n",
              "      <td>B00LOLBBQQ</td>\n",
              "      <td>1.0</td>\n",
              "    </tr>\n",
              "    <tr>\n",
              "      <th>7824459</th>\n",
              "      <td>A2QW4HHHC6XWH4</td>\n",
              "      <td>B00LPQRT34</td>\n",
              "      <td>4.0</td>\n",
              "    </tr>\n",
              "    <tr>\n",
              "      <th>7824460</th>\n",
              "      <td>A2025SOZT6OE6D</td>\n",
              "      <td>B00LS5WBYE</td>\n",
              "      <td>5.0</td>\n",
              "    </tr>\n",
              "    <tr>\n",
              "      <th>7824461</th>\n",
              "      <td>A2DOJYSPCLCQIT</td>\n",
              "      <td>B00LTAUTHE</td>\n",
              "      <td>5.0</td>\n",
              "    </tr>\n",
              "    <tr>\n",
              "      <th>7824462</th>\n",
              "      <td>A1PB6OT0OOPKNQ</td>\n",
              "      <td>B00LXEC8CU</td>\n",
              "      <td>5.0</td>\n",
              "    </tr>\n",
              "    <tr>\n",
              "      <th>7824463</th>\n",
              "      <td>A1MTPZKAYVSES3</td>\n",
              "      <td>BT008G3W52</td>\n",
              "      <td>5.0</td>\n",
              "    </tr>\n",
              "    <tr>\n",
              "      <th>7824464</th>\n",
              "      <td>AS7WVL4JGN1FI</td>\n",
              "      <td>BT008SXQ4C</td>\n",
              "      <td>1.0</td>\n",
              "    </tr>\n",
              "    <tr>\n",
              "      <th>7824465</th>\n",
              "      <td>A3GGII8ILEUI4P</td>\n",
              "      <td>BT008T2BGK</td>\n",
              "      <td>5.0</td>\n",
              "    </tr>\n",
              "    <tr>\n",
              "      <th>7824466</th>\n",
              "      <td>ATK4Q037EM13F</td>\n",
              "      <td>BT008UKTMW</td>\n",
              "      <td>4.0</td>\n",
              "    </tr>\n",
              "    <tr>\n",
              "      <th>7824467</th>\n",
              "      <td>AT10LK8R9MLHT</td>\n",
              "      <td>BT008UKTMW</td>\n",
              "      <td>3.0</td>\n",
              "    </tr>\n",
              "    <tr>\n",
              "      <th>7824468</th>\n",
              "      <td>AKVMJCP7T93X1</td>\n",
              "      <td>BT008UKTMW</td>\n",
              "      <td>5.0</td>\n",
              "    </tr>\n",
              "    <tr>\n",
              "      <th>7824469</th>\n",
              "      <td>A2H4BLBXDNSZ2O</td>\n",
              "      <td>BT008UKTMW</td>\n",
              "      <td>4.0</td>\n",
              "    </tr>\n",
              "    <tr>\n",
              "      <th>7824470</th>\n",
              "      <td>A2DARIL2TWUOLS</td>\n",
              "      <td>BT008UKTMW</td>\n",
              "      <td>2.0</td>\n",
              "    </tr>\n",
              "    <tr>\n",
              "      <th>7824471</th>\n",
              "      <td>A7ETK9SC1HAMP</td>\n",
              "      <td>BT008UKTMW</td>\n",
              "      <td>5.0</td>\n",
              "    </tr>\n",
              "    <tr>\n",
              "      <th>7824472</th>\n",
              "      <td>A5FUA9HEV2O42</td>\n",
              "      <td>BT008UKTMW</td>\n",
              "      <td>5.0</td>\n",
              "    </tr>\n",
              "    <tr>\n",
              "      <th>7824473</th>\n",
              "      <td>A84WRQR47OOKR</td>\n",
              "      <td>BT008UKTMW</td>\n",
              "      <td>1.0</td>\n",
              "    </tr>\n",
              "    <tr>\n",
              "      <th>7824474</th>\n",
              "      <td>A180UGKKYCPDH0</td>\n",
              "      <td>BT008UKTMW</td>\n",
              "      <td>5.0</td>\n",
              "    </tr>\n",
              "    <tr>\n",
              "      <th>7824475</th>\n",
              "      <td>A2R6Q6KJCYSVH7</td>\n",
              "      <td>BT008UKTMW</td>\n",
              "      <td>3.0</td>\n",
              "    </tr>\n",
              "    <tr>\n",
              "      <th>7824476</th>\n",
              "      <td>A2IGIIABRZ5LAB</td>\n",
              "      <td>BT008UKTMW</td>\n",
              "      <td>5.0</td>\n",
              "    </tr>\n",
              "    <tr>\n",
              "      <th>7824477</th>\n",
              "      <td>A2YZI3C9MOHC0L</td>\n",
              "      <td>BT008UKTMW</td>\n",
              "      <td>5.0</td>\n",
              "    </tr>\n",
              "    <tr>\n",
              "      <th>7824478</th>\n",
              "      <td>A322MDK0M89RHN</td>\n",
              "      <td>BT008UKTMW</td>\n",
              "      <td>5.0</td>\n",
              "    </tr>\n",
              "    <tr>\n",
              "      <th>7824479</th>\n",
              "      <td>A1MH90R0ADMIK0</td>\n",
              "      <td>BT008UKTMW</td>\n",
              "      <td>4.0</td>\n",
              "    </tr>\n",
              "    <tr>\n",
              "      <th>7824480</th>\n",
              "      <td>A10M2KEFPEQDHN</td>\n",
              "      <td>BT008UKTMW</td>\n",
              "      <td>4.0</td>\n",
              "    </tr>\n",
              "    <tr>\n",
              "      <th>7824481</th>\n",
              "      <td>A2G81TMIOIDEQQ</td>\n",
              "      <td>BT008V9J9U</td>\n",
              "      <td>5.0</td>\n",
              "    </tr>\n",
              "  </tbody>\n",
              "</table>\n",
              "<p>7824482 rows × 3 columns</p>\n",
              "</div>"
            ],
            "text/plain": [
              "                 Userid   Productid  Rating\n",
              "0         AKM1MP6P0OYPR  0132793040     5.0\n",
              "1        A2CX7LUOHB2NDG  0321732944     5.0\n",
              "2        A2NWSAGRHCP8N5  0439886341     1.0\n",
              "3        A2WNBOD3WNDNKT  0439886341     3.0\n",
              "4        A1GI0U4ZRJA8WN  0439886341     1.0\n",
              "5        A1QGNMC6O1VW39  0511189877     5.0\n",
              "6        A3J3BRHTDRFJ2G  0511189877     2.0\n",
              "7        A2TY0BTJOTENPG  0511189877     5.0\n",
              "8        A34ATBPOK6HCHY  0511189877     5.0\n",
              "9         A89DO69P0XZ27  0511189877     5.0\n",
              "10        AZYNQZ94U6VDB  0511189877     5.0\n",
              "11       A1DA3W4GTFXP6O  0528881469     5.0\n",
              "12       A29LPQQDG7LD5J  0528881469     1.0\n",
              "13        AO94DHGC771SJ  0528881469     5.0\n",
              "14        AMO214LNFCEI4  0528881469     1.0\n",
              "15       A28B1G1MSJ6OO1  0528881469     4.0\n",
              "16       A3N7T0DY83Y4IG  0528881469     3.0\n",
              "17       A1H8PY3QHMQQA0  0528881469     2.0\n",
              "18        A2CPBQ5W4OGBX  0528881469     2.0\n",
              "19       A265MKAR2WEH3Y  0528881469     4.0\n",
              "20       A37K02NKUIT68K  0528881469     5.0\n",
              "21       A2AW1SSVUIYV9Y  0528881469     4.0\n",
              "22       A2AEHUKOV014BP  0528881469     5.0\n",
              "23        AMLFNXUIEMN4T  0528881469     1.0\n",
              "24       A2O8FIJR9EBU56  0528881469     4.0\n",
              "25       A3IQGFB959IR4P  0528881469     1.0\n",
              "26        AYTBGUX49LF3W  0528881469     4.0\n",
              "27       A24QFSUU00IZ05  0528881469     2.0\n",
              "28       A1NG5X8VYZWX0Q  0528881469     1.0\n",
              "29       A1E4WG8HRWWK4R  0528881469     5.0\n",
              "...                 ...         ...     ...\n",
              "7824452  A3AENU8Y9HLRAQ  B00LMOH8DU     5.0\n",
              "7824453   ABX8TXRB2GSKO  B00LMOH8DU     5.0\n",
              "7824454  A1QUWXCBPGCQMW  B00LMOH8DU     5.0\n",
              "7824455  A37B1XSZUYNSNK  B00LMOH8DU     5.0\n",
              "7824456  A3FOXB6244Y5PC  B00LNUH5X6     5.0\n",
              "7824457   AELQMX8YAEEYI  B00LOLBBQQ     5.0\n",
              "7824458   AG1NNE1V43RWC  B00LOLBBQQ     1.0\n",
              "7824459  A2QW4HHHC6XWH4  B00LPQRT34     4.0\n",
              "7824460  A2025SOZT6OE6D  B00LS5WBYE     5.0\n",
              "7824461  A2DOJYSPCLCQIT  B00LTAUTHE     5.0\n",
              "7824462  A1PB6OT0OOPKNQ  B00LXEC8CU     5.0\n",
              "7824463  A1MTPZKAYVSES3  BT008G3W52     5.0\n",
              "7824464   AS7WVL4JGN1FI  BT008SXQ4C     1.0\n",
              "7824465  A3GGII8ILEUI4P  BT008T2BGK     5.0\n",
              "7824466   ATK4Q037EM13F  BT008UKTMW     4.0\n",
              "7824467   AT10LK8R9MLHT  BT008UKTMW     3.0\n",
              "7824468   AKVMJCP7T93X1  BT008UKTMW     5.0\n",
              "7824469  A2H4BLBXDNSZ2O  BT008UKTMW     4.0\n",
              "7824470  A2DARIL2TWUOLS  BT008UKTMW     2.0\n",
              "7824471   A7ETK9SC1HAMP  BT008UKTMW     5.0\n",
              "7824472   A5FUA9HEV2O42  BT008UKTMW     5.0\n",
              "7824473   A84WRQR47OOKR  BT008UKTMW     1.0\n",
              "7824474  A180UGKKYCPDH0  BT008UKTMW     5.0\n",
              "7824475  A2R6Q6KJCYSVH7  BT008UKTMW     3.0\n",
              "7824476  A2IGIIABRZ5LAB  BT008UKTMW     5.0\n",
              "7824477  A2YZI3C9MOHC0L  BT008UKTMW     5.0\n",
              "7824478  A322MDK0M89RHN  BT008UKTMW     5.0\n",
              "7824479  A1MH90R0ADMIK0  BT008UKTMW     4.0\n",
              "7824480  A10M2KEFPEQDHN  BT008UKTMW     4.0\n",
              "7824481  A2G81TMIOIDEQQ  BT008V9J9U     5.0\n",
              "\n",
              "[7824482 rows x 3 columns]"
            ]
          },
          "metadata": {
            "tags": []
          },
          "execution_count": 3
        }
      ]
    },
    {
      "cell_type": "code",
      "metadata": {
        "id": "noGETviE9Ew2",
        "colab_type": "code",
        "outputId": "e20c529d-30ab-4c2d-bde9-a4ba20c6f4a1",
        "colab": {
          "base_uri": "https://localhost:8080/",
          "height": 153
        }
      },
      "source": [
        "ratings.info()\n"
      ],
      "execution_count": 4,
      "outputs": [
        {
          "output_type": "stream",
          "text": [
            "<class 'pandas.core.frame.DataFrame'>\n",
            "RangeIndex: 7824482 entries, 0 to 7824481\n",
            "Data columns (total 3 columns):\n",
            "Userid       object\n",
            "Productid    object\n",
            "Rating       float64\n",
            "dtypes: float64(1), object(2)\n",
            "memory usage: 179.1+ MB\n"
          ],
          "name": "stdout"
        }
      ]
    },
    {
      "cell_type": "code",
      "metadata": {
        "id": "gesxUEgwY8VH",
        "colab_type": "code",
        "colab": {}
      },
      "source": [
        "#ratings = ratings.sample(782448) # Pulling subset of 10% of data *Tried the 10% from initial data, again kernal is crashed.*"
      ],
      "execution_count": 0,
      "outputs": []
    },
    {
      "cell_type": "code",
      "metadata": {
        "id": "PFbUu4Lf8LEq",
        "colab_type": "code",
        "outputId": "7485c35c-5680-4ff4-98e3-ecb52c3856c6",
        "colab": {
          "base_uri": "https://localhost:8080/",
          "height": 641
        }
      },
      "source": [
        "ratings.hist(figsize=(10,10), column = ratings.columns)"
      ],
      "execution_count": 6,
      "outputs": [
        {
          "output_type": "execute_result",
          "data": {
            "text/plain": [
              "array([[<matplotlib.axes._subplots.AxesSubplot object at 0x7f710bf724a8>]],\n",
              "      dtype=object)"
            ]
          },
          "metadata": {
            "tags": []
          },
          "execution_count": 6
        },
        {
          "output_type": "display_data",
          "data": {
            "image/png": "[encoded data removed]",
            "text/plain": [
              "<Figure size 720x720 with 1 Axes>"
            ]
          },
          "metadata": {
            "tags": []
          }
        }
      ]
    },
    {
      "cell_type": "code",
      "metadata": {
        "id": "X3oCV7WsOq5U",
        "colab_type": "code",
        "outputId": "81a3ecef-37d1-49fa-da0d-e4a6465c6262",
        "colab": {
          "base_uri": "https://localhost:8080/",
          "height": 34
        }
      },
      "source": [
        "#ratings.loc[:, ratings.isna().any()]\n",
        "ratings.columns[ratings.isna().any()].tolist()"
      ],
      "execution_count": 7,
      "outputs": [
        {
          "output_type": "execute_result",
          "data": {
            "text/plain": [
              "[]"
            ]
          },
          "metadata": {
            "tags": []
          },
          "execution_count": 7
        }
      ]
    },
    {
      "cell_type": "code",
      "metadata": {
        "id": "BlMVi6mPQzdO",
        "colab_type": "code",
        "outputId": "d887e417-7bd3-4963-8bb8-780a7d5c7e34",
        "colab": {
          "base_uri": "https://localhost:8080/",
          "height": 34
        }
      },
      "source": [
        "ratings.columns[ratings.isnull().any()].tolist()"
      ],
      "execution_count": 8,
      "outputs": [
        {
          "output_type": "execute_result",
          "data": {
            "text/plain": [
              "[]"
            ]
          },
          "metadata": {
            "tags": []
          },
          "execution_count": 8
        }
      ]
    },
    {
      "cell_type": "code",
      "metadata": {
        "id": "SHO-V5lU4tan",
        "colab_type": "code",
        "outputId": "2a62ed17-5236-4b56-d4f5-cea650b679c8",
        "colab": {
          "base_uri": "https://localhost:8080/",
          "height": 77
        }
      },
      "source": [
        "ratings.describe().T"
      ],
      "execution_count": 9,
      "outputs": [
        {
          "output_type": "execute_result",
          "data": {
            "text/html": [
              "<div>\n",
              "<style scoped>\n",
              "    .dataframe tbody tr th:only-of-type {\n",
              "        vertical-align: middle;\n",
              "    }\n",
              "\n",
              "    .dataframe tbody tr th {\n",
              "        vertical-align: top;\n",
              "    }\n",
              "\n",
              "    .dataframe thead th {\n",
              "        text-align: right;\n",
              "    }\n",
              "</style>\n",
              "<table border=\"1\" class=\"dataframe\">\n",
              "  <thead>\n",
              "    <tr style=\"text-align: right;\">\n",
              "      <th></th>\n",
              "      <th>count</th>\n",
              "      <th>mean</th>\n",
              "      <th>std</th>\n",
              "      <th>min</th>\n",
              "      <th>25%</th>\n",
              "      <th>50%</th>\n",
              "      <th>75%</th>\n",
              "      <th>max</th>\n",
              "    </tr>\n",
              "  </thead>\n",
              "  <tbody>\n",
              "    <tr>\n",
              "      <th>Rating</th>\n",
              "      <td>7824482.0</td>\n",
              "      <td>4.012337</td>\n",
              "      <td>1.38091</td>\n",
              "      <td>1.0</td>\n",
              "      <td>3.0</td>\n",
              "      <td>5.0</td>\n",
              "      <td>5.0</td>\n",
              "      <td>5.0</td>\n",
              "    </tr>\n",
              "  </tbody>\n",
              "</table>\n",
              "</div>"
            ],
            "text/plain": [
              "            count      mean      std  min  25%  50%  75%  max\n",
              "Rating  7824482.0  4.012337  1.38091  1.0  3.0  5.0  5.0  5.0"
            ]
          },
          "metadata": {
            "tags": []
          },
          "execution_count": 9
        }
      ]
    },
    {
      "cell_type": "markdown",
      "metadata": {
        "id": "CGuDpT2qO1Sr",
        "colab_type": "text"
      },
      "source": [
        "**Inference:**\n",
        "\n",
        "        There is no null values in given data set.\n",
        "        \n",
        "        Most of the ratings are rating 5. \n",
        "        \n",
        "        The mean for rating is 4.0\n",
        "        \n",
        "        Timestamp is not dropped as it will be useful to find the new product in popularity base recommendation, since it was asked to get the top 5 recommeneded **new** products"
      ]
    },
    {
      "cell_type": "markdown",
      "metadata": {
        "id": "nwxxlMbA9yhF",
        "colab_type": "text"
      },
      "source": [
        "### 2.\tTake a subset of the dataset to make it less sparse/ denser. ( For example, keep the users only who has given 50 or more number of ratings )"
      ]
    },
    {
      "cell_type": "code",
      "metadata": {
        "id": "IK66fhmDwNFM",
        "colab_type": "code",
        "colab": {}
      },
      "source": [
        "df = ratings.groupby(by='Userid', as_index=False)['Rating'].agg(('count'))"
      ],
      "execution_count": 0,
      "outputs": []
    },
    {
      "cell_type": "code",
      "metadata": {
        "id": "rCTMuDq1Lb2_",
        "colab_type": "code",
        "colab": {
          "base_uri": "https://localhost:8080/",
          "height": 1000
        },
        "outputId": "21de6ddc-4699-41d8-8dea-87774b2b7e32"
      },
      "source": [
        "df = df.sort_values(by='Rating', ascending=False)\n",
        "df = df[df['Rating'] > 50] # taking only users only who have provided above 50 ratings count.\n",
        "df"
      ],
      "execution_count": 11,
      "outputs": [
        {
          "output_type": "execute_result",
          "data": {
            "text/html": [
              "<div>\n",
              "<style scoped>\n",
              "    .dataframe tbody tr th:only-of-type {\n",
              "        vertical-align: middle;\n",
              "    }\n",
              "\n",
              "    .dataframe tbody tr th {\n",
              "        vertical-align: top;\n",
              "    }\n",
              "\n",
              "    .dataframe thead th {\n",
              "        text-align: right;\n",
              "    }\n",
              "</style>\n",
              "<table border=\"1\" class=\"dataframe\">\n",
              "  <thead>\n",
              "    <tr style=\"text-align: right;\">\n",
              "      <th></th>\n",
              "      <th>Userid</th>\n",
              "      <th>Rating</th>\n",
              "    </tr>\n",
              "  </thead>\n",
              "  <tbody>\n",
              "    <tr>\n",
              "      <th>3263531</th>\n",
              "      <td>A5JLAU2ARJ0BO</td>\n",
              "      <td>520</td>\n",
              "    </tr>\n",
              "    <tr>\n",
              "      <th>3512451</th>\n",
              "      <td>ADLVFFE4VBT8</td>\n",
              "      <td>501</td>\n",
              "    </tr>\n",
              "    <tr>\n",
              "      <th>2989526</th>\n",
              "      <td>A3OXHLG6DIBRW8</td>\n",
              "      <td>498</td>\n",
              "    </tr>\n",
              "    <tr>\n",
              "      <th>3291008</th>\n",
              "      <td>A6FIAB28IS79</td>\n",
              "      <td>431</td>\n",
              "    </tr>\n",
              "    <tr>\n",
              "      <th>3284634</th>\n",
              "      <td>A680RUE1FDO8B</td>\n",
              "      <td>406</td>\n",
              "    </tr>\n",
              "    <tr>\n",
              "      <th>755206</th>\n",
              "      <td>A1ODOGXEYECQQ8</td>\n",
              "      <td>380</td>\n",
              "    </tr>\n",
              "    <tr>\n",
              "      <th>2424036</th>\n",
              "      <td>A36K2N527TXXJN</td>\n",
              "      <td>314</td>\n",
              "    </tr>\n",
              "    <tr>\n",
              "      <th>1451394</th>\n",
              "      <td>A2AY4YUOX2N1BQ</td>\n",
              "      <td>311</td>\n",
              "    </tr>\n",
              "    <tr>\n",
              "      <th>4100926</th>\n",
              "      <td>AWPODHOB4GFWL</td>\n",
              "      <td>308</td>\n",
              "    </tr>\n",
              "    <tr>\n",
              "      <th>1277963</th>\n",
              "      <td>A25C2M3QF9G7OQ</td>\n",
              "      <td>296</td>\n",
              "    </tr>\n",
              "    <tr>\n",
              "      <th>3935038</th>\n",
              "      <td>ARBKYIVNYWK3C</td>\n",
              "      <td>296</td>\n",
              "    </tr>\n",
              "    <tr>\n",
              "      <th>1186114</th>\n",
              "      <td>A22CW0ZHY3NJH8</td>\n",
              "      <td>292</td>\n",
              "    </tr>\n",
              "    <tr>\n",
              "      <th>2682865</th>\n",
              "      <td>A3EXWV8FNSSFL6</td>\n",
              "      <td>282</td>\n",
              "    </tr>\n",
              "    <tr>\n",
              "      <th>2492518</th>\n",
              "      <td>A38RMU1Y5TDP9</td>\n",
              "      <td>282</td>\n",
              "    </tr>\n",
              "    <tr>\n",
              "      <th>2883459</th>\n",
              "      <td>A3LGT6UZL99IW1</td>\n",
              "      <td>279</td>\n",
              "    </tr>\n",
              "    <tr>\n",
              "      <th>1843984</th>\n",
              "      <td>A2NOW4U7W3F7RI</td>\n",
              "      <td>277</td>\n",
              "    </tr>\n",
              "    <tr>\n",
              "      <th>1220074</th>\n",
              "      <td>A23GFTVIETX7DS</td>\n",
              "      <td>270</td>\n",
              "    </tr>\n",
              "    <tr>\n",
              "      <th>3003145</th>\n",
              "      <td>A3PD8JD9L4WEII</td>\n",
              "      <td>266</td>\n",
              "    </tr>\n",
              "    <tr>\n",
              "      <th>229970</th>\n",
              "      <td>A17BUUBOU0598B</td>\n",
              "      <td>261</td>\n",
              "    </tr>\n",
              "    <tr>\n",
              "      <th>2560612</th>\n",
              "      <td>A3AYSYSLHU26U9</td>\n",
              "      <td>257</td>\n",
              "    </tr>\n",
              "    <tr>\n",
              "      <th>2153482</th>\n",
              "      <td>A2XRMQA6PJ5ZJ8</td>\n",
              "      <td>253</td>\n",
              "    </tr>\n",
              "    <tr>\n",
              "      <th>77779</th>\n",
              "      <td>A12DQZKRKTNF5E</td>\n",
              "      <td>252</td>\n",
              "    </tr>\n",
              "    <tr>\n",
              "      <th>1207517</th>\n",
              "      <td>A231WM2Z2JL0U3</td>\n",
              "      <td>252</td>\n",
              "    </tr>\n",
              "    <tr>\n",
              "      <th>950704</th>\n",
              "      <td>A1UQBFCERIP7VJ</td>\n",
              "      <td>247</td>\n",
              "    </tr>\n",
              "    <tr>\n",
              "      <th>3613568</th>\n",
              "      <td>AGVWTYW0ULXHT</td>\n",
              "      <td>244</td>\n",
              "    </tr>\n",
              "    <tr>\n",
              "      <th>1116329</th>\n",
              "      <td>A203OCQQ12MAVT</td>\n",
              "      <td>240</td>\n",
              "    </tr>\n",
              "    <tr>\n",
              "      <th>3541102</th>\n",
              "      <td>AEJAGHLC675A7</td>\n",
              "      <td>239</td>\n",
              "    </tr>\n",
              "    <tr>\n",
              "      <th>1852294</th>\n",
              "      <td>A2NYK9KWFMJV4Y</td>\n",
              "      <td>238</td>\n",
              "    </tr>\n",
              "    <tr>\n",
              "      <th>2534992</th>\n",
              "      <td>A3A4ZAIBQWKOZS</td>\n",
              "      <td>236</td>\n",
              "    </tr>\n",
              "    <tr>\n",
              "      <th>2272686</th>\n",
              "      <td>A31N0XY2UTB25C</td>\n",
              "      <td>227</td>\n",
              "    </tr>\n",
              "    <tr>\n",
              "      <th>...</th>\n",
              "      <td>...</td>\n",
              "      <td>...</td>\n",
              "    </tr>\n",
              "    <tr>\n",
              "      <th>2292906</th>\n",
              "      <td>A32AK8FOAZEPE2</td>\n",
              "      <td>51</td>\n",
              "    </tr>\n",
              "    <tr>\n",
              "      <th>1364590</th>\n",
              "      <td>A2858RV2VLI14X</td>\n",
              "      <td>51</td>\n",
              "    </tr>\n",
              "    <tr>\n",
              "      <th>4098887</th>\n",
              "      <td>AWNBZSEZ9P8BE</td>\n",
              "      <td>51</td>\n",
              "    </tr>\n",
              "    <tr>\n",
              "      <th>2107708</th>\n",
              "      <td>A2WA8TDCTGUADI</td>\n",
              "      <td>51</td>\n",
              "    </tr>\n",
              "    <tr>\n",
              "      <th>557001</th>\n",
              "      <td>A1HYH206E18XVC</td>\n",
              "      <td>51</td>\n",
              "    </tr>\n",
              "    <tr>\n",
              "      <th>84384</th>\n",
              "      <td>A12LH2100CKQO</td>\n",
              "      <td>51</td>\n",
              "    </tr>\n",
              "    <tr>\n",
              "      <th>2022186</th>\n",
              "      <td>A2THQCHKR89E16</td>\n",
              "      <td>51</td>\n",
              "    </tr>\n",
              "    <tr>\n",
              "      <th>2965656</th>\n",
              "      <td>A3O5ASFUXC32UA</td>\n",
              "      <td>51</td>\n",
              "    </tr>\n",
              "    <tr>\n",
              "      <th>3971018</th>\n",
              "      <td>ASHJAZC9OA9NS</td>\n",
              "      <td>51</td>\n",
              "    </tr>\n",
              "    <tr>\n",
              "      <th>268619</th>\n",
              "      <td>A18L9A64XNGVGU</td>\n",
              "      <td>51</td>\n",
              "    </tr>\n",
              "    <tr>\n",
              "      <th>2153387</th>\n",
              "      <td>A2XRIU3SOYZ0ZC</td>\n",
              "      <td>51</td>\n",
              "    </tr>\n",
              "    <tr>\n",
              "      <th>2577179</th>\n",
              "      <td>A3BI8BKIHESDNQ</td>\n",
              "      <td>51</td>\n",
              "    </tr>\n",
              "    <tr>\n",
              "      <th>2255890</th>\n",
              "      <td>A313H6238N589</td>\n",
              "      <td>51</td>\n",
              "    </tr>\n",
              "    <tr>\n",
              "      <th>2545231</th>\n",
              "      <td>A3AGQAXTX6VRJ3</td>\n",
              "      <td>51</td>\n",
              "    </tr>\n",
              "    <tr>\n",
              "      <th>3253279</th>\n",
              "      <td>A57Q87B0TC9IJ</td>\n",
              "      <td>51</td>\n",
              "    </tr>\n",
              "    <tr>\n",
              "      <th>2291090</th>\n",
              "      <td>A328GLDSDNFYII</td>\n",
              "      <td>51</td>\n",
              "    </tr>\n",
              "    <tr>\n",
              "      <th>3345389</th>\n",
              "      <td>A87CILADRIZW0</td>\n",
              "      <td>51</td>\n",
              "    </tr>\n",
              "    <tr>\n",
              "      <th>977151</th>\n",
              "      <td>A1VLE2SH9J8WYS</td>\n",
              "      <td>51</td>\n",
              "    </tr>\n",
              "    <tr>\n",
              "      <th>3508439</th>\n",
              "      <td>ADHA1W879JNT0</td>\n",
              "      <td>51</td>\n",
              "    </tr>\n",
              "    <tr>\n",
              "      <th>1515187</th>\n",
              "      <td>A2D0CO1OA6DSWY</td>\n",
              "      <td>51</td>\n",
              "    </tr>\n",
              "    <tr>\n",
              "      <th>4100901</th>\n",
              "      <td>AWPN47SSWK1JV</td>\n",
              "      <td>51</td>\n",
              "    </tr>\n",
              "    <tr>\n",
              "      <th>3451582</th>\n",
              "      <td>ABMNX856X89CS</td>\n",
              "      <td>51</td>\n",
              "    </tr>\n",
              "    <tr>\n",
              "      <th>330073</th>\n",
              "      <td>A1AKW788238PWQ</td>\n",
              "      <td>51</td>\n",
              "    </tr>\n",
              "    <tr>\n",
              "      <th>3540275</th>\n",
              "      <td>AEIB3UR05OP7A</td>\n",
              "      <td>51</td>\n",
              "    </tr>\n",
              "    <tr>\n",
              "      <th>342573</th>\n",
              "      <td>A1AZQCVCDBQP6</td>\n",
              "      <td>51</td>\n",
              "    </tr>\n",
              "    <tr>\n",
              "      <th>3803859</th>\n",
              "      <td>AN2IZT80ZUNJN</td>\n",
              "      <td>51</td>\n",
              "    </tr>\n",
              "    <tr>\n",
              "      <th>270420</th>\n",
              "      <td>A18NDN2CIG2TKR</td>\n",
              "      <td>51</td>\n",
              "    </tr>\n",
              "    <tr>\n",
              "      <th>2215078</th>\n",
              "      <td>A2ZRMCRLDSUX6R</td>\n",
              "      <td>51</td>\n",
              "    </tr>\n",
              "    <tr>\n",
              "      <th>3969006</th>\n",
              "      <td>ASF3J4UYV34KA</td>\n",
              "      <td>51</td>\n",
              "    </tr>\n",
              "    <tr>\n",
              "      <th>3484456</th>\n",
              "      <td>ACP9S40H3SHY1</td>\n",
              "      <td>51</td>\n",
              "    </tr>\n",
              "  </tbody>\n",
              "</table>\n",
              "<p>1466 rows × 2 columns</p>\n",
              "</div>"
            ],
            "text/plain": [
              "                 Userid  Rating\n",
              "3263531   A5JLAU2ARJ0BO     520\n",
              "3512451    ADLVFFE4VBT8     501\n",
              "2989526  A3OXHLG6DIBRW8     498\n",
              "3291008    A6FIAB28IS79     431\n",
              "3284634   A680RUE1FDO8B     406\n",
              "755206   A1ODOGXEYECQQ8     380\n",
              "2424036  A36K2N527TXXJN     314\n",
              "1451394  A2AY4YUOX2N1BQ     311\n",
              "4100926   AWPODHOB4GFWL     308\n",
              "1277963  A25C2M3QF9G7OQ     296\n",
              "3935038   ARBKYIVNYWK3C     296\n",
              "1186114  A22CW0ZHY3NJH8     292\n",
              "2682865  A3EXWV8FNSSFL6     282\n",
              "2492518   A38RMU1Y5TDP9     282\n",
              "2883459  A3LGT6UZL99IW1     279\n",
              "1843984  A2NOW4U7W3F7RI     277\n",
              "1220074  A23GFTVIETX7DS     270\n",
              "3003145  A3PD8JD9L4WEII     266\n",
              "229970   A17BUUBOU0598B     261\n",
              "2560612  A3AYSYSLHU26U9     257\n",
              "2153482  A2XRMQA6PJ5ZJ8     253\n",
              "77779    A12DQZKRKTNF5E     252\n",
              "1207517  A231WM2Z2JL0U3     252\n",
              "950704   A1UQBFCERIP7VJ     247\n",
              "3613568   AGVWTYW0ULXHT     244\n",
              "1116329  A203OCQQ12MAVT     240\n",
              "3541102   AEJAGHLC675A7     239\n",
              "1852294  A2NYK9KWFMJV4Y     238\n",
              "2534992  A3A4ZAIBQWKOZS     236\n",
              "2272686  A31N0XY2UTB25C     227\n",
              "...                 ...     ...\n",
              "2292906  A32AK8FOAZEPE2      51\n",
              "1364590  A2858RV2VLI14X      51\n",
              "4098887   AWNBZSEZ9P8BE      51\n",
              "2107708  A2WA8TDCTGUADI      51\n",
              "557001   A1HYH206E18XVC      51\n",
              "84384     A12LH2100CKQO      51\n",
              "2022186  A2THQCHKR89E16      51\n",
              "2965656  A3O5ASFUXC32UA      51\n",
              "3971018   ASHJAZC9OA9NS      51\n",
              "268619   A18L9A64XNGVGU      51\n",
              "2153387  A2XRIU3SOYZ0ZC      51\n",
              "2577179  A3BI8BKIHESDNQ      51\n",
              "2255890   A313H6238N589      51\n",
              "2545231  A3AGQAXTX6VRJ3      51\n",
              "3253279   A57Q87B0TC9IJ      51\n",
              "2291090  A328GLDSDNFYII      51\n",
              "3345389   A87CILADRIZW0      51\n",
              "977151   A1VLE2SH9J8WYS      51\n",
              "3508439   ADHA1W879JNT0      51\n",
              "1515187  A2D0CO1OA6DSWY      51\n",
              "4100901   AWPN47SSWK1JV      51\n",
              "3451582   ABMNX856X89CS      51\n",
              "330073   A1AKW788238PWQ      51\n",
              "3540275   AEIB3UR05OP7A      51\n",
              "342573    A1AZQCVCDBQP6      51\n",
              "3803859   AN2IZT80ZUNJN      51\n",
              "270420   A18NDN2CIG2TKR      51\n",
              "2215078  A2ZRMCRLDSUX6R      51\n",
              "3969006   ASF3J4UYV34KA      51\n",
              "3484456   ACP9S40H3SHY1      51\n",
              "\n",
              "[1466 rows x 2 columns]"
            ]
          },
          "metadata": {
            "tags": []
          },
          "execution_count": 11
        }
      ]
    },
    {
      "cell_type": "code",
      "metadata": {
        "id": "ont9TV8P4ITD",
        "colab_type": "code",
        "colab": {}
      },
      "source": [
        "ratings_filtered = ratings[ratings['Userid'].isin(df[\"Userid\"])] # taking only users only who have provided above 50 ratings."
      ],
      "execution_count": 0,
      "outputs": []
    },
    {
      "cell_type": "code",
      "metadata": {
        "id": "Iia5QhBE_gqv",
        "colab_type": "code",
        "outputId": "ead05ef4-30b5-4223-e22c-c4139b302ee9",
        "colab": {
          "base_uri": "https://localhost:8080/",
          "height": 153
        }
      },
      "source": [
        "ratings_filtered.info()"
      ],
      "execution_count": 13,
      "outputs": [
        {
          "output_type": "stream",
          "text": [
            "<class 'pandas.core.frame.DataFrame'>\n",
            "Int64Index: 122171 entries, 118 to 7824444\n",
            "Data columns (total 3 columns):\n",
            "Userid       122171 non-null object\n",
            "Productid    122171 non-null object\n",
            "Rating       122171 non-null float64\n",
            "dtypes: float64(1), object(2)\n",
            "memory usage: 3.7+ MB\n"
          ],
          "name": "stdout"
        }
      ]
    },
    {
      "cell_type": "code",
      "metadata": {
        "id": "JWRRQRZm_iF8",
        "colab_type": "code",
        "outputId": "e82c3370-7691-46bc-9911-efef3f209f65",
        "colab": {
          "base_uri": "https://localhost:8080/",
          "height": 34
        }
      },
      "source": [
        "print(\"total unique users - \",len(ratings_filtered[\"Userid\"].unique()))"
      ],
      "execution_count": 14,
      "outputs": [
        {
          "output_type": "stream",
          "text": [
            "total unique users -  1466\n"
          ],
          "name": "stdout"
        }
      ]
    },
    {
      "cell_type": "code",
      "metadata": {
        "id": "VAmn1qMcELu_",
        "colab_type": "code",
        "colab": {}
      },
      "source": [
        ""
      ],
      "execution_count": 0,
      "outputs": []
    },
    {
      "cell_type": "markdown",
      "metadata": {
        "id": "entVvw5HHEOZ",
        "colab_type": "text"
      },
      "source": [
        "### 3.\tSplit the data randomly into train and test dataset"
      ]
    },
    {
      "cell_type": "code",
      "metadata": {
        "id": "kNqjVq3GIARp",
        "colab_type": "code",
        "outputId": "c3a599ef-2a33-4a95-87f4-6eb3956df035",
        "colab": {
          "base_uri": "https://localhost:8080/",
          "height": 119
        }
      },
      "source": [
        "!pip install surprise"
      ],
      "execution_count": 15,
      "outputs": [
        {
          "output_type": "stream",
          "text": [
            "Requirement already satisfied: surprise in /usr/local/lib/python3.6/dist-packages (0.1)\n",
            "Requirement already satisfied: scikit-surprise in /usr/local/lib/python3.6/dist-packages (from surprise) (1.0.6)\n",
            "Requirement already satisfied: six>=1.10.0 in /usr/local/lib/python3.6/dist-packages (from scikit-surprise->surprise) (1.12.0)\n",
            "Requirement already satisfied: scipy>=1.0.0 in /usr/local/lib/python3.6/dist-packages (from scikit-surprise->surprise) (1.3.0)\n",
            "Requirement already satisfied: joblib>=0.11 in /usr/local/lib/python3.6/dist-packages (from scikit-surprise->surprise) (0.13.2)\n",
            "Requirement already satisfied: numpy>=1.11.2 in /usr/local/lib/python3.6/dist-packages (from scikit-surprise->surprise) (1.16.4)\n"
          ],
          "name": "stdout"
        }
      ]
    },
    {
      "cell_type": "code",
      "metadata": {
        "id": "nwaIRSgMFQm4",
        "colab_type": "code",
        "colab": {}
      },
      "source": [
        "from surprise import Dataset,Reader\n",
        "reader = Reader(rating_scale=(1, 5))"
      ],
      "execution_count": 0,
      "outputs": []
    },
    {
      "cell_type": "code",
      "metadata": {
        "id": "f4--3vjuFTtD",
        "colab_type": "code",
        "colab": {}
      },
      "source": [
        "data = ratings_filtered.sample(12217) \n",
        "# There are 122171 records after taking only users who have provided above 50 rating\n",
        "# Using these 122171 records results in crashing the process, so only 10% of this data is taken for modeling\n",
        "data = Dataset.load_from_df(data[['Userid', 'Productid', 'Rating']], reader)"
      ],
      "execution_count": 0,
      "outputs": []
    },
    {
      "cell_type": "code",
      "metadata": {
        "id": "i0aIHx3IIlJ7",
        "colab_type": "code",
        "outputId": "176bc6eb-ec67-4a8e-f8f4-f67cb4946624",
        "colab": {
          "base_uri": "https://localhost:8080/",
          "height": 34
        }
      },
      "source": [
        "data"
      ],
      "execution_count": 18,
      "outputs": [
        {
          "output_type": "execute_result",
          "data": {
            "text/plain": [
              "<surprise.dataset.DatasetAutoFolds at 0x7f71081d28d0>"
            ]
          },
          "metadata": {
            "tags": []
          },
          "execution_count": 18
        }
      ]
    },
    {
      "cell_type": "code",
      "metadata": {
        "id": "FY6gtc4KIn2r",
        "colab_type": "code",
        "colab": {}
      },
      "source": [
        "# Split data to train and test\n",
        "from surprise.model_selection import train_test_split\n",
        "trainset, testset = train_test_split(data, test_size=.25,random_state=123)\n"
      ],
      "execution_count": 0,
      "outputs": []
    },
    {
      "cell_type": "code",
      "metadata": {
        "id": "w1eY3ybSIrwK",
        "colab_type": "code",
        "outputId": "1f504dbe-2f39-48bf-d98e-866d4a5a2e4e",
        "colab": {
          "base_uri": "https://localhost:8080/",
          "height": 34
        }
      },
      "source": [
        "type(trainset)"
      ],
      "execution_count": 20,
      "outputs": [
        {
          "output_type": "execute_result",
          "data": {
            "text/plain": [
              "surprise.trainset.Trainset"
            ]
          },
          "metadata": {
            "tags": []
          },
          "execution_count": 20
        }
      ]
    },
    {
      "cell_type": "code",
      "metadata": {
        "id": "qEgQu1q3IukA",
        "colab_type": "code",
        "outputId": "32ff3044-f2c1-4ea5-c9d6-ccae318d5303",
        "colab": {
          "base_uri": "https://localhost:8080/",
          "height": 34
        }
      },
      "source": [
        "user_records = trainset.ur\n",
        "type(user_records)"
      ],
      "execution_count": 21,
      "outputs": [
        {
          "output_type": "execute_result",
          "data": {
            "text/plain": [
              "collections.defaultdict"
            ]
          },
          "metadata": {
            "tags": []
          },
          "execution_count": 21
        }
      ]
    },
    {
      "cell_type": "code",
      "metadata": {
        "id": "Th37ahrII2m6",
        "colab_type": "code",
        "colab": {}
      },
      "source": [
        "#for keys in user_records.keys():\n",
        "#    print(keys)"
      ],
      "execution_count": 0,
      "outputs": []
    },
    {
      "cell_type": "code",
      "metadata": {
        "id": "Bpo_5-ZDI5s0",
        "colab_type": "code",
        "outputId": "087e47cd-8185-4950-ce18-25a4e38b60dc",
        "colab": {
          "base_uri": "https://localhost:8080/",
          "height": 136
        }
      },
      "source": [
        "user_records[1]"
      ],
      "execution_count": 23,
      "outputs": [
        {
          "output_type": "execute_result",
          "data": {
            "text/plain": [
              "[(1, 5.0),\n",
              " (372, 5.0),\n",
              " (2018, 5.0),\n",
              " (3347, 5.0),\n",
              " (4618, 5.0),\n",
              " (5992, 5.0),\n",
              " (6705, 5.0)]"
            ]
          },
          "metadata": {
            "tags": []
          },
          "execution_count": 23
        }
      ]
    },
    {
      "cell_type": "code",
      "metadata": {
        "id": "YutW7ZhSJGuE",
        "colab_type": "code",
        "outputId": "73e0562d-704b-4384-b11b-c519f3f403d6",
        "colab": {
          "base_uri": "https://localhost:8080/",
          "height": 51
        }
      },
      "source": [
        "print(trainset.to_raw_uid(0))\n",
        "print(trainset.to_raw_iid(1))"
      ],
      "execution_count": 24,
      "outputs": [
        {
          "output_type": "stream",
          "text": [
            "A3AYSYSLHU26U9\n",
            "B002FB7IWU\n"
          ],
          "name": "stdout"
        }
      ]
    },
    {
      "cell_type": "markdown",
      "metadata": {
        "id": "GOM-uQUCKt5d",
        "colab_type": "text"
      },
      "source": [
        "### 4.\tBuild Popularity Recommender model."
      ]
    },
    {
      "cell_type": "code",
      "metadata": {
        "id": "JwcWqIDAJT5S",
        "colab_type": "code",
        "outputId": "4212cf1a-7122-4d7a-c94f-80e01d3e8361",
        "colab": {
          "base_uri": "https://localhost:8080/",
          "height": 197
        }
      },
      "source": [
        "# This populariy recommended model is based on the top mean products.\n",
        "popularProducts = ratings_filtered.groupby(by='Productid')['Rating'].agg(('count', 'mean')).reset_index()\n",
        "popularProducts = popularProducts.sort_values(['count', 'mean'], ascending=False)                 \n",
        "popular5Products = popularProducts.head(5)\n",
        "popular5Products"
      ],
      "execution_count": 25,
      "outputs": [
        {
          "output_type": "execute_result",
          "data": {
            "text/html": [
              "<div>\n",
              "<style scoped>\n",
              "    .dataframe tbody tr th:only-of-type {\n",
              "        vertical-align: middle;\n",
              "    }\n",
              "\n",
              "    .dataframe tbody tr th {\n",
              "        vertical-align: top;\n",
              "    }\n",
              "\n",
              "    .dataframe thead th {\n",
              "        text-align: right;\n",
              "    }\n",
              "</style>\n",
              "<table border=\"1\" class=\"dataframe\">\n",
              "  <thead>\n",
              "    <tr style=\"text-align: right;\">\n",
              "      <th></th>\n",
              "      <th>Productid</th>\n",
              "      <th>count</th>\n",
              "      <th>mean</th>\n",
              "    </tr>\n",
              "  </thead>\n",
              "  <tbody>\n",
              "    <tr>\n",
              "      <th>38146</th>\n",
              "      <td>B0088CJT4U</td>\n",
              "      <td>204</td>\n",
              "      <td>4.215686</td>\n",
              "    </tr>\n",
              "    <tr>\n",
              "      <th>24262</th>\n",
              "      <td>B003ES5ZUU</td>\n",
              "      <td>177</td>\n",
              "      <td>4.858757</td>\n",
              "    </tr>\n",
              "    <tr>\n",
              "      <th>10820</th>\n",
              "      <td>B000N99BBC</td>\n",
              "      <td>163</td>\n",
              "      <td>4.773006</td>\n",
              "    </tr>\n",
              "    <tr>\n",
              "      <th>37407</th>\n",
              "      <td>B007WTAJTO</td>\n",
              "      <td>156</td>\n",
              "      <td>4.692308</td>\n",
              "    </tr>\n",
              "    <tr>\n",
              "      <th>37765</th>\n",
              "      <td>B00829TIEK</td>\n",
              "      <td>146</td>\n",
              "      <td>4.431507</td>\n",
              "    </tr>\n",
              "  </tbody>\n",
              "</table>\n",
              "</div>"
            ],
            "text/plain": [
              "        Productid  count      mean\n",
              "38146  B0088CJT4U    204  4.215686\n",
              "24262  B003ES5ZUU    177  4.858757\n",
              "10820  B000N99BBC    163  4.773006\n",
              "37407  B007WTAJTO    156  4.692308\n",
              "37765  B00829TIEK    146  4.431507"
            ]
          },
          "metadata": {
            "tags": []
          },
          "execution_count": 25
        }
      ]
    },
    {
      "cell_type": "code",
      "metadata": {
        "id": "fFWnj1lXK5IP",
        "colab_type": "code",
        "colab": {}
      },
      "source": [
        "popularProducts = ratings_filtered[ratings_filtered['Productid'].isin(popular5Products['Productid'])]"
      ],
      "execution_count": 0,
      "outputs": []
    },
    {
      "cell_type": "code",
      "metadata": {
        "id": "TLEjP1j3N6LN",
        "colab_type": "code",
        "outputId": "5b3a920f-e4ae-4068-903d-f65087781189",
        "colab": {
          "base_uri": "https://localhost:8080/",
          "height": 1000
        }
      },
      "source": [
        "popularProducts # Popular 5 products with thier rating information"
      ],
      "execution_count": 27,
      "outputs": [
        {
          "output_type": "execute_result",
          "data": {
            "text/html": [
              "<div>\n",
              "<style scoped>\n",
              "    .dataframe tbody tr th:only-of-type {\n",
              "        vertical-align: middle;\n",
              "    }\n",
              "\n",
              "    .dataframe tbody tr th {\n",
              "        vertical-align: top;\n",
              "    }\n",
              "\n",
              "    .dataframe thead th {\n",
              "        text-align: right;\n",
              "    }\n",
              "</style>\n",
              "<table border=\"1\" class=\"dataframe\">\n",
              "  <thead>\n",
              "    <tr style=\"text-align: right;\">\n",
              "      <th></th>\n",
              "      <th>Userid</th>\n",
              "      <th>Productid</th>\n",
              "      <th>Rating</th>\n",
              "    </tr>\n",
              "  </thead>\n",
              "  <tbody>\n",
              "    <tr>\n",
              "      <th>1198226</th>\n",
              "      <td>A9ELHLPXF7JKD</td>\n",
              "      <td>B000N99BBC</td>\n",
              "      <td>5.0</td>\n",
              "    </tr>\n",
              "    <tr>\n",
              "      <th>1198233</th>\n",
              "      <td>A19UTUEBWKIZFT</td>\n",
              "      <td>B000N99BBC</td>\n",
              "      <td>5.0</td>\n",
              "    </tr>\n",
              "    <tr>\n",
              "      <th>1198238</th>\n",
              "      <td>A2RW587355CMVA</td>\n",
              "      <td>B000N99BBC</td>\n",
              "      <td>5.0</td>\n",
              "    </tr>\n",
              "    <tr>\n",
              "      <th>1198255</th>\n",
              "      <td>A3RGHO0Q938FRS</td>\n",
              "      <td>B000N99BBC</td>\n",
              "      <td>5.0</td>\n",
              "    </tr>\n",
              "    <tr>\n",
              "      <th>1198285</th>\n",
              "      <td>A3NXJDNTQK2YJL</td>\n",
              "      <td>B000N99BBC</td>\n",
              "      <td>4.0</td>\n",
              "    </tr>\n",
              "    <tr>\n",
              "      <th>1198286</th>\n",
              "      <td>A1IDAKX7OM3QIE</td>\n",
              "      <td>B000N99BBC</td>\n",
              "      <td>5.0</td>\n",
              "    </tr>\n",
              "    <tr>\n",
              "      <th>1198302</th>\n",
              "      <td>A3MQAQT8C6D1I7</td>\n",
              "      <td>B000N99BBC</td>\n",
              "      <td>5.0</td>\n",
              "    </tr>\n",
              "    <tr>\n",
              "      <th>1198330</th>\n",
              "      <td>A14JBDSWKPKTZA</td>\n",
              "      <td>B000N99BBC</td>\n",
              "      <td>5.0</td>\n",
              "    </tr>\n",
              "    <tr>\n",
              "      <th>1198336</th>\n",
              "      <td>A27QXQQOLAMRRR</td>\n",
              "      <td>B000N99BBC</td>\n",
              "      <td>4.0</td>\n",
              "    </tr>\n",
              "    <tr>\n",
              "      <th>1198337</th>\n",
              "      <td>A2VAD79S4A06DD</td>\n",
              "      <td>B000N99BBC</td>\n",
              "      <td>5.0</td>\n",
              "    </tr>\n",
              "    <tr>\n",
              "      <th>1198344</th>\n",
              "      <td>A25UZ7MA72SMKM</td>\n",
              "      <td>B000N99BBC</td>\n",
              "      <td>5.0</td>\n",
              "    </tr>\n",
              "    <tr>\n",
              "      <th>1198350</th>\n",
              "      <td>A3S5EXYZDEBF3K</td>\n",
              "      <td>B000N99BBC</td>\n",
              "      <td>5.0</td>\n",
              "    </tr>\n",
              "    <tr>\n",
              "      <th>1198351</th>\n",
              "      <td>A3EK2KTYHJCPB9</td>\n",
              "      <td>B000N99BBC</td>\n",
              "      <td>5.0</td>\n",
              "    </tr>\n",
              "    <tr>\n",
              "      <th>1198358</th>\n",
              "      <td>A3QNQQKJTL76H0</td>\n",
              "      <td>B000N99BBC</td>\n",
              "      <td>4.0</td>\n",
              "    </tr>\n",
              "    <tr>\n",
              "      <th>1198360</th>\n",
              "      <td>A38KK0SZYEH5UD</td>\n",
              "      <td>B000N99BBC</td>\n",
              "      <td>5.0</td>\n",
              "    </tr>\n",
              "    <tr>\n",
              "      <th>1198364</th>\n",
              "      <td>A3TBMGNSEQBWIL</td>\n",
              "      <td>B000N99BBC</td>\n",
              "      <td>5.0</td>\n",
              "    </tr>\n",
              "    <tr>\n",
              "      <th>1198365</th>\n",
              "      <td>AG2YXYIQ8TLTA</td>\n",
              "      <td>B000N99BBC</td>\n",
              "      <td>4.0</td>\n",
              "    </tr>\n",
              "    <tr>\n",
              "      <th>1198367</th>\n",
              "      <td>A9Y5O2R4D6EH5</td>\n",
              "      <td>B000N99BBC</td>\n",
              "      <td>4.0</td>\n",
              "    </tr>\n",
              "    <tr>\n",
              "      <th>1198370</th>\n",
              "      <td>A1JZFGZEZVWQPY</td>\n",
              "      <td>B000N99BBC</td>\n",
              "      <td>4.0</td>\n",
              "    </tr>\n",
              "    <tr>\n",
              "      <th>1198379</th>\n",
              "      <td>A1AWL9JASMG904</td>\n",
              "      <td>B000N99BBC</td>\n",
              "      <td>4.0</td>\n",
              "    </tr>\n",
              "    <tr>\n",
              "      <th>1198390</th>\n",
              "      <td>A24J2Y1O22JYZX</td>\n",
              "      <td>B000N99BBC</td>\n",
              "      <td>5.0</td>\n",
              "    </tr>\n",
              "    <tr>\n",
              "      <th>1198391</th>\n",
              "      <td>A4U27URFECK1U</td>\n",
              "      <td>B000N99BBC</td>\n",
              "      <td>5.0</td>\n",
              "    </tr>\n",
              "    <tr>\n",
              "      <th>1198395</th>\n",
              "      <td>ANFJYYQ0P35CW</td>\n",
              "      <td>B000N99BBC</td>\n",
              "      <td>3.0</td>\n",
              "    </tr>\n",
              "    <tr>\n",
              "      <th>1198400</th>\n",
              "      <td>A2IFKH3TJ10387</td>\n",
              "      <td>B000N99BBC</td>\n",
              "      <td>5.0</td>\n",
              "    </tr>\n",
              "    <tr>\n",
              "      <th>1198408</th>\n",
              "      <td>A10ZFE6YE0UHW8</td>\n",
              "      <td>B000N99BBC</td>\n",
              "      <td>5.0</td>\n",
              "    </tr>\n",
              "    <tr>\n",
              "      <th>1198418</th>\n",
              "      <td>AZNUHQSHZHSUE</td>\n",
              "      <td>B000N99BBC</td>\n",
              "      <td>5.0</td>\n",
              "    </tr>\n",
              "    <tr>\n",
              "      <th>1198425</th>\n",
              "      <td>AMKNPIDFLRFMP</td>\n",
              "      <td>B000N99BBC</td>\n",
              "      <td>5.0</td>\n",
              "    </tr>\n",
              "    <tr>\n",
              "      <th>1198429</th>\n",
              "      <td>A17UNMURMLX0ZE</td>\n",
              "      <td>B000N99BBC</td>\n",
              "      <td>5.0</td>\n",
              "    </tr>\n",
              "    <tr>\n",
              "      <th>1198444</th>\n",
              "      <td>A2XXBZPQT5EXHV</td>\n",
              "      <td>B000N99BBC</td>\n",
              "      <td>5.0</td>\n",
              "    </tr>\n",
              "    <tr>\n",
              "      <th>1198446</th>\n",
              "      <td>A2BLFCOPSMBOZ9</td>\n",
              "      <td>B000N99BBC</td>\n",
              "      <td>4.0</td>\n",
              "    </tr>\n",
              "    <tr>\n",
              "      <th>...</th>\n",
              "      <td>...</td>\n",
              "      <td>...</td>\n",
              "      <td>...</td>\n",
              "    </tr>\n",
              "    <tr>\n",
              "      <th>6106167</th>\n",
              "      <td>A2IFGGXG3YV3Y6</td>\n",
              "      <td>B0088CJT4U</td>\n",
              "      <td>4.0</td>\n",
              "    </tr>\n",
              "    <tr>\n",
              "      <th>6106168</th>\n",
              "      <td>A2RN2AO4BE6F4K</td>\n",
              "      <td>B0088CJT4U</td>\n",
              "      <td>4.0</td>\n",
              "    </tr>\n",
              "    <tr>\n",
              "      <th>6106170</th>\n",
              "      <td>AIBRTGBN07D6A</td>\n",
              "      <td>B0088CJT4U</td>\n",
              "      <td>4.0</td>\n",
              "    </tr>\n",
              "    <tr>\n",
              "      <th>6106189</th>\n",
              "      <td>A1TQZUSOU22E9M</td>\n",
              "      <td>B0088CJT4U</td>\n",
              "      <td>4.0</td>\n",
              "    </tr>\n",
              "    <tr>\n",
              "      <th>6106192</th>\n",
              "      <td>A28N2AWOVO2PB</td>\n",
              "      <td>B0088CJT4U</td>\n",
              "      <td>5.0</td>\n",
              "    </tr>\n",
              "    <tr>\n",
              "      <th>6106194</th>\n",
              "      <td>A2OWR5G2OAQF7C</td>\n",
              "      <td>B0088CJT4U</td>\n",
              "      <td>4.0</td>\n",
              "    </tr>\n",
              "    <tr>\n",
              "      <th>6106202</th>\n",
              "      <td>A2NB2E5DXE319Z</td>\n",
              "      <td>B0088CJT4U</td>\n",
              "      <td>5.0</td>\n",
              "    </tr>\n",
              "    <tr>\n",
              "      <th>6106206</th>\n",
              "      <td>A30UP2KKD5IQEP</td>\n",
              "      <td>B0088CJT4U</td>\n",
              "      <td>4.0</td>\n",
              "    </tr>\n",
              "    <tr>\n",
              "      <th>6106214</th>\n",
              "      <td>A3BNMHRW2R35LK</td>\n",
              "      <td>B0088CJT4U</td>\n",
              "      <td>5.0</td>\n",
              "    </tr>\n",
              "    <tr>\n",
              "      <th>6106217</th>\n",
              "      <td>A1MRRMHGV3PN5W</td>\n",
              "      <td>B0088CJT4U</td>\n",
              "      <td>5.0</td>\n",
              "    </tr>\n",
              "    <tr>\n",
              "      <th>6106219</th>\n",
              "      <td>A3S0DBBR693O06</td>\n",
              "      <td>B0088CJT4U</td>\n",
              "      <td>5.0</td>\n",
              "    </tr>\n",
              "    <tr>\n",
              "      <th>6106225</th>\n",
              "      <td>A3A4ZAIBQWKOZS</td>\n",
              "      <td>B0088CJT4U</td>\n",
              "      <td>5.0</td>\n",
              "    </tr>\n",
              "    <tr>\n",
              "      <th>6106245</th>\n",
              "      <td>A33PVCHCQ2BTN0</td>\n",
              "      <td>B0088CJT4U</td>\n",
              "      <td>5.0</td>\n",
              "    </tr>\n",
              "    <tr>\n",
              "      <th>6106262</th>\n",
              "      <td>A2M14CFAMF8J7I</td>\n",
              "      <td>B0088CJT4U</td>\n",
              "      <td>5.0</td>\n",
              "    </tr>\n",
              "    <tr>\n",
              "      <th>6106277</th>\n",
              "      <td>A2WA8TDCTGUADI</td>\n",
              "      <td>B0088CJT4U</td>\n",
              "      <td>4.0</td>\n",
              "    </tr>\n",
              "    <tr>\n",
              "      <th>6106286</th>\n",
              "      <td>A14NA0W8ESGDSI</td>\n",
              "      <td>B0088CJT4U</td>\n",
              "      <td>5.0</td>\n",
              "    </tr>\n",
              "    <tr>\n",
              "      <th>6106289</th>\n",
              "      <td>A2UKE7GIVC7XFW</td>\n",
              "      <td>B0088CJT4U</td>\n",
              "      <td>5.0</td>\n",
              "    </tr>\n",
              "    <tr>\n",
              "      <th>6106291</th>\n",
              "      <td>A2JP9E1H0SF392</td>\n",
              "      <td>B0088CJT4U</td>\n",
              "      <td>4.0</td>\n",
              "    </tr>\n",
              "    <tr>\n",
              "      <th>6106297</th>\n",
              "      <td>ACQYIC13JXAOI</td>\n",
              "      <td>B0088CJT4U</td>\n",
              "      <td>4.0</td>\n",
              "    </tr>\n",
              "    <tr>\n",
              "      <th>6106324</th>\n",
              "      <td>A2Y3WWPUKIJ59I</td>\n",
              "      <td>B0088CJT4U</td>\n",
              "      <td>4.0</td>\n",
              "    </tr>\n",
              "    <tr>\n",
              "      <th>6106325</th>\n",
              "      <td>A3G7BEJJCPD6DS</td>\n",
              "      <td>B0088CJT4U</td>\n",
              "      <td>5.0</td>\n",
              "    </tr>\n",
              "    <tr>\n",
              "      <th>6106330</th>\n",
              "      <td>A2J96FILPQA01</td>\n",
              "      <td>B0088CJT4U</td>\n",
              "      <td>5.0</td>\n",
              "    </tr>\n",
              "    <tr>\n",
              "      <th>6106336</th>\n",
              "      <td>A1HBI9BBQIG1NH</td>\n",
              "      <td>B0088CJT4U</td>\n",
              "      <td>5.0</td>\n",
              "    </tr>\n",
              "    <tr>\n",
              "      <th>6106342</th>\n",
              "      <td>A2YEOR4XJ8N3QE</td>\n",
              "      <td>B0088CJT4U</td>\n",
              "      <td>4.0</td>\n",
              "    </tr>\n",
              "    <tr>\n",
              "      <th>6106351</th>\n",
              "      <td>A1RL1OTV8IJMVD</td>\n",
              "      <td>B0088CJT4U</td>\n",
              "      <td>4.0</td>\n",
              "    </tr>\n",
              "    <tr>\n",
              "      <th>6106352</th>\n",
              "      <td>A10H24TDLK2VDP</td>\n",
              "      <td>B0088CJT4U</td>\n",
              "      <td>4.0</td>\n",
              "    </tr>\n",
              "    <tr>\n",
              "      <th>6106356</th>\n",
              "      <td>A1QOK9LU90ACF7</td>\n",
              "      <td>B0088CJT4U</td>\n",
              "      <td>5.0</td>\n",
              "    </tr>\n",
              "    <tr>\n",
              "      <th>6106357</th>\n",
              "      <td>A20L63B48RPSOH</td>\n",
              "      <td>B0088CJT4U</td>\n",
              "      <td>4.0</td>\n",
              "    </tr>\n",
              "    <tr>\n",
              "      <th>6106374</th>\n",
              "      <td>A357B3PUHSVQA</td>\n",
              "      <td>B0088CJT4U</td>\n",
              "      <td>4.0</td>\n",
              "    </tr>\n",
              "    <tr>\n",
              "      <th>6106381</th>\n",
              "      <td>AGOH8N902URMW</td>\n",
              "      <td>B0088CJT4U</td>\n",
              "      <td>5.0</td>\n",
              "    </tr>\n",
              "  </tbody>\n",
              "</table>\n",
              "<p>846 rows × 3 columns</p>\n",
              "</div>"
            ],
            "text/plain": [
              "                 Userid   Productid  Rating\n",
              "1198226   A9ELHLPXF7JKD  B000N99BBC     5.0\n",
              "1198233  A19UTUEBWKIZFT  B000N99BBC     5.0\n",
              "1198238  A2RW587355CMVA  B000N99BBC     5.0\n",
              "1198255  A3RGHO0Q938FRS  B000N99BBC     5.0\n",
              "1198285  A3NXJDNTQK2YJL  B000N99BBC     4.0\n",
              "1198286  A1IDAKX7OM3QIE  B000N99BBC     5.0\n",
              "1198302  A3MQAQT8C6D1I7  B000N99BBC     5.0\n",
              "1198330  A14JBDSWKPKTZA  B000N99BBC     5.0\n",
              "1198336  A27QXQQOLAMRRR  B000N99BBC     4.0\n",
              "1198337  A2VAD79S4A06DD  B000N99BBC     5.0\n",
              "1198344  A25UZ7MA72SMKM  B000N99BBC     5.0\n",
              "1198350  A3S5EXYZDEBF3K  B000N99BBC     5.0\n",
              "1198351  A3EK2KTYHJCPB9  B000N99BBC     5.0\n",
              "1198358  A3QNQQKJTL76H0  B000N99BBC     4.0\n",
              "1198360  A38KK0SZYEH5UD  B000N99BBC     5.0\n",
              "1198364  A3TBMGNSEQBWIL  B000N99BBC     5.0\n",
              "1198365   AG2YXYIQ8TLTA  B000N99BBC     4.0\n",
              "1198367   A9Y5O2R4D6EH5  B000N99BBC     4.0\n",
              "1198370  A1JZFGZEZVWQPY  B000N99BBC     4.0\n",
              "1198379  A1AWL9JASMG904  B000N99BBC     4.0\n",
              "1198390  A24J2Y1O22JYZX  B000N99BBC     5.0\n",
              "1198391   A4U27URFECK1U  B000N99BBC     5.0\n",
              "1198395   ANFJYYQ0P35CW  B000N99BBC     3.0\n",
              "1198400  A2IFKH3TJ10387  B000N99BBC     5.0\n",
              "1198408  A10ZFE6YE0UHW8  B000N99BBC     5.0\n",
              "1198418   AZNUHQSHZHSUE  B000N99BBC     5.0\n",
              "1198425   AMKNPIDFLRFMP  B000N99BBC     5.0\n",
              "1198429  A17UNMURMLX0ZE  B000N99BBC     5.0\n",
              "1198444  A2XXBZPQT5EXHV  B000N99BBC     5.0\n",
              "1198446  A2BLFCOPSMBOZ9  B000N99BBC     4.0\n",
              "...                 ...         ...     ...\n",
              "6106167  A2IFGGXG3YV3Y6  B0088CJT4U     4.0\n",
              "6106168  A2RN2AO4BE6F4K  B0088CJT4U     4.0\n",
              "6106170   AIBRTGBN07D6A  B0088CJT4U     4.0\n",
              "6106189  A1TQZUSOU22E9M  B0088CJT4U     4.0\n",
              "6106192   A28N2AWOVO2PB  B0088CJT4U     5.0\n",
              "6106194  A2OWR5G2OAQF7C  B0088CJT4U     4.0\n",
              "6106202  A2NB2E5DXE319Z  B0088CJT4U     5.0\n",
              "6106206  A30UP2KKD5IQEP  B0088CJT4U     4.0\n",
              "6106214  A3BNMHRW2R35LK  B0088CJT4U     5.0\n",
              "6106217  A1MRRMHGV3PN5W  B0088CJT4U     5.0\n",
              "6106219  A3S0DBBR693O06  B0088CJT4U     5.0\n",
              "6106225  A3A4ZAIBQWKOZS  B0088CJT4U     5.0\n",
              "6106245  A33PVCHCQ2BTN0  B0088CJT4U     5.0\n",
              "6106262  A2M14CFAMF8J7I  B0088CJT4U     5.0\n",
              "6106277  A2WA8TDCTGUADI  B0088CJT4U     4.0\n",
              "6106286  A14NA0W8ESGDSI  B0088CJT4U     5.0\n",
              "6106289  A2UKE7GIVC7XFW  B0088CJT4U     5.0\n",
              "6106291  A2JP9E1H0SF392  B0088CJT4U     4.0\n",
              "6106297   ACQYIC13JXAOI  B0088CJT4U     4.0\n",
              "6106324  A2Y3WWPUKIJ59I  B0088CJT4U     4.0\n",
              "6106325  A3G7BEJJCPD6DS  B0088CJT4U     5.0\n",
              "6106330   A2J96FILPQA01  B0088CJT4U     5.0\n",
              "6106336  A1HBI9BBQIG1NH  B0088CJT4U     5.0\n",
              "6106342  A2YEOR4XJ8N3QE  B0088CJT4U     4.0\n",
              "6106351  A1RL1OTV8IJMVD  B0088CJT4U     4.0\n",
              "6106352  A10H24TDLK2VDP  B0088CJT4U     4.0\n",
              "6106356  A1QOK9LU90ACF7  B0088CJT4U     5.0\n",
              "6106357  A20L63B48RPSOH  B0088CJT4U     4.0\n",
              "6106374   A357B3PUHSVQA  B0088CJT4U     4.0\n",
              "6106381   AGOH8N902URMW  B0088CJT4U     5.0\n",
              "\n",
              "[846 rows x 3 columns]"
            ]
          },
          "metadata": {
            "tags": []
          },
          "execution_count": 27
        }
      ]
    },
    {
      "cell_type": "code",
      "metadata": {
        "id": "-N9U1belN8o_",
        "colab_type": "code",
        "outputId": "21324615-24e5-427e-a834-df6662466655",
        "colab": {
          "base_uri": "https://localhost:8080/",
          "height": 34
        }
      },
      "source": [
        "print(\"Using popularity recommended model, the popular new products are : \", popularProducts['Productid'].unique())"
      ],
      "execution_count": 28,
      "outputs": [
        {
          "output_type": "stream",
          "text": [
            "Using popularity recommended model, the popular new products are :  ['B000N99BBC' 'B003ES5ZUU' 'B007WTAJTO' 'B00829TIEK' 'B0088CJT4U']\n"
          ],
          "name": "stdout"
        }
      ]
    },
    {
      "cell_type": "markdown",
      "metadata": {
        "id": "FUYPTwBBbswr",
        "colab_type": "text"
      },
      "source": [
        "### 5.\tBuild Collaborative Filtering model\n"
      ]
    },
    {
      "cell_type": "code",
      "metadata": {
        "id": "zzQXr3jpUMel",
        "colab_type": "code",
        "colab": {}
      },
      "source": [
        "from surprise import KNNWithMeans\n",
        "from surprise import accuracy\n",
        "from surprise import Prediction"
      ],
      "execution_count": 0,
      "outputs": []
    },
    {
      "cell_type": "code",
      "metadata": {
        "id": "aguEAYcwbwNb",
        "colab_type": "code",
        "outputId": "f39d995f-993f-4e33-f45e-64d8b713d34e",
        "colab": {
          "base_uri": "https://localhost:8080/",
          "height": 68
        }
      },
      "source": [
        "algo = KNNWithMeans(k=5, sim_options={'name': 'pearson', 'user_based': False})# here the kernal got crashed, so I went back and reduced the number of sample to 10%\n",
        "algo.fit(trainset)\n"
      ],
      "execution_count": 30,
      "outputs": [
        {
          "output_type": "stream",
          "text": [
            "Computing the pearson similarity matrix...\n",
            "Done computing similarity matrix.\n"
          ],
          "name": "stdout"
        },
        {
          "output_type": "execute_result",
          "data": {
            "text/plain": [
              "<surprise.prediction_algorithms.knns.KNNWithMeans at 0x7f7107e17ef0>"
            ]
          },
          "metadata": {
            "tags": []
          },
          "execution_count": 30
        }
      ]
    },
    {
      "cell_type": "code",
      "metadata": {
        "id": "4iKkaCgFbzbw",
        "colab_type": "code",
        "outputId": "0b6c0b96-be65-4a37-a950-de7e045dd528",
        "colab": {
          "base_uri": "https://localhost:8080/",
          "height": 34
        }
      },
      "source": [
        "len(testset)"
      ],
      "execution_count": 31,
      "outputs": [
        {
          "output_type": "execute_result",
          "data": {
            "text/plain": [
              "3055"
            ]
          },
          "metadata": {
            "tags": []
          },
          "execution_count": 31
        }
      ]
    },
    {
      "cell_type": "code",
      "metadata": {
        "id": "8sSVHVXU4lu3",
        "colab_type": "code",
        "colab": {}
      },
      "source": [
        "# Evalute on test set\n",
        "test_pred = algo.test(testset)"
      ],
      "execution_count": 0,
      "outputs": []
    },
    {
      "cell_type": "code",
      "metadata": {
        "id": "LkixNtPb4ofQ",
        "colab_type": "code",
        "outputId": "a7196546-55fd-4a7a-d251-0fda8c1c9a37",
        "colab": {
          "base_uri": "https://localhost:8080/",
          "height": 51
        }
      },
      "source": [
        "# compute RMSE\n",
        "accuracy.rmse(test_pred)"
      ],
      "execution_count": 33,
      "outputs": [
        {
          "output_type": "stream",
          "text": [
            "RMSE: 1.1547\n"
          ],
          "name": "stdout"
        },
        {
          "output_type": "execute_result",
          "data": {
            "text/plain": [
              "1.154728886912018"
            ]
          },
          "metadata": {
            "tags": []
          },
          "execution_count": 33
        }
      ]
    },
    {
      "cell_type": "code",
      "metadata": {
        "id": "Hsu7vJvu4xmw",
        "colab_type": "code",
        "colab": {}
      },
      "source": [
        "# convert results to dataframe\n",
        "test_pred_df = pd.DataFrame(test_pred)\n",
        "test_pred_df[\"was_impossible\"] = [x[\"was_impossible\"] for x in test_pred_df[\"details\"]]"
      ],
      "execution_count": 0,
      "outputs": []
    },
    {
      "cell_type": "code",
      "metadata": {
        "id": "jgpNlZOP5Au9",
        "colab_type": "code",
        "outputId": "7f6cc14c-2f5d-4163-80ea-176ac7121830",
        "colab": {
          "base_uri": "https://localhost:8080/",
          "height": 204
        }
      },
      "source": [
        "test_pred_df.info()"
      ],
      "execution_count": 35,
      "outputs": [
        {
          "output_type": "stream",
          "text": [
            "<class 'pandas.core.frame.DataFrame'>\n",
            "RangeIndex: 3055 entries, 0 to 3054\n",
            "Data columns (total 6 columns):\n",
            "uid               3055 non-null object\n",
            "iid               3055 non-null object\n",
            "r_ui              3055 non-null float64\n",
            "est               3055 non-null float64\n",
            "details           3055 non-null object\n",
            "was_impossible    3055 non-null bool\n",
            "dtypes: bool(1), float64(2), object(3)\n",
            "memory usage: 122.4+ KB\n"
          ],
          "name": "stdout"
        }
      ]
    },
    {
      "cell_type": "code",
      "metadata": {
        "id": "sypW2WeT5Eff",
        "colab_type": "code",
        "colab": {}
      },
      "source": [
        "#test_pred_df[test_pred_df[\"was_impossible\"] == True]"
      ],
      "execution_count": 0,
      "outputs": []
    },
    {
      "cell_type": "code",
      "metadata": {
        "id": "xe3RuHIB5Px_",
        "colab_type": "code",
        "colab": {}
      },
      "source": [
        "testset_new = trainset.build_anti_testset()"
      ],
      "execution_count": 0,
      "outputs": []
    },
    {
      "cell_type": "code",
      "metadata": {
        "id": "sWsfE8YX9JFF",
        "colab_type": "code",
        "outputId": "badaf878-ae3a-445b-cc29-5af860279945",
        "colab": {
          "base_uri": "https://localhost:8080/",
          "height": 34
        }
      },
      "source": [
        "len(testset_new)"
      ],
      "execution_count": 38,
      "outputs": [
        {
          "output_type": "execute_result",
          "data": {
            "text/plain": [
              "10414564"
            ]
          },
          "metadata": {
            "tags": []
          },
          "execution_count": 38
        }
      ]
    },
    {
      "cell_type": "code",
      "metadata": {
        "id": "0_B-eOLY9Mqo",
        "colab_type": "code",
        "colab": {}
      },
      "source": [
        "predictions = algo.test(testset_new[:])\n"
      ],
      "execution_count": 0,
      "outputs": []
    },
    {
      "cell_type": "code",
      "metadata": {
        "id": "FKbn27-K_WAZ",
        "colab_type": "code",
        "colab": {}
      },
      "source": [
        "#predictions[:]"
      ],
      "execution_count": 0,
      "outputs": []
    },
    {
      "cell_type": "code",
      "metadata": {
        "id": "QGmkRQYK9Se2",
        "colab_type": "code",
        "colab": {}
      },
      "source": [
        "predictions_df = pd.DataFrame([[x.uid,x.iid,x.est] for x in predictions])"
      ],
      "execution_count": 0,
      "outputs": []
    },
    {
      "cell_type": "code",
      "metadata": {
        "id": "li71T9Y_egrc",
        "colab_type": "code",
        "colab": {}
      },
      "source": [
        "#predictions_df"
      ],
      "execution_count": 0,
      "outputs": []
    },
    {
      "cell_type": "code",
      "metadata": {
        "id": "pQdEuCfp-I32",
        "colab_type": "code",
        "colab": {}
      },
      "source": [
        "predictions_df.columns = [\"Userid\",\"Productid\",\"Estimated_rating\"]\n",
        "predictions_df.sort_values(by = [\"Userid\",\"Estimated_rating\"],ascending=False,inplace=True)"
      ],
      "execution_count": 0,
      "outputs": []
    },
    {
      "cell_type": "code",
      "metadata": {
        "colab_type": "code",
        "id": "34k6AWXt7Tpn",
        "colab": {}
      },
      "source": [
        "top_5_similar_user_rating_knn = predictions_df.groupby(\"Productid\").count().sort_values(by=['Estimated_rating'],ascending=False).head(5).reset_index() # Since k=5\n"
      ],
      "execution_count": 0,
      "outputs": []
    },
    {
      "cell_type": "code",
      "metadata": {
        "id": "VK-LbjKe5xny",
        "colab_type": "code",
        "outputId": "afab3559-d483-47bd-87e8-3c360090349c",
        "colab": {
          "base_uri": "https://localhost:8080/",
          "height": 197
        }
      },
      "source": [
        "top_5_similar_user_rating_knn\n"
      ],
      "execution_count": 60,
      "outputs": [
        {
          "output_type": "execute_result",
          "data": {
            "text/html": [
              "<div>\n",
              "<style scoped>\n",
              "    .dataframe tbody tr th:only-of-type {\n",
              "        vertical-align: middle;\n",
              "    }\n",
              "\n",
              "    .dataframe tbody tr th {\n",
              "        vertical-align: top;\n",
              "    }\n",
              "\n",
              "    .dataframe thead th {\n",
              "        text-align: right;\n",
              "    }\n",
              "</style>\n",
              "<table border=\"1\" class=\"dataframe\">\n",
              "  <thead>\n",
              "    <tr style=\"text-align: right;\">\n",
              "      <th></th>\n",
              "      <th>Productid</th>\n",
              "      <th>Userid</th>\n",
              "      <th>Estimated_rating</th>\n",
              "    </tr>\n",
              "  </thead>\n",
              "  <tbody>\n",
              "    <tr>\n",
              "      <th>0</th>\n",
              "      <td>1400501776</td>\n",
              "      <td>1453</td>\n",
              "      <td>1453</td>\n",
              "    </tr>\n",
              "    <tr>\n",
              "      <th>1</th>\n",
              "      <td>B004YB60KA</td>\n",
              "      <td>1453</td>\n",
              "      <td>1453</td>\n",
              "    </tr>\n",
              "    <tr>\n",
              "      <th>2</th>\n",
              "      <td>B004YIZXEC</td>\n",
              "      <td>1453</td>\n",
              "      <td>1453</td>\n",
              "    </tr>\n",
              "    <tr>\n",
              "      <th>3</th>\n",
              "      <td>B004YIZWG6</td>\n",
              "      <td>1453</td>\n",
              "      <td>1453</td>\n",
              "    </tr>\n",
              "    <tr>\n",
              "      <th>4</th>\n",
              "      <td>B004YIZW16</td>\n",
              "      <td>1453</td>\n",
              "      <td>1453</td>\n",
              "    </tr>\n",
              "  </tbody>\n",
              "</table>\n",
              "</div>"
            ],
            "text/plain": [
              "    Productid  Userid  Estimated_rating\n",
              "0  1400501776    1453              1453\n",
              "1  B004YB60KA    1453              1453\n",
              "2  B004YIZXEC    1453              1453\n",
              "3  B004YIZWG6    1453              1453\n",
              "4  B004YIZW16    1453              1453"
            ]
          },
          "metadata": {
            "tags": []
          },
          "execution_count": 60
        }
      ]
    },
    {
      "cell_type": "code",
      "metadata": {
        "id": "KO5r62DhBrBP",
        "colab_type": "code",
        "outputId": "f36f53dd-c5e2-48c4-9b9d-721b4b4444b4",
        "colab": {
          "base_uri": "https://localhost:8080/",
          "height": 1000
        }
      },
      "source": [
        "predictions_df[predictions_df['Productid'].isin(top_5_similar_user_rating['Productid'])][predictions_df['Estimated_rating'] > 3].sort_values(by=['Productid'])\n",
        "# Since good rating product to be considered, the estimated rating above 3 is considered "
      ],
      "execution_count": 46,
      "outputs": [
        {
          "output_type": "stream",
          "text": [
            "/usr/local/lib/python3.6/dist-packages/ipykernel_launcher.py:1: UserWarning: Boolean Series key will be reindexed to match DataFrame index.\n",
            "  \"\"\"Entry point for launching an IPython kernel.\n"
          ],
          "name": "stderr"
        },
        {
          "output_type": "execute_result",
          "data": {
            "text/html": [
              "<div>\n",
              "<style scoped>\n",
              "    .dataframe tbody tr th:only-of-type {\n",
              "        vertical-align: middle;\n",
              "    }\n",
              "\n",
              "    .dataframe tbody tr th {\n",
              "        vertical-align: top;\n",
              "    }\n",
              "\n",
              "    .dataframe thead th {\n",
              "        text-align: right;\n",
              "    }\n",
              "</style>\n",
              "<table border=\"1\" class=\"dataframe\">\n",
              "  <thead>\n",
              "    <tr style=\"text-align: right;\">\n",
              "      <th></th>\n",
              "      <th>Userid</th>\n",
              "      <th>Productid</th>\n",
              "      <th>Estimated_rating</th>\n",
              "    </tr>\n",
              "  </thead>\n",
              "  <tbody>\n",
              "    <tr>\n",
              "      <th>7416819</th>\n",
              "      <td>AZOK5STV85FBJ</td>\n",
              "      <td>1400501776</td>\n",
              "      <td>5.0</td>\n",
              "    </tr>\n",
              "    <tr>\n",
              "      <th>9129078</th>\n",
              "      <td>A3NYBI5VMVEEIK</td>\n",
              "      <td>1400501776</td>\n",
              "      <td>5.0</td>\n",
              "    </tr>\n",
              "    <tr>\n",
              "      <th>777642</th>\n",
              "      <td>A259MPG6SOL02P</td>\n",
              "      <td>1400501776</td>\n",
              "      <td>5.0</td>\n",
              "    </tr>\n",
              "    <tr>\n",
              "      <th>10182391</th>\n",
              "      <td>A3O1FVLUD9X1XC</td>\n",
              "      <td>1400501776</td>\n",
              "      <td>5.0</td>\n",
              "    </tr>\n",
              "    <tr>\n",
              "      <th>3749511</th>\n",
              "      <td>A257X1MQJO82P2</td>\n",
              "      <td>1400501776</td>\n",
              "      <td>5.0</td>\n",
              "    </tr>\n",
              "    <tr>\n",
              "      <th>8448426</th>\n",
              "      <td>A3O4OIBCML0683</td>\n",
              "      <td>1400501776</td>\n",
              "      <td>5.0</td>\n",
              "    </tr>\n",
              "    <tr>\n",
              "      <th>9358343</th>\n",
              "      <td>A253IOATGMT2UP</td>\n",
              "      <td>1400501776</td>\n",
              "      <td>5.0</td>\n",
              "    </tr>\n",
              "    <tr>\n",
              "      <th>9408504</th>\n",
              "      <td>A3O5ASFUXC32UA</td>\n",
              "      <td>1400501776</td>\n",
              "      <td>5.0</td>\n",
              "    </tr>\n",
              "    <tr>\n",
              "      <th>3248207</th>\n",
              "      <td>A250AXLRBVYKB4</td>\n",
              "      <td>1400501776</td>\n",
              "      <td>5.0</td>\n",
              "    </tr>\n",
              "    <tr>\n",
              "      <th>6929734</th>\n",
              "      <td>A3OA4DV4L81N1D</td>\n",
              "      <td>1400501776</td>\n",
              "      <td>5.0</td>\n",
              "    </tr>\n",
              "    <tr>\n",
              "      <th>1257422</th>\n",
              "      <td>A2503LT8PZIHAD</td>\n",
              "      <td>1400501776</td>\n",
              "      <td>5.0</td>\n",
              "    </tr>\n",
              "    <tr>\n",
              "      <th>1579709</th>\n",
              "      <td>A3OIMUR42XIOFQ</td>\n",
              "      <td>1400501776</td>\n",
              "      <td>5.0</td>\n",
              "    </tr>\n",
              "    <tr>\n",
              "      <th>9186389</th>\n",
              "      <td>A24RCBRDXRXR0Y</td>\n",
              "      <td>1400501776</td>\n",
              "      <td>5.0</td>\n",
              "    </tr>\n",
              "    <tr>\n",
              "      <th>1851770</th>\n",
              "      <td>A3OXHLG6DIBRW8</td>\n",
              "      <td>1400501776</td>\n",
              "      <td>5.0</td>\n",
              "    </tr>\n",
              "    <tr>\n",
              "      <th>8219187</th>\n",
              "      <td>A24QFMD1RXLJMB</td>\n",
              "      <td>1400501776</td>\n",
              "      <td>5.0</td>\n",
              "    </tr>\n",
              "    <tr>\n",
              "      <th>5404060</th>\n",
              "      <td>A3OYO7B6SS7QLH</td>\n",
              "      <td>1400501776</td>\n",
              "      <td>5.0</td>\n",
              "    </tr>\n",
              "    <tr>\n",
              "      <th>2460470</th>\n",
              "      <td>A24P4E3RJ6AX94</td>\n",
              "      <td>1400501776</td>\n",
              "      <td>5.0</td>\n",
              "    </tr>\n",
              "    <tr>\n",
              "      <th>7681860</th>\n",
              "      <td>A3OZA8HNJM26DC</td>\n",
              "      <td>1400501776</td>\n",
              "      <td>5.0</td>\n",
              "    </tr>\n",
              "    <tr>\n",
              "      <th>5618919</th>\n",
              "      <td>A24J2Y1O22JYZX</td>\n",
              "      <td>1400501776</td>\n",
              "      <td>5.0</td>\n",
              "    </tr>\n",
              "    <tr>\n",
              "      <th>3319833</th>\n",
              "      <td>A3P1508PZ0UADD</td>\n",
              "      <td>1400501776</td>\n",
              "      <td>5.0</td>\n",
              "    </tr>\n",
              "    <tr>\n",
              "      <th>90273</th>\n",
              "      <td>A24HWYHR28JJ7A</td>\n",
              "      <td>1400501776</td>\n",
              "      <td>5.0</td>\n",
              "    </tr>\n",
              "    <tr>\n",
              "      <th>5160564</th>\n",
              "      <td>A3P4T1DKRWTL36</td>\n",
              "      <td>1400501776</td>\n",
              "      <td>5.0</td>\n",
              "    </tr>\n",
              "    <tr>\n",
              "      <th>2202627</th>\n",
              "      <td>A24ARANWS5E3T8</td>\n",
              "      <td>1400501776</td>\n",
              "      <td>5.0</td>\n",
              "    </tr>\n",
              "    <tr>\n",
              "      <th>2539246</th>\n",
              "      <td>A3P69DTOXII004</td>\n",
              "      <td>1400501776</td>\n",
              "      <td>5.0</td>\n",
              "    </tr>\n",
              "    <tr>\n",
              "      <th>1250272</th>\n",
              "      <td>A25C2M3QF9G7OQ</td>\n",
              "      <td>1400501776</td>\n",
              "      <td>5.0</td>\n",
              "    </tr>\n",
              "    <tr>\n",
              "      <th>9702272</th>\n",
              "      <td>A247L282PID4PE</td>\n",
              "      <td>1400501776</td>\n",
              "      <td>5.0</td>\n",
              "    </tr>\n",
              "    <tr>\n",
              "      <th>7552901</th>\n",
              "      <td>A3NXJDNTQK2YJL</td>\n",
              "      <td>1400501776</td>\n",
              "      <td>5.0</td>\n",
              "    </tr>\n",
              "    <tr>\n",
              "      <th>9050264</th>\n",
              "      <td>A3NVZTGPORNPRW</td>\n",
              "      <td>1400501776</td>\n",
              "      <td>5.0</td>\n",
              "    </tr>\n",
              "    <tr>\n",
              "      <th>3692205</th>\n",
              "      <td>A26EQ8U96JA92T</td>\n",
              "      <td>1400501776</td>\n",
              "      <td>5.0</td>\n",
              "    </tr>\n",
              "    <tr>\n",
              "      <th>1472281</th>\n",
              "      <td>A3N0P5AAMP6XD2</td>\n",
              "      <td>1400501776</td>\n",
              "      <td>5.0</td>\n",
              "    </tr>\n",
              "    <tr>\n",
              "      <th>...</th>\n",
              "      <td>...</td>\n",
              "      <td>...</td>\n",
              "      <td>...</td>\n",
              "    </tr>\n",
              "    <tr>\n",
              "      <th>8066745</th>\n",
              "      <td>A3U5HKDHPYBAK3</td>\n",
              "      <td>B004YIZXEC</td>\n",
              "      <td>4.0</td>\n",
              "    </tr>\n",
              "    <tr>\n",
              "      <th>4513961</th>\n",
              "      <td>A100UD67AHFODS</td>\n",
              "      <td>B004YIZXEC</td>\n",
              "      <td>4.0</td>\n",
              "    </tr>\n",
              "    <tr>\n",
              "      <th>252952</th>\n",
              "      <td>A1Z3598J0371ND</td>\n",
              "      <td>B004YIZXEC</td>\n",
              "      <td>4.0</td>\n",
              "    </tr>\n",
              "    <tr>\n",
              "      <th>2343896</th>\n",
              "      <td>A1YN5I4FINMBTI</td>\n",
              "      <td>B004YIZXEC</td>\n",
              "      <td>4.0</td>\n",
              "    </tr>\n",
              "    <tr>\n",
              "      <th>6290207</th>\n",
              "      <td>A3V0YR50F1XSKP</td>\n",
              "      <td>B004YIZXEC</td>\n",
              "      <td>4.0</td>\n",
              "    </tr>\n",
              "    <tr>\n",
              "      <th>9055452</th>\n",
              "      <td>A1Y051MQ2SVPFI</td>\n",
              "      <td>B004YIZXEC</td>\n",
              "      <td>4.0</td>\n",
              "    </tr>\n",
              "    <tr>\n",
              "      <th>4685831</th>\n",
              "      <td>A362FM6FYA1SYS</td>\n",
              "      <td>B004YIZXEC</td>\n",
              "      <td>4.0</td>\n",
              "    </tr>\n",
              "    <tr>\n",
              "      <th>2272270</th>\n",
              "      <td>A2N3JSOIQ6ZNFL</td>\n",
              "      <td>B004YIZXEC</td>\n",
              "      <td>4.0</td>\n",
              "    </tr>\n",
              "    <tr>\n",
              "      <th>7765859</th>\n",
              "      <td>A1X2LENOF84LCQ</td>\n",
              "      <td>B004YIZXEC</td>\n",
              "      <td>4.0</td>\n",
              "    </tr>\n",
              "    <tr>\n",
              "      <th>8976647</th>\n",
              "      <td>A3VBXQKRM7A4JR</td>\n",
              "      <td>B004YIZXEC</td>\n",
              "      <td>4.0</td>\n",
              "    </tr>\n",
              "    <tr>\n",
              "      <th>3267721</th>\n",
              "      <td>A1X3DA7C61WZLQ</td>\n",
              "      <td>B004YIZXEC</td>\n",
              "      <td>4.0</td>\n",
              "    </tr>\n",
              "    <tr>\n",
              "      <th>9728963</th>\n",
              "      <td>A3V8P0O224OBDB</td>\n",
              "      <td>B004YIZXEC</td>\n",
              "      <td>4.0</td>\n",
              "    </tr>\n",
              "    <tr>\n",
              "      <th>8073912</th>\n",
              "      <td>A361M14PU2GUEG</td>\n",
              "      <td>B004YIZXEC</td>\n",
              "      <td>4.0</td>\n",
              "    </tr>\n",
              "    <tr>\n",
              "      <th>811476</th>\n",
              "      <td>A1X3ESYZ79H59E</td>\n",
              "      <td>B004YIZXEC</td>\n",
              "      <td>4.0</td>\n",
              "    </tr>\n",
              "    <tr>\n",
              "      <th>4764620</th>\n",
              "      <td>A3V7D0LH8L7BG0</td>\n",
              "      <td>B004YIZXEC</td>\n",
              "      <td>4.0</td>\n",
              "    </tr>\n",
              "    <tr>\n",
              "      <th>961879</th>\n",
              "      <td>A2MSBIA18RXYQC</td>\n",
              "      <td>B004YIZXEC</td>\n",
              "      <td>4.0</td>\n",
              "    </tr>\n",
              "    <tr>\n",
              "      <th>9657298</th>\n",
              "      <td>A1XB7JGJ459ERP</td>\n",
              "      <td>B004YIZXEC</td>\n",
              "      <td>4.0</td>\n",
              "    </tr>\n",
              "    <tr>\n",
              "      <th>3067203</th>\n",
              "      <td>A3V6Z4RCDGRC44</td>\n",
              "      <td>B004YIZXEC</td>\n",
              "      <td>4.0</td>\n",
              "    </tr>\n",
              "    <tr>\n",
              "      <th>6949247</th>\n",
              "      <td>A1XE3M22N91451</td>\n",
              "      <td>B004YIZXEC</td>\n",
              "      <td>4.0</td>\n",
              "    </tr>\n",
              "    <tr>\n",
              "      <th>1119401</th>\n",
              "      <td>A3V6QSTG2T9MIO</td>\n",
              "      <td>B004YIZXEC</td>\n",
              "      <td>4.0</td>\n",
              "    </tr>\n",
              "    <tr>\n",
              "      <th>4564110</th>\n",
              "      <td>A361U4SXK7FCQE</td>\n",
              "      <td>B004YIZXEC</td>\n",
              "      <td>4.0</td>\n",
              "    </tr>\n",
              "    <tr>\n",
              "      <th>3482545</th>\n",
              "      <td>A1XEQGYY1IL8CD</td>\n",
              "      <td>B004YIZXEC</td>\n",
              "      <td>4.0</td>\n",
              "    </tr>\n",
              "    <tr>\n",
              "      <th>3339339</th>\n",
              "      <td>A3V5F050GVZ56Q</td>\n",
              "      <td>B004YIZXEC</td>\n",
              "      <td>4.0</td>\n",
              "    </tr>\n",
              "    <tr>\n",
              "      <th>3274887</th>\n",
              "      <td>A2MR696ZU17F12</td>\n",
              "      <td>B004YIZXEC</td>\n",
              "      <td>4.0</td>\n",
              "    </tr>\n",
              "    <tr>\n",
              "      <th>832971</th>\n",
              "      <td>A1XK4VP74IB9TQ</td>\n",
              "      <td>B004YIZXEC</td>\n",
              "      <td>4.0</td>\n",
              "    </tr>\n",
              "    <tr>\n",
              "      <th>9915273</th>\n",
              "      <td>A3V2EZ6MA32FF6</td>\n",
              "      <td>B004YIZXEC</td>\n",
              "      <td>4.0</td>\n",
              "    </tr>\n",
              "    <tr>\n",
              "      <th>2623198</th>\n",
              "      <td>A1XXMNLOLKNO0I</td>\n",
              "      <td>B004YIZXEC</td>\n",
              "      <td>4.0</td>\n",
              "    </tr>\n",
              "    <tr>\n",
              "      <th>5939252</th>\n",
              "      <td>A3V15SFD7918WZ</td>\n",
              "      <td>B004YIZXEC</td>\n",
              "      <td>4.0</td>\n",
              "    </tr>\n",
              "    <tr>\n",
              "      <th>124110</th>\n",
              "      <td>A21INUA35HX4XQ</td>\n",
              "      <td>B004YIZXEC</td>\n",
              "      <td>4.0</td>\n",
              "    </tr>\n",
              "    <tr>\n",
              "      <th>453400</th>\n",
              "      <td>A2WW57XX2UVLM6</td>\n",
              "      <td>B004YIZXEC</td>\n",
              "      <td>4.0</td>\n",
              "    </tr>\n",
              "  </tbody>\n",
              "</table>\n",
              "<p>4359 rows × 3 columns</p>\n",
              "</div>"
            ],
            "text/plain": [
              "                  Userid   Productid  Estimated_rating\n",
              "7416819    AZOK5STV85FBJ  1400501776               5.0\n",
              "9129078   A3NYBI5VMVEEIK  1400501776               5.0\n",
              "777642    A259MPG6SOL02P  1400501776               5.0\n",
              "10182391  A3O1FVLUD9X1XC  1400501776               5.0\n",
              "3749511   A257X1MQJO82P2  1400501776               5.0\n",
              "8448426   A3O4OIBCML0683  1400501776               5.0\n",
              "9358343   A253IOATGMT2UP  1400501776               5.0\n",
              "9408504   A3O5ASFUXC32UA  1400501776               5.0\n",
              "3248207   A250AXLRBVYKB4  1400501776               5.0\n",
              "6929734   A3OA4DV4L81N1D  1400501776               5.0\n",
              "1257422   A2503LT8PZIHAD  1400501776               5.0\n",
              "1579709   A3OIMUR42XIOFQ  1400501776               5.0\n",
              "9186389   A24RCBRDXRXR0Y  1400501776               5.0\n",
              "1851770   A3OXHLG6DIBRW8  1400501776               5.0\n",
              "8219187   A24QFMD1RXLJMB  1400501776               5.0\n",
              "5404060   A3OYO7B6SS7QLH  1400501776               5.0\n",
              "2460470   A24P4E3RJ6AX94  1400501776               5.0\n",
              "7681860   A3OZA8HNJM26DC  1400501776               5.0\n",
              "5618919   A24J2Y1O22JYZX  1400501776               5.0\n",
              "3319833   A3P1508PZ0UADD  1400501776               5.0\n",
              "90273     A24HWYHR28JJ7A  1400501776               5.0\n",
              "5160564   A3P4T1DKRWTL36  1400501776               5.0\n",
              "2202627   A24ARANWS5E3T8  1400501776               5.0\n",
              "2539246   A3P69DTOXII004  1400501776               5.0\n",
              "1250272   A25C2M3QF9G7OQ  1400501776               5.0\n",
              "9702272   A247L282PID4PE  1400501776               5.0\n",
              "7552901   A3NXJDNTQK2YJL  1400501776               5.0\n",
              "9050264   A3NVZTGPORNPRW  1400501776               5.0\n",
              "3692205   A26EQ8U96JA92T  1400501776               5.0\n",
              "1472281   A3N0P5AAMP6XD2  1400501776               5.0\n",
              "...                  ...         ...               ...\n",
              "8066745   A3U5HKDHPYBAK3  B004YIZXEC               4.0\n",
              "4513961   A100UD67AHFODS  B004YIZXEC               4.0\n",
              "252952    A1Z3598J0371ND  B004YIZXEC               4.0\n",
              "2343896   A1YN5I4FINMBTI  B004YIZXEC               4.0\n",
              "6290207   A3V0YR50F1XSKP  B004YIZXEC               4.0\n",
              "9055452   A1Y051MQ2SVPFI  B004YIZXEC               4.0\n",
              "4685831   A362FM6FYA1SYS  B004YIZXEC               4.0\n",
              "2272270   A2N3JSOIQ6ZNFL  B004YIZXEC               4.0\n",
              "7765859   A1X2LENOF84LCQ  B004YIZXEC               4.0\n",
              "8976647   A3VBXQKRM7A4JR  B004YIZXEC               4.0\n",
              "3267721   A1X3DA7C61WZLQ  B004YIZXEC               4.0\n",
              "9728963   A3V8P0O224OBDB  B004YIZXEC               4.0\n",
              "8073912   A361M14PU2GUEG  B004YIZXEC               4.0\n",
              "811476    A1X3ESYZ79H59E  B004YIZXEC               4.0\n",
              "4764620   A3V7D0LH8L7BG0  B004YIZXEC               4.0\n",
              "961879    A2MSBIA18RXYQC  B004YIZXEC               4.0\n",
              "9657298   A1XB7JGJ459ERP  B004YIZXEC               4.0\n",
              "3067203   A3V6Z4RCDGRC44  B004YIZXEC               4.0\n",
              "6949247   A1XE3M22N91451  B004YIZXEC               4.0\n",
              "1119401   A3V6QSTG2T9MIO  B004YIZXEC               4.0\n",
              "4564110   A361U4SXK7FCQE  B004YIZXEC               4.0\n",
              "3482545   A1XEQGYY1IL8CD  B004YIZXEC               4.0\n",
              "3339339   A3V5F050GVZ56Q  B004YIZXEC               4.0\n",
              "3274887   A2MR696ZU17F12  B004YIZXEC               4.0\n",
              "832971    A1XK4VP74IB9TQ  B004YIZXEC               4.0\n",
              "9915273   A3V2EZ6MA32FF6  B004YIZXEC               4.0\n",
              "2623198   A1XXMNLOLKNO0I  B004YIZXEC               4.0\n",
              "5939252   A3V15SFD7918WZ  B004YIZXEC               4.0\n",
              "124110    A21INUA35HX4XQ  B004YIZXEC               4.0\n",
              "453400    A2WW57XX2UVLM6  B004YIZXEC               4.0\n",
              "\n",
              "[4359 rows x 3 columns]"
            ]
          },
          "metadata": {
            "tags": []
          },
          "execution_count": 46
        }
      ]
    },
    {
      "cell_type": "markdown",
      "metadata": {
        "id": "CQ3lohxBFlFI",
        "colab_type": "text"
      },
      "source": [
        "### SVD Based Recommendation"
      ]
    },
    {
      "cell_type": "code",
      "metadata": {
        "id": "WnCHvMKyDQPq",
        "colab_type": "code",
        "colab": {}
      },
      "source": [
        "from surprise import Dataset,Reader\n",
        "#reader = Reader(rating_scale=(1, 5))\n",
        "#data = Dataset.load_from_df(data[['Userid', 'Productid', 'Rating']], reader)"
      ],
      "execution_count": 0,
      "outputs": []
    },
    {
      "cell_type": "code",
      "metadata": {
        "id": "vJAIbmg9Fx4z",
        "colab_type": "code",
        "colab": {}
      },
      "source": [
        "# Split data to train and test\n",
        "from surprise.model_selection import train_test_split\n",
        "trainset, testset = train_test_split(data, test_size=.25,random_state=123)"
      ],
      "execution_count": 0,
      "outputs": []
    },
    {
      "cell_type": "code",
      "metadata": {
        "id": "DRdhzJLZF5or",
        "colab_type": "code",
        "colab": {}
      },
      "source": [
        "from surprise import SVD\n",
        "from surprise import accuracy"
      ],
      "execution_count": 0,
      "outputs": []
    },
    {
      "cell_type": "code",
      "metadata": {
        "id": "By_1-b2YGmf6",
        "colab_type": "code",
        "outputId": "e3f6c7d3-9252-439f-b033-5c519696461c",
        "colab": {
          "base_uri": "https://localhost:8080/",
          "height": 341
        }
      },
      "source": [
        "from surprise.model_selection import cross_validate\n",
        "svd_model = SVD()\n",
        "cross_validate(svd_model, data, measures=['RMSE', 'MAE'], cv=5, verbose=True)"
      ],
      "execution_count": 50,
      "outputs": [
        {
          "output_type": "stream",
          "text": [
            "Evaluating RMSE, MAE of algorithm SVD on 5 split(s).\n",
            "\n",
            "                  Fold 1  Fold 2  Fold 3  Fold 4  Fold 5  Mean    Std     \n",
            "RMSE (testset)    1.0119  1.0261  1.0428  0.9970  1.0222  1.0200  0.0152  \n",
            "MAE (testset)     0.7761  0.7849  0.7884  0.7753  0.7796  0.7809  0.0051  \n",
            "Fit time          0.79    0.80    0.80    0.80    0.79    0.80    0.00    \n",
            "Test time         0.02    0.02    0.02    0.02    0.02    0.02    0.00    \n"
          ],
          "name": "stdout"
        },
        {
          "output_type": "execute_result",
          "data": {
            "text/plain": [
              "{'fit_time': (0.7933461666107178,\n",
              "  0.7961201667785645,\n",
              "  0.7982075214385986,\n",
              "  0.801358699798584,\n",
              "  0.7931540012359619),\n",
              " 'test_mae': array([0.77608845, 0.78493262, 0.7884477 , 0.7752673 , 0.77960572]),\n",
              " 'test_rmse': array([1.01188585, 1.02608955, 1.04277638, 0.99698571, 1.02215456]),\n",
              " 'test_time': (0.0240628719329834,\n",
              "  0.020660877227783203,\n",
              "  0.019916772842407227,\n",
              "  0.020597457885742188,\n",
              "  0.02048468589782715)}"
            ]
          },
          "metadata": {
            "tags": []
          },
          "execution_count": 50
        }
      ]
    },
    {
      "cell_type": "code",
      "metadata": {
        "id": "dUg3AKOkKDpO",
        "colab_type": "code",
        "outputId": "cb8ea024-1c1b-4144-80e4-c91618732f05",
        "colab": {
          "base_uri": "https://localhost:8080/",
          "height": 51
        }
      },
      "source": [
        "from surprise.model_selection import GridSearchCV\n",
        "\n",
        "param_grid = {'n_epochs': [10, 40], 'lr_all': [0.002, 0.009],\n",
        "              'reg_all': [0.2,0.4, 0.6]}\n",
        "gs = GridSearchCV(SVD, param_grid, measures=['rmse', 'mae'], cv=5)\n",
        "\n",
        "gs.fit(data)\n",
        "\n",
        "# best RMSE score\n",
        "print(gs.best_score['rmse'])\n",
        "\n",
        "# combination of parameters that gave the best RMSE score\n",
        "print(gs.best_params['rmse'])"
      ],
      "execution_count": 51,
      "outputs": [
        {
          "output_type": "stream",
          "text": [
            "1.0200859156923123\n",
            "{'n_epochs': 40, 'lr_all': 0.009, 'reg_all': 0.4}\n"
          ],
          "name": "stdout"
        }
      ]
    },
    {
      "cell_type": "markdown",
      "metadata": {
        "id": "fPHMERzSX_ck",
        "colab_type": "text"
      },
      "source": [
        "RMSE is less for SVD based when compared to KNNwithMeans"
      ]
    },
    {
      "cell_type": "code",
      "metadata": {
        "id": "TS7hseABMwG-",
        "colab_type": "code",
        "outputId": "eda7ab64-aee8-463f-afea-4a8efd440168",
        "colab": {
          "base_uri": "https://localhost:8080/",
          "height": 34
        }
      },
      "source": [
        "svd_model = SVD(n_epochs=40,lr_all=0.009,reg_all= 0.4)\n",
        "svd_model.fit(trainset)"
      ],
      "execution_count": 52,
      "outputs": [
        {
          "output_type": "execute_result",
          "data": {
            "text/plain": [
              "<surprise.prediction_algorithms.matrix_factorization.SVD at 0x7f71081d23c8>"
            ]
          },
          "metadata": {
            "tags": []
          },
          "execution_count": 52
        }
      ]
    },
    {
      "cell_type": "code",
      "metadata": {
        "id": "jayf9Qi7QgK4",
        "colab_type": "code",
        "colab": {}
      },
      "source": [
        "test_pred = svd_model.test(testset)"
      ],
      "execution_count": 0,
      "outputs": []
    },
    {
      "cell_type": "code",
      "metadata": {
        "id": "UYhstGeiQlm_",
        "colab_type": "code",
        "colab": {}
      },
      "source": [
        "test_pred_df = pd.DataFrame([[x.uid,x.iid,x.est] for x in test_pred])"
      ],
      "execution_count": 0,
      "outputs": []
    },
    {
      "cell_type": "code",
      "metadata": {
        "id": "0m1fMJdNQq3L",
        "colab_type": "code",
        "colab": {}
      },
      "source": [
        "test_pred_df.columns = [\"Userid\",\"Productid\",\"Estimated_rating\"]\n",
        "test_pred_df.sort_values(by = [\"Productid\", \"Estimated_rating\"],ascending=False,inplace=True)"
      ],
      "execution_count": 0,
      "outputs": []
    },
    {
      "cell_type": "markdown",
      "metadata": {
        "id": "rvdPtwqBUDYb",
        "colab_type": "text"
      },
      "source": [
        "### 7.\tGet top - K ( K = 5) recommendations"
      ]
    },
    {
      "cell_type": "code",
      "metadata": {
        "id": "u-9D4UI-Qz5V",
        "colab_type": "code",
        "colab": {}
      },
      "source": [
        "#top_10_recos = test_pred_df.groupby(\"Userid\").head(10)\n",
        "top_5_similar_user_rating = test_pred_df.groupby(\"Productid\").count().sort_values(by=\n",
        "                             ['Estimated_rating'],ascending=False).head(5).reset_index() # Since k=5"
      ],
      "execution_count": 0,
      "outputs": []
    },
    {
      "cell_type": "code",
      "metadata": {
        "id": "XokLqQD7Q1QU",
        "colab_type": "code",
        "outputId": "3b5fd790-d219-4b51-aa66-5dc6e59b886a",
        "colab": {
          "base_uri": "https://localhost:8080/",
          "height": 1000
        }
      },
      "source": [
        "test_pred_df[test_pred_df['Productid'].isin(top_5_similar_user_rating['Productid'])][test_pred_df['Estimated_rating'] > 3]"
      ],
      "execution_count": 57,
      "outputs": [
        {
          "output_type": "stream",
          "text": [
            "/usr/local/lib/python3.6/dist-packages/ipykernel_launcher.py:1: UserWarning: Boolean Series key will be reindexed to match DataFrame index.\n",
            "  \"\"\"Entry point for launching an IPython kernel.\n"
          ],
          "name": "stderr"
        },
        {
          "output_type": "execute_result",
          "data": {
            "text/html": [
              "<div>\n",
              "<style scoped>\n",
              "    .dataframe tbody tr th:only-of-type {\n",
              "        vertical-align: middle;\n",
              "    }\n",
              "\n",
              "    .dataframe tbody tr th {\n",
              "        vertical-align: top;\n",
              "    }\n",
              "\n",
              "    .dataframe thead th {\n",
              "        text-align: right;\n",
              "    }\n",
              "</style>\n",
              "<table border=\"1\" class=\"dataframe\">\n",
              "  <thead>\n",
              "    <tr style=\"text-align: right;\">\n",
              "      <th></th>\n",
              "      <th>Userid</th>\n",
              "      <th>Productid</th>\n",
              "      <th>Estimated_rating</th>\n",
              "    </tr>\n",
              "  </thead>\n",
              "  <tbody>\n",
              "    <tr>\n",
              "      <th>1561</th>\n",
              "      <td>A379DLIAF0MFM5</td>\n",
              "      <td>B008DWCRQW</td>\n",
              "      <td>4.606962</td>\n",
              "    </tr>\n",
              "    <tr>\n",
              "      <th>2329</th>\n",
              "      <td>A2M14CFAMF8J7I</td>\n",
              "      <td>B008DWCRQW</td>\n",
              "      <td>4.328517</td>\n",
              "    </tr>\n",
              "    <tr>\n",
              "      <th>2797</th>\n",
              "      <td>A19NP8YYADOOSF</td>\n",
              "      <td>B008DWCRQW</td>\n",
              "      <td>4.322337</td>\n",
              "    </tr>\n",
              "    <tr>\n",
              "      <th>1099</th>\n",
              "      <td>A16QODENBJVUI1</td>\n",
              "      <td>B008DWCRQW</td>\n",
              "      <td>4.280437</td>\n",
              "    </tr>\n",
              "    <tr>\n",
              "      <th>1767</th>\n",
              "      <td>A1RL1OTV8IJMVD</td>\n",
              "      <td>B008DWCRQW</td>\n",
              "      <td>4.229712</td>\n",
              "    </tr>\n",
              "    <tr>\n",
              "      <th>1978</th>\n",
              "      <td>AL5CUWBFBMWYQ</td>\n",
              "      <td>B008DWCRQW</td>\n",
              "      <td>4.164932</td>\n",
              "    </tr>\n",
              "    <tr>\n",
              "      <th>1436</th>\n",
              "      <td>A14NA0W8ESGDSI</td>\n",
              "      <td>B008DWCRQW</td>\n",
              "      <td>4.162459</td>\n",
              "    </tr>\n",
              "    <tr>\n",
              "      <th>181</th>\n",
              "      <td>A2XRIU3SOYZ0ZC</td>\n",
              "      <td>B00829TIEK</td>\n",
              "      <td>4.554174</td>\n",
              "    </tr>\n",
              "    <tr>\n",
              "      <th>2051</th>\n",
              "      <td>AGFSSC5DBY2HU</td>\n",
              "      <td>B00829TIEK</td>\n",
              "      <td>4.467085</td>\n",
              "    </tr>\n",
              "    <tr>\n",
              "      <th>541</th>\n",
              "      <td>A3R1WFO4KIUQXZ</td>\n",
              "      <td>B00829TIEK</td>\n",
              "      <td>4.244414</td>\n",
              "    </tr>\n",
              "    <tr>\n",
              "      <th>1493</th>\n",
              "      <td>A680RUE1FDO8B</td>\n",
              "      <td>B00829TIEK</td>\n",
              "      <td>4.176545</td>\n",
              "    </tr>\n",
              "    <tr>\n",
              "      <th>2948</th>\n",
              "      <td>AGGAQLXPVGM5D</td>\n",
              "      <td>B00829TIEK</td>\n",
              "      <td>4.156021</td>\n",
              "    </tr>\n",
              "    <tr>\n",
              "      <th>2960</th>\n",
              "      <td>A3JLOIXFM75QNV</td>\n",
              "      <td>B00829TIEK</td>\n",
              "      <td>3.885791</td>\n",
              "    </tr>\n",
              "    <tr>\n",
              "      <th>1828</th>\n",
              "      <td>A3IJL9A50KVVZ1</td>\n",
              "      <td>B007WTAJTO</td>\n",
              "      <td>4.902926</td>\n",
              "    </tr>\n",
              "    <tr>\n",
              "      <th>1576</th>\n",
              "      <td>ABVYGB2TKBO8F</td>\n",
              "      <td>B007WTAJTO</td>\n",
              "      <td>4.695649</td>\n",
              "    </tr>\n",
              "    <tr>\n",
              "      <th>284</th>\n",
              "      <td>A18FLOC8YQY0P8</td>\n",
              "      <td>B007WTAJTO</td>\n",
              "      <td>4.689448</td>\n",
              "    </tr>\n",
              "    <tr>\n",
              "      <th>2536</th>\n",
              "      <td>A1WF4QNIE2Z3I7</td>\n",
              "      <td>B007WTAJTO</td>\n",
              "      <td>4.577060</td>\n",
              "    </tr>\n",
              "    <tr>\n",
              "      <th>1857</th>\n",
              "      <td>A313H6238N589</td>\n",
              "      <td>B007WTAJTO</td>\n",
              "      <td>4.440146</td>\n",
              "    </tr>\n",
              "    <tr>\n",
              "      <th>2474</th>\n",
              "      <td>A2WJ5XSE4I9F55</td>\n",
              "      <td>B007WTAJTO</td>\n",
              "      <td>4.087763</td>\n",
              "    </tr>\n",
              "    <tr>\n",
              "      <th>1928</th>\n",
              "      <td>A2V0I904FH7ABY</td>\n",
              "      <td>B004CLYEE6</td>\n",
              "      <td>4.811473</td>\n",
              "    </tr>\n",
              "    <tr>\n",
              "      <th>2378</th>\n",
              "      <td>A3VBXQKRM7A4JR</td>\n",
              "      <td>B004CLYEE6</td>\n",
              "      <td>4.589079</td>\n",
              "    </tr>\n",
              "    <tr>\n",
              "      <th>1910</th>\n",
              "      <td>AYOMAHLWRQHUG</td>\n",
              "      <td>B004CLYEE6</td>\n",
              "      <td>4.509404</td>\n",
              "    </tr>\n",
              "    <tr>\n",
              "      <th>486</th>\n",
              "      <td>A2L4ZGN7GZJ95T</td>\n",
              "      <td>B004CLYEE6</td>\n",
              "      <td>4.451708</td>\n",
              "    </tr>\n",
              "    <tr>\n",
              "      <th>2579</th>\n",
              "      <td>A3D1TZH619NKHN</td>\n",
              "      <td>B004CLYEE6</td>\n",
              "      <td>4.349298</td>\n",
              "    </tr>\n",
              "    <tr>\n",
              "      <th>1655</th>\n",
              "      <td>AO2EURP2Y4JZM</td>\n",
              "      <td>B004CLYEE6</td>\n",
              "      <td>4.304487</td>\n",
              "    </tr>\n",
              "    <tr>\n",
              "      <th>772</th>\n",
              "      <td>A3TAS1AG6FMBQW</td>\n",
              "      <td>B003ES5ZUU</td>\n",
              "      <td>5.000000</td>\n",
              "    </tr>\n",
              "    <tr>\n",
              "      <th>935</th>\n",
              "      <td>A2OWR5G2OAQF7C</td>\n",
              "      <td>B003ES5ZUU</td>\n",
              "      <td>4.925015</td>\n",
              "    </tr>\n",
              "    <tr>\n",
              "      <th>409</th>\n",
              "      <td>A3OXHLG6DIBRW8</td>\n",
              "      <td>B003ES5ZUU</td>\n",
              "      <td>4.821328</td>\n",
              "    </tr>\n",
              "    <tr>\n",
              "      <th>2097</th>\n",
              "      <td>A3077MQTAKOVFZ</td>\n",
              "      <td>B003ES5ZUU</td>\n",
              "      <td>4.767434</td>\n",
              "    </tr>\n",
              "    <tr>\n",
              "      <th>2519</th>\n",
              "      <td>A22I55P15NSAOX</td>\n",
              "      <td>B003ES5ZUU</td>\n",
              "      <td>4.765010</td>\n",
              "    </tr>\n",
              "    <tr>\n",
              "      <th>1954</th>\n",
              "      <td>A3DGJMO6VPG6FJ</td>\n",
              "      <td>B003ES5ZUU</td>\n",
              "      <td>4.621871</td>\n",
              "    </tr>\n",
              "  </tbody>\n",
              "</table>\n",
              "</div>"
            ],
            "text/plain": [
              "              Userid   Productid  Estimated_rating\n",
              "1561  A379DLIAF0MFM5  B008DWCRQW          4.606962\n",
              "2329  A2M14CFAMF8J7I  B008DWCRQW          4.328517\n",
              "2797  A19NP8YYADOOSF  B008DWCRQW          4.322337\n",
              "1099  A16QODENBJVUI1  B008DWCRQW          4.280437\n",
              "1767  A1RL1OTV8IJMVD  B008DWCRQW          4.229712\n",
              "1978   AL5CUWBFBMWYQ  B008DWCRQW          4.164932\n",
              "1436  A14NA0W8ESGDSI  B008DWCRQW          4.162459\n",
              "181   A2XRIU3SOYZ0ZC  B00829TIEK          4.554174\n",
              "2051   AGFSSC5DBY2HU  B00829TIEK          4.467085\n",
              "541   A3R1WFO4KIUQXZ  B00829TIEK          4.244414\n",
              "1493   A680RUE1FDO8B  B00829TIEK          4.176545\n",
              "2948   AGGAQLXPVGM5D  B00829TIEK          4.156021\n",
              "2960  A3JLOIXFM75QNV  B00829TIEK          3.885791\n",
              "1828  A3IJL9A50KVVZ1  B007WTAJTO          4.902926\n",
              "1576   ABVYGB2TKBO8F  B007WTAJTO          4.695649\n",
              "284   A18FLOC8YQY0P8  B007WTAJTO          4.689448\n",
              "2536  A1WF4QNIE2Z3I7  B007WTAJTO          4.577060\n",
              "1857   A313H6238N589  B007WTAJTO          4.440146\n",
              "2474  A2WJ5XSE4I9F55  B007WTAJTO          4.087763\n",
              "1928  A2V0I904FH7ABY  B004CLYEE6          4.811473\n",
              "2378  A3VBXQKRM7A4JR  B004CLYEE6          4.589079\n",
              "1910   AYOMAHLWRQHUG  B004CLYEE6          4.509404\n",
              "486   A2L4ZGN7GZJ95T  B004CLYEE6          4.451708\n",
              "2579  A3D1TZH619NKHN  B004CLYEE6          4.349298\n",
              "1655   AO2EURP2Y4JZM  B004CLYEE6          4.304487\n",
              "772   A3TAS1AG6FMBQW  B003ES5ZUU          5.000000\n",
              "935   A2OWR5G2OAQF7C  B003ES5ZUU          4.925015\n",
              "409   A3OXHLG6DIBRW8  B003ES5ZUU          4.821328\n",
              "2097  A3077MQTAKOVFZ  B003ES5ZUU          4.767434\n",
              "2519  A22I55P15NSAOX  B003ES5ZUU          4.765010\n",
              "1954  A3DGJMO6VPG6FJ  B003ES5ZUU          4.621871"
            ]
          },
          "metadata": {
            "tags": []
          },
          "execution_count": 57
        }
      ]
    },
    {
      "cell_type": "markdown",
      "metadata": {
        "id": "-cBPppe1XE51",
        "colab_type": "text"
      },
      "source": [
        "#### Insights:\n",
        "    Since RSME in Knnwithmeans is high, I went for trying the SVD.\n",
        "    SVD based recommendation provides better result when compared to KNNwithMeans for this dataset as RMSE is less in case of SVD.\n",
        "    For Popularity based recommendation, mean based engine is modeled without filtering the 10% of dataset after taking only users rates above 50 rating count.\n",
        "    \n",
        "    Below are the top 5 Amazon products using  the review based on the different models.\n",
        "    \n",
        "    "
      ]
    },
    {
      "cell_type": "code",
      "metadata": {
        "id": "gXO-SVYpQ5sW",
        "colab_type": "code",
        "colab": {
          "base_uri": "https://localhost:8080/",
          "height": 34
        },
        "outputId": "54e9117a-6681-4182-c781-2d230a9c82ca"
      },
      "source": [
        "print(\"Using popularity recommended model, the popular new products are : \", popularProducts['Productid'].unique())"
      ],
      "execution_count": 58,
      "outputs": [
        {
          "output_type": "stream",
          "text": [
            "Using popularity recommended model, the popular new products are :  ['B000N99BBC' 'B003ES5ZUU' 'B007WTAJTO' 'B00829TIEK' 'B0088CJT4U']\n"
          ],
          "name": "stdout"
        }
      ]
    },
    {
      "cell_type": "code",
      "metadata": {
        "id": "kZk3wcn6cRET",
        "colab_type": "code",
        "colab": {
          "base_uri": "https://localhost:8080/",
          "height": 34
        },
        "outputId": "8981752c-61c4-4761-a77e-d97bbc538608"
      },
      "source": [
        "print(\"Using Collaborative recommender model, the recommended products are : \", top_5_similar_user_rating_knn['Productid'].unique())"
      ],
      "execution_count": 61,
      "outputs": [
        {
          "output_type": "stream",
          "text": [
            "Using Collaborative recommender model, the recommended products are :  ['1400501776' 'B004YB60KA' 'B004YIZXEC' 'B004YIZWG6' 'B004YIZW16']\n"
          ],
          "name": "stdout"
        }
      ]
    },
    {
      "cell_type": "code",
      "metadata": {
        "id": "JGJ1iuoSc5HI",
        "colab_type": "code",
        "colab": {
          "base_uri": "https://localhost:8080/",
          "height": 34
        },
        "outputId": "689eb16a-f596-487e-a50a-8c015825b168"
      },
      "source": [
        "print(\"Using SVD recommender model, the recommended products are : \", top_5_similar_user_rating['Productid'].unique())"
      ],
      "execution_count": 62,
      "outputs": [
        {
          "output_type": "stream",
          "text": [
            "Using SVD recommender model, the recommended products are :  ['B008DWCRQW' 'B00829TIEK' 'B004CLYEE6' 'B007WTAJTO' 'B003ES5ZUU']\n"
          ],
          "name": "stdout"
        }
      ]
    },
    {
      "cell_type": "code",
      "metadata": {
        "id": "Z86xn6dwdAnT",
        "colab_type": "code",
        "colab": {}
      },
      "source": [
        ""
      ],
      "execution_count": 0,
      "outputs": []
    }
  ]
}