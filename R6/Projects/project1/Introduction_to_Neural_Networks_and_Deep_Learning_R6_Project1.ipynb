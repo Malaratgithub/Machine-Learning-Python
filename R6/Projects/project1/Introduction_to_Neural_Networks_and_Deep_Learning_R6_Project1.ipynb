{
  "nbformat": 4,
  "nbformat_minor": 0,
  "metadata": {
    "colab": {
      "name": "Introduction to Neural Networks and Deep Learning_R6_Project1.ipynb",
      "version": "0.3.2",
      "provenance": [],
      "collapsed_sections": []
    },
    "kernelspec": {
      "name": "python3",
      "display_name": "Python 3"
    }
  },
  "cells": [
    {
      "cell_type": "code",
      "metadata": {
        "id": "cfnLmA1jaKYA",
        "colab_type": "code",
        "outputId": "9797992b-737d-4a52-c480-0c50e6a34dac",
        "colab": {
          "base_uri": "https://localhost:8080/",
          "height": 34
        }
      },
      "source": [
        "from google.colab import drive\n",
        "drive.mount('gdrive')"
      ],
      "execution_count": 277,
      "outputs": [
        {
          "output_type": "stream",
          "text": [
            "Drive already mounted at gdrive; to attempt to forcibly remount, call drive.mount(\"gdrive\", force_remount=True).\n"
          ],
          "name": "stdout"
        }
      ]
    },
    {
      "cell_type": "code",
      "metadata": {
        "id": "asskrgaXaapl",
        "colab_type": "code",
        "colab": {}
      },
      "source": [
        "import tensorflow as tf"
      ],
      "execution_count": 0,
      "outputs": []
    },
    {
      "cell_type": "code",
      "metadata": {
        "id": "AKoCHmgfaweD",
        "colab_type": "code",
        "colab": {}
      },
      "source": [
        "import pandas as pd"
      ],
      "execution_count": 0,
      "outputs": []
    },
    {
      "cell_type": "code",
      "metadata": {
        "id": "W8t_dzmQayoO",
        "colab_type": "code",
        "outputId": "74728b0e-b3e0-42c8-8d79-ff961633b842",
        "colab": {
          "base_uri": "https://localhost:8080/",
          "height": 340
        }
      },
      "source": [
        "data = pd.read_csv('gdrive/My Drive/Colab Notebooks/AIML/R6/Projects/Project1/bank.csv')\n",
        "data.info()"
      ],
      "execution_count": 280,
      "outputs": [
        {
          "output_type": "stream",
          "text": [
            "<class 'pandas.core.frame.DataFrame'>\n",
            "RangeIndex: 10000 entries, 0 to 9999\n",
            "Data columns (total 14 columns):\n",
            "RowNumber          10000 non-null int64\n",
            "CustomerId         10000 non-null int64\n",
            "Surname            10000 non-null object\n",
            "CreditScore        10000 non-null int64\n",
            "Geography          10000 non-null object\n",
            "Gender             10000 non-null object\n",
            "Age                10000 non-null int64\n",
            "Tenure             10000 non-null int64\n",
            "Balance            10000 non-null float64\n",
            "NumOfProducts      10000 non-null int64\n",
            "HasCrCard          10000 non-null int64\n",
            "IsActiveMember     10000 non-null int64\n",
            "EstimatedSalary    10000 non-null float64\n",
            "Exited             10000 non-null int64\n",
            "dtypes: float64(2), int64(9), object(3)\n",
            "memory usage: 1.1+ MB\n"
          ],
          "name": "stdout"
        }
      ]
    },
    {
      "cell_type": "markdown",
      "metadata": {
        "id": "FJU-KXBb_dbj",
        "colab_type": "text"
      },
      "source": [
        "Information of the data set says there is no any null value for any column, so we can proceed to check the  uniqueness value of each column."
      ]
    },
    {
      "cell_type": "code",
      "metadata": {
        "id": "PoPHKYqSaq8x",
        "colab_type": "code",
        "outputId": "6a725667-7bc4-4daa-f3e1-a5d3e5284f1c",
        "colab": {
          "base_uri": "https://localhost:8080/",
          "height": 111
        }
      },
      "source": [
        "tempDf = data.groupby(by='Exited', as_index=False).agg({'CustomerId': pd.Series.nunique})\n",
        "tempDf[tempDf['CustomerId'] > 1]"
      ],
      "execution_count": 281,
      "outputs": [
        {
          "output_type": "execute_result",
          "data": {
            "text/html": [
              "<div>\n",
              "<style scoped>\n",
              "    .dataframe tbody tr th:only-of-type {\n",
              "        vertical-align: middle;\n",
              "    }\n",
              "\n",
              "    .dataframe tbody tr th {\n",
              "        vertical-align: top;\n",
              "    }\n",
              "\n",
              "    .dataframe thead th {\n",
              "        text-align: right;\n",
              "    }\n",
              "</style>\n",
              "<table border=\"1\" class=\"dataframe\">\n",
              "  <thead>\n",
              "    <tr style=\"text-align: right;\">\n",
              "      <th></th>\n",
              "      <th>Exited</th>\n",
              "      <th>CustomerId</th>\n",
              "    </tr>\n",
              "  </thead>\n",
              "  <tbody>\n",
              "    <tr>\n",
              "      <th>0</th>\n",
              "      <td>0</td>\n",
              "      <td>7963</td>\n",
              "    </tr>\n",
              "    <tr>\n",
              "      <th>1</th>\n",
              "      <td>1</td>\n",
              "      <td>2037</td>\n",
              "    </tr>\n",
              "  </tbody>\n",
              "</table>\n",
              "</div>"
            ],
            "text/plain": [
              "   Exited  CustomerId\n",
              "0       0        7963\n",
              "1       1        2037"
            ]
          },
          "metadata": {
            "tags": []
          },
          "execution_count": 281
        }
      ]
    },
    {
      "cell_type": "markdown",
      "metadata": {
        "id": "jkDd3o-gbRQ5",
        "colab_type": "text"
      },
      "source": [
        "#### There is an imbalance in the data as per above count of the Exited column."
      ]
    },
    {
      "cell_type": "code",
      "metadata": {
        "id": "t3l6AfkVa7u8",
        "colab_type": "code",
        "outputId": "407eae9b-f573-45ca-a967-7446f7a6c7ca",
        "colab": {
          "base_uri": "https://localhost:8080/",
          "height": 1000
        }
      },
      "source": [
        "tempDf = data.groupby(by='Surname', as_index=False).agg({'CustomerId': pd.Series.nunique})\n",
        "tempDf[tempDf['CustomerId'] > 1]"
      ],
      "execution_count": 282,
      "outputs": [
        {
          "output_type": "execute_result",
          "data": {
            "text/html": [
              "<div>\n",
              "<style scoped>\n",
              "    .dataframe tbody tr th:only-of-type {\n",
              "        vertical-align: middle;\n",
              "    }\n",
              "\n",
              "    .dataframe tbody tr th {\n",
              "        vertical-align: top;\n",
              "    }\n",
              "\n",
              "    .dataframe thead th {\n",
              "        text-align: right;\n",
              "    }\n",
              "</style>\n",
              "<table border=\"1\" class=\"dataframe\">\n",
              "  <thead>\n",
              "    <tr style=\"text-align: right;\">\n",
              "      <th></th>\n",
              "      <th>Surname</th>\n",
              "      <th>CustomerId</th>\n",
              "    </tr>\n",
              "  </thead>\n",
              "  <tbody>\n",
              "    <tr>\n",
              "      <th>0</th>\n",
              "      <td>Abazu</td>\n",
              "      <td>2</td>\n",
              "    </tr>\n",
              "    <tr>\n",
              "      <th>2</th>\n",
              "      <td>Abbott</td>\n",
              "      <td>4</td>\n",
              "    </tr>\n",
              "    <tr>\n",
              "      <th>4</th>\n",
              "      <td>Abdulov</td>\n",
              "      <td>2</td>\n",
              "    </tr>\n",
              "    <tr>\n",
              "      <th>6</th>\n",
              "      <td>Abernathy</td>\n",
              "      <td>2</td>\n",
              "    </tr>\n",
              "    <tr>\n",
              "      <th>8</th>\n",
              "      <td>Abramova</td>\n",
              "      <td>2</td>\n",
              "    </tr>\n",
              "    <tr>\n",
              "      <th>9</th>\n",
              "      <td>Abramovich</td>\n",
              "      <td>5</td>\n",
              "    </tr>\n",
              "    <tr>\n",
              "      <th>10</th>\n",
              "      <td>Abramowitz</td>\n",
              "      <td>2</td>\n",
              "    </tr>\n",
              "    <tr>\n",
              "      <th>13</th>\n",
              "      <td>Achebe</td>\n",
              "      <td>3</td>\n",
              "    </tr>\n",
              "    <tr>\n",
              "      <th>14</th>\n",
              "      <td>Adams</td>\n",
              "      <td>10</td>\n",
              "    </tr>\n",
              "    <tr>\n",
              "      <th>15</th>\n",
              "      <td>Adamson</td>\n",
              "      <td>2</td>\n",
              "    </tr>\n",
              "    <tr>\n",
              "      <th>16</th>\n",
              "      <td>Afamefula</td>\n",
              "      <td>2</td>\n",
              "    </tr>\n",
              "    <tr>\n",
              "      <th>17</th>\n",
              "      <td>Afamefuna</td>\n",
              "      <td>2</td>\n",
              "    </tr>\n",
              "    <tr>\n",
              "      <th>19</th>\n",
              "      <td>Afanasyeva</td>\n",
              "      <td>2</td>\n",
              "    </tr>\n",
              "    <tr>\n",
              "      <th>20</th>\n",
              "      <td>Agafonova</td>\n",
              "      <td>2</td>\n",
              "    </tr>\n",
              "    <tr>\n",
              "      <th>24</th>\n",
              "      <td>Ahmed</td>\n",
              "      <td>4</td>\n",
              "    </tr>\n",
              "    <tr>\n",
              "      <th>28</th>\n",
              "      <td>Aitken</td>\n",
              "      <td>8</td>\n",
              "    </tr>\n",
              "    <tr>\n",
              "      <th>29</th>\n",
              "      <td>Ajuluchukwu</td>\n",
              "      <td>5</td>\n",
              "    </tr>\n",
              "    <tr>\n",
              "      <th>30</th>\n",
              "      <td>Akabueze</td>\n",
              "      <td>8</td>\n",
              "    </tr>\n",
              "    <tr>\n",
              "      <th>32</th>\n",
              "      <td>Akhtar</td>\n",
              "      <td>5</td>\n",
              "    </tr>\n",
              "    <tr>\n",
              "      <th>33</th>\n",
              "      <td>Akobundu</td>\n",
              "      <td>7</td>\n",
              "    </tr>\n",
              "    <tr>\n",
              "      <th>35</th>\n",
              "      <td>Aksenov</td>\n",
              "      <td>7</td>\n",
              "    </tr>\n",
              "    <tr>\n",
              "      <th>37</th>\n",
              "      <td>Aksyonov</td>\n",
              "      <td>2</td>\n",
              "    </tr>\n",
              "    <tr>\n",
              "      <th>38</th>\n",
              "      <td>Aksyonova</td>\n",
              "      <td>2</td>\n",
              "    </tr>\n",
              "    <tr>\n",
              "      <th>39</th>\n",
              "      <td>Akubundu</td>\n",
              "      <td>2</td>\n",
              "    </tr>\n",
              "    <tr>\n",
              "      <th>45</th>\n",
              "      <td>Aleksandrova</td>\n",
              "      <td>3</td>\n",
              "    </tr>\n",
              "    <tr>\n",
              "      <th>46</th>\n",
              "      <td>Alekseeva</td>\n",
              "      <td>4</td>\n",
              "    </tr>\n",
              "    <tr>\n",
              "      <th>47</th>\n",
              "      <td>Alekseyeva</td>\n",
              "      <td>3</td>\n",
              "    </tr>\n",
              "    <tr>\n",
              "      <th>49</th>\n",
              "      <td>Alexander</td>\n",
              "      <td>13</td>\n",
              "    </tr>\n",
              "    <tr>\n",
              "      <th>51</th>\n",
              "      <td>Alexandrova</td>\n",
              "      <td>3</td>\n",
              "    </tr>\n",
              "    <tr>\n",
              "      <th>52</th>\n",
              "      <td>Alexeeva</td>\n",
              "      <td>6</td>\n",
              "    </tr>\n",
              "    <tr>\n",
              "      <th>...</th>\n",
              "      <td>...</td>\n",
              "      <td>...</td>\n",
              "    </tr>\n",
              "    <tr>\n",
              "      <th>2880</th>\n",
              "      <td>Yen</td>\n",
              "      <td>14</td>\n",
              "    </tr>\n",
              "    <tr>\n",
              "      <th>2881</th>\n",
              "      <td>Yermakov</td>\n",
              "      <td>3</td>\n",
              "    </tr>\n",
              "    <tr>\n",
              "      <th>2882</th>\n",
              "      <td>Yermakova</td>\n",
              "      <td>4</td>\n",
              "    </tr>\n",
              "    <tr>\n",
              "      <th>2883</th>\n",
              "      <td>Yermolayev</td>\n",
              "      <td>2</td>\n",
              "    </tr>\n",
              "    <tr>\n",
              "      <th>2885</th>\n",
              "      <td>Yevdokimova</td>\n",
              "      <td>2</td>\n",
              "    </tr>\n",
              "    <tr>\n",
              "      <th>2886</th>\n",
              "      <td>Yevseyev</td>\n",
              "      <td>3</td>\n",
              "    </tr>\n",
              "    <tr>\n",
              "      <th>2888</th>\n",
              "      <td>Yin</td>\n",
              "      <td>11</td>\n",
              "    </tr>\n",
              "    <tr>\n",
              "      <th>2891</th>\n",
              "      <td>Yobachi</td>\n",
              "      <td>5</td>\n",
              "    </tr>\n",
              "    <tr>\n",
              "      <th>2892</th>\n",
              "      <td>Yobachukwu</td>\n",
              "      <td>5</td>\n",
              "    </tr>\n",
              "    <tr>\n",
              "      <th>2893</th>\n",
              "      <td>Yobanna</td>\n",
              "      <td>7</td>\n",
              "    </tr>\n",
              "    <tr>\n",
              "      <th>2897</th>\n",
              "      <td>Young</td>\n",
              "      <td>20</td>\n",
              "    </tr>\n",
              "    <tr>\n",
              "      <th>2899</th>\n",
              "      <td>Yu</td>\n",
              "      <td>10</td>\n",
              "    </tr>\n",
              "    <tr>\n",
              "      <th>2900</th>\n",
              "      <td>Yuan</td>\n",
              "      <td>13</td>\n",
              "    </tr>\n",
              "    <tr>\n",
              "      <th>2901</th>\n",
              "      <td>Yudin</td>\n",
              "      <td>4</td>\n",
              "    </tr>\n",
              "    <tr>\n",
              "      <th>2902</th>\n",
              "      <td>Yudina</td>\n",
              "      <td>4</td>\n",
              "    </tr>\n",
              "    <tr>\n",
              "      <th>2904</th>\n",
              "      <td>Yuriev</td>\n",
              "      <td>3</td>\n",
              "    </tr>\n",
              "    <tr>\n",
              "      <th>2905</th>\n",
              "      <td>Yuryeva</td>\n",
              "      <td>4</td>\n",
              "    </tr>\n",
              "    <tr>\n",
              "      <th>2907</th>\n",
              "      <td>Yusupova</td>\n",
              "      <td>3</td>\n",
              "    </tr>\n",
              "    <tr>\n",
              "      <th>2910</th>\n",
              "      <td>Zakharov</td>\n",
              "      <td>4</td>\n",
              "    </tr>\n",
              "    <tr>\n",
              "      <th>2912</th>\n",
              "      <td>Zaytseva</td>\n",
              "      <td>3</td>\n",
              "    </tr>\n",
              "    <tr>\n",
              "      <th>2913</th>\n",
              "      <td>Zetticci</td>\n",
              "      <td>11</td>\n",
              "    </tr>\n",
              "    <tr>\n",
              "      <th>2914</th>\n",
              "      <td>Zhdanov</td>\n",
              "      <td>2</td>\n",
              "    </tr>\n",
              "    <tr>\n",
              "      <th>2915</th>\n",
              "      <td>Zhdanova</td>\n",
              "      <td>4</td>\n",
              "    </tr>\n",
              "    <tr>\n",
              "      <th>2916</th>\n",
              "      <td>Zhirov</td>\n",
              "      <td>3</td>\n",
              "    </tr>\n",
              "    <tr>\n",
              "      <th>2918</th>\n",
              "      <td>Zikoranachidimma</td>\n",
              "      <td>6</td>\n",
              "    </tr>\n",
              "    <tr>\n",
              "      <th>2919</th>\n",
              "      <td>Zikoranachukwudimma</td>\n",
              "      <td>2</td>\n",
              "    </tr>\n",
              "    <tr>\n",
              "      <th>2923</th>\n",
              "      <td>Zito</td>\n",
              "      <td>6</td>\n",
              "    </tr>\n",
              "    <tr>\n",
              "      <th>2927</th>\n",
              "      <td>Zubarev</td>\n",
              "      <td>3</td>\n",
              "    </tr>\n",
              "    <tr>\n",
              "      <th>2930</th>\n",
              "      <td>Zuyev</td>\n",
              "      <td>2</td>\n",
              "    </tr>\n",
              "    <tr>\n",
              "      <th>2931</th>\n",
              "      <td>Zuyeva</td>\n",
              "      <td>2</td>\n",
              "    </tr>\n",
              "  </tbody>\n",
              "</table>\n",
              "<p>1374 rows × 2 columns</p>\n",
              "</div>"
            ],
            "text/plain": [
              "                  Surname  CustomerId\n",
              "0                   Abazu           2\n",
              "2                  Abbott           4\n",
              "4                 Abdulov           2\n",
              "6               Abernathy           2\n",
              "8                Abramova           2\n",
              "9              Abramovich           5\n",
              "10             Abramowitz           2\n",
              "13                 Achebe           3\n",
              "14                  Adams          10\n",
              "15                Adamson           2\n",
              "16              Afamefula           2\n",
              "17              Afamefuna           2\n",
              "19             Afanasyeva           2\n",
              "20              Agafonova           2\n",
              "24                  Ahmed           4\n",
              "28                 Aitken           8\n",
              "29            Ajuluchukwu           5\n",
              "30               Akabueze           8\n",
              "32                 Akhtar           5\n",
              "33               Akobundu           7\n",
              "35                Aksenov           7\n",
              "37               Aksyonov           2\n",
              "38              Aksyonova           2\n",
              "39               Akubundu           2\n",
              "45           Aleksandrova           3\n",
              "46              Alekseeva           4\n",
              "47             Alekseyeva           3\n",
              "49              Alexander          13\n",
              "51            Alexandrova           3\n",
              "52               Alexeeva           6\n",
              "...                   ...         ...\n",
              "2880                  Yen          14\n",
              "2881             Yermakov           3\n",
              "2882            Yermakova           4\n",
              "2883           Yermolayev           2\n",
              "2885          Yevdokimova           2\n",
              "2886             Yevseyev           3\n",
              "2888                  Yin          11\n",
              "2891              Yobachi           5\n",
              "2892           Yobachukwu           5\n",
              "2893              Yobanna           7\n",
              "2897                Young          20\n",
              "2899                   Yu          10\n",
              "2900                 Yuan          13\n",
              "2901                Yudin           4\n",
              "2902               Yudina           4\n",
              "2904               Yuriev           3\n",
              "2905              Yuryeva           4\n",
              "2907             Yusupova           3\n",
              "2910             Zakharov           4\n",
              "2912             Zaytseva           3\n",
              "2913             Zetticci          11\n",
              "2914              Zhdanov           2\n",
              "2915             Zhdanova           4\n",
              "2916               Zhirov           3\n",
              "2918     Zikoranachidimma           6\n",
              "2919  Zikoranachukwudimma           2\n",
              "2923                 Zito           6\n",
              "2927              Zubarev           3\n",
              "2930                Zuyev           2\n",
              "2931               Zuyeva           2\n",
              "\n",
              "[1374 rows x 2 columns]"
            ]
          },
          "metadata": {
            "tags": []
          },
          "execution_count": 282
        }
      ]
    },
    {
      "cell_type": "code",
      "metadata": {
        "id": "G4ctcDnwbTB_",
        "colab_type": "code",
        "outputId": "912b1a82-5da7-40c0-f65c-02babba35594",
        "colab": {
          "base_uri": "https://localhost:8080/",
          "height": 142
        }
      },
      "source": [
        "tempDf = data.groupby(by='Geography', as_index=False).agg({'CustomerId': pd.Series.nunique})\n",
        "tempDf[tempDf['CustomerId'] > 1]"
      ],
      "execution_count": 283,
      "outputs": [
        {
          "output_type": "execute_result",
          "data": {
            "text/html": [
              "<div>\n",
              "<style scoped>\n",
              "    .dataframe tbody tr th:only-of-type {\n",
              "        vertical-align: middle;\n",
              "    }\n",
              "\n",
              "    .dataframe tbody tr th {\n",
              "        vertical-align: top;\n",
              "    }\n",
              "\n",
              "    .dataframe thead th {\n",
              "        text-align: right;\n",
              "    }\n",
              "</style>\n",
              "<table border=\"1\" class=\"dataframe\">\n",
              "  <thead>\n",
              "    <tr style=\"text-align: right;\">\n",
              "      <th></th>\n",
              "      <th>Geography</th>\n",
              "      <th>CustomerId</th>\n",
              "    </tr>\n",
              "  </thead>\n",
              "  <tbody>\n",
              "    <tr>\n",
              "      <th>0</th>\n",
              "      <td>France</td>\n",
              "      <td>5014</td>\n",
              "    </tr>\n",
              "    <tr>\n",
              "      <th>1</th>\n",
              "      <td>Germany</td>\n",
              "      <td>2509</td>\n",
              "    </tr>\n",
              "    <tr>\n",
              "      <th>2</th>\n",
              "      <td>Spain</td>\n",
              "      <td>2477</td>\n",
              "    </tr>\n",
              "  </tbody>\n",
              "</table>\n",
              "</div>"
            ],
            "text/plain": [
              "  Geography  CustomerId\n",
              "0    France        5014\n",
              "1   Germany        2509\n",
              "2     Spain        2477"
            ]
          },
          "metadata": {
            "tags": []
          },
          "execution_count": 283
        }
      ]
    },
    {
      "cell_type": "markdown",
      "metadata": {
        "id": "_lXy1LaaAX8k",
        "colab_type": "text"
      },
      "source": [
        "Surname doesnt have unique values in its column."
      ]
    },
    {
      "cell_type": "code",
      "metadata": {
        "id": "ts7zktoceNbD",
        "colab_type": "code",
        "outputId": "bb12fd02-b0ab-46fa-fa81-04491db7c913",
        "colab": {
          "base_uri": "https://localhost:8080/",
          "height": 49
        }
      },
      "source": [
        "tempDf = data.groupby(by='RowNumber', as_index=False).agg({'CustomerId': pd.Series.nunique}) \n",
        "tempDf[tempDf['CustomerId'] > 1]"
      ],
      "execution_count": 284,
      "outputs": [
        {
          "output_type": "execute_result",
          "data": {
            "text/html": [
              "<div>\n",
              "<style scoped>\n",
              "    .dataframe tbody tr th:only-of-type {\n",
              "        vertical-align: middle;\n",
              "    }\n",
              "\n",
              "    .dataframe tbody tr th {\n",
              "        vertical-align: top;\n",
              "    }\n",
              "\n",
              "    .dataframe thead th {\n",
              "        text-align: right;\n",
              "    }\n",
              "</style>\n",
              "<table border=\"1\" class=\"dataframe\">\n",
              "  <thead>\n",
              "    <tr style=\"text-align: right;\">\n",
              "      <th></th>\n",
              "      <th>RowNumber</th>\n",
              "      <th>CustomerId</th>\n",
              "    </tr>\n",
              "  </thead>\n",
              "  <tbody>\n",
              "  </tbody>\n",
              "</table>\n",
              "</div>"
            ],
            "text/plain": [
              "Empty DataFrame\n",
              "Columns: [RowNumber, CustomerId]\n",
              "Index: []"
            ]
          },
          "metadata": {
            "tags": []
          },
          "execution_count": 284
        }
      ]
    },
    {
      "cell_type": "markdown",
      "metadata": {
        "id": "YYxxZjKGAhi9",
        "colab_type": "text"
      },
      "source": [
        "Row number has unique values, so this can be dropped."
      ]
    },
    {
      "cell_type": "code",
      "metadata": {
        "id": "iXaiCMlEe6oE",
        "colab_type": "code",
        "outputId": "d7bf6f5c-b64a-4162-fff0-a02e739ba162",
        "colab": {
          "base_uri": "https://localhost:8080/",
          "height": 80
        }
      },
      "source": [
        "tempDf = data.groupby(by='EstimatedSalary', as_index=False).agg({'CustomerId': pd.Series.nunique}) \n",
        "tempDf[tempDf['CustomerId'] > 1]"
      ],
      "execution_count": 285,
      "outputs": [
        {
          "output_type": "execute_result",
          "data": {
            "text/html": [
              "<div>\n",
              "<style scoped>\n",
              "    .dataframe tbody tr th:only-of-type {\n",
              "        vertical-align: middle;\n",
              "    }\n",
              "\n",
              "    .dataframe tbody tr th {\n",
              "        vertical-align: top;\n",
              "    }\n",
              "\n",
              "    .dataframe thead th {\n",
              "        text-align: right;\n",
              "    }\n",
              "</style>\n",
              "<table border=\"1\" class=\"dataframe\">\n",
              "  <thead>\n",
              "    <tr style=\"text-align: right;\">\n",
              "      <th></th>\n",
              "      <th>EstimatedSalary</th>\n",
              "      <th>CustomerId</th>\n",
              "    </tr>\n",
              "  </thead>\n",
              "  <tbody>\n",
              "    <tr>\n",
              "      <th>1211</th>\n",
              "      <td>24924.92</td>\n",
              "      <td>2</td>\n",
              "    </tr>\n",
              "  </tbody>\n",
              "</table>\n",
              "</div>"
            ],
            "text/plain": [
              "      EstimatedSalary  CustomerId\n",
              "1211         24924.92           2"
            ]
          },
          "metadata": {
            "tags": []
          },
          "execution_count": 285
        }
      ]
    },
    {
      "cell_type": "markdown",
      "metadata": {
        "id": "uewpbW4dAqqP",
        "colab_type": "text"
      },
      "source": [
        "EstimatedSalary has unique values for most of the rows, this column also can be dropped. Note that, I dropped and checked the accuracy of the model, the accuracy does not improve. "
      ]
    },
    {
      "cell_type": "code",
      "metadata": {
        "id": "lUbWg4OTfXDk",
        "colab_type": "code",
        "outputId": "476c1ea7-c22b-444d-9a47-1b100655167b",
        "colab": {
          "base_uri": "https://localhost:8080/",
          "height": 142
        }
      },
      "source": [
        "tempDf = data.groupby(by='Balance', as_index=False).agg({'CustomerId': pd.Series.nunique}) \n",
        "tempDf[tempDf['CustomerId'] > 1]"
      ],
      "execution_count": 286,
      "outputs": [
        {
          "output_type": "execute_result",
          "data": {
            "text/html": [
              "<div>\n",
              "<style scoped>\n",
              "    .dataframe tbody tr th:only-of-type {\n",
              "        vertical-align: middle;\n",
              "    }\n",
              "\n",
              "    .dataframe tbody tr th {\n",
              "        vertical-align: top;\n",
              "    }\n",
              "\n",
              "    .dataframe thead th {\n",
              "        text-align: right;\n",
              "    }\n",
              "</style>\n",
              "<table border=\"1\" class=\"dataframe\">\n",
              "  <thead>\n",
              "    <tr style=\"text-align: right;\">\n",
              "      <th></th>\n",
              "      <th>Balance</th>\n",
              "      <th>CustomerId</th>\n",
              "    </tr>\n",
              "  </thead>\n",
              "  <tbody>\n",
              "    <tr>\n",
              "      <th>0</th>\n",
              "      <td>0.00</td>\n",
              "      <td>3617</td>\n",
              "    </tr>\n",
              "    <tr>\n",
              "      <th>1995</th>\n",
              "      <td>105473.74</td>\n",
              "      <td>2</td>\n",
              "    </tr>\n",
              "    <tr>\n",
              "      <th>4115</th>\n",
              "      <td>130170.82</td>\n",
              "      <td>2</td>\n",
              "    </tr>\n",
              "  </tbody>\n",
              "</table>\n",
              "</div>"
            ],
            "text/plain": [
              "        Balance  CustomerId\n",
              "0          0.00        3617\n",
              "1995  105473.74           2\n",
              "4115  130170.82           2"
            ]
          },
          "metadata": {
            "tags": []
          },
          "execution_count": 286
        }
      ]
    },
    {
      "cell_type": "code",
      "metadata": {
        "id": "riHBs5D3du-q",
        "colab_type": "code",
        "outputId": "e481e523-77eb-4ee1-a659-dfd211270726",
        "colab": {
          "base_uri": "https://localhost:8080/",
          "height": 1000
        }
      },
      "source": [
        "tempDf = data.groupby(by='CreditScore', as_index=False).agg({'CustomerId': pd.Series.nunique}) \n",
        "tempDf[tempDf['CustomerId'] > 1]"
      ],
      "execution_count": 287,
      "outputs": [
        {
          "output_type": "execute_result",
          "data": {
            "text/html": [
              "<div>\n",
              "<style scoped>\n",
              "    .dataframe tbody tr th:only-of-type {\n",
              "        vertical-align: middle;\n",
              "    }\n",
              "\n",
              "    .dataframe tbody tr th {\n",
              "        vertical-align: top;\n",
              "    }\n",
              "\n",
              "    .dataframe thead th {\n",
              "        text-align: right;\n",
              "    }\n",
              "</style>\n",
              "<table border=\"1\" class=\"dataframe\">\n",
              "  <thead>\n",
              "    <tr style=\"text-align: right;\">\n",
              "      <th></th>\n",
              "      <th>CreditScore</th>\n",
              "      <th>CustomerId</th>\n",
              "    </tr>\n",
              "  </thead>\n",
              "  <tbody>\n",
              "    <tr>\n",
              "      <th>0</th>\n",
              "      <td>350</td>\n",
              "      <td>5</td>\n",
              "    </tr>\n",
              "    <tr>\n",
              "      <th>8</th>\n",
              "      <td>376</td>\n",
              "      <td>2</td>\n",
              "    </tr>\n",
              "    <tr>\n",
              "      <th>16</th>\n",
              "      <td>405</td>\n",
              "      <td>2</td>\n",
              "    </tr>\n",
              "    <tr>\n",
              "      <th>18</th>\n",
              "      <td>408</td>\n",
              "      <td>2</td>\n",
              "    </tr>\n",
              "    <tr>\n",
              "      <th>19</th>\n",
              "      <td>410</td>\n",
              "      <td>3</td>\n",
              "    </tr>\n",
              "    <tr>\n",
              "      <th>20</th>\n",
              "      <td>411</td>\n",
              "      <td>4</td>\n",
              "    </tr>\n",
              "    <tr>\n",
              "      <th>22</th>\n",
              "      <td>413</td>\n",
              "      <td>3</td>\n",
              "    </tr>\n",
              "    <tr>\n",
              "      <th>23</th>\n",
              "      <td>414</td>\n",
              "      <td>2</td>\n",
              "    </tr>\n",
              "    <tr>\n",
              "      <th>24</th>\n",
              "      <td>415</td>\n",
              "      <td>3</td>\n",
              "    </tr>\n",
              "    <tr>\n",
              "      <th>25</th>\n",
              "      <td>416</td>\n",
              "      <td>4</td>\n",
              "    </tr>\n",
              "    <tr>\n",
              "      <th>27</th>\n",
              "      <td>418</td>\n",
              "      <td>6</td>\n",
              "    </tr>\n",
              "    <tr>\n",
              "      <th>29</th>\n",
              "      <td>420</td>\n",
              "      <td>3</td>\n",
              "    </tr>\n",
              "    <tr>\n",
              "      <th>30</th>\n",
              "      <td>421</td>\n",
              "      <td>3</td>\n",
              "    </tr>\n",
              "    <tr>\n",
              "      <th>31</th>\n",
              "      <td>422</td>\n",
              "      <td>4</td>\n",
              "    </tr>\n",
              "    <tr>\n",
              "      <th>34</th>\n",
              "      <td>425</td>\n",
              "      <td>4</td>\n",
              "    </tr>\n",
              "    <tr>\n",
              "      <th>35</th>\n",
              "      <td>426</td>\n",
              "      <td>2</td>\n",
              "    </tr>\n",
              "    <tr>\n",
              "      <th>36</th>\n",
              "      <td>427</td>\n",
              "      <td>6</td>\n",
              "    </tr>\n",
              "    <tr>\n",
              "      <th>37</th>\n",
              "      <td>428</td>\n",
              "      <td>3</td>\n",
              "    </tr>\n",
              "    <tr>\n",
              "      <th>38</th>\n",
              "      <td>429</td>\n",
              "      <td>4</td>\n",
              "    </tr>\n",
              "    <tr>\n",
              "      <th>39</th>\n",
              "      <td>430</td>\n",
              "      <td>9</td>\n",
              "    </tr>\n",
              "    <tr>\n",
              "      <th>40</th>\n",
              "      <td>431</td>\n",
              "      <td>5</td>\n",
              "    </tr>\n",
              "    <tr>\n",
              "      <th>41</th>\n",
              "      <td>432</td>\n",
              "      <td>5</td>\n",
              "    </tr>\n",
              "    <tr>\n",
              "      <th>42</th>\n",
              "      <td>433</td>\n",
              "      <td>3</td>\n",
              "    </tr>\n",
              "    <tr>\n",
              "      <th>43</th>\n",
              "      <td>434</td>\n",
              "      <td>6</td>\n",
              "    </tr>\n",
              "    <tr>\n",
              "      <th>44</th>\n",
              "      <td>435</td>\n",
              "      <td>5</td>\n",
              "    </tr>\n",
              "    <tr>\n",
              "      <th>45</th>\n",
              "      <td>436</td>\n",
              "      <td>2</td>\n",
              "    </tr>\n",
              "    <tr>\n",
              "      <th>46</th>\n",
              "      <td>437</td>\n",
              "      <td>6</td>\n",
              "    </tr>\n",
              "    <tr>\n",
              "      <th>47</th>\n",
              "      <td>438</td>\n",
              "      <td>6</td>\n",
              "    </tr>\n",
              "    <tr>\n",
              "      <th>48</th>\n",
              "      <td>439</td>\n",
              "      <td>7</td>\n",
              "    </tr>\n",
              "    <tr>\n",
              "      <th>52</th>\n",
              "      <td>443</td>\n",
              "      <td>8</td>\n",
              "    </tr>\n",
              "    <tr>\n",
              "      <th>...</th>\n",
              "      <td>...</td>\n",
              "      <td>...</td>\n",
              "    </tr>\n",
              "    <tr>\n",
              "      <th>430</th>\n",
              "      <td>821</td>\n",
              "      <td>8</td>\n",
              "    </tr>\n",
              "    <tr>\n",
              "      <th>431</th>\n",
              "      <td>822</td>\n",
              "      <td>5</td>\n",
              "    </tr>\n",
              "    <tr>\n",
              "      <th>432</th>\n",
              "      <td>823</td>\n",
              "      <td>7</td>\n",
              "    </tr>\n",
              "    <tr>\n",
              "      <th>433</th>\n",
              "      <td>824</td>\n",
              "      <td>7</td>\n",
              "    </tr>\n",
              "    <tr>\n",
              "      <th>434</th>\n",
              "      <td>825</td>\n",
              "      <td>8</td>\n",
              "    </tr>\n",
              "    <tr>\n",
              "      <th>435</th>\n",
              "      <td>826</td>\n",
              "      <td>7</td>\n",
              "    </tr>\n",
              "    <tr>\n",
              "      <th>436</th>\n",
              "      <td>827</td>\n",
              "      <td>5</td>\n",
              "    </tr>\n",
              "    <tr>\n",
              "      <th>437</th>\n",
              "      <td>828</td>\n",
              "      <td>10</td>\n",
              "    </tr>\n",
              "    <tr>\n",
              "      <th>438</th>\n",
              "      <td>829</td>\n",
              "      <td>8</td>\n",
              "    </tr>\n",
              "    <tr>\n",
              "      <th>439</th>\n",
              "      <td>830</td>\n",
              "      <td>2</td>\n",
              "    </tr>\n",
              "    <tr>\n",
              "      <th>440</th>\n",
              "      <td>831</td>\n",
              "      <td>6</td>\n",
              "    </tr>\n",
              "    <tr>\n",
              "      <th>441</th>\n",
              "      <td>832</td>\n",
              "      <td>6</td>\n",
              "    </tr>\n",
              "    <tr>\n",
              "      <th>442</th>\n",
              "      <td>833</td>\n",
              "      <td>9</td>\n",
              "    </tr>\n",
              "    <tr>\n",
              "      <th>443</th>\n",
              "      <td>834</td>\n",
              "      <td>11</td>\n",
              "    </tr>\n",
              "    <tr>\n",
              "      <th>444</th>\n",
              "      <td>835</td>\n",
              "      <td>12</td>\n",
              "    </tr>\n",
              "    <tr>\n",
              "      <th>445</th>\n",
              "      <td>836</td>\n",
              "      <td>5</td>\n",
              "    </tr>\n",
              "    <tr>\n",
              "      <th>446</th>\n",
              "      <td>837</td>\n",
              "      <td>8</td>\n",
              "    </tr>\n",
              "    <tr>\n",
              "      <th>447</th>\n",
              "      <td>838</td>\n",
              "      <td>8</td>\n",
              "    </tr>\n",
              "    <tr>\n",
              "      <th>448</th>\n",
              "      <td>839</td>\n",
              "      <td>3</td>\n",
              "    </tr>\n",
              "    <tr>\n",
              "      <th>449</th>\n",
              "      <td>840</td>\n",
              "      <td>5</td>\n",
              "    </tr>\n",
              "    <tr>\n",
              "      <th>450</th>\n",
              "      <td>841</td>\n",
              "      <td>12</td>\n",
              "    </tr>\n",
              "    <tr>\n",
              "      <th>451</th>\n",
              "      <td>842</td>\n",
              "      <td>7</td>\n",
              "    </tr>\n",
              "    <tr>\n",
              "      <th>452</th>\n",
              "      <td>843</td>\n",
              "      <td>2</td>\n",
              "    </tr>\n",
              "    <tr>\n",
              "      <th>453</th>\n",
              "      <td>844</td>\n",
              "      <td>7</td>\n",
              "    </tr>\n",
              "    <tr>\n",
              "      <th>454</th>\n",
              "      <td>845</td>\n",
              "      <td>6</td>\n",
              "    </tr>\n",
              "    <tr>\n",
              "      <th>455</th>\n",
              "      <td>846</td>\n",
              "      <td>5</td>\n",
              "    </tr>\n",
              "    <tr>\n",
              "      <th>456</th>\n",
              "      <td>847</td>\n",
              "      <td>6</td>\n",
              "    </tr>\n",
              "    <tr>\n",
              "      <th>457</th>\n",
              "      <td>848</td>\n",
              "      <td>5</td>\n",
              "    </tr>\n",
              "    <tr>\n",
              "      <th>458</th>\n",
              "      <td>849</td>\n",
              "      <td>8</td>\n",
              "    </tr>\n",
              "    <tr>\n",
              "      <th>459</th>\n",
              "      <td>850</td>\n",
              "      <td>233</td>\n",
              "    </tr>\n",
              "  </tbody>\n",
              "</table>\n",
              "<p>437 rows × 2 columns</p>\n",
              "</div>"
            ],
            "text/plain": [
              "     CreditScore  CustomerId\n",
              "0            350           5\n",
              "8            376           2\n",
              "16           405           2\n",
              "18           408           2\n",
              "19           410           3\n",
              "20           411           4\n",
              "22           413           3\n",
              "23           414           2\n",
              "24           415           3\n",
              "25           416           4\n",
              "27           418           6\n",
              "29           420           3\n",
              "30           421           3\n",
              "31           422           4\n",
              "34           425           4\n",
              "35           426           2\n",
              "36           427           6\n",
              "37           428           3\n",
              "38           429           4\n",
              "39           430           9\n",
              "40           431           5\n",
              "41           432           5\n",
              "42           433           3\n",
              "43           434           6\n",
              "44           435           5\n",
              "45           436           2\n",
              "46           437           6\n",
              "47           438           6\n",
              "48           439           7\n",
              "52           443           8\n",
              "..           ...         ...\n",
              "430          821           8\n",
              "431          822           5\n",
              "432          823           7\n",
              "433          824           7\n",
              "434          825           8\n",
              "435          826           7\n",
              "436          827           5\n",
              "437          828          10\n",
              "438          829           8\n",
              "439          830           2\n",
              "440          831           6\n",
              "441          832           6\n",
              "442          833           9\n",
              "443          834          11\n",
              "444          835          12\n",
              "445          836           5\n",
              "446          837           8\n",
              "447          838           8\n",
              "448          839           3\n",
              "449          840           5\n",
              "450          841          12\n",
              "451          842           7\n",
              "452          843           2\n",
              "453          844           7\n",
              "454          845           6\n",
              "455          846           5\n",
              "456          847           6\n",
              "457          848           5\n",
              "458          849           8\n",
              "459          850         233\n",
              "\n",
              "[437 rows x 2 columns]"
            ]
          },
          "metadata": {
            "tags": []
          },
          "execution_count": 287
        }
      ]
    },
    {
      "cell_type": "code",
      "metadata": {
        "id": "d3fVSzIJfBzj",
        "colab_type": "code",
        "colab": {}
      },
      "source": [
        "df = data"
      ],
      "execution_count": 0,
      "outputs": []
    },
    {
      "cell_type": "markdown",
      "metadata": {
        "id": "LJ-W9pGpqsBC",
        "colab_type": "text"
      },
      "source": [
        "### Drop the columns which are unique for all users like IDs (2.5 points)"
      ]
    },
    {
      "cell_type": "code",
      "metadata": {
        "id": "z_PDtcOwdCl4",
        "colab_type": "code",
        "colab": {}
      },
      "source": [
        "data.drop(['CustomerId', 'RowNumber', 'Surname'], axis=1, inplace = True) # dropping EstimatedSalary also gives same accurancy so this is not deleted.\n",
        "#data.drop(['CustomerId', 'RowNumber'], axis=1, inplace = True)"
      ],
      "execution_count": 0,
      "outputs": []
    },
    {
      "cell_type": "code",
      "metadata": {
        "id": "S8wFj1vqdpMq",
        "colab_type": "code",
        "outputId": "dc35f57b-17fa-4281-d432-86cc56d094a9",
        "colab": {
          "base_uri": "https://localhost:8080/",
          "height": 204
        }
      },
      "source": [
        "data.head()"
      ],
      "execution_count": 290,
      "outputs": [
        {
          "output_type": "execute_result",
          "data": {
            "text/html": [
              "<div>\n",
              "<style scoped>\n",
              "    .dataframe tbody tr th:only-of-type {\n",
              "        vertical-align: middle;\n",
              "    }\n",
              "\n",
              "    .dataframe tbody tr th {\n",
              "        vertical-align: top;\n",
              "    }\n",
              "\n",
              "    .dataframe thead th {\n",
              "        text-align: right;\n",
              "    }\n",
              "</style>\n",
              "<table border=\"1\" class=\"dataframe\">\n",
              "  <thead>\n",
              "    <tr style=\"text-align: right;\">\n",
              "      <th></th>\n",
              "      <th>CreditScore</th>\n",
              "      <th>Geography</th>\n",
              "      <th>Gender</th>\n",
              "      <th>Age</th>\n",
              "      <th>Tenure</th>\n",
              "      <th>Balance</th>\n",
              "      <th>NumOfProducts</th>\n",
              "      <th>HasCrCard</th>\n",
              "      <th>IsActiveMember</th>\n",
              "      <th>EstimatedSalary</th>\n",
              "      <th>Exited</th>\n",
              "    </tr>\n",
              "  </thead>\n",
              "  <tbody>\n",
              "    <tr>\n",
              "      <th>0</th>\n",
              "      <td>619</td>\n",
              "      <td>France</td>\n",
              "      <td>Female</td>\n",
              "      <td>42</td>\n",
              "      <td>2</td>\n",
              "      <td>0.00</td>\n",
              "      <td>1</td>\n",
              "      <td>1</td>\n",
              "      <td>1</td>\n",
              "      <td>101348.88</td>\n",
              "      <td>1</td>\n",
              "    </tr>\n",
              "    <tr>\n",
              "      <th>1</th>\n",
              "      <td>608</td>\n",
              "      <td>Spain</td>\n",
              "      <td>Female</td>\n",
              "      <td>41</td>\n",
              "      <td>1</td>\n",
              "      <td>83807.86</td>\n",
              "      <td>1</td>\n",
              "      <td>0</td>\n",
              "      <td>1</td>\n",
              "      <td>112542.58</td>\n",
              "      <td>0</td>\n",
              "    </tr>\n",
              "    <tr>\n",
              "      <th>2</th>\n",
              "      <td>502</td>\n",
              "      <td>France</td>\n",
              "      <td>Female</td>\n",
              "      <td>42</td>\n",
              "      <td>8</td>\n",
              "      <td>159660.80</td>\n",
              "      <td>3</td>\n",
              "      <td>1</td>\n",
              "      <td>0</td>\n",
              "      <td>113931.57</td>\n",
              "      <td>1</td>\n",
              "    </tr>\n",
              "    <tr>\n",
              "      <th>3</th>\n",
              "      <td>699</td>\n",
              "      <td>France</td>\n",
              "      <td>Female</td>\n",
              "      <td>39</td>\n",
              "      <td>1</td>\n",
              "      <td>0.00</td>\n",
              "      <td>2</td>\n",
              "      <td>0</td>\n",
              "      <td>0</td>\n",
              "      <td>93826.63</td>\n",
              "      <td>0</td>\n",
              "    </tr>\n",
              "    <tr>\n",
              "      <th>4</th>\n",
              "      <td>850</td>\n",
              "      <td>Spain</td>\n",
              "      <td>Female</td>\n",
              "      <td>43</td>\n",
              "      <td>2</td>\n",
              "      <td>125510.82</td>\n",
              "      <td>1</td>\n",
              "      <td>1</td>\n",
              "      <td>1</td>\n",
              "      <td>79084.10</td>\n",
              "      <td>0</td>\n",
              "    </tr>\n",
              "  </tbody>\n",
              "</table>\n",
              "</div>"
            ],
            "text/plain": [
              "   CreditScore Geography  Gender  ...  IsActiveMember  EstimatedSalary  Exited\n",
              "0          619    France  Female  ...               1        101348.88       1\n",
              "1          608     Spain  Female  ...               1        112542.58       0\n",
              "2          502    France  Female  ...               0        113931.57       1\n",
              "3          699    France  Female  ...               0         93826.63       0\n",
              "4          850     Spain  Female  ...               1         79084.10       0\n",
              "\n",
              "[5 rows x 11 columns]"
            ]
          },
          "metadata": {
            "tags": []
          },
          "execution_count": 290
        }
      ]
    },
    {
      "cell_type": "code",
      "metadata": {
        "id": "fCg2inmud_9P",
        "colab_type": "code",
        "colab": {}
      },
      "source": [
        "data = pd.get_dummies(data)  # Using Categorical codes also gives same accuracy score.\n",
        "\n",
        "#data['Surname'] = pd.Categorical(data['Surname']).codes"
      ],
      "execution_count": 0,
      "outputs": []
    },
    {
      "cell_type": "code",
      "metadata": {
        "id": "_H5WEgWDZzRg",
        "colab_type": "code",
        "colab": {}
      },
      "source": [
        "#data['Geography'] = pd.Categorical(data['Geography']).codes\n",
        "#data['Gender'] = pd.Categorical(data['Gender']).codes"
      ],
      "execution_count": 0,
      "outputs": []
    },
    {
      "cell_type": "code",
      "metadata": {
        "id": "Kfunh8zGf1m6",
        "colab_type": "code",
        "outputId": "acdb6396-458e-45b1-f923-c561ada5af2e",
        "colab": {
          "base_uri": "https://localhost:8080/",
          "height": 224
        }
      },
      "source": [
        "data.head()"
      ],
      "execution_count": 293,
      "outputs": [
        {
          "output_type": "execute_result",
          "data": {
            "text/html": [
              "<div>\n",
              "<style scoped>\n",
              "    .dataframe tbody tr th:only-of-type {\n",
              "        vertical-align: middle;\n",
              "    }\n",
              "\n",
              "    .dataframe tbody tr th {\n",
              "        vertical-align: top;\n",
              "    }\n",
              "\n",
              "    .dataframe thead th {\n",
              "        text-align: right;\n",
              "    }\n",
              "</style>\n",
              "<table border=\"1\" class=\"dataframe\">\n",
              "  <thead>\n",
              "    <tr style=\"text-align: right;\">\n",
              "      <th></th>\n",
              "      <th>CreditScore</th>\n",
              "      <th>Age</th>\n",
              "      <th>Tenure</th>\n",
              "      <th>Balance</th>\n",
              "      <th>NumOfProducts</th>\n",
              "      <th>HasCrCard</th>\n",
              "      <th>IsActiveMember</th>\n",
              "      <th>EstimatedSalary</th>\n",
              "      <th>Exited</th>\n",
              "      <th>Geography_France</th>\n",
              "      <th>Geography_Germany</th>\n",
              "      <th>Geography_Spain</th>\n",
              "      <th>Gender_Female</th>\n",
              "      <th>Gender_Male</th>\n",
              "    </tr>\n",
              "  </thead>\n",
              "  <tbody>\n",
              "    <tr>\n",
              "      <th>0</th>\n",
              "      <td>619</td>\n",
              "      <td>42</td>\n",
              "      <td>2</td>\n",
              "      <td>0.00</td>\n",
              "      <td>1</td>\n",
              "      <td>1</td>\n",
              "      <td>1</td>\n",
              "      <td>101348.88</td>\n",
              "      <td>1</td>\n",
              "      <td>1</td>\n",
              "      <td>0</td>\n",
              "      <td>0</td>\n",
              "      <td>1</td>\n",
              "      <td>0</td>\n",
              "    </tr>\n",
              "    <tr>\n",
              "      <th>1</th>\n",
              "      <td>608</td>\n",
              "      <td>41</td>\n",
              "      <td>1</td>\n",
              "      <td>83807.86</td>\n",
              "      <td>1</td>\n",
              "      <td>0</td>\n",
              "      <td>1</td>\n",
              "      <td>112542.58</td>\n",
              "      <td>0</td>\n",
              "      <td>0</td>\n",
              "      <td>0</td>\n",
              "      <td>1</td>\n",
              "      <td>1</td>\n",
              "      <td>0</td>\n",
              "    </tr>\n",
              "    <tr>\n",
              "      <th>2</th>\n",
              "      <td>502</td>\n",
              "      <td>42</td>\n",
              "      <td>8</td>\n",
              "      <td>159660.80</td>\n",
              "      <td>3</td>\n",
              "      <td>1</td>\n",
              "      <td>0</td>\n",
              "      <td>113931.57</td>\n",
              "      <td>1</td>\n",
              "      <td>1</td>\n",
              "      <td>0</td>\n",
              "      <td>0</td>\n",
              "      <td>1</td>\n",
              "      <td>0</td>\n",
              "    </tr>\n",
              "    <tr>\n",
              "      <th>3</th>\n",
              "      <td>699</td>\n",
              "      <td>39</td>\n",
              "      <td>1</td>\n",
              "      <td>0.00</td>\n",
              "      <td>2</td>\n",
              "      <td>0</td>\n",
              "      <td>0</td>\n",
              "      <td>93826.63</td>\n",
              "      <td>0</td>\n",
              "      <td>1</td>\n",
              "      <td>0</td>\n",
              "      <td>0</td>\n",
              "      <td>1</td>\n",
              "      <td>0</td>\n",
              "    </tr>\n",
              "    <tr>\n",
              "      <th>4</th>\n",
              "      <td>850</td>\n",
              "      <td>43</td>\n",
              "      <td>2</td>\n",
              "      <td>125510.82</td>\n",
              "      <td>1</td>\n",
              "      <td>1</td>\n",
              "      <td>1</td>\n",
              "      <td>79084.10</td>\n",
              "      <td>0</td>\n",
              "      <td>0</td>\n",
              "      <td>0</td>\n",
              "      <td>1</td>\n",
              "      <td>1</td>\n",
              "      <td>0</td>\n",
              "    </tr>\n",
              "  </tbody>\n",
              "</table>\n",
              "</div>"
            ],
            "text/plain": [
              "   CreditScore  Age  Tenure  ...  Geography_Spain  Gender_Female  Gender_Male\n",
              "0          619   42       2  ...                0              1            0\n",
              "1          608   41       1  ...                1              1            0\n",
              "2          502   42       8  ...                0              1            0\n",
              "3          699   39       1  ...                0              1            0\n",
              "4          850   43       2  ...                1              1            0\n",
              "\n",
              "[5 rows x 14 columns]"
            ]
          },
          "metadata": {
            "tags": []
          },
          "execution_count": 293
        }
      ]
    },
    {
      "cell_type": "code",
      "metadata": {
        "id": "GU-xiKTZf9VK",
        "colab_type": "code",
        "colab": {}
      },
      "source": [
        "X = data.drop('Exited', axis=1)\n",
        "Y = data[['Exited']]"
      ],
      "execution_count": 0,
      "outputs": []
    },
    {
      "cell_type": "code",
      "metadata": {
        "id": "WRuy_oHBKobz",
        "colab_type": "code",
        "colab": {}
      },
      "source": [
        ""
      ],
      "execution_count": 0,
      "outputs": []
    },
    {
      "cell_type": "markdown",
      "metadata": {
        "id": "nhdwhNuLq600",
        "colab_type": "text"
      },
      "source": [
        "### Normalize the train and test data (2.5 points)"
      ]
    },
    {
      "cell_type": "code",
      "metadata": {
        "id": "dbmTMRHcia7t",
        "colab_type": "code",
        "outputId": "b836f39b-0078-43c8-ec47-10f43c0fe3b5",
        "colab": {
          "base_uri": "https://localhost:8080/",
          "height": 34
        }
      },
      "source": [
        "\n",
        "from sklearn.model_selection import train_test_split\n",
        "X_train,  X_test, y_train, y_test = train_test_split(X, Y, test_size=.3, stratify=Y, random_state=98789)\n",
        "print(\"X_Train : {}, X_test : {}, y_train : {}, y_test : {}\".format(X_train.shape,  X_test.shape, y_train.shape, y_test.shape))\n"
      ],
      "execution_count": 295,
      "outputs": [
        {
          "output_type": "stream",
          "text": [
            "X_Train : (7000, 13), X_test : (3000, 13), y_train : (7000, 1), y_test : (3000, 1)\n"
          ],
          "name": "stdout"
        }
      ]
    },
    {
      "cell_type": "code",
      "metadata": {
        "id": "wG5Q7LMEX9cv",
        "colab_type": "code",
        "colab": {}
      },
      "source": [
        "\n",
        "from sklearn.preprocessing import StandardScaler\n",
        "\n",
        "\n",
        "sc = StandardScaler()\n",
        "\n",
        "X_train_std = sc.fit_transform(X_train)\n",
        "X_test_std = sc.fit_transform(X_test)"
      ],
      "execution_count": 0,
      "outputs": []
    },
    {
      "cell_type": "markdown",
      "metadata": {
        "id": "yppRr4Y3rHDt",
        "colab_type": "text"
      },
      "source": [
        "Since there is imbalance in the data, trying to smote it"
      ]
    },
    {
      "cell_type": "code",
      "metadata": {
        "id": "-ftsyiuQK0_T",
        "colab_type": "code",
        "outputId": "5c2bd0fc-1e9a-4c2c-df8b-8dd0303e17c0",
        "colab": {
          "base_uri": "https://localhost:8080/",
          "height": 88
        }
      },
      "source": [
        "from imblearn.over_sampling import SMOTE\n",
        "sm = SMOTE(random_state=3424)\n",
        "X_train_res, y_train_res = sm.fit_sample(X_train, y_train)\n",
        "\n",
        "print(\"X_Train : {}, y_train : {}\".format(X_train_res.shape,  y_train_res.shape))"
      ],
      "execution_count": 297,
      "outputs": [
        {
          "output_type": "stream",
          "text": [
            "X_Train : (11148, 13), y_train : (11148,)\n"
          ],
          "name": "stdout"
        },
        {
          "output_type": "stream",
          "text": [
            "/usr/local/lib/python3.6/dist-packages/sklearn/utils/validation.py:724: DataConversionWarning: A column-vector y was passed when a 1d array was expected. Please change the shape of y to (n_samples, ), for example using ravel().\n",
            "  y = column_or_1d(y, warn=True)\n"
          ],
          "name": "stderr"
        }
      ]
    },
    {
      "cell_type": "markdown",
      "metadata": {
        "id": "5TOl8X0Brx3F",
        "colab_type": "text"
      },
      "source": [
        "### Initialize &amp; build the model (10 points)"
      ]
    },
    {
      "cell_type": "code",
      "metadata": {
        "id": "9rQJUGP5kOHU",
        "colab_type": "code",
        "colab": {}
      },
      "source": [
        "\n",
        "from tensorflow import keras \n",
        "from keras.models import Sequential\n",
        "from keras.layers import Dense,Dropout\n",
        "from keras.optimizers import SGD "
      ],
      "execution_count": 0,
      "outputs": []
    },
    {
      "cell_type": "code",
      "metadata": {
        "id": "_f6eFtd-Xwip",
        "colab_type": "code",
        "outputId": "6760a0a9-1c7c-4d9f-fe51-f9c61b840153",
        "colab": {
          "base_uri": "https://localhost:8080/",
          "height": 816
        }
      },
      "source": [
        "n_inputs = 13\n",
        "model = keras.Sequential([\n",
        "    keras.layers.Dense(10, activation=tf.nn.relu, input_shape=(n_inputs,)),\n",
        "    keras.layers.Dense(8, activation=tf.nn.relu),\n",
        "    keras.layers.Dense(5, activation=tf.nn.relu),\n",
        "    keras.layers.Dense(1, activation=tf.nn.sigmoid)\n",
        "])\n",
        "\n",
        "\n",
        "model.summary() \n",
        "# compile the model \n",
        "model.compile( loss ='binary_crossentropy', optimizer = 'sgd', metrics =['accuracy']) \n",
        "\n",
        "# train the model \n",
        "model.fit( X_train_res, y_train_res, batch_size = 90, epochs = 15) \n"
      ],
      "execution_count": 299,
      "outputs": [
        {
          "output_type": "stream",
          "text": [
            "Model: \"sequential_60\"\n",
            "_________________________________________________________________\n",
            "Layer (type)                 Output Shape              Param #   \n",
            "=================================================================\n",
            "dense_214 (Dense)            (None, 10)                140       \n",
            "_________________________________________________________________\n",
            "dense_215 (Dense)            (None, 8)                 88        \n",
            "_________________________________________________________________\n",
            "dense_216 (Dense)            (None, 5)                 45        \n",
            "_________________________________________________________________\n",
            "dense_217 (Dense)            (None, 1)                 6         \n",
            "=================================================================\n",
            "Total params: 279\n",
            "Trainable params: 279\n",
            "Non-trainable params: 0\n",
            "_________________________________________________________________\n",
            "Epoch 1/15\n",
            "11148/11148 [==============================] - 1s 51us/sample - loss: 471206.9948 - acc: 0.4935\n",
            "Epoch 2/15\n",
            "11148/11148 [==============================] - 0s 19us/sample - loss: 0.6932 - acc: 0.5000\n",
            "Epoch 3/15\n",
            "11148/11148 [==============================] - 0s 21us/sample - loss: 0.6932 - acc: 0.4993\n",
            "Epoch 4/15\n",
            "11148/11148 [==============================] - 0s 19us/sample - loss: 0.6932 - acc: 0.4955\n",
            "Epoch 5/15\n",
            "11148/11148 [==============================] - 0s 18us/sample - loss: 0.6932 - acc: 0.4928\n",
            "Epoch 6/15\n",
            "11148/11148 [==============================] - 0s 18us/sample - loss: 0.6932 - acc: 0.4935\n",
            "Epoch 7/15\n",
            "11148/11148 [==============================] - 0s 18us/sample - loss: 0.6932 - acc: 0.4991\n",
            "Epoch 8/15\n",
            "11148/11148 [==============================] - 0s 19us/sample - loss: 0.6932 - acc: 0.4986\n",
            "Epoch 9/15\n",
            "11148/11148 [==============================] - 0s 19us/sample - loss: 0.6932 - acc: 0.4986\n",
            "Epoch 10/15\n",
            "11148/11148 [==============================] - 0s 19us/sample - loss: 0.6932 - acc: 0.5000\n",
            "Epoch 11/15\n",
            "11148/11148 [==============================] - 0s 20us/sample - loss: 0.6932 - acc: 0.4948\n",
            "Epoch 12/15\n",
            "11148/11148 [==============================] - 0s 18us/sample - loss: 0.6932 - acc: 0.4953\n",
            "Epoch 13/15\n",
            "11148/11148 [==============================] - 0s 19us/sample - loss: 0.6932 - acc: 0.4932\n",
            "Epoch 14/15\n",
            "11148/11148 [==============================] - 0s 18us/sample - loss: 0.6932 - acc: 0.4885\n",
            "Epoch 15/15\n",
            "11148/11148 [==============================] - 0s 19us/sample - loss: 0.6932 - acc: 0.4968\n"
          ],
          "name": "stdout"
        },
        {
          "output_type": "execute_result",
          "data": {
            "text/plain": [
              "<tensorflow.python.keras.callbacks.History at 0x7f64e36b4588>"
            ]
          },
          "metadata": {
            "tags": []
          },
          "execution_count": 299
        }
      ]
    },
    {
      "cell_type": "markdown",
      "metadata": {
        "id": "X9DxH8sCrQii",
        "colab_type": "text"
      },
      "source": [
        "Smoting does not help the accuracy."
      ]
    },
    {
      "cell_type": "markdown",
      "metadata": {
        "id": "NZfQ8Nmfrq0S",
        "colab_type": "text"
      },
      "source": [
        "### Optimize the model (5 points)"
      ]
    },
    {
      "cell_type": "code",
      "metadata": {
        "id": "f4ucD2Bijtcd",
        "colab_type": "code",
        "outputId": "ab458e4e-e6b6-4e04-842d-8c082076eff2",
        "colab": {
          "base_uri": "https://localhost:8080/",
          "height": 1000
        }
      },
      "source": [
        "n_inputs = 13\n",
        "model = keras.Sequential([\n",
        "    keras.layers.Dense(10, activation=tf.nn.relu, input_shape=(n_inputs,)),\n",
        "    keras.layers.Dense(8, activation=tf.nn.relu, input_shape=(10,)),\n",
        "    keras.layers.Dense(5, activation=tf.nn.relu),\n",
        "    keras.layers.Dense(1, activation=tf.nn.sigmoid)\n",
        "])\n",
        "from keras.optimizers import SGD \n",
        "\n",
        "\n",
        "sgd = keras.optimizers.SGD(lr=.002)\n",
        "model.compile(optimizer=sgd,loss='binary_crossentropy', metrics=['accuracy'])\n",
        "\n",
        "\n",
        "model.fit(X_train_std,y_train,batch_size=10,epochs=100)\n"
      ],
      "execution_count": 300,
      "outputs": [
        {
          "output_type": "stream",
          "text": [
            "Epoch 1/100\n",
            "7000/7000 [==============================] - 1s 208us/sample - loss: 0.5739 - acc: 0.7663\n",
            "Epoch 2/100\n",
            "7000/7000 [==============================] - 1s 162us/sample - loss: 0.5162 - acc: 0.7961\n",
            "Epoch 3/100\n",
            "7000/7000 [==============================] - 1s 161us/sample - loss: 0.4986 - acc: 0.7963\n",
            "Epoch 4/100\n",
            "7000/7000 [==============================] - 1s 163us/sample - loss: 0.4858 - acc: 0.7963\n",
            "Epoch 5/100\n",
            "7000/7000 [==============================] - 1s 163us/sample - loss: 0.4747 - acc: 0.7963\n",
            "Epoch 6/100\n",
            "7000/7000 [==============================] - 1s 161us/sample - loss: 0.4657 - acc: 0.7963\n",
            "Epoch 7/100\n",
            "7000/7000 [==============================] - 1s 161us/sample - loss: 0.4582 - acc: 0.7966\n",
            "Epoch 8/100\n",
            "7000/7000 [==============================] - 1s 162us/sample - loss: 0.4519 - acc: 0.7966\n",
            "Epoch 9/100\n",
            "7000/7000 [==============================] - 1s 162us/sample - loss: 0.4464 - acc: 0.7997\n",
            "Epoch 10/100\n",
            "7000/7000 [==============================] - 1s 164us/sample - loss: 0.4417 - acc: 0.8021\n",
            "Epoch 11/100\n",
            "7000/7000 [==============================] - 1s 159us/sample - loss: 0.4375 - acc: 0.8076\n",
            "Epoch 12/100\n",
            "7000/7000 [==============================] - 1s 163us/sample - loss: 0.4344 - acc: 0.8117\n",
            "Epoch 13/100\n",
            "7000/7000 [==============================] - 1s 159us/sample - loss: 0.4316 - acc: 0.8136\n",
            "Epoch 14/100\n",
            "7000/7000 [==============================] - 1s 158us/sample - loss: 0.4291 - acc: 0.8149\n",
            "Epoch 15/100\n",
            "7000/7000 [==============================] - 1s 161us/sample - loss: 0.4269 - acc: 0.8166\n",
            "Epoch 16/100\n",
            "7000/7000 [==============================] - 1s 160us/sample - loss: 0.4250 - acc: 0.8186\n",
            "Epoch 17/100\n",
            "7000/7000 [==============================] - 1s 159us/sample - loss: 0.4233 - acc: 0.8199\n",
            "Epoch 18/100\n",
            "7000/7000 [==============================] - 1s 163us/sample - loss: 0.4218 - acc: 0.8214\n",
            "Epoch 19/100\n",
            "7000/7000 [==============================] - 1s 163us/sample - loss: 0.4204 - acc: 0.8214\n",
            "Epoch 20/100\n",
            "7000/7000 [==============================] - 1s 167us/sample - loss: 0.4190 - acc: 0.8200\n",
            "Epoch 21/100\n",
            "7000/7000 [==============================] - 1s 160us/sample - loss: 0.4177 - acc: 0.8213\n",
            "Epoch 22/100\n",
            "7000/7000 [==============================] - 1s 161us/sample - loss: 0.4166 - acc: 0.8204\n",
            "Epoch 23/100\n",
            "7000/7000 [==============================] - 1s 164us/sample - loss: 0.4153 - acc: 0.8220\n",
            "Epoch 24/100\n",
            "7000/7000 [==============================] - 1s 162us/sample - loss: 0.4141 - acc: 0.8229\n",
            "Epoch 25/100\n",
            "7000/7000 [==============================] - 1s 160us/sample - loss: 0.4131 - acc: 0.8233\n",
            "Epoch 26/100\n",
            "7000/7000 [==============================] - 1s 163us/sample - loss: 0.4121 - acc: 0.8233\n",
            "Epoch 27/100\n",
            "7000/7000 [==============================] - 1s 162us/sample - loss: 0.4109 - acc: 0.8254\n",
            "Epoch 28/100\n",
            "7000/7000 [==============================] - 1s 159us/sample - loss: 0.4100 - acc: 0.8260\n",
            "Epoch 29/100\n",
            "7000/7000 [==============================] - 1s 166us/sample - loss: 0.4090 - acc: 0.8264\n",
            "Epoch 30/100\n",
            "7000/7000 [==============================] - 1s 164us/sample - loss: 0.4080 - acc: 0.8270\n",
            "Epoch 31/100\n",
            "7000/7000 [==============================] - 1s 164us/sample - loss: 0.4070 - acc: 0.8280\n",
            "Epoch 32/100\n",
            "7000/7000 [==============================] - 1s 161us/sample - loss: 0.4061 - acc: 0.8290\n",
            "Epoch 33/100\n",
            "7000/7000 [==============================] - 1s 165us/sample - loss: 0.4051 - acc: 0.8297\n",
            "Epoch 34/100\n",
            "7000/7000 [==============================] - 1s 163us/sample - loss: 0.4042 - acc: 0.8291\n",
            "Epoch 35/100\n",
            "7000/7000 [==============================] - 1s 162us/sample - loss: 0.4034 - acc: 0.8304\n",
            "Epoch 36/100\n",
            "7000/7000 [==============================] - 1s 163us/sample - loss: 0.4025 - acc: 0.8297\n",
            "Epoch 37/100\n",
            "7000/7000 [==============================] - 1s 160us/sample - loss: 0.4016 - acc: 0.8296\n",
            "Epoch 38/100\n",
            "7000/7000 [==============================] - 1s 163us/sample - loss: 0.4006 - acc: 0.8304\n",
            "Epoch 39/100\n",
            "7000/7000 [==============================] - 1s 163us/sample - loss: 0.3992 - acc: 0.8316\n",
            "Epoch 40/100\n",
            "7000/7000 [==============================] - 1s 163us/sample - loss: 0.3987 - acc: 0.8307\n",
            "Epoch 41/100\n",
            "7000/7000 [==============================] - 1s 165us/sample - loss: 0.3976 - acc: 0.8313\n",
            "Epoch 42/100\n",
            "7000/7000 [==============================] - 1s 163us/sample - loss: 0.3966 - acc: 0.8317\n",
            "Epoch 43/100\n",
            "7000/7000 [==============================] - 1s 162us/sample - loss: 0.3954 - acc: 0.8329\n",
            "Epoch 44/100\n",
            "7000/7000 [==============================] - 1s 164us/sample - loss: 0.3943 - acc: 0.8317\n",
            "Epoch 45/100\n",
            "7000/7000 [==============================] - 1s 164us/sample - loss: 0.3932 - acc: 0.8346\n",
            "Epoch 46/100\n",
            "7000/7000 [==============================] - 1s 164us/sample - loss: 0.3919 - acc: 0.8340\n",
            "Epoch 47/100\n",
            "7000/7000 [==============================] - 1s 164us/sample - loss: 0.3906 - acc: 0.8344\n",
            "Epoch 48/100\n",
            "7000/7000 [==============================] - 1s 171us/sample - loss: 0.3896 - acc: 0.8331\n",
            "Epoch 49/100\n",
            "7000/7000 [==============================] - 1s 164us/sample - loss: 0.3883 - acc: 0.8331\n",
            "Epoch 50/100\n",
            "7000/7000 [==============================] - 1s 165us/sample - loss: 0.3871 - acc: 0.8331\n",
            "Epoch 51/100\n",
            "7000/7000 [==============================] - 1s 164us/sample - loss: 0.3859 - acc: 0.8339\n",
            "Epoch 52/100\n",
            "7000/7000 [==============================] - 1s 165us/sample - loss: 0.3845 - acc: 0.8340\n",
            "Epoch 53/100\n",
            "7000/7000 [==============================] - 1s 167us/sample - loss: 0.3833 - acc: 0.8331\n",
            "Epoch 54/100\n",
            "7000/7000 [==============================] - 1s 175us/sample - loss: 0.3821 - acc: 0.8334\n",
            "Epoch 55/100\n",
            "7000/7000 [==============================] - 1s 169us/sample - loss: 0.3807 - acc: 0.8340\n",
            "Epoch 56/100\n",
            "7000/7000 [==============================] - 1s 173us/sample - loss: 0.3794 - acc: 0.8349\n",
            "Epoch 57/100\n",
            "7000/7000 [==============================] - 1s 171us/sample - loss: 0.3783 - acc: 0.8354\n",
            "Epoch 58/100\n",
            "7000/7000 [==============================] - 1s 173us/sample - loss: 0.3770 - acc: 0.8346\n",
            "Epoch 59/100\n",
            "7000/7000 [==============================] - 1s 172us/sample - loss: 0.3759 - acc: 0.8347\n",
            "Epoch 60/100\n",
            "7000/7000 [==============================] - 1s 170us/sample - loss: 0.3746 - acc: 0.8346\n",
            "Epoch 61/100\n",
            "7000/7000 [==============================] - 1s 170us/sample - loss: 0.3737 - acc: 0.8357\n",
            "Epoch 62/100\n",
            "7000/7000 [==============================] - 1s 169us/sample - loss: 0.3724 - acc: 0.8366\n",
            "Epoch 63/100\n",
            "7000/7000 [==============================] - 1s 172us/sample - loss: 0.3711 - acc: 0.8347\n",
            "Epoch 64/100\n",
            "7000/7000 [==============================] - 1s 166us/sample - loss: 0.3700 - acc: 0.8373\n",
            "Epoch 65/100\n",
            "7000/7000 [==============================] - 1s 164us/sample - loss: 0.3686 - acc: 0.8377\n",
            "Epoch 66/100\n",
            "7000/7000 [==============================] - 1s 170us/sample - loss: 0.3675 - acc: 0.8393\n",
            "Epoch 67/100\n",
            "7000/7000 [==============================] - 1s 166us/sample - loss: 0.3663 - acc: 0.8390\n",
            "Epoch 68/100\n",
            "7000/7000 [==============================] - 1s 167us/sample - loss: 0.3651 - acc: 0.8406\n",
            "Epoch 69/100\n",
            "7000/7000 [==============================] - 1s 166us/sample - loss: 0.3643 - acc: 0.8427\n",
            "Epoch 70/100\n",
            "7000/7000 [==============================] - 1s 164us/sample - loss: 0.3627 - acc: 0.8484\n",
            "Epoch 71/100\n",
            "7000/7000 [==============================] - 1s 166us/sample - loss: 0.3622 - acc: 0.8514\n",
            "Epoch 72/100\n",
            "7000/7000 [==============================] - 1s 164us/sample - loss: 0.3614 - acc: 0.8524\n",
            "Epoch 73/100\n",
            "7000/7000 [==============================] - 1s 166us/sample - loss: 0.3603 - acc: 0.8521\n",
            "Epoch 74/100\n",
            "7000/7000 [==============================] - 1s 168us/sample - loss: 0.3592 - acc: 0.8537\n",
            "Epoch 75/100\n",
            "7000/7000 [==============================] - 1s 166us/sample - loss: 0.3586 - acc: 0.8547\n",
            "Epoch 76/100\n",
            "7000/7000 [==============================] - 1s 165us/sample - loss: 0.3579 - acc: 0.8566\n",
            "Epoch 77/100\n",
            "7000/7000 [==============================] - 1s 168us/sample - loss: 0.3574 - acc: 0.8567\n",
            "Epoch 78/100\n",
            "7000/7000 [==============================] - 1s 164us/sample - loss: 0.3561 - acc: 0.8570\n",
            "Epoch 79/100\n",
            "7000/7000 [==============================] - 1s 166us/sample - loss: 0.3556 - acc: 0.8564\n",
            "Epoch 80/100\n",
            "7000/7000 [==============================] - 1s 166us/sample - loss: 0.3551 - acc: 0.8576\n",
            "Epoch 81/100\n",
            "7000/7000 [==============================] - 1s 169us/sample - loss: 0.3543 - acc: 0.8570\n",
            "Epoch 82/100\n",
            "7000/7000 [==============================] - 1s 169us/sample - loss: 0.3539 - acc: 0.8561\n",
            "Epoch 83/100\n",
            "7000/7000 [==============================] - 1s 170us/sample - loss: 0.3535 - acc: 0.8576\n",
            "Epoch 84/100\n",
            "7000/7000 [==============================] - 1s 167us/sample - loss: 0.3530 - acc: 0.8589\n",
            "Epoch 85/100\n",
            "7000/7000 [==============================] - 1s 170us/sample - loss: 0.3525 - acc: 0.8583\n",
            "Epoch 86/100\n",
            "7000/7000 [==============================] - 1s 165us/sample - loss: 0.3518 - acc: 0.8580\n",
            "Epoch 87/100\n",
            "7000/7000 [==============================] - 1s 165us/sample - loss: 0.3511 - acc: 0.8597\n",
            "Epoch 88/100\n",
            "7000/7000 [==============================] - 1s 170us/sample - loss: 0.3509 - acc: 0.8589\n",
            "Epoch 89/100\n",
            "7000/7000 [==============================] - 1s 167us/sample - loss: 0.3504 - acc: 0.8594\n",
            "Epoch 90/100\n",
            "7000/7000 [==============================] - 1s 164us/sample - loss: 0.3501 - acc: 0.8587\n",
            "Epoch 91/100\n",
            "7000/7000 [==============================] - 1s 165us/sample - loss: 0.3493 - acc: 0.8581\n",
            "Epoch 92/100\n",
            "7000/7000 [==============================] - 1s 165us/sample - loss: 0.3490 - acc: 0.8599\n",
            "Epoch 93/100\n",
            "7000/7000 [==============================] - 1s 170us/sample - loss: 0.3485 - acc: 0.8603\n",
            "Epoch 94/100\n",
            "7000/7000 [==============================] - 1s 166us/sample - loss: 0.3480 - acc: 0.8609\n",
            "Epoch 95/100\n",
            "7000/7000 [==============================] - 1s 164us/sample - loss: 0.3477 - acc: 0.8607\n",
            "Epoch 96/100\n",
            "7000/7000 [==============================] - 1s 179us/sample - loss: 0.3476 - acc: 0.8611\n",
            "Epoch 97/100\n",
            "7000/7000 [==============================] - 1s 174us/sample - loss: 0.3466 - acc: 0.8613\n",
            "Epoch 98/100\n",
            "7000/7000 [==============================] - 1s 178us/sample - loss: 0.3467 - acc: 0.8606\n",
            "Epoch 99/100\n",
            "7000/7000 [==============================] - 1s 175us/sample - loss: 0.3464 - acc: 0.8593\n",
            "Epoch 100/100\n",
            "7000/7000 [==============================] - 1s 172us/sample - loss: 0.3461 - acc: 0.8610\n"
          ],
          "name": "stdout"
        },
        {
          "output_type": "execute_result",
          "data": {
            "text/plain": [
              "<tensorflow.python.keras.callbacks.History at 0x7f64e3401588>"
            ]
          },
          "metadata": {
            "tags": []
          },
          "execution_count": 300
        }
      ]
    },
    {
      "cell_type": "code",
      "metadata": {
        "id": "WeTk8XVgkHES",
        "colab_type": "code",
        "outputId": "78885440-27b2-44f3-acf4-625ab61f46f8",
        "colab": {
          "base_uri": "https://localhost:8080/",
          "height": 68
        }
      },
      "source": [
        "scores = model.evaluate( X_test_std, y_test)\n",
        "\n",
        "print('\\ n loss:', scores[ 0]) \n",
        "\n",
        "print('\\ n accuracy:', scores[ 1])"
      ],
      "execution_count": 301,
      "outputs": [
        {
          "output_type": "stream",
          "text": [
            "3000/3000 [==============================] - 0s 147us/sample - loss: 0.3613 - acc: 0.8583\n",
            "\\ n loss: 0.36131864960988364\n",
            "\\ n accuracy: 0.85833335\n"
          ],
          "name": "stdout"
        }
      ]
    },
    {
      "cell_type": "markdown",
      "metadata": {
        "id": "CTv3n48_DC_t",
        "colab_type": "text"
      },
      "source": [
        "Updating the model to improve the accuracy."
      ]
    },
    {
      "cell_type": "markdown",
      "metadata": {
        "id": "xrvWSbeqr_BX",
        "colab_type": "text"
      },
      "source": [
        "### Predict the results using 0.5 as a threshold (5 points)"
      ]
    },
    {
      "cell_type": "code",
      "metadata": {
        "id": "0vd0oCFsnQA3",
        "colab_type": "code",
        "colab": {}
      },
      "source": [
        "#y_pred = model.predict_proba(X_test)\n",
        "y_pred=model.predict(X_test_std)\n",
        "y_pred =(y_pred>0.5) #threshold is 0.5\n",
        "#y_pred = (model.predict_proba(X_test_std)[:,0] >= 0.5)#  threshold is 0.5"
      ],
      "execution_count": 0,
      "outputs": []
    },
    {
      "cell_type": "markdown",
      "metadata": {
        "id": "LD9nxvn2sEIx",
        "colab_type": "text"
      },
      "source": [
        "### Print the Accuracy score and confusion matrix (2.5 points)"
      ]
    },
    {
      "cell_type": "code",
      "metadata": {
        "id": "lV_Y3u57wlVZ",
        "colab_type": "code",
        "outputId": "46fcb309-af2b-4b77-cb41-7d547b97099f",
        "colab": {
          "base_uri": "https://localhost:8080/",
          "height": 68
        }
      },
      "source": [
        "scores = model.evaluate( X_train_std, y_train)\n",
        "\n",
        "print('\\ n loss:', scores[ 0]) \n",
        "\n",
        "print('\\ n accuracy:', scores[ 1])"
      ],
      "execution_count": 303,
      "outputs": [
        {
          "output_type": "stream",
          "text": [
            "7000/7000 [==============================] - 0s 42us/sample - loss: 0.3444 - acc: 0.8623\n",
            "\\ n loss: 0.34442153811454773\n",
            "\\ n accuracy: 0.86228573\n"
          ],
          "name": "stdout"
        }
      ]
    },
    {
      "cell_type": "code",
      "metadata": {
        "id": "jVQJZ8eboXz3",
        "colab_type": "code",
        "outputId": "78ada2c4-f090-4da0-db77-db5e7e3e158f",
        "colab": {
          "base_uri": "https://localhost:8080/",
          "height": 204
        }
      },
      "source": [
        "from sklearn.metrics import confusion_matrix\n",
        "from sklearn.metrics import classification_report\n",
        "\n",
        "cm = confusion_matrix(y_test,y_pred)\n",
        "print(cm)\n",
        "print(classification_report(y_test,y_pred))"
      ],
      "execution_count": 304,
      "outputs": [
        {
          "output_type": "stream",
          "text": [
            "[[2294   95]\n",
            " [ 330  281]]\n",
            "              precision    recall  f1-score   support\n",
            "\n",
            "           0       0.87      0.96      0.92      2389\n",
            "           1       0.75      0.46      0.57       611\n",
            "\n",
            "    accuracy                           0.86      3000\n",
            "   macro avg       0.81      0.71      0.74      3000\n",
            "weighted avg       0.85      0.86      0.84      3000\n",
            "\n"
          ],
          "name": "stdout"
        }
      ]
    },
    {
      "cell_type": "code",
      "metadata": {
        "id": "RGlRXOfKx3Qp",
        "colab_type": "code",
        "outputId": "2ab64936-9aa9-400d-9062-f4febc1250f0",
        "colab": {
          "base_uri": "https://localhost:8080/",
          "height": 85
        }
      },
      "source": [
        "print (\"TP = {}\".format(cm[1,1]))\n",
        "print (\"TN = {}\".format(cm[0,0]))\n",
        "print (\"FP = {}\".format(cm[0,1]))\n",
        "print (\"FN = {}\".format(cm[1,0]))"
      ],
      "execution_count": 305,
      "outputs": [
        {
          "output_type": "stream",
          "text": [
            "TP = 281\n",
            "TN = 330\n",
            "FP = 95\n",
            "FN = 2294\n"
          ],
          "name": "stdout"
        }
      ]
    },
    {
      "cell_type": "markdown",
      "metadata": {
        "id": "CmN-4YN9ivY5",
        "colab_type": "text"
      },
      "source": [
        "Above classifier helps to determine whether customer will leave or not using Neural networks, using smote due to presence of imbalance in the data, which did not provide much accuracy.\n",
        "\n",
        "Stratify attribute is used to manage the imbalance distribution in spliting the data.\n",
        "\n",
        "Adding learning rate and the epoch to 100, helps to increase the accuracy score.\n",
        "\n",
        "Learning rate plays a important role, and epoch to learn from mistake helps a lot.\n",
        "\n",
        "Imbalance in data reflects in the F1 score class also.\n",
        "\n",
        "Above matrix says high False Negative, which is costly to leave the essential customer."
      ]
    },
    {
      "cell_type": "code",
      "metadata": {
        "id": "5l-9tqfJEDNF",
        "colab_type": "code",
        "colab": {}
      },
      "source": [
        ""
      ],
      "execution_count": 0,
      "outputs": []
    }
  ]
}