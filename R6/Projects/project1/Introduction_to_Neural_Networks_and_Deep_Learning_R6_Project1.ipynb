{
  "nbformat": 4,
  "nbformat_minor": 0,
  "metadata": {
    "colab": {
      "name": "Introduction to Neural Networks and Deep Learning_R6_Project1.ipynb",
      "version": "0.3.2",
      "provenance": [],
      "collapsed_sections": []
    },
    "kernelspec": {
      "name": "python3",
      "display_name": "Python 3"
    }
  },
  "cells": [
    {
      "cell_type": "code",
      "metadata": {
        "id": "cfnLmA1jaKYA",
        "colab_type": "code",
        "outputId": "7e4781a0-bb76-4fb5-df85-5d0a3b26cdd6",
        "colab": {
          "base_uri": "https://localhost:8080/",
          "height": 34
        }
      },
      "source": [
        "from google.colab import drive\n",
        "drive.mount('gdrive')"
      ],
      "execution_count": 260,
      "outputs": [
        {
          "output_type": "stream",
          "text": [
            "Drive already mounted at gdrive; to attempt to forcibly remount, call drive.mount(\"gdrive\", force_remount=True).\n"
          ],
          "name": "stdout"
        }
      ]
    },
    {
      "cell_type": "code",
      "metadata": {
        "id": "asskrgaXaapl",
        "colab_type": "code",
        "colab": {}
      },
      "source": [
        "import tensorflow as tf"
      ],
      "execution_count": 0,
      "outputs": []
    },
    {
      "cell_type": "code",
      "metadata": {
        "id": "AKoCHmgfaweD",
        "colab_type": "code",
        "colab": {}
      },
      "source": [
        "import pandas as pd"
      ],
      "execution_count": 0,
      "outputs": []
    },
    {
      "cell_type": "code",
      "metadata": {
        "id": "W8t_dzmQayoO",
        "colab_type": "code",
        "outputId": "5da5251b-7e31-4913-d0ee-7b119ea33cc3",
        "colab": {
          "base_uri": "https://localhost:8080/",
          "height": 340
        }
      },
      "source": [
        "data = pd.read_csv('gdrive/My Drive/Colab Notebooks/AIML/R6/Projects/Project1/bank.csv')\n",
        "data.info()"
      ],
      "execution_count": 263,
      "outputs": [
        {
          "output_type": "stream",
          "text": [
            "<class 'pandas.core.frame.DataFrame'>\n",
            "RangeIndex: 10000 entries, 0 to 9999\n",
            "Data columns (total 14 columns):\n",
            "RowNumber          10000 non-null int64\n",
            "CustomerId         10000 non-null int64\n",
            "Surname            10000 non-null object\n",
            "CreditScore        10000 non-null int64\n",
            "Geography          10000 non-null object\n",
            "Gender             10000 non-null object\n",
            "Age                10000 non-null int64\n",
            "Tenure             10000 non-null int64\n",
            "Balance            10000 non-null float64\n",
            "NumOfProducts      10000 non-null int64\n",
            "HasCrCard          10000 non-null int64\n",
            "IsActiveMember     10000 non-null int64\n",
            "EstimatedSalary    10000 non-null float64\n",
            "Exited             10000 non-null int64\n",
            "dtypes: float64(2), int64(9), object(3)\n",
            "memory usage: 1.1+ MB\n"
          ],
          "name": "stdout"
        }
      ]
    },
    {
      "cell_type": "markdown",
      "metadata": {
        "id": "FJU-KXBb_dbj",
        "colab_type": "text"
      },
      "source": [
        "Information of the data set says there is no any null value for any column, so we can proceed to check the  uniqueness value of each column."
      ]
    },
    {
      "cell_type": "code",
      "metadata": {
        "id": "PoPHKYqSaq8x",
        "colab_type": "code",
        "outputId": "0d2bc38b-bcc3-4ea6-f71b-c5cb0aa9473e",
        "colab": {
          "base_uri": "https://localhost:8080/",
          "height": 111
        }
      },
      "source": [
        "tempDf = data.groupby(by='Exited', as_index=False).agg({'CustomerId': pd.Series.nunique})\n",
        "tempDf[tempDf['CustomerId'] > 1]"
      ],
      "execution_count": 265,
      "outputs": [
        {
          "output_type": "execute_result",
          "data": {
            "text/html": [
              "<div>\n",
              "<style scoped>\n",
              "    .dataframe tbody tr th:only-of-type {\n",
              "        vertical-align: middle;\n",
              "    }\n",
              "\n",
              "    .dataframe tbody tr th {\n",
              "        vertical-align: top;\n",
              "    }\n",
              "\n",
              "    .dataframe thead th {\n",
              "        text-align: right;\n",
              "    }\n",
              "</style>\n",
              "<table border=\"1\" class=\"dataframe\">\n",
              "  <thead>\n",
              "    <tr style=\"text-align: right;\">\n",
              "      <th></th>\n",
              "      <th>Exited</th>\n",
              "      <th>CustomerId</th>\n",
              "    </tr>\n",
              "  </thead>\n",
              "  <tbody>\n",
              "    <tr>\n",
              "      <th>0</th>\n",
              "      <td>0</td>\n",
              "      <td>7963</td>\n",
              "    </tr>\n",
              "    <tr>\n",
              "      <th>1</th>\n",
              "      <td>1</td>\n",
              "      <td>2037</td>\n",
              "    </tr>\n",
              "  </tbody>\n",
              "</table>\n",
              "</div>"
            ],
            "text/plain": [
              "   Exited  CustomerId\n",
              "0       0        7963\n",
              "1       1        2037"
            ]
          },
          "metadata": {
            "tags": []
          },
          "execution_count": 265
        }
      ]
    },
    {
      "cell_type": "markdown",
      "metadata": {
        "id": "jkDd3o-gbRQ5",
        "colab_type": "text"
      },
      "source": [
        "#### There is an imbalance in the data as per above count of the Exited column."
      ]
    },
    {
      "cell_type": "code",
      "metadata": {
        "id": "t3l6AfkVa7u8",
        "colab_type": "code",
        "outputId": "0e7135c5-994a-4a54-a35f-d02db4d49b24",
        "colab": {
          "base_uri": "https://localhost:8080/",
          "height": 1000
        }
      },
      "source": [
        "tempDf = data.groupby(by='Surname', as_index=False).agg({'CustomerId': pd.Series.nunique})\n",
        "tempDf[tempDf['CustomerId'] > 1]"
      ],
      "execution_count": 187,
      "outputs": [
        {
          "output_type": "execute_result",
          "data": {
            "text/html": [
              "<div>\n",
              "<style scoped>\n",
              "    .dataframe tbody tr th:only-of-type {\n",
              "        vertical-align: middle;\n",
              "    }\n",
              "\n",
              "    .dataframe tbody tr th {\n",
              "        vertical-align: top;\n",
              "    }\n",
              "\n",
              "    .dataframe thead th {\n",
              "        text-align: right;\n",
              "    }\n",
              "</style>\n",
              "<table border=\"1\" class=\"dataframe\">\n",
              "  <thead>\n",
              "    <tr style=\"text-align: right;\">\n",
              "      <th></th>\n",
              "      <th>Surname</th>\n",
              "      <th>CustomerId</th>\n",
              "    </tr>\n",
              "  </thead>\n",
              "  <tbody>\n",
              "    <tr>\n",
              "      <th>0</th>\n",
              "      <td>Abazu</td>\n",
              "      <td>2</td>\n",
              "    </tr>\n",
              "    <tr>\n",
              "      <th>2</th>\n",
              "      <td>Abbott</td>\n",
              "      <td>4</td>\n",
              "    </tr>\n",
              "    <tr>\n",
              "      <th>4</th>\n",
              "      <td>Abdulov</td>\n",
              "      <td>2</td>\n",
              "    </tr>\n",
              "    <tr>\n",
              "      <th>6</th>\n",
              "      <td>Abernathy</td>\n",
              "      <td>2</td>\n",
              "    </tr>\n",
              "    <tr>\n",
              "      <th>8</th>\n",
              "      <td>Abramova</td>\n",
              "      <td>2</td>\n",
              "    </tr>\n",
              "    <tr>\n",
              "      <th>9</th>\n",
              "      <td>Abramovich</td>\n",
              "      <td>5</td>\n",
              "    </tr>\n",
              "    <tr>\n",
              "      <th>10</th>\n",
              "      <td>Abramowitz</td>\n",
              "      <td>2</td>\n",
              "    </tr>\n",
              "    <tr>\n",
              "      <th>13</th>\n",
              "      <td>Achebe</td>\n",
              "      <td>3</td>\n",
              "    </tr>\n",
              "    <tr>\n",
              "      <th>14</th>\n",
              "      <td>Adams</td>\n",
              "      <td>10</td>\n",
              "    </tr>\n",
              "    <tr>\n",
              "      <th>15</th>\n",
              "      <td>Adamson</td>\n",
              "      <td>2</td>\n",
              "    </tr>\n",
              "    <tr>\n",
              "      <th>16</th>\n",
              "      <td>Afamefula</td>\n",
              "      <td>2</td>\n",
              "    </tr>\n",
              "    <tr>\n",
              "      <th>17</th>\n",
              "      <td>Afamefuna</td>\n",
              "      <td>2</td>\n",
              "    </tr>\n",
              "    <tr>\n",
              "      <th>19</th>\n",
              "      <td>Afanasyeva</td>\n",
              "      <td>2</td>\n",
              "    </tr>\n",
              "    <tr>\n",
              "      <th>20</th>\n",
              "      <td>Agafonova</td>\n",
              "      <td>2</td>\n",
              "    </tr>\n",
              "    <tr>\n",
              "      <th>24</th>\n",
              "      <td>Ahmed</td>\n",
              "      <td>4</td>\n",
              "    </tr>\n",
              "    <tr>\n",
              "      <th>28</th>\n",
              "      <td>Aitken</td>\n",
              "      <td>8</td>\n",
              "    </tr>\n",
              "    <tr>\n",
              "      <th>29</th>\n",
              "      <td>Ajuluchukwu</td>\n",
              "      <td>5</td>\n",
              "    </tr>\n",
              "    <tr>\n",
              "      <th>30</th>\n",
              "      <td>Akabueze</td>\n",
              "      <td>8</td>\n",
              "    </tr>\n",
              "    <tr>\n",
              "      <th>32</th>\n",
              "      <td>Akhtar</td>\n",
              "      <td>5</td>\n",
              "    </tr>\n",
              "    <tr>\n",
              "      <th>33</th>\n",
              "      <td>Akobundu</td>\n",
              "      <td>7</td>\n",
              "    </tr>\n",
              "    <tr>\n",
              "      <th>35</th>\n",
              "      <td>Aksenov</td>\n",
              "      <td>7</td>\n",
              "    </tr>\n",
              "    <tr>\n",
              "      <th>37</th>\n",
              "      <td>Aksyonov</td>\n",
              "      <td>2</td>\n",
              "    </tr>\n",
              "    <tr>\n",
              "      <th>38</th>\n",
              "      <td>Aksyonova</td>\n",
              "      <td>2</td>\n",
              "    </tr>\n",
              "    <tr>\n",
              "      <th>39</th>\n",
              "      <td>Akubundu</td>\n",
              "      <td>2</td>\n",
              "    </tr>\n",
              "    <tr>\n",
              "      <th>45</th>\n",
              "      <td>Aleksandrova</td>\n",
              "      <td>3</td>\n",
              "    </tr>\n",
              "    <tr>\n",
              "      <th>46</th>\n",
              "      <td>Alekseeva</td>\n",
              "      <td>4</td>\n",
              "    </tr>\n",
              "    <tr>\n",
              "      <th>47</th>\n",
              "      <td>Alekseyeva</td>\n",
              "      <td>3</td>\n",
              "    </tr>\n",
              "    <tr>\n",
              "      <th>49</th>\n",
              "      <td>Alexander</td>\n",
              "      <td>13</td>\n",
              "    </tr>\n",
              "    <tr>\n",
              "      <th>51</th>\n",
              "      <td>Alexandrova</td>\n",
              "      <td>3</td>\n",
              "    </tr>\n",
              "    <tr>\n",
              "      <th>52</th>\n",
              "      <td>Alexeeva</td>\n",
              "      <td>6</td>\n",
              "    </tr>\n",
              "    <tr>\n",
              "      <th>...</th>\n",
              "      <td>...</td>\n",
              "      <td>...</td>\n",
              "    </tr>\n",
              "    <tr>\n",
              "      <th>2880</th>\n",
              "      <td>Yen</td>\n",
              "      <td>14</td>\n",
              "    </tr>\n",
              "    <tr>\n",
              "      <th>2881</th>\n",
              "      <td>Yermakov</td>\n",
              "      <td>3</td>\n",
              "    </tr>\n",
              "    <tr>\n",
              "      <th>2882</th>\n",
              "      <td>Yermakova</td>\n",
              "      <td>4</td>\n",
              "    </tr>\n",
              "    <tr>\n",
              "      <th>2883</th>\n",
              "      <td>Yermolayev</td>\n",
              "      <td>2</td>\n",
              "    </tr>\n",
              "    <tr>\n",
              "      <th>2885</th>\n",
              "      <td>Yevdokimova</td>\n",
              "      <td>2</td>\n",
              "    </tr>\n",
              "    <tr>\n",
              "      <th>2886</th>\n",
              "      <td>Yevseyev</td>\n",
              "      <td>3</td>\n",
              "    </tr>\n",
              "    <tr>\n",
              "      <th>2888</th>\n",
              "      <td>Yin</td>\n",
              "      <td>11</td>\n",
              "    </tr>\n",
              "    <tr>\n",
              "      <th>2891</th>\n",
              "      <td>Yobachi</td>\n",
              "      <td>5</td>\n",
              "    </tr>\n",
              "    <tr>\n",
              "      <th>2892</th>\n",
              "      <td>Yobachukwu</td>\n",
              "      <td>5</td>\n",
              "    </tr>\n",
              "    <tr>\n",
              "      <th>2893</th>\n",
              "      <td>Yobanna</td>\n",
              "      <td>7</td>\n",
              "    </tr>\n",
              "    <tr>\n",
              "      <th>2897</th>\n",
              "      <td>Young</td>\n",
              "      <td>20</td>\n",
              "    </tr>\n",
              "    <tr>\n",
              "      <th>2899</th>\n",
              "      <td>Yu</td>\n",
              "      <td>10</td>\n",
              "    </tr>\n",
              "    <tr>\n",
              "      <th>2900</th>\n",
              "      <td>Yuan</td>\n",
              "      <td>13</td>\n",
              "    </tr>\n",
              "    <tr>\n",
              "      <th>2901</th>\n",
              "      <td>Yudin</td>\n",
              "      <td>4</td>\n",
              "    </tr>\n",
              "    <tr>\n",
              "      <th>2902</th>\n",
              "      <td>Yudina</td>\n",
              "      <td>4</td>\n",
              "    </tr>\n",
              "    <tr>\n",
              "      <th>2904</th>\n",
              "      <td>Yuriev</td>\n",
              "      <td>3</td>\n",
              "    </tr>\n",
              "    <tr>\n",
              "      <th>2905</th>\n",
              "      <td>Yuryeva</td>\n",
              "      <td>4</td>\n",
              "    </tr>\n",
              "    <tr>\n",
              "      <th>2907</th>\n",
              "      <td>Yusupova</td>\n",
              "      <td>3</td>\n",
              "    </tr>\n",
              "    <tr>\n",
              "      <th>2910</th>\n",
              "      <td>Zakharov</td>\n",
              "      <td>4</td>\n",
              "    </tr>\n",
              "    <tr>\n",
              "      <th>2912</th>\n",
              "      <td>Zaytseva</td>\n",
              "      <td>3</td>\n",
              "    </tr>\n",
              "    <tr>\n",
              "      <th>2913</th>\n",
              "      <td>Zetticci</td>\n",
              "      <td>11</td>\n",
              "    </tr>\n",
              "    <tr>\n",
              "      <th>2914</th>\n",
              "      <td>Zhdanov</td>\n",
              "      <td>2</td>\n",
              "    </tr>\n",
              "    <tr>\n",
              "      <th>2915</th>\n",
              "      <td>Zhdanova</td>\n",
              "      <td>4</td>\n",
              "    </tr>\n",
              "    <tr>\n",
              "      <th>2916</th>\n",
              "      <td>Zhirov</td>\n",
              "      <td>3</td>\n",
              "    </tr>\n",
              "    <tr>\n",
              "      <th>2918</th>\n",
              "      <td>Zikoranachidimma</td>\n",
              "      <td>6</td>\n",
              "    </tr>\n",
              "    <tr>\n",
              "      <th>2919</th>\n",
              "      <td>Zikoranachukwudimma</td>\n",
              "      <td>2</td>\n",
              "    </tr>\n",
              "    <tr>\n",
              "      <th>2923</th>\n",
              "      <td>Zito</td>\n",
              "      <td>6</td>\n",
              "    </tr>\n",
              "    <tr>\n",
              "      <th>2927</th>\n",
              "      <td>Zubarev</td>\n",
              "      <td>3</td>\n",
              "    </tr>\n",
              "    <tr>\n",
              "      <th>2930</th>\n",
              "      <td>Zuyev</td>\n",
              "      <td>2</td>\n",
              "    </tr>\n",
              "    <tr>\n",
              "      <th>2931</th>\n",
              "      <td>Zuyeva</td>\n",
              "      <td>2</td>\n",
              "    </tr>\n",
              "  </tbody>\n",
              "</table>\n",
              "<p>1374 rows × 2 columns</p>\n",
              "</div>"
            ],
            "text/plain": [
              "                  Surname  CustomerId\n",
              "0                   Abazu           2\n",
              "2                  Abbott           4\n",
              "4                 Abdulov           2\n",
              "6               Abernathy           2\n",
              "8                Abramova           2\n",
              "9              Abramovich           5\n",
              "10             Abramowitz           2\n",
              "13                 Achebe           3\n",
              "14                  Adams          10\n",
              "15                Adamson           2\n",
              "16              Afamefula           2\n",
              "17              Afamefuna           2\n",
              "19             Afanasyeva           2\n",
              "20              Agafonova           2\n",
              "24                  Ahmed           4\n",
              "28                 Aitken           8\n",
              "29            Ajuluchukwu           5\n",
              "30               Akabueze           8\n",
              "32                 Akhtar           5\n",
              "33               Akobundu           7\n",
              "35                Aksenov           7\n",
              "37               Aksyonov           2\n",
              "38              Aksyonova           2\n",
              "39               Akubundu           2\n",
              "45           Aleksandrova           3\n",
              "46              Alekseeva           4\n",
              "47             Alekseyeva           3\n",
              "49              Alexander          13\n",
              "51            Alexandrova           3\n",
              "52               Alexeeva           6\n",
              "...                   ...         ...\n",
              "2880                  Yen          14\n",
              "2881             Yermakov           3\n",
              "2882            Yermakova           4\n",
              "2883           Yermolayev           2\n",
              "2885          Yevdokimova           2\n",
              "2886             Yevseyev           3\n",
              "2888                  Yin          11\n",
              "2891              Yobachi           5\n",
              "2892           Yobachukwu           5\n",
              "2893              Yobanna           7\n",
              "2897                Young          20\n",
              "2899                   Yu          10\n",
              "2900                 Yuan          13\n",
              "2901                Yudin           4\n",
              "2902               Yudina           4\n",
              "2904               Yuriev           3\n",
              "2905              Yuryeva           4\n",
              "2907             Yusupova           3\n",
              "2910             Zakharov           4\n",
              "2912             Zaytseva           3\n",
              "2913             Zetticci          11\n",
              "2914              Zhdanov           2\n",
              "2915             Zhdanova           4\n",
              "2916               Zhirov           3\n",
              "2918     Zikoranachidimma           6\n",
              "2919  Zikoranachukwudimma           2\n",
              "2923                 Zito           6\n",
              "2927              Zubarev           3\n",
              "2930                Zuyev           2\n",
              "2931               Zuyeva           2\n",
              "\n",
              "[1374 rows x 2 columns]"
            ]
          },
          "metadata": {
            "tags": []
          },
          "execution_count": 187
        }
      ]
    },
    {
      "cell_type": "code",
      "metadata": {
        "id": "G4ctcDnwbTB_",
        "colab_type": "code",
        "outputId": "a5a79cd6-f594-47ae-a444-3d33a2c74fb0",
        "colab": {
          "base_uri": "https://localhost:8080/",
          "height": 142
        }
      },
      "source": [
        "tempDf = data.groupby(by='Geography', as_index=False).agg({'CustomerId': pd.Series.nunique})\n",
        "tempDf[tempDf['CustomerId'] > 1]"
      ],
      "execution_count": 188,
      "outputs": [
        {
          "output_type": "execute_result",
          "data": {
            "text/html": [
              "<div>\n",
              "<style scoped>\n",
              "    .dataframe tbody tr th:only-of-type {\n",
              "        vertical-align: middle;\n",
              "    }\n",
              "\n",
              "    .dataframe tbody tr th {\n",
              "        vertical-align: top;\n",
              "    }\n",
              "\n",
              "    .dataframe thead th {\n",
              "        text-align: right;\n",
              "    }\n",
              "</style>\n",
              "<table border=\"1\" class=\"dataframe\">\n",
              "  <thead>\n",
              "    <tr style=\"text-align: right;\">\n",
              "      <th></th>\n",
              "      <th>Geography</th>\n",
              "      <th>CustomerId</th>\n",
              "    </tr>\n",
              "  </thead>\n",
              "  <tbody>\n",
              "    <tr>\n",
              "      <th>0</th>\n",
              "      <td>France</td>\n",
              "      <td>5014</td>\n",
              "    </tr>\n",
              "    <tr>\n",
              "      <th>1</th>\n",
              "      <td>Germany</td>\n",
              "      <td>2509</td>\n",
              "    </tr>\n",
              "    <tr>\n",
              "      <th>2</th>\n",
              "      <td>Spain</td>\n",
              "      <td>2477</td>\n",
              "    </tr>\n",
              "  </tbody>\n",
              "</table>\n",
              "</div>"
            ],
            "text/plain": [
              "  Geography  CustomerId\n",
              "0    France        5014\n",
              "1   Germany        2509\n",
              "2     Spain        2477"
            ]
          },
          "metadata": {
            "tags": []
          },
          "execution_count": 188
        }
      ]
    },
    {
      "cell_type": "markdown",
      "metadata": {
        "id": "_lXy1LaaAX8k",
        "colab_type": "text"
      },
      "source": [
        "Surname doesnt have unique values in its column."
      ]
    },
    {
      "cell_type": "code",
      "metadata": {
        "id": "ts7zktoceNbD",
        "colab_type": "code",
        "outputId": "806f698e-6ee1-4b82-aedd-f8893440677b",
        "colab": {
          "base_uri": "https://localhost:8080/",
          "height": 49
        }
      },
      "source": [
        "tempDf = data.groupby(by='RowNumber', as_index=False).agg({'CustomerId': pd.Series.nunique}) \n",
        "tempDf[tempDf['CustomerId'] > 1]"
      ],
      "execution_count": 189,
      "outputs": [
        {
          "output_type": "execute_result",
          "data": {
            "text/html": [
              "<div>\n",
              "<style scoped>\n",
              "    .dataframe tbody tr th:only-of-type {\n",
              "        vertical-align: middle;\n",
              "    }\n",
              "\n",
              "    .dataframe tbody tr th {\n",
              "        vertical-align: top;\n",
              "    }\n",
              "\n",
              "    .dataframe thead th {\n",
              "        text-align: right;\n",
              "    }\n",
              "</style>\n",
              "<table border=\"1\" class=\"dataframe\">\n",
              "  <thead>\n",
              "    <tr style=\"text-align: right;\">\n",
              "      <th></th>\n",
              "      <th>RowNumber</th>\n",
              "      <th>CustomerId</th>\n",
              "    </tr>\n",
              "  </thead>\n",
              "  <tbody>\n",
              "  </tbody>\n",
              "</table>\n",
              "</div>"
            ],
            "text/plain": [
              "Empty DataFrame\n",
              "Columns: [RowNumber, CustomerId]\n",
              "Index: []"
            ]
          },
          "metadata": {
            "tags": []
          },
          "execution_count": 189
        }
      ]
    },
    {
      "cell_type": "markdown",
      "metadata": {
        "id": "YYxxZjKGAhi9",
        "colab_type": "text"
      },
      "source": [
        "Row number has unique values, so this can be dropped."
      ]
    },
    {
      "cell_type": "code",
      "metadata": {
        "id": "iXaiCMlEe6oE",
        "colab_type": "code",
        "outputId": "d017d075-8f4e-44c4-b44f-be1c4b619fd6",
        "colab": {
          "base_uri": "https://localhost:8080/",
          "height": 80
        }
      },
      "source": [
        "tempDf = data.groupby(by='EstimatedSalary', as_index=False).agg({'CustomerId': pd.Series.nunique}) \n",
        "tempDf[tempDf['CustomerId'] > 1]"
      ],
      "execution_count": 190,
      "outputs": [
        {
          "output_type": "execute_result",
          "data": {
            "text/html": [
              "<div>\n",
              "<style scoped>\n",
              "    .dataframe tbody tr th:only-of-type {\n",
              "        vertical-align: middle;\n",
              "    }\n",
              "\n",
              "    .dataframe tbody tr th {\n",
              "        vertical-align: top;\n",
              "    }\n",
              "\n",
              "    .dataframe thead th {\n",
              "        text-align: right;\n",
              "    }\n",
              "</style>\n",
              "<table border=\"1\" class=\"dataframe\">\n",
              "  <thead>\n",
              "    <tr style=\"text-align: right;\">\n",
              "      <th></th>\n",
              "      <th>EstimatedSalary</th>\n",
              "      <th>CustomerId</th>\n",
              "    </tr>\n",
              "  </thead>\n",
              "  <tbody>\n",
              "    <tr>\n",
              "      <th>1211</th>\n",
              "      <td>24924.92</td>\n",
              "      <td>2</td>\n",
              "    </tr>\n",
              "  </tbody>\n",
              "</table>\n",
              "</div>"
            ],
            "text/plain": [
              "      EstimatedSalary  CustomerId\n",
              "1211         24924.92           2"
            ]
          },
          "metadata": {
            "tags": []
          },
          "execution_count": 190
        }
      ]
    },
    {
      "cell_type": "markdown",
      "metadata": {
        "id": "uewpbW4dAqqP",
        "colab_type": "text"
      },
      "source": [
        "EstimatedSalary has unique values for most of the rows, this column also can be dropped. Note that, I dropped and checked the accuracy of the model, the accuracy does not improve. "
      ]
    },
    {
      "cell_type": "code",
      "metadata": {
        "id": "lUbWg4OTfXDk",
        "colab_type": "code",
        "outputId": "bc9f7c1f-5ea4-443d-f8b7-a5280002abcf",
        "colab": {
          "base_uri": "https://localhost:8080/",
          "height": 142
        }
      },
      "source": [
        "tempDf = data.groupby(by='Balance', as_index=False).agg({'CustomerId': pd.Series.nunique}) \n",
        "tempDf[tempDf['CustomerId'] > 1]"
      ],
      "execution_count": 191,
      "outputs": [
        {
          "output_type": "execute_result",
          "data": {
            "text/html": [
              "<div>\n",
              "<style scoped>\n",
              "    .dataframe tbody tr th:only-of-type {\n",
              "        vertical-align: middle;\n",
              "    }\n",
              "\n",
              "    .dataframe tbody tr th {\n",
              "        vertical-align: top;\n",
              "    }\n",
              "\n",
              "    .dataframe thead th {\n",
              "        text-align: right;\n",
              "    }\n",
              "</style>\n",
              "<table border=\"1\" class=\"dataframe\">\n",
              "  <thead>\n",
              "    <tr style=\"text-align: right;\">\n",
              "      <th></th>\n",
              "      <th>Balance</th>\n",
              "      <th>CustomerId</th>\n",
              "    </tr>\n",
              "  </thead>\n",
              "  <tbody>\n",
              "    <tr>\n",
              "      <th>0</th>\n",
              "      <td>0.00</td>\n",
              "      <td>3617</td>\n",
              "    </tr>\n",
              "    <tr>\n",
              "      <th>1995</th>\n",
              "      <td>105473.74</td>\n",
              "      <td>2</td>\n",
              "    </tr>\n",
              "    <tr>\n",
              "      <th>4115</th>\n",
              "      <td>130170.82</td>\n",
              "      <td>2</td>\n",
              "    </tr>\n",
              "  </tbody>\n",
              "</table>\n",
              "</div>"
            ],
            "text/plain": [
              "        Balance  CustomerId\n",
              "0          0.00        3617\n",
              "1995  105473.74           2\n",
              "4115  130170.82           2"
            ]
          },
          "metadata": {
            "tags": []
          },
          "execution_count": 191
        }
      ]
    },
    {
      "cell_type": "code",
      "metadata": {
        "id": "riHBs5D3du-q",
        "colab_type": "code",
        "colab": {
          "base_uri": "https://localhost:8080/",
          "height": 1000
        },
        "outputId": "e5426ec8-abc0-44f2-f403-61bfde0f72ea"
      },
      "source": [
        "tempDf = data.groupby(by='CreditScore', as_index=False).agg({'CustomerId': pd.Series.nunique}) \n",
        "tempDf[tempDf['CustomerId'] > 1]"
      ],
      "execution_count": 192,
      "outputs": [
        {
          "output_type": "execute_result",
          "data": {
            "text/html": [
              "<div>\n",
              "<style scoped>\n",
              "    .dataframe tbody tr th:only-of-type {\n",
              "        vertical-align: middle;\n",
              "    }\n",
              "\n",
              "    .dataframe tbody tr th {\n",
              "        vertical-align: top;\n",
              "    }\n",
              "\n",
              "    .dataframe thead th {\n",
              "        text-align: right;\n",
              "    }\n",
              "</style>\n",
              "<table border=\"1\" class=\"dataframe\">\n",
              "  <thead>\n",
              "    <tr style=\"text-align: right;\">\n",
              "      <th></th>\n",
              "      <th>CreditScore</th>\n",
              "      <th>CustomerId</th>\n",
              "    </tr>\n",
              "  </thead>\n",
              "  <tbody>\n",
              "    <tr>\n",
              "      <th>0</th>\n",
              "      <td>350</td>\n",
              "      <td>5</td>\n",
              "    </tr>\n",
              "    <tr>\n",
              "      <th>8</th>\n",
              "      <td>376</td>\n",
              "      <td>2</td>\n",
              "    </tr>\n",
              "    <tr>\n",
              "      <th>16</th>\n",
              "      <td>405</td>\n",
              "      <td>2</td>\n",
              "    </tr>\n",
              "    <tr>\n",
              "      <th>18</th>\n",
              "      <td>408</td>\n",
              "      <td>2</td>\n",
              "    </tr>\n",
              "    <tr>\n",
              "      <th>19</th>\n",
              "      <td>410</td>\n",
              "      <td>3</td>\n",
              "    </tr>\n",
              "    <tr>\n",
              "      <th>20</th>\n",
              "      <td>411</td>\n",
              "      <td>4</td>\n",
              "    </tr>\n",
              "    <tr>\n",
              "      <th>22</th>\n",
              "      <td>413</td>\n",
              "      <td>3</td>\n",
              "    </tr>\n",
              "    <tr>\n",
              "      <th>23</th>\n",
              "      <td>414</td>\n",
              "      <td>2</td>\n",
              "    </tr>\n",
              "    <tr>\n",
              "      <th>24</th>\n",
              "      <td>415</td>\n",
              "      <td>3</td>\n",
              "    </tr>\n",
              "    <tr>\n",
              "      <th>25</th>\n",
              "      <td>416</td>\n",
              "      <td>4</td>\n",
              "    </tr>\n",
              "    <tr>\n",
              "      <th>27</th>\n",
              "      <td>418</td>\n",
              "      <td>6</td>\n",
              "    </tr>\n",
              "    <tr>\n",
              "      <th>29</th>\n",
              "      <td>420</td>\n",
              "      <td>3</td>\n",
              "    </tr>\n",
              "    <tr>\n",
              "      <th>30</th>\n",
              "      <td>421</td>\n",
              "      <td>3</td>\n",
              "    </tr>\n",
              "    <tr>\n",
              "      <th>31</th>\n",
              "      <td>422</td>\n",
              "      <td>4</td>\n",
              "    </tr>\n",
              "    <tr>\n",
              "      <th>34</th>\n",
              "      <td>425</td>\n",
              "      <td>4</td>\n",
              "    </tr>\n",
              "    <tr>\n",
              "      <th>35</th>\n",
              "      <td>426</td>\n",
              "      <td>2</td>\n",
              "    </tr>\n",
              "    <tr>\n",
              "      <th>36</th>\n",
              "      <td>427</td>\n",
              "      <td>6</td>\n",
              "    </tr>\n",
              "    <tr>\n",
              "      <th>37</th>\n",
              "      <td>428</td>\n",
              "      <td>3</td>\n",
              "    </tr>\n",
              "    <tr>\n",
              "      <th>38</th>\n",
              "      <td>429</td>\n",
              "      <td>4</td>\n",
              "    </tr>\n",
              "    <tr>\n",
              "      <th>39</th>\n",
              "      <td>430</td>\n",
              "      <td>9</td>\n",
              "    </tr>\n",
              "    <tr>\n",
              "      <th>40</th>\n",
              "      <td>431</td>\n",
              "      <td>5</td>\n",
              "    </tr>\n",
              "    <tr>\n",
              "      <th>41</th>\n",
              "      <td>432</td>\n",
              "      <td>5</td>\n",
              "    </tr>\n",
              "    <tr>\n",
              "      <th>42</th>\n",
              "      <td>433</td>\n",
              "      <td>3</td>\n",
              "    </tr>\n",
              "    <tr>\n",
              "      <th>43</th>\n",
              "      <td>434</td>\n",
              "      <td>6</td>\n",
              "    </tr>\n",
              "    <tr>\n",
              "      <th>44</th>\n",
              "      <td>435</td>\n",
              "      <td>5</td>\n",
              "    </tr>\n",
              "    <tr>\n",
              "      <th>45</th>\n",
              "      <td>436</td>\n",
              "      <td>2</td>\n",
              "    </tr>\n",
              "    <tr>\n",
              "      <th>46</th>\n",
              "      <td>437</td>\n",
              "      <td>6</td>\n",
              "    </tr>\n",
              "    <tr>\n",
              "      <th>47</th>\n",
              "      <td>438</td>\n",
              "      <td>6</td>\n",
              "    </tr>\n",
              "    <tr>\n",
              "      <th>48</th>\n",
              "      <td>439</td>\n",
              "      <td>7</td>\n",
              "    </tr>\n",
              "    <tr>\n",
              "      <th>52</th>\n",
              "      <td>443</td>\n",
              "      <td>8</td>\n",
              "    </tr>\n",
              "    <tr>\n",
              "      <th>...</th>\n",
              "      <td>...</td>\n",
              "      <td>...</td>\n",
              "    </tr>\n",
              "    <tr>\n",
              "      <th>430</th>\n",
              "      <td>821</td>\n",
              "      <td>8</td>\n",
              "    </tr>\n",
              "    <tr>\n",
              "      <th>431</th>\n",
              "      <td>822</td>\n",
              "      <td>5</td>\n",
              "    </tr>\n",
              "    <tr>\n",
              "      <th>432</th>\n",
              "      <td>823</td>\n",
              "      <td>7</td>\n",
              "    </tr>\n",
              "    <tr>\n",
              "      <th>433</th>\n",
              "      <td>824</td>\n",
              "      <td>7</td>\n",
              "    </tr>\n",
              "    <tr>\n",
              "      <th>434</th>\n",
              "      <td>825</td>\n",
              "      <td>8</td>\n",
              "    </tr>\n",
              "    <tr>\n",
              "      <th>435</th>\n",
              "      <td>826</td>\n",
              "      <td>7</td>\n",
              "    </tr>\n",
              "    <tr>\n",
              "      <th>436</th>\n",
              "      <td>827</td>\n",
              "      <td>5</td>\n",
              "    </tr>\n",
              "    <tr>\n",
              "      <th>437</th>\n",
              "      <td>828</td>\n",
              "      <td>10</td>\n",
              "    </tr>\n",
              "    <tr>\n",
              "      <th>438</th>\n",
              "      <td>829</td>\n",
              "      <td>8</td>\n",
              "    </tr>\n",
              "    <tr>\n",
              "      <th>439</th>\n",
              "      <td>830</td>\n",
              "      <td>2</td>\n",
              "    </tr>\n",
              "    <tr>\n",
              "      <th>440</th>\n",
              "      <td>831</td>\n",
              "      <td>6</td>\n",
              "    </tr>\n",
              "    <tr>\n",
              "      <th>441</th>\n",
              "      <td>832</td>\n",
              "      <td>6</td>\n",
              "    </tr>\n",
              "    <tr>\n",
              "      <th>442</th>\n",
              "      <td>833</td>\n",
              "      <td>9</td>\n",
              "    </tr>\n",
              "    <tr>\n",
              "      <th>443</th>\n",
              "      <td>834</td>\n",
              "      <td>11</td>\n",
              "    </tr>\n",
              "    <tr>\n",
              "      <th>444</th>\n",
              "      <td>835</td>\n",
              "      <td>12</td>\n",
              "    </tr>\n",
              "    <tr>\n",
              "      <th>445</th>\n",
              "      <td>836</td>\n",
              "      <td>5</td>\n",
              "    </tr>\n",
              "    <tr>\n",
              "      <th>446</th>\n",
              "      <td>837</td>\n",
              "      <td>8</td>\n",
              "    </tr>\n",
              "    <tr>\n",
              "      <th>447</th>\n",
              "      <td>838</td>\n",
              "      <td>8</td>\n",
              "    </tr>\n",
              "    <tr>\n",
              "      <th>448</th>\n",
              "      <td>839</td>\n",
              "      <td>3</td>\n",
              "    </tr>\n",
              "    <tr>\n",
              "      <th>449</th>\n",
              "      <td>840</td>\n",
              "      <td>5</td>\n",
              "    </tr>\n",
              "    <tr>\n",
              "      <th>450</th>\n",
              "      <td>841</td>\n",
              "      <td>12</td>\n",
              "    </tr>\n",
              "    <tr>\n",
              "      <th>451</th>\n",
              "      <td>842</td>\n",
              "      <td>7</td>\n",
              "    </tr>\n",
              "    <tr>\n",
              "      <th>452</th>\n",
              "      <td>843</td>\n",
              "      <td>2</td>\n",
              "    </tr>\n",
              "    <tr>\n",
              "      <th>453</th>\n",
              "      <td>844</td>\n",
              "      <td>7</td>\n",
              "    </tr>\n",
              "    <tr>\n",
              "      <th>454</th>\n",
              "      <td>845</td>\n",
              "      <td>6</td>\n",
              "    </tr>\n",
              "    <tr>\n",
              "      <th>455</th>\n",
              "      <td>846</td>\n",
              "      <td>5</td>\n",
              "    </tr>\n",
              "    <tr>\n",
              "      <th>456</th>\n",
              "      <td>847</td>\n",
              "      <td>6</td>\n",
              "    </tr>\n",
              "    <tr>\n",
              "      <th>457</th>\n",
              "      <td>848</td>\n",
              "      <td>5</td>\n",
              "    </tr>\n",
              "    <tr>\n",
              "      <th>458</th>\n",
              "      <td>849</td>\n",
              "      <td>8</td>\n",
              "    </tr>\n",
              "    <tr>\n",
              "      <th>459</th>\n",
              "      <td>850</td>\n",
              "      <td>233</td>\n",
              "    </tr>\n",
              "  </tbody>\n",
              "</table>\n",
              "<p>437 rows × 2 columns</p>\n",
              "</div>"
            ],
            "text/plain": [
              "     CreditScore  CustomerId\n",
              "0            350           5\n",
              "8            376           2\n",
              "16           405           2\n",
              "18           408           2\n",
              "19           410           3\n",
              "20           411           4\n",
              "22           413           3\n",
              "23           414           2\n",
              "24           415           3\n",
              "25           416           4\n",
              "27           418           6\n",
              "29           420           3\n",
              "30           421           3\n",
              "31           422           4\n",
              "34           425           4\n",
              "35           426           2\n",
              "36           427           6\n",
              "37           428           3\n",
              "38           429           4\n",
              "39           430           9\n",
              "40           431           5\n",
              "41           432           5\n",
              "42           433           3\n",
              "43           434           6\n",
              "44           435           5\n",
              "45           436           2\n",
              "46           437           6\n",
              "47           438           6\n",
              "48           439           7\n",
              "52           443           8\n",
              "..           ...         ...\n",
              "430          821           8\n",
              "431          822           5\n",
              "432          823           7\n",
              "433          824           7\n",
              "434          825           8\n",
              "435          826           7\n",
              "436          827           5\n",
              "437          828          10\n",
              "438          829           8\n",
              "439          830           2\n",
              "440          831           6\n",
              "441          832           6\n",
              "442          833           9\n",
              "443          834          11\n",
              "444          835          12\n",
              "445          836           5\n",
              "446          837           8\n",
              "447          838           8\n",
              "448          839           3\n",
              "449          840           5\n",
              "450          841          12\n",
              "451          842           7\n",
              "452          843           2\n",
              "453          844           7\n",
              "454          845           6\n",
              "455          846           5\n",
              "456          847           6\n",
              "457          848           5\n",
              "458          849           8\n",
              "459          850         233\n",
              "\n",
              "[437 rows x 2 columns]"
            ]
          },
          "metadata": {
            "tags": []
          },
          "execution_count": 192
        }
      ]
    },
    {
      "cell_type": "code",
      "metadata": {
        "id": "d3fVSzIJfBzj",
        "colab_type": "code",
        "colab": {}
      },
      "source": [
        "df = data"
      ],
      "execution_count": 0,
      "outputs": []
    },
    {
      "cell_type": "markdown",
      "metadata": {
        "id": "LJ-W9pGpqsBC",
        "colab_type": "text"
      },
      "source": [
        "### Drop the columns which are unique for all users like IDs (2.5 points)"
      ]
    },
    {
      "cell_type": "code",
      "metadata": {
        "id": "z_PDtcOwdCl4",
        "colab_type": "code",
        "colab": {}
      },
      "source": [
        "data.drop(['CustomerId', 'RowNumber', 'Surname'], axis=1, inplace = True) # dropping EstimatedSalary also gives same accurancy so this is not deleted.\n",
        "#data.drop(['CustomerId', 'RowNumber'], axis=1, inplace = True)"
      ],
      "execution_count": 0,
      "outputs": []
    },
    {
      "cell_type": "code",
      "metadata": {
        "id": "S8wFj1vqdpMq",
        "colab_type": "code",
        "outputId": "6cc70162-f81c-4031-d08a-526ce33d11cf",
        "colab": {
          "base_uri": "https://localhost:8080/",
          "height": 204
        }
      },
      "source": [
        "data.head()"
      ],
      "execution_count": 195,
      "outputs": [
        {
          "output_type": "execute_result",
          "data": {
            "text/html": [
              "<div>\n",
              "<style scoped>\n",
              "    .dataframe tbody tr th:only-of-type {\n",
              "        vertical-align: middle;\n",
              "    }\n",
              "\n",
              "    .dataframe tbody tr th {\n",
              "        vertical-align: top;\n",
              "    }\n",
              "\n",
              "    .dataframe thead th {\n",
              "        text-align: right;\n",
              "    }\n",
              "</style>\n",
              "<table border=\"1\" class=\"dataframe\">\n",
              "  <thead>\n",
              "    <tr style=\"text-align: right;\">\n",
              "      <th></th>\n",
              "      <th>CreditScore</th>\n",
              "      <th>Geography</th>\n",
              "      <th>Gender</th>\n",
              "      <th>Age</th>\n",
              "      <th>Tenure</th>\n",
              "      <th>Balance</th>\n",
              "      <th>NumOfProducts</th>\n",
              "      <th>HasCrCard</th>\n",
              "      <th>IsActiveMember</th>\n",
              "      <th>EstimatedSalary</th>\n",
              "      <th>Exited</th>\n",
              "    </tr>\n",
              "  </thead>\n",
              "  <tbody>\n",
              "    <tr>\n",
              "      <th>0</th>\n",
              "      <td>619</td>\n",
              "      <td>France</td>\n",
              "      <td>Female</td>\n",
              "      <td>42</td>\n",
              "      <td>2</td>\n",
              "      <td>0.00</td>\n",
              "      <td>1</td>\n",
              "      <td>1</td>\n",
              "      <td>1</td>\n",
              "      <td>101348.88</td>\n",
              "      <td>1</td>\n",
              "    </tr>\n",
              "    <tr>\n",
              "      <th>1</th>\n",
              "      <td>608</td>\n",
              "      <td>Spain</td>\n",
              "      <td>Female</td>\n",
              "      <td>41</td>\n",
              "      <td>1</td>\n",
              "      <td>83807.86</td>\n",
              "      <td>1</td>\n",
              "      <td>0</td>\n",
              "      <td>1</td>\n",
              "      <td>112542.58</td>\n",
              "      <td>0</td>\n",
              "    </tr>\n",
              "    <tr>\n",
              "      <th>2</th>\n",
              "      <td>502</td>\n",
              "      <td>France</td>\n",
              "      <td>Female</td>\n",
              "      <td>42</td>\n",
              "      <td>8</td>\n",
              "      <td>159660.80</td>\n",
              "      <td>3</td>\n",
              "      <td>1</td>\n",
              "      <td>0</td>\n",
              "      <td>113931.57</td>\n",
              "      <td>1</td>\n",
              "    </tr>\n",
              "    <tr>\n",
              "      <th>3</th>\n",
              "      <td>699</td>\n",
              "      <td>France</td>\n",
              "      <td>Female</td>\n",
              "      <td>39</td>\n",
              "      <td>1</td>\n",
              "      <td>0.00</td>\n",
              "      <td>2</td>\n",
              "      <td>0</td>\n",
              "      <td>0</td>\n",
              "      <td>93826.63</td>\n",
              "      <td>0</td>\n",
              "    </tr>\n",
              "    <tr>\n",
              "      <th>4</th>\n",
              "      <td>850</td>\n",
              "      <td>Spain</td>\n",
              "      <td>Female</td>\n",
              "      <td>43</td>\n",
              "      <td>2</td>\n",
              "      <td>125510.82</td>\n",
              "      <td>1</td>\n",
              "      <td>1</td>\n",
              "      <td>1</td>\n",
              "      <td>79084.10</td>\n",
              "      <td>0</td>\n",
              "    </tr>\n",
              "  </tbody>\n",
              "</table>\n",
              "</div>"
            ],
            "text/plain": [
              "   CreditScore Geography  Gender  ...  IsActiveMember  EstimatedSalary  Exited\n",
              "0          619    France  Female  ...               1        101348.88       1\n",
              "1          608     Spain  Female  ...               1        112542.58       0\n",
              "2          502    France  Female  ...               0        113931.57       1\n",
              "3          699    France  Female  ...               0         93826.63       0\n",
              "4          850     Spain  Female  ...               1         79084.10       0\n",
              "\n",
              "[5 rows x 11 columns]"
            ]
          },
          "metadata": {
            "tags": []
          },
          "execution_count": 195
        }
      ]
    },
    {
      "cell_type": "code",
      "metadata": {
        "id": "fCg2inmud_9P",
        "colab_type": "code",
        "colab": {}
      },
      "source": [
        "data = pd.get_dummies(data)  # Using Categorical codes also gives same accuracy score.\n",
        "\n",
        "#data['Surname'] = pd.Categorical(data['Surname']).codes"
      ],
      "execution_count": 0,
      "outputs": []
    },
    {
      "cell_type": "code",
      "metadata": {
        "id": "_H5WEgWDZzRg",
        "colab_type": "code",
        "colab": {}
      },
      "source": [
        "#data['Geography'] = pd.Categorical(data['Geography']).codes\n",
        "#data['Gender'] = pd.Categorical(data['Gender']).codes"
      ],
      "execution_count": 0,
      "outputs": []
    },
    {
      "cell_type": "code",
      "metadata": {
        "id": "Kfunh8zGf1m6",
        "colab_type": "code",
        "outputId": "3f2e4845-1c31-4477-a7a7-7997d698000f",
        "colab": {
          "base_uri": "https://localhost:8080/",
          "height": 224
        }
      },
      "source": [
        "data.head()"
      ],
      "execution_count": 198,
      "outputs": [
        {
          "output_type": "execute_result",
          "data": {
            "text/html": [
              "<div>\n",
              "<style scoped>\n",
              "    .dataframe tbody tr th:only-of-type {\n",
              "        vertical-align: middle;\n",
              "    }\n",
              "\n",
              "    .dataframe tbody tr th {\n",
              "        vertical-align: top;\n",
              "    }\n",
              "\n",
              "    .dataframe thead th {\n",
              "        text-align: right;\n",
              "    }\n",
              "</style>\n",
              "<table border=\"1\" class=\"dataframe\">\n",
              "  <thead>\n",
              "    <tr style=\"text-align: right;\">\n",
              "      <th></th>\n",
              "      <th>CreditScore</th>\n",
              "      <th>Age</th>\n",
              "      <th>Tenure</th>\n",
              "      <th>Balance</th>\n",
              "      <th>NumOfProducts</th>\n",
              "      <th>HasCrCard</th>\n",
              "      <th>IsActiveMember</th>\n",
              "      <th>EstimatedSalary</th>\n",
              "      <th>Exited</th>\n",
              "      <th>Geography_France</th>\n",
              "      <th>Geography_Germany</th>\n",
              "      <th>Geography_Spain</th>\n",
              "      <th>Gender_Female</th>\n",
              "      <th>Gender_Male</th>\n",
              "    </tr>\n",
              "  </thead>\n",
              "  <tbody>\n",
              "    <tr>\n",
              "      <th>0</th>\n",
              "      <td>619</td>\n",
              "      <td>42</td>\n",
              "      <td>2</td>\n",
              "      <td>0.00</td>\n",
              "      <td>1</td>\n",
              "      <td>1</td>\n",
              "      <td>1</td>\n",
              "      <td>101348.88</td>\n",
              "      <td>1</td>\n",
              "      <td>1</td>\n",
              "      <td>0</td>\n",
              "      <td>0</td>\n",
              "      <td>1</td>\n",
              "      <td>0</td>\n",
              "    </tr>\n",
              "    <tr>\n",
              "      <th>1</th>\n",
              "      <td>608</td>\n",
              "      <td>41</td>\n",
              "      <td>1</td>\n",
              "      <td>83807.86</td>\n",
              "      <td>1</td>\n",
              "      <td>0</td>\n",
              "      <td>1</td>\n",
              "      <td>112542.58</td>\n",
              "      <td>0</td>\n",
              "      <td>0</td>\n",
              "      <td>0</td>\n",
              "      <td>1</td>\n",
              "      <td>1</td>\n",
              "      <td>0</td>\n",
              "    </tr>\n",
              "    <tr>\n",
              "      <th>2</th>\n",
              "      <td>502</td>\n",
              "      <td>42</td>\n",
              "      <td>8</td>\n",
              "      <td>159660.80</td>\n",
              "      <td>3</td>\n",
              "      <td>1</td>\n",
              "      <td>0</td>\n",
              "      <td>113931.57</td>\n",
              "      <td>1</td>\n",
              "      <td>1</td>\n",
              "      <td>0</td>\n",
              "      <td>0</td>\n",
              "      <td>1</td>\n",
              "      <td>0</td>\n",
              "    </tr>\n",
              "    <tr>\n",
              "      <th>3</th>\n",
              "      <td>699</td>\n",
              "      <td>39</td>\n",
              "      <td>1</td>\n",
              "      <td>0.00</td>\n",
              "      <td>2</td>\n",
              "      <td>0</td>\n",
              "      <td>0</td>\n",
              "      <td>93826.63</td>\n",
              "      <td>0</td>\n",
              "      <td>1</td>\n",
              "      <td>0</td>\n",
              "      <td>0</td>\n",
              "      <td>1</td>\n",
              "      <td>0</td>\n",
              "    </tr>\n",
              "    <tr>\n",
              "      <th>4</th>\n",
              "      <td>850</td>\n",
              "      <td>43</td>\n",
              "      <td>2</td>\n",
              "      <td>125510.82</td>\n",
              "      <td>1</td>\n",
              "      <td>1</td>\n",
              "      <td>1</td>\n",
              "      <td>79084.10</td>\n",
              "      <td>0</td>\n",
              "      <td>0</td>\n",
              "      <td>0</td>\n",
              "      <td>1</td>\n",
              "      <td>1</td>\n",
              "      <td>0</td>\n",
              "    </tr>\n",
              "  </tbody>\n",
              "</table>\n",
              "</div>"
            ],
            "text/plain": [
              "   CreditScore  Age  Tenure  ...  Geography_Spain  Gender_Female  Gender_Male\n",
              "0          619   42       2  ...                0              1            0\n",
              "1          608   41       1  ...                1              1            0\n",
              "2          502   42       8  ...                0              1            0\n",
              "3          699   39       1  ...                0              1            0\n",
              "4          850   43       2  ...                1              1            0\n",
              "\n",
              "[5 rows x 14 columns]"
            ]
          },
          "metadata": {
            "tags": []
          },
          "execution_count": 198
        }
      ]
    },
    {
      "cell_type": "code",
      "metadata": {
        "id": "GU-xiKTZf9VK",
        "colab_type": "code",
        "colab": {}
      },
      "source": [
        "X = data.drop('Exited', axis=1)\n",
        "Y = data[['Exited']]"
      ],
      "execution_count": 0,
      "outputs": []
    },
    {
      "cell_type": "code",
      "metadata": {
        "id": "WRuy_oHBKobz",
        "colab_type": "code",
        "colab": {}
      },
      "source": [
        ""
      ],
      "execution_count": 0,
      "outputs": []
    },
    {
      "cell_type": "markdown",
      "metadata": {
        "id": "nhdwhNuLq600",
        "colab_type": "text"
      },
      "source": [
        "### Normalize the train and test data (2.5 points)"
      ]
    },
    {
      "cell_type": "code",
      "metadata": {
        "id": "dbmTMRHcia7t",
        "colab_type": "code",
        "outputId": "12ca3818-5955-4ff3-d380-9c2c9c34910a",
        "colab": {
          "base_uri": "https://localhost:8080/",
          "height": 34
        }
      },
      "source": [
        "\n",
        "from sklearn.model_selection import train_test_split\n",
        "X_train,  X_test, y_train, y_test = train_test_split(X, Y, test_size=.3, stratify=Y, random_state=98789)\n",
        "print(\"X_Train : {}, X_test : {}, y_train : {}, y_test : {}\".format(X_train.shape,  X_test.shape, y_train.shape, y_test.shape))\n"
      ],
      "execution_count": 201,
      "outputs": [
        {
          "output_type": "stream",
          "text": [
            "X_Train : (7000, 13), X_test : (3000, 13), y_train : (7000, 1), y_test : (3000, 1)\n"
          ],
          "name": "stdout"
        }
      ]
    },
    {
      "cell_type": "code",
      "metadata": {
        "id": "wG5Q7LMEX9cv",
        "colab_type": "code",
        "colab": {}
      },
      "source": [
        "\n",
        "from sklearn.preprocessing import StandardScaler\n",
        "\n",
        "\n",
        "sc = StandardScaler()\n",
        "\n",
        "X_train_std = sc.fit_transform(X_train)\n",
        "X_test_std = sc.fit_transform(X_test)"
      ],
      "execution_count": 0,
      "outputs": []
    },
    {
      "cell_type": "markdown",
      "metadata": {
        "id": "yppRr4Y3rHDt",
        "colab_type": "text"
      },
      "source": [
        "Since there is imbalance in the data, trying to smote it"
      ]
    },
    {
      "cell_type": "code",
      "metadata": {
        "id": "-ftsyiuQK0_T",
        "colab_type": "code",
        "colab": {
          "base_uri": "https://localhost:8080/",
          "height": 88
        },
        "outputId": "3f3e9223-1d84-4628-e755-ea7814117336"
      },
      "source": [
        "from imblearn.over_sampling import SMOTE\n",
        "sm = SMOTE(random_state=3424)\n",
        "X_train_res, y_train_res = sm.fit_sample(X_train, y_train)\n",
        "\n",
        "print(\"X_Train : {}, y_train : {}\".format(X_train_res.shape,  y_train_res.shape))"
      ],
      "execution_count": 204,
      "outputs": [
        {
          "output_type": "stream",
          "text": [
            "X_Train : (11148, 13), y_train : (11148,)\n"
          ],
          "name": "stdout"
        },
        {
          "output_type": "stream",
          "text": [
            "/usr/local/lib/python3.6/dist-packages/sklearn/utils/validation.py:724: DataConversionWarning: A column-vector y was passed when a 1d array was expected. Please change the shape of y to (n_samples, ), for example using ravel().\n",
            "  y = column_or_1d(y, warn=True)\n"
          ],
          "name": "stderr"
        }
      ]
    },
    {
      "cell_type": "markdown",
      "metadata": {
        "id": "5TOl8X0Brx3F",
        "colab_type": "text"
      },
      "source": [
        "### Initialize &amp; build the model (10 points)"
      ]
    },
    {
      "cell_type": "code",
      "metadata": {
        "id": "9rQJUGP5kOHU",
        "colab_type": "code",
        "colab": {}
      },
      "source": [
        "\n",
        "from tensorflow import keras \n",
        "from keras.models import Sequential\n",
        "from keras.layers import Dense,Dropout\n",
        "from keras.optimizers import SGD "
      ],
      "execution_count": 0,
      "outputs": []
    },
    {
      "cell_type": "code",
      "metadata": {
        "id": "_f6eFtd-Xwip",
        "colab_type": "code",
        "colab": {
          "base_uri": "https://localhost:8080/",
          "height": 816
        },
        "outputId": "71581c8c-4647-46c0-9975-9c09fc02b248"
      },
      "source": [
        "n_inputs = 13\n",
        "model = keras.Sequential([\n",
        "    keras.layers.Dense(10, activation=tf.nn.relu, input_shape=(n_inputs,)),\n",
        "    keras.layers.Dense(8, activation=tf.nn.relu),\n",
        "    keras.layers.Dense(5, activation=tf.nn.relu),\n",
        "    keras.layers.Dense(1, activation=tf.nn.sigmoid)\n",
        "])\n",
        "\n",
        "\n",
        "model.summary() \n",
        "# compile the model \n",
        "model.compile( loss ='binary_crossentropy', optimizer = 'sgd', metrics =['accuracy']) \n",
        "\n",
        "# train the model \n",
        "model.fit( X_train_res, y_train_res, batch_size = 90, epochs = 15) \n"
      ],
      "execution_count": 257,
      "outputs": [
        {
          "output_type": "stream",
          "text": [
            "Model: \"sequential_58\"\n",
            "_________________________________________________________________\n",
            "Layer (type)                 Output Shape              Param #   \n",
            "=================================================================\n",
            "dense_206 (Dense)            (None, 10)                140       \n",
            "_________________________________________________________________\n",
            "dense_207 (Dense)            (None, 8)                 88        \n",
            "_________________________________________________________________\n",
            "dense_208 (Dense)            (None, 5)                 45        \n",
            "_________________________________________________________________\n",
            "dense_209 (Dense)            (None, 1)                 6         \n",
            "=================================================================\n",
            "Total params: 279\n",
            "Trainable params: 279\n",
            "Non-trainable params: 0\n",
            "_________________________________________________________________\n",
            "Epoch 1/15\n",
            "11148/11148 [==============================] - 1s 48us/sample - loss: 6420970.8988 - acc: 0.4994\n",
            "Epoch 2/15\n",
            "11148/11148 [==============================] - 0s 18us/sample - loss: 0.6935 - acc: 0.5000\n",
            "Epoch 3/15\n",
            "11148/11148 [==============================] - 0s 21us/sample - loss: 0.6932 - acc: 0.5000\n",
            "Epoch 4/15\n",
            "11148/11148 [==============================] - 0s 20us/sample - loss: 0.6931 - acc: 0.4975\n",
            "Epoch 5/15\n",
            "11148/11148 [==============================] - 0s 20us/sample - loss: 0.6930 - acc: 0.4943\n",
            "Epoch 6/15\n",
            "11148/11148 [==============================] - 0s 19us/sample - loss: 0.6930 - acc: 0.4989\n",
            "Epoch 7/15\n",
            "11148/11148 [==============================] - 0s 20us/sample - loss: 0.6929 - acc: 0.4960\n",
            "Epoch 8/15\n",
            "11148/11148 [==============================] - 0s 18us/sample - loss: 0.6930 - acc: 0.4925\n",
            "Epoch 9/15\n",
            "11148/11148 [==============================] - 0s 19us/sample - loss: 0.6930 - acc: 0.4963\n",
            "Epoch 10/15\n",
            "11148/11148 [==============================] - 0s 18us/sample - loss: 0.6930 - acc: 0.4995\n",
            "Epoch 11/15\n",
            "11148/11148 [==============================] - 0s 19us/sample - loss: 0.6930 - acc: 0.4915\n",
            "Epoch 12/15\n",
            "11148/11148 [==============================] - 0s 19us/sample - loss: 0.6929 - acc: 0.4953\n",
            "Epoch 13/15\n",
            "11148/11148 [==============================] - 0s 22us/sample - loss: 0.6929 - acc: 0.4970\n",
            "Epoch 14/15\n",
            "11148/11148 [==============================] - 0s 18us/sample - loss: 0.6929 - acc: 0.5013\n",
            "Epoch 15/15\n",
            "11148/11148 [==============================] - 0s 20us/sample - loss: 0.6929 - acc: 0.5010\n"
          ],
          "name": "stdout"
        },
        {
          "output_type": "execute_result",
          "data": {
            "text/plain": [
              "<tensorflow.python.keras.callbacks.History at 0x7f64e3c7ba90>"
            ]
          },
          "metadata": {
            "tags": []
          },
          "execution_count": 257
        }
      ]
    },
    {
      "cell_type": "markdown",
      "metadata": {
        "id": "X9DxH8sCrQii",
        "colab_type": "text"
      },
      "source": [
        "Smoting does not help the accuracy."
      ]
    },
    {
      "cell_type": "markdown",
      "metadata": {
        "id": "NZfQ8Nmfrq0S",
        "colab_type": "text"
      },
      "source": [
        "### Optimize the model (5 points)"
      ]
    },
    {
      "cell_type": "code",
      "metadata": {
        "id": "f4ucD2Bijtcd",
        "colab_type": "code",
        "outputId": "9345c935-25df-4d63-efb0-9fe1468c8c29",
        "colab": {
          "base_uri": "https://localhost:8080/",
          "height": 1000
        }
      },
      "source": [
        "n_inputs = 13\n",
        "model = keras.Sequential([\n",
        "    keras.layers.Dense(10, activation=tf.nn.relu, input_shape=(n_inputs,)),\n",
        "    keras.layers.Dense(8, activation=tf.nn.relu, input_shape=(10,)),\n",
        "    keras.layers.Dense(5, activation=tf.nn.relu),\n",
        "    keras.layers.Dense(1, activation=tf.nn.sigmoid)\n",
        "])\n",
        "from keras.optimizers import SGD \n",
        "\n",
        "\n",
        "sgd = keras.optimizers.SGD(lr=.002)\n",
        "model.compile(optimizer=sgd,loss='binary_crossentropy', metrics=['accuracy'])\n",
        "\n",
        "\n",
        "model.fit(X_train_std,y_train,batch_size=10,epochs=100)\n"
      ],
      "execution_count": 248,
      "outputs": [
        {
          "output_type": "stream",
          "text": [
            "Epoch 1/100\n",
            "7000/7000 [==============================] - 1s 207us/sample - loss: 0.6089 - acc: 0.7264\n",
            "Epoch 2/100\n",
            "7000/7000 [==============================] - 1s 158us/sample - loss: 0.5184 - acc: 0.7964\n",
            "Epoch 3/100\n",
            "7000/7000 [==============================] - 1s 158us/sample - loss: 0.4975 - acc: 0.7966\n",
            "Epoch 4/100\n",
            "7000/7000 [==============================] - 1s 158us/sample - loss: 0.4869 - acc: 0.7963\n",
            "Epoch 5/100\n",
            "7000/7000 [==============================] - 1s 157us/sample - loss: 0.4792 - acc: 0.7961\n",
            "Epoch 6/100\n",
            "7000/7000 [==============================] - 1s 156us/sample - loss: 0.4730 - acc: 0.7964\n",
            "Epoch 7/100\n",
            "7000/7000 [==============================] - 1s 157us/sample - loss: 0.4678 - acc: 0.7969\n",
            "Epoch 8/100\n",
            "7000/7000 [==============================] - 1s 160us/sample - loss: 0.4633 - acc: 0.7974\n",
            "Epoch 9/100\n",
            "7000/7000 [==============================] - 1s 162us/sample - loss: 0.4596 - acc: 0.7976\n",
            "Epoch 10/100\n",
            "7000/7000 [==============================] - 1s 159us/sample - loss: 0.4562 - acc: 0.7984\n",
            "Epoch 11/100\n",
            "7000/7000 [==============================] - 1s 159us/sample - loss: 0.4532 - acc: 0.7991\n",
            "Epoch 12/100\n",
            "7000/7000 [==============================] - 1s 162us/sample - loss: 0.4505 - acc: 0.8003\n",
            "Epoch 13/100\n",
            "7000/7000 [==============================] - 1s 157us/sample - loss: 0.4478 - acc: 0.8006\n",
            "Epoch 14/100\n",
            "7000/7000 [==============================] - 1s 158us/sample - loss: 0.4456 - acc: 0.8004\n",
            "Epoch 15/100\n",
            "7000/7000 [==============================] - 1s 157us/sample - loss: 0.4434 - acc: 0.8007\n",
            "Epoch 16/100\n",
            "7000/7000 [==============================] - 1s 159us/sample - loss: 0.4412 - acc: 0.8011\n",
            "Epoch 17/100\n",
            "7000/7000 [==============================] - 1s 156us/sample - loss: 0.4391 - acc: 0.8016\n",
            "Epoch 18/100\n",
            "7000/7000 [==============================] - 1s 158us/sample - loss: 0.4370 - acc: 0.8016\n",
            "Epoch 19/100\n",
            "7000/7000 [==============================] - 1s 157us/sample - loss: 0.4349 - acc: 0.8014\n",
            "Epoch 20/100\n",
            "7000/7000 [==============================] - 1s 157us/sample - loss: 0.4327 - acc: 0.8010\n",
            "Epoch 21/100\n",
            "7000/7000 [==============================] - 1s 158us/sample - loss: 0.4305 - acc: 0.8019\n",
            "Epoch 22/100\n",
            "7000/7000 [==============================] - 1s 160us/sample - loss: 0.4283 - acc: 0.8037\n",
            "Epoch 23/100\n",
            "7000/7000 [==============================] - 1s 157us/sample - loss: 0.4257 - acc: 0.8054\n",
            "Epoch 24/100\n",
            "7000/7000 [==============================] - 1s 159us/sample - loss: 0.4231 - acc: 0.8064\n",
            "Epoch 25/100\n",
            "7000/7000 [==============================] - 1s 158us/sample - loss: 0.4204 - acc: 0.8086\n",
            "Epoch 26/100\n",
            "7000/7000 [==============================] - 1s 161us/sample - loss: 0.4176 - acc: 0.8140\n",
            "Epoch 27/100\n",
            "7000/7000 [==============================] - 1s 161us/sample - loss: 0.4149 - acc: 0.8160\n",
            "Epoch 28/100\n",
            "7000/7000 [==============================] - 1s 159us/sample - loss: 0.4120 - acc: 0.8190\n",
            "Epoch 29/100\n",
            "7000/7000 [==============================] - 1s 161us/sample - loss: 0.4093 - acc: 0.8201\n",
            "Epoch 30/100\n",
            "7000/7000 [==============================] - 1s 159us/sample - loss: 0.4065 - acc: 0.8237\n",
            "Epoch 31/100\n",
            "7000/7000 [==============================] - 1s 164us/sample - loss: 0.4038 - acc: 0.8264\n",
            "Epoch 32/100\n",
            "7000/7000 [==============================] - 1s 163us/sample - loss: 0.4010 - acc: 0.8293\n",
            "Epoch 33/100\n",
            "7000/7000 [==============================] - 1s 159us/sample - loss: 0.3982 - acc: 0.8283\n",
            "Epoch 34/100\n",
            "7000/7000 [==============================] - 1s 159us/sample - loss: 0.3952 - acc: 0.8313\n",
            "Epoch 35/100\n",
            "7000/7000 [==============================] - 1s 159us/sample - loss: 0.3924 - acc: 0.8314\n",
            "Epoch 36/100\n",
            "7000/7000 [==============================] - 1s 160us/sample - loss: 0.3894 - acc: 0.8331\n",
            "Epoch 37/100\n",
            "7000/7000 [==============================] - 1s 160us/sample - loss: 0.3867 - acc: 0.8361\n",
            "Epoch 38/100\n",
            "7000/7000 [==============================] - 1s 161us/sample - loss: 0.3840 - acc: 0.8371\n",
            "Epoch 39/100\n",
            "7000/7000 [==============================] - 1s 158us/sample - loss: 0.3813 - acc: 0.8394\n",
            "Epoch 40/100\n",
            "7000/7000 [==============================] - 1s 161us/sample - loss: 0.3784 - acc: 0.8414\n",
            "Epoch 41/100\n",
            "7000/7000 [==============================] - 1s 161us/sample - loss: 0.3758 - acc: 0.8440\n",
            "Epoch 42/100\n",
            "7000/7000 [==============================] - 1s 162us/sample - loss: 0.3732 - acc: 0.8450\n",
            "Epoch 43/100\n",
            "7000/7000 [==============================] - 1s 159us/sample - loss: 0.3711 - acc: 0.8459\n",
            "Epoch 44/100\n",
            "7000/7000 [==============================] - 1s 161us/sample - loss: 0.3691 - acc: 0.8463\n",
            "Epoch 45/100\n",
            "7000/7000 [==============================] - 1s 163us/sample - loss: 0.3672 - acc: 0.8483\n",
            "Epoch 46/100\n",
            "7000/7000 [==============================] - 1s 161us/sample - loss: 0.3656 - acc: 0.8471\n",
            "Epoch 47/100\n",
            "7000/7000 [==============================] - 1s 165us/sample - loss: 0.3640 - acc: 0.8490\n",
            "Epoch 48/100\n",
            "7000/7000 [==============================] - 1s 163us/sample - loss: 0.3626 - acc: 0.8491\n",
            "Epoch 49/100\n",
            "7000/7000 [==============================] - 1s 166us/sample - loss: 0.3614 - acc: 0.8509\n",
            "Epoch 50/100\n",
            "7000/7000 [==============================] - 1s 165us/sample - loss: 0.3602 - acc: 0.8503\n",
            "Epoch 51/100\n",
            "7000/7000 [==============================] - 1s 165us/sample - loss: 0.3592 - acc: 0.8524\n",
            "Epoch 52/100\n",
            "7000/7000 [==============================] - 1s 164us/sample - loss: 0.3582 - acc: 0.8530\n",
            "Epoch 53/100\n",
            "7000/7000 [==============================] - 1s 162us/sample - loss: 0.3573 - acc: 0.8530\n",
            "Epoch 54/100\n",
            "7000/7000 [==============================] - 1s 163us/sample - loss: 0.3565 - acc: 0.8524\n",
            "Epoch 55/100\n",
            "7000/7000 [==============================] - 1s 159us/sample - loss: 0.3556 - acc: 0.8543\n",
            "Epoch 56/100\n",
            "7000/7000 [==============================] - 1s 165us/sample - loss: 0.3551 - acc: 0.8547\n",
            "Epoch 57/100\n",
            "7000/7000 [==============================] - 1s 160us/sample - loss: 0.3543 - acc: 0.8546\n",
            "Epoch 58/100\n",
            "7000/7000 [==============================] - 1s 164us/sample - loss: 0.3538 - acc: 0.8549\n",
            "Epoch 59/100\n",
            "7000/7000 [==============================] - 1s 162us/sample - loss: 0.3531 - acc: 0.8547\n",
            "Epoch 60/100\n",
            "7000/7000 [==============================] - 1s 158us/sample - loss: 0.3526 - acc: 0.8550\n",
            "Epoch 61/100\n",
            "7000/7000 [==============================] - 1s 161us/sample - loss: 0.3521 - acc: 0.8567\n",
            "Epoch 62/100\n",
            "7000/7000 [==============================] - 1s 159us/sample - loss: 0.3517 - acc: 0.8557\n",
            "Epoch 63/100\n",
            "7000/7000 [==============================] - 1s 161us/sample - loss: 0.3512 - acc: 0.8559\n",
            "Epoch 64/100\n",
            "7000/7000 [==============================] - 1s 158us/sample - loss: 0.3507 - acc: 0.8569\n",
            "Epoch 65/100\n",
            "7000/7000 [==============================] - 1s 160us/sample - loss: 0.3503 - acc: 0.8554\n",
            "Epoch 66/100\n",
            "7000/7000 [==============================] - 1s 168us/sample - loss: 0.3499 - acc: 0.8577\n",
            "Epoch 67/100\n",
            "7000/7000 [==============================] - 1s 159us/sample - loss: 0.3495 - acc: 0.8561\n",
            "Epoch 68/100\n",
            "7000/7000 [==============================] - 1s 162us/sample - loss: 0.3490 - acc: 0.8574\n",
            "Epoch 69/100\n",
            "7000/7000 [==============================] - 1s 158us/sample - loss: 0.3489 - acc: 0.8557\n",
            "Epoch 70/100\n",
            "7000/7000 [==============================] - 1s 161us/sample - loss: 0.3485 - acc: 0.8570\n",
            "Epoch 71/100\n",
            "7000/7000 [==============================] - 1s 159us/sample - loss: 0.3482 - acc: 0.8567\n",
            "Epoch 72/100\n",
            "7000/7000 [==============================] - 1s 162us/sample - loss: 0.3479 - acc: 0.8563\n",
            "Epoch 73/100\n",
            "7000/7000 [==============================] - 1s 160us/sample - loss: 0.3477 - acc: 0.8576\n",
            "Epoch 74/100\n",
            "7000/7000 [==============================] - 1s 159us/sample - loss: 0.3474 - acc: 0.8569\n",
            "Epoch 75/100\n",
            "7000/7000 [==============================] - 1s 164us/sample - loss: 0.3472 - acc: 0.8560\n",
            "Epoch 76/100\n",
            "7000/7000 [==============================] - 1s 158us/sample - loss: 0.3468 - acc: 0.8576\n",
            "Epoch 77/100\n",
            "7000/7000 [==============================] - 1s 159us/sample - loss: 0.3466 - acc: 0.8574\n",
            "Epoch 78/100\n",
            "7000/7000 [==============================] - 1s 158us/sample - loss: 0.3462 - acc: 0.8579\n",
            "Epoch 79/100\n",
            "7000/7000 [==============================] - 1s 159us/sample - loss: 0.3462 - acc: 0.8576\n",
            "Epoch 80/100\n",
            "7000/7000 [==============================] - 1s 163us/sample - loss: 0.3459 - acc: 0.8581\n",
            "Epoch 81/100\n",
            "7000/7000 [==============================] - 1s 161us/sample - loss: 0.3456 - acc: 0.8584\n",
            "Epoch 82/100\n",
            "7000/7000 [==============================] - 1s 158us/sample - loss: 0.3453 - acc: 0.8574\n",
            "Epoch 83/100\n",
            "7000/7000 [==============================] - 1s 160us/sample - loss: 0.3451 - acc: 0.8589\n",
            "Epoch 84/100\n",
            "7000/7000 [==============================] - 1s 165us/sample - loss: 0.3451 - acc: 0.8591\n",
            "Epoch 85/100\n",
            "7000/7000 [==============================] - 1s 161us/sample - loss: 0.3446 - acc: 0.8593\n",
            "Epoch 86/100\n",
            "7000/7000 [==============================] - 1s 158us/sample - loss: 0.3445 - acc: 0.8561\n",
            "Epoch 87/100\n",
            "7000/7000 [==============================] - 1s 161us/sample - loss: 0.3442 - acc: 0.8589\n",
            "Epoch 88/100\n",
            "7000/7000 [==============================] - 1s 158us/sample - loss: 0.3439 - acc: 0.8596\n",
            "Epoch 89/100\n",
            "7000/7000 [==============================] - 1s 159us/sample - loss: 0.3435 - acc: 0.8603\n",
            "Epoch 90/100\n",
            "7000/7000 [==============================] - 1s 161us/sample - loss: 0.3433 - acc: 0.8594\n",
            "Epoch 91/100\n",
            "7000/7000 [==============================] - 1s 160us/sample - loss: 0.3431 - acc: 0.8587\n",
            "Epoch 92/100\n",
            "7000/7000 [==============================] - 1s 161us/sample - loss: 0.3429 - acc: 0.8590\n",
            "Epoch 93/100\n",
            "7000/7000 [==============================] - 1s 161us/sample - loss: 0.3426 - acc: 0.8597\n",
            "Epoch 94/100\n",
            "7000/7000 [==============================] - 1s 161us/sample - loss: 0.3424 - acc: 0.8589\n",
            "Epoch 95/100\n",
            "7000/7000 [==============================] - 1s 159us/sample - loss: 0.3422 - acc: 0.8584\n",
            "Epoch 96/100\n",
            "7000/7000 [==============================] - 1s 161us/sample - loss: 0.3418 - acc: 0.8601\n",
            "Epoch 97/100\n",
            "7000/7000 [==============================] - 1s 162us/sample - loss: 0.3416 - acc: 0.8591\n",
            "Epoch 98/100\n",
            "7000/7000 [==============================] - 1s 161us/sample - loss: 0.3413 - acc: 0.8606\n",
            "Epoch 99/100\n",
            "7000/7000 [==============================] - 1s 161us/sample - loss: 0.3409 - acc: 0.8609\n",
            "Epoch 100/100\n",
            "7000/7000 [==============================] - 1s 162us/sample - loss: 0.3407 - acc: 0.8617\n"
          ],
          "name": "stdout"
        },
        {
          "output_type": "execute_result",
          "data": {
            "text/plain": [
              "<tensorflow.python.keras.callbacks.History at 0x7f64e3ecd898>"
            ]
          },
          "metadata": {
            "tags": []
          },
          "execution_count": 248
        }
      ]
    },
    {
      "cell_type": "code",
      "metadata": {
        "id": "WeTk8XVgkHES",
        "colab_type": "code",
        "outputId": "2916e43f-5c57-42e8-8b1b-8707206f1e22",
        "colab": {
          "base_uri": "https://localhost:8080/",
          "height": 68
        }
      },
      "source": [
        "scores = model.evaluate( X_test_std, y_test)\n",
        "\n",
        "print('\\ n loss:', scores[ 0]) \n",
        "\n",
        "print('\\ n accuracy:', scores[ 1])"
      ],
      "execution_count": 249,
      "outputs": [
        {
          "output_type": "stream",
          "text": [
            "3000/3000 [==============================] - 0s 138us/sample - loss: 0.3579 - acc: 0.8500\n",
            "\\ n loss: 0.3579198699792226\n",
            "\\ n accuracy: 0.85\n"
          ],
          "name": "stdout"
        }
      ]
    },
    {
      "cell_type": "markdown",
      "metadata": {
        "id": "CTv3n48_DC_t",
        "colab_type": "text"
      },
      "source": [
        "Updating the model to improve the accuracy."
      ]
    },
    {
      "cell_type": "markdown",
      "metadata": {
        "id": "xrvWSbeqr_BX",
        "colab_type": "text"
      },
      "source": [
        "### Predict the results using 0.5 as a threshold (5 points)"
      ]
    },
    {
      "cell_type": "code",
      "metadata": {
        "id": "0vd0oCFsnQA3",
        "colab_type": "code",
        "colab": {}
      },
      "source": [
        "#y_pred = model.predict_proba(X_test)\n",
        "y_pred=model.predict(X_test_std)\n",
        "y_pred =(y_pred>0.5) #threshold is 0.5\n",
        "#y_pred = (model.predict_proba(X_test_std)[:,0] >= 0.5)#  threshold is 0.5"
      ],
      "execution_count": 0,
      "outputs": []
    },
    {
      "cell_type": "markdown",
      "metadata": {
        "id": "LD9nxvn2sEIx",
        "colab_type": "text"
      },
      "source": [
        "### Print the Accuracy score and confusion matrix (2.5 points)"
      ]
    },
    {
      "cell_type": "code",
      "metadata": {
        "id": "jVQJZ8eboXz3",
        "colab_type": "code",
        "outputId": "07eba5d1-fab2-40bd-8629-e2b0aab99a53",
        "colab": {
          "base_uri": "https://localhost:8080/",
          "height": 204
        }
      },
      "source": [
        "from sklearn.metrics import confusion_matrix\n",
        "from sklearn.metrics import classification_report\n",
        "print(confusion_matrix(y_test,y_pred))\n",
        "print(classification_report(y_test,y_pred))"
      ],
      "execution_count": 256,
      "outputs": [
        {
          "output_type": "stream",
          "text": [
            "[[2265  124]\n",
            " [ 326  285]]\n",
            "              precision    recall  f1-score   support\n",
            "\n",
            "           0       0.87      0.95      0.91      2389\n",
            "           1       0.70      0.47      0.56       611\n",
            "\n",
            "    accuracy                           0.85      3000\n",
            "   macro avg       0.79      0.71      0.73      3000\n",
            "weighted avg       0.84      0.85      0.84      3000\n",
            "\n"
          ],
          "name": "stdout"
        }
      ]
    },
    {
      "cell_type": "markdown",
      "metadata": {
        "id": "CmN-4YN9ivY5",
        "colab_type": "text"
      },
      "source": [
        "Above classifier helps to determine whether customer will leave or not using Neural networks, using smote due to presence of imbalance in the data, which did not provide much accuracy.\n",
        "\n",
        "Stratify attribute is used to manage the imbalance distribution in spliting the data.\n",
        "\n",
        "Adding learning rate and the epoch to 100, helps to increase the accuracy score.\n",
        "\n",
        "Learning rate plays a important role, and epoch to learn from mistake helps a lot."
      ]
    },
    {
      "cell_type": "code",
      "metadata": {
        "id": "5l-9tqfJEDNF",
        "colab_type": "code",
        "colab": {}
      },
      "source": [
        ""
      ],
      "execution_count": 0,
      "outputs": []
    }
  ]
}