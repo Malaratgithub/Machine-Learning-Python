{
 "cells": [
  {
   "cell_type": "markdown",
   "metadata": {},
   "source": [
    "### The data set has information about features of silhouette extracted from the images of different cars\n",
    "\n",
    "Four \"Corgie\" model vehicles were used for the experiment: a double decker bus, Cheverolet van, Saab 9000 and an Opel Manta 400 cars. This particular combination of vehicles was chosen with the expectation that the bus, van and either one of the cars would be readily distinguishable, but it would be more difficult to distinguish between the cars.\n",
    "\n"
   ]
  },
  {
   "cell_type": "markdown",
   "metadata": {},
   "source": [
    "### 1. Read the dataset using function .dropna() - to avoid dealing with NAs as of now"
   ]
  },
  {
   "cell_type": "code",
   "execution_count": 2,
   "metadata": {},
   "outputs": [
    {
     "name": "stdout",
     "output_type": "stream",
     "text": [
      "<class 'pandas.core.frame.DataFrame'>\n",
      "RangeIndex: 846 entries, 0 to 845\n",
      "Data columns (total 19 columns):\n",
      "compactness                    846 non-null int64\n",
      "circularity                    841 non-null float64\n",
      "distance_circularity           842 non-null float64\n",
      "radius_ratio                   840 non-null float64\n",
      "pr.axis_aspect_ratio           844 non-null float64\n",
      "max.length_aspect_ratio        846 non-null int64\n",
      "scatter_ratio                  845 non-null float64\n",
      "elongatedness                  845 non-null float64\n",
      "pr.axis_rectangularity         843 non-null float64\n",
      "max.length_rectangularity      846 non-null int64\n",
      "scaled_variance                843 non-null float64\n",
      "scaled_variance.1              844 non-null float64\n",
      "scaled_radius_of_gyration      844 non-null float64\n",
      "scaled_radius_of_gyration.1    842 non-null float64\n",
      "skewness_about                 840 non-null float64\n",
      "skewness_about.1               845 non-null float64\n",
      "skewness_about.2               845 non-null float64\n",
      "hollows_ratio                  846 non-null int64\n",
      "class                          846 non-null object\n",
      "dtypes: float64(14), int64(4), object(1)\n",
      "memory usage: 125.7+ KB\n"
     ]
    }
   ],
   "source": [
    "import pandas as pd\n",
    "vehicle = pd.read_csv('Vehicle.csv')\n",
    "vehicle.info()"
   ]
  },
  {
   "cell_type": "code",
   "execution_count": 5,
   "metadata": {},
   "outputs": [
    {
     "name": "stdout",
     "output_type": "stream",
     "text": [
      "<class 'pandas.core.frame.DataFrame'>\n",
      "Int64Index: 813 entries, 0 to 845\n",
      "Data columns (total 19 columns):\n",
      "compactness                    813 non-null int64\n",
      "circularity                    813 non-null float64\n",
      "distance_circularity           813 non-null float64\n",
      "radius_ratio                   813 non-null float64\n",
      "pr.axis_aspect_ratio           813 non-null float64\n",
      "max.length_aspect_ratio        813 non-null int64\n",
      "scatter_ratio                  813 non-null float64\n",
      "elongatedness                  813 non-null float64\n",
      "pr.axis_rectangularity         813 non-null float64\n",
      "max.length_rectangularity      813 non-null int64\n",
      "scaled_variance                813 non-null float64\n",
      "scaled_variance.1              813 non-null float64\n",
      "scaled_radius_of_gyration      813 non-null float64\n",
      "scaled_radius_of_gyration.1    813 non-null float64\n",
      "skewness_about                 813 non-null float64\n",
      "skewness_about.1               813 non-null float64\n",
      "skewness_about.2               813 non-null float64\n",
      "hollows_ratio                  813 non-null int64\n",
      "class                          813 non-null object\n",
      "dtypes: float64(14), int64(4), object(1)\n",
      "memory usage: 127.0+ KB\n"
     ]
    }
   ],
   "source": [
    "vehicle.dropna(inplace=True)\n",
    "vehicle.info()"
   ]
  },
  {
   "cell_type": "markdown",
   "metadata": {},
   "source": [
    "### 2. Print/ Plot the dependent (categorical variable) - Class column"
   ]
  },
  {
   "cell_type": "markdown",
   "metadata": {},
   "source": [
    "Since the variable is categorical, you can use value_counts function"
   ]
  },
  {
   "cell_type": "code",
   "execution_count": 21,
   "metadata": {},
   "outputs": [
    {
     "data": {
      "text/plain": [
       "<BarContainer object of 3 artists>"
      ]
     },
     "execution_count": 21,
     "metadata": {},
     "output_type": "execute_result"
    },
    {
     "data": {
      "image/png": "[encoded data removed]",
      "text/plain": [
       "<Figure size 432x288 with 1 Axes>"
      ]
     },
     "metadata": {
      "needs_background": "light"
     },
     "output_type": "display_data"
    }
   ],
   "source": [
    "names=vehicle['class'].unique()\n",
    "values=vehicle['class'].value_counts()\n",
    "import matplotlib.pyplot as plt\n",
    "fig, ax = plt.subplots()\n",
    "plt.xticks([0, 1, 2])\n",
    "for i, v in enumerate(values):\n",
    "    ax.text(i, v+5, str(v), color='g', fontweight='bold')\n",
    "ax.bar(names, values, color=(0.5,0.1,0.5,0.6),width=0.5)"
   ]
  },
  {
   "cell_type": "markdown",
   "metadata": {},
   "source": [
    "### Check for any missing values in the data "
   ]
  },
  {
   "cell_type": "code",
   "execution_count": 48,
   "metadata": {},
   "outputs": [
    {
     "data": {
      "text/plain": [
       "compactness                    0\n",
       "circularity                    0\n",
       "distance_circularity           0\n",
       "radius_ratio                   0\n",
       "pr.axis_aspect_ratio           0\n",
       "max.length_aspect_ratio        0\n",
       "scatter_ratio                  0\n",
       "elongatedness                  0\n",
       "pr.axis_rectangularity         0\n",
       "max.length_rectangularity      0\n",
       "scaled_variance                0\n",
       "scaled_variance.1              0\n",
       "scaled_radius_of_gyration      0\n",
       "scaled_radius_of_gyration.1    0\n",
       "skewness_about                 0\n",
       "skewness_about.1               0\n",
       "skewness_about.2               0\n",
       "hollows_ratio                  0\n",
       "class                          0\n",
       "dtype: int64"
      ]
     },
     "execution_count": 48,
     "metadata": {},
     "output_type": "execute_result"
    }
   ],
   "source": [
    "vehicle.isnull().sum()"
   ]
  },
  {
   "cell_type": "markdown",
   "metadata": {},
   "source": [
    "### 3. Standardize the data "
   ]
  },
  {
   "cell_type": "code",
   "execution_count": 57,
   "metadata": {},
   "outputs": [
    {
     "data": {
      "text/plain": [
       "array([[ 0.16323063,  0.52040788,  0.06066872, ...,  0.37128716,\n",
       "        -0.3218087 ,  0.17183708],\n",
       "       [-0.32287376, -0.61912319,  0.12406675, ...,  0.14710858,\n",
       "         0.00340009,  0.44231829],\n",
       "       [ 1.2569655 ,  0.84598818,  1.51882349, ..., -0.41333788,\n",
       "        -0.1592043 ,  0.03659647],\n",
       "       ...,\n",
       "       [ 1.5000177 ,  1.49714879,  1.20183332, ..., -0.97378433,\n",
       "        -0.3218087 ,  0.7127995 ],\n",
       "       [-0.93050425, -1.43307395, -0.25632145, ...,  1.38009078,\n",
       "         0.16600449, -0.09864413],\n",
       "       [-1.05203035, -1.43307395, -1.01709784, ...,  0.59546574,\n",
       "        -0.4844131 , -0.77484716]])"
      ]
     },
     "execution_count": 57,
     "metadata": {},
     "output_type": "execute_result"
    }
   ],
   "source": [
    "v_df = vehicle.drop('class', axis=1)# I do not want to disturb the original dataset, so I assign to another variable.\n",
    "\n",
    "from scipy.stats import zscore\n",
    "X = zscore(v_df)\n",
    "X"
   ]
  },
  {
   "cell_type": "markdown",
   "metadata": {},
   "source": [
    "Since the dimensions of the data are not really known to us, it would be wise to standardize the data using z scores before we go for any clustering methods.\n",
    "You can use zscore function to do this"
   ]
  },
  {
   "cell_type": "code",
   "execution_count": null,
   "metadata": {},
   "outputs": [],
   "source": []
  },
  {
   "cell_type": "code",
   "execution_count": null,
   "metadata": {},
   "outputs": [],
   "source": []
  },
  {
   "cell_type": "markdown",
   "metadata": {},
   "source": [
    "### K - Means Clustering"
   ]
  },
  {
   "cell_type": "markdown",
   "metadata": {},
   "source": [
    "### 4. Assign a dummy array called distortion"
   ]
  },
  {
   "cell_type": "code",
   "execution_count": 53,
   "metadata": {},
   "outputs": [],
   "source": [
    "distortion = []"
   ]
  },
  {
   "cell_type": "markdown",
   "metadata": {},
   "source": [
    "You can later use this array to plot the elbow plot"
   ]
  },
  {
   "cell_type": "code",
   "execution_count": null,
   "metadata": {},
   "outputs": [],
   "source": []
  },
  {
   "cell_type": "markdown",
   "metadata": {},
   "source": [
    "### 5. Calculating distortion - C distance"
   ]
  },
  {
   "cell_type": "code",
   "execution_count": 54,
   "metadata": {},
   "outputs": [
    {
     "data": {
      "text/plain": [
       "[3.939299196727955,\n",
       " 2.966824380205441,\n",
       " 2.642794199692158,\n",
       " 2.532444785560328,\n",
       " 2.4286988650311487,\n",
       " 2.31533040920016,\n",
       " 2.2378673363455728,\n",
       " 2.1802701558785254,\n",
       " 2.1222145858658514]"
      ]
     },
     "execution_count": 54,
     "metadata": {},
     "output_type": "execute_result"
    }
   ],
   "source": [
    "from sklearn.cluster import KMeans\n",
    "import numpy as np\n",
    "from scipy.spatial import distance\n",
    "distortion = []\n",
    "cluster_range = range( 1, 10)   # expect 3 to four clusters from the pair panel visual inspection hence restricting from 2 to 6\n",
    "cluster_errors = []\n",
    "cluster_sil_scores = []\n",
    "for num_clusters in cluster_range:\n",
    "  clusters = KMeans( num_clusters, n_init = 5)\n",
    "  clusters.fit(X)\n",
    "  labels = clusters.labels_                     # capture the cluster lables\n",
    "  centroids = clusters.cluster_centers_         # capture the centroids\n",
    "  cluster_errors.append( clusters.inertia_ )    # capture the intertia\n",
    "  distortion.append(sum(np.min(distance.cdist(X, clusters.cluster_centers_, 'euclidean'), axis=1))/ X.shape[0])\n",
    "\n",
    "distortion"
   ]
  },
  {
   "cell_type": "markdown",
   "metadata": {},
   "source": [
    "Iterating values of k from 1 to 10 fit K means model\n",
    "Using c distance - Get the measure for Sum of squares error."
   ]
  },
  {
   "cell_type": "code",
   "execution_count": null,
   "metadata": {},
   "outputs": [],
   "source": []
  },
  {
   "cell_type": "code",
   "execution_count": null,
   "metadata": {},
   "outputs": [],
   "source": []
  },
  {
   "cell_type": "markdown",
   "metadata": {},
   "source": [
    "### 6. Plotting Elbow/ Scree Plot"
   ]
  },
  {
   "cell_type": "code",
   "execution_count": 55,
   "metadata": {},
   "outputs": [
    {
     "data": {
      "text/plain": [
       "[<matplotlib.lines.Line2D at 0x1a1dfe0ac8>]"
      ]
     },
     "execution_count": 55,
     "metadata": {},
     "output_type": "execute_result"
    },
    {
     "data": {
      "image/png": "[encoded data removed]",
      "text/plain": [
       "<Figure size 864x432 with 1 Axes>"
      ]
     },
     "metadata": {
      "needs_background": "light"
     },
     "output_type": "display_data"
    }
   ],
   "source": [
    "plt.figure(figsize=(12,6))\n",
    "plt.plot( clusters_df.num_clusters, distortion, marker = \"o\" )"
   ]
  },
  {
   "cell_type": "markdown",
   "metadata": {},
   "source": [
    "Use Matplotlib to plot the scree plot - Note: Scree plot plots distortion vs the no of clusters"
   ]
  },
  {
   "cell_type": "code",
   "execution_count": null,
   "metadata": {},
   "outputs": [],
   "source": []
  },
  {
   "cell_type": "markdown",
   "metadata": {},
   "source": [
    "### Find out the optimal value of K"
   ]
  },
  {
   "cell_type": "markdown",
   "metadata": {},
   "source": [
    "From above plot, we can see the blend is at 3, so the K value is 3"
   ]
  },
  {
   "cell_type": "code",
   "execution_count": null,
   "metadata": {},
   "outputs": [],
   "source": []
  },
  {
   "cell_type": "markdown",
   "metadata": {},
   "source": [
    "### Using optimal value of K - Cluster the data. \n",
    "Note: Since the data has more than 2 dimension we cannot visualize the data. As an alternative, we can observe the centroids and note how they are distributed across different dimensions"
   ]
  },
  {
   "cell_type": "code",
   "execution_count": 63,
   "metadata": {},
   "outputs": [
    {
     "data": {
      "text/plain": [
       "array([[-0.91987072, -0.52009251, -0.89320752, -1.06435572, -0.50042171,\n",
       "        -0.2190738 , -0.7791213 ,  0.86589322, -0.74535635, -0.484632  ,\n",
       "        -0.78240328, -0.78341064, -0.38498232,  0.83878747, -0.09524349,\n",
       "        -0.30171562, -1.05420601, -1.11069466],\n",
       "       [ 1.13076532,  1.17094237,  1.19500584,  1.01909505,  0.21505188,\n",
       "         0.34250798,  1.27180461, -1.19061224,  1.27548416,  1.09266768,\n",
       "         1.22038121,  1.28132727,  1.07954232, -0.02879497,  0.16229031,\n",
       "         0.26566456, -0.00535553,  0.18380067],\n",
       "       [-0.2339617 , -0.57387481, -0.30776905, -0.03041322,  0.2050726 ,\n",
       "        -0.11653151, -0.45904181,  0.32506329, -0.48798836, -0.53604446,\n",
       "        -0.41380935, -0.46366305, -0.60155031, -0.61924057, -0.06177969,\n",
       "         0.01066762,  0.81278556,  0.69897299]])"
      ]
     },
     "execution_count": 63,
     "metadata": {},
     "output_type": "execute_result"
    }
   ],
   "source": [
    "clusters = KMeans(3, n_init = 5)\n",
    "clusters.fit(X)                   # capture the cluster lables\n",
    "centroids = clusters.cluster_centers_         # capture the centroids\n",
    "centroids"
   ]
  },
  {
   "cell_type": "markdown",
   "metadata": {},
   "source": [
    "You can use kmeans.cluster_centers_ function to pull the centroid information from the instance"
   ]
  },
  {
   "cell_type": "code",
   "execution_count": null,
   "metadata": {},
   "outputs": [],
   "source": []
  },
  {
   "cell_type": "markdown",
   "metadata": {},
   "source": [
    "### 7. Store the centroids in a dataframe with column names from the original dataset given "
   ]
  },
  {
   "cell_type": "code",
   "execution_count": 75,
   "metadata": {},
   "outputs": [
    {
     "data": {
      "text/html": [
       "<div>\n",
       "<style scoped>\n",
       "    .dataframe tbody tr th:only-of-type {\n",
       "        vertical-align: middle;\n",
       "    }\n",
       "\n",
       "    .dataframe tbody tr th {\n",
       "        vertical-align: top;\n",
       "    }\n",
       "\n",
       "    .dataframe thead th {\n",
       "        text-align: right;\n",
       "    }\n",
       "</style>\n",
       "<table border=\"1\" class=\"dataframe\">\n",
       "  <thead>\n",
       "    <tr style=\"text-align: right;\">\n",
       "      <th></th>\n",
       "      <th>compactness</th>\n",
       "      <th>circularity</th>\n",
       "      <th>distance_circularity</th>\n",
       "      <th>radius_ratio</th>\n",
       "      <th>pr.axis_aspect_ratio</th>\n",
       "      <th>max.length_aspect_ratio</th>\n",
       "      <th>scatter_ratio</th>\n",
       "      <th>elongatedness</th>\n",
       "      <th>pr.axis_rectangularity</th>\n",
       "      <th>max.length_rectangularity</th>\n",
       "      <th>scaled_variance</th>\n",
       "      <th>scaled_variance.1</th>\n",
       "      <th>scaled_radius_of_gyration</th>\n",
       "      <th>scaled_radius_of_gyration.1</th>\n",
       "      <th>skewness_about</th>\n",
       "      <th>skewness_about.1</th>\n",
       "      <th>skewness_about.2</th>\n",
       "      <th>hollows_ratio</th>\n",
       "    </tr>\n",
       "  </thead>\n",
       "  <tbody>\n",
       "    <tr>\n",
       "      <th>0</th>\n",
       "      <td>-0.919871</td>\n",
       "      <td>-0.520093</td>\n",
       "      <td>-0.893208</td>\n",
       "      <td>-1.064356</td>\n",
       "      <td>-0.500422</td>\n",
       "      <td>-0.219074</td>\n",
       "      <td>-0.779121</td>\n",
       "      <td>0.865893</td>\n",
       "      <td>-0.745356</td>\n",
       "      <td>-0.484632</td>\n",
       "      <td>-0.782403</td>\n",
       "      <td>-0.783411</td>\n",
       "      <td>-0.384982</td>\n",
       "      <td>0.838787</td>\n",
       "      <td>-0.095243</td>\n",
       "      <td>-0.301716</td>\n",
       "      <td>-1.054206</td>\n",
       "      <td>-1.110695</td>\n",
       "    </tr>\n",
       "    <tr>\n",
       "      <th>1</th>\n",
       "      <td>1.130765</td>\n",
       "      <td>1.170942</td>\n",
       "      <td>1.195006</td>\n",
       "      <td>1.019095</td>\n",
       "      <td>0.215052</td>\n",
       "      <td>0.342508</td>\n",
       "      <td>1.271805</td>\n",
       "      <td>-1.190612</td>\n",
       "      <td>1.275484</td>\n",
       "      <td>1.092668</td>\n",
       "      <td>1.220381</td>\n",
       "      <td>1.281327</td>\n",
       "      <td>1.079542</td>\n",
       "      <td>-0.028795</td>\n",
       "      <td>0.162290</td>\n",
       "      <td>0.265665</td>\n",
       "      <td>-0.005356</td>\n",
       "      <td>0.183801</td>\n",
       "    </tr>\n",
       "    <tr>\n",
       "      <th>2</th>\n",
       "      <td>-0.233962</td>\n",
       "      <td>-0.573875</td>\n",
       "      <td>-0.307769</td>\n",
       "      <td>-0.030413</td>\n",
       "      <td>0.205073</td>\n",
       "      <td>-0.116532</td>\n",
       "      <td>-0.459042</td>\n",
       "      <td>0.325063</td>\n",
       "      <td>-0.487988</td>\n",
       "      <td>-0.536044</td>\n",
       "      <td>-0.413809</td>\n",
       "      <td>-0.463663</td>\n",
       "      <td>-0.601550</td>\n",
       "      <td>-0.619241</td>\n",
       "      <td>-0.061780</td>\n",
       "      <td>0.010668</td>\n",
       "      <td>0.812786</td>\n",
       "      <td>0.698973</td>\n",
       "    </tr>\n",
       "  </tbody>\n",
       "</table>\n",
       "</div>"
      ],
      "text/plain": [
       "   compactness  circularity  distance_circularity  radius_ratio  \\\n",
       "0    -0.919871    -0.520093             -0.893208     -1.064356   \n",
       "1     1.130765     1.170942              1.195006      1.019095   \n",
       "2    -0.233962    -0.573875             -0.307769     -0.030413   \n",
       "\n",
       "   pr.axis_aspect_ratio  max.length_aspect_ratio  scatter_ratio  \\\n",
       "0             -0.500422                -0.219074      -0.779121   \n",
       "1              0.215052                 0.342508       1.271805   \n",
       "2              0.205073                -0.116532      -0.459042   \n",
       "\n",
       "   elongatedness  pr.axis_rectangularity  max.length_rectangularity  \\\n",
       "0       0.865893               -0.745356                  -0.484632   \n",
       "1      -1.190612                1.275484                   1.092668   \n",
       "2       0.325063               -0.487988                  -0.536044   \n",
       "\n",
       "   scaled_variance  scaled_variance.1  scaled_radius_of_gyration  \\\n",
       "0        -0.782403          -0.783411                  -0.384982   \n",
       "1         1.220381           1.281327                   1.079542   \n",
       "2        -0.413809          -0.463663                  -0.601550   \n",
       "\n",
       "   scaled_radius_of_gyration.1  skewness_about  skewness_about.1  \\\n",
       "0                     0.838787       -0.095243         -0.301716   \n",
       "1                    -0.028795        0.162290          0.265665   \n",
       "2                    -0.619241       -0.061780          0.010668   \n",
       "\n",
       "   skewness_about.2  hollows_ratio  \n",
       "0         -1.054206      -1.110695  \n",
       "1         -0.005356       0.183801  \n",
       "2          0.812786       0.698973  "
      ]
     },
     "execution_count": 75,
     "metadata": {},
     "output_type": "execute_result"
    }
   ],
   "source": [
    "clusters_df = pd.DataFrame(centroids, columns=v_df.columns)\n",
    "clusters_df"
   ]
  },
  {
   "cell_type": "markdown",
   "metadata": {},
   "source": [
    "Hint: Use pd.Dataframe function "
   ]
  },
  {
   "cell_type": "code",
   "execution_count": null,
   "metadata": {},
   "outputs": [],
   "source": []
  },
  {
   "cell_type": "code",
   "execution_count": null,
   "metadata": {},
   "outputs": [],
   "source": []
  },
  {
   "cell_type": "markdown",
   "metadata": {},
   "source": [
    "### Use kmeans.labels_ function to print out the labels of the classes"
   ]
  },
  {
   "cell_type": "code",
   "execution_count": 77,
   "metadata": {},
   "outputs": [
    {
     "data": {
      "text/plain": [
       "array([2, 2, 1, 2, 0, 2, 2, 2, 2, 2, 2, 2, 2, 1, 0, 2, 1, 0, 0, 2, 2, 1,\n",
       "       2, 0, 1, 1, 0, 2, 2, 2, 1, 2, 0, 1, 1, 0, 1, 0, 0, 2, 1, 0, 0, 0,\n",
       "       0, 2, 0, 2, 1, 2, 1, 2, 2, 0, 1, 0, 1, 0, 0, 0, 2, 0, 1, 2, 1, 1,\n",
       "       2, 0, 2, 1, 2, 0, 0, 1, 2, 0, 2, 1, 2, 0, 2, 0, 1, 2, 1, 2, 0, 1,\n",
       "       0, 0, 1, 0, 0, 2, 2, 0, 1, 1, 0, 0, 1, 2, 2, 0, 0, 0, 2, 1, 1, 2,\n",
       "       0, 0, 2, 0, 0, 0, 0, 0, 2, 1, 1, 2, 2, 0, 1, 1, 0, 2, 0, 2, 2, 1,\n",
       "       0, 2, 1, 2, 2, 2, 2, 1, 2, 2, 1, 2, 1, 2, 0, 2, 0, 1, 2, 2, 1, 1,\n",
       "       2, 1, 0, 0, 1, 1, 2, 1, 2, 2, 2, 2, 0, 1, 0, 2, 0, 1, 2, 2, 2, 1,\n",
       "       2, 1, 2, 1, 2, 0, 1, 0, 0, 0, 2, 2, 1, 1, 2, 2, 2, 0, 1, 2, 2, 2,\n",
       "       1, 0, 0, 1, 0, 2, 1, 0, 0, 0, 2, 1, 2, 1, 0, 0, 0, 0, 1, 2, 0, 2,\n",
       "       1, 0, 2, 2, 0, 1, 0, 0, 2, 2, 1, 0, 1, 0, 2, 2, 1, 2, 2, 1, 1, 0,\n",
       "       2, 2, 2, 1, 0, 2, 2, 0, 0, 2, 2, 1, 2, 0, 0, 1, 2, 2, 0, 0, 1, 0,\n",
       "       2, 1, 0, 2, 1, 2, 2, 1, 2, 1, 0, 2, 2, 1, 2, 2, 2, 0, 2, 1, 1, 1,\n",
       "       1, 0, 2, 1, 0, 0, 0, 2, 0, 1, 1, 0, 1, 2, 0, 1, 2, 2, 2, 1, 1, 0,\n",
       "       1, 1, 0, 1, 2, 2, 2, 0, 0, 1, 1, 1, 2, 2, 2, 1, 0, 2, 0, 1, 2, 2,\n",
       "       1, 2, 1, 1, 1, 2, 0, 0, 1, 0, 0, 0, 2, 2, 2, 2, 0, 1, 1, 0, 0, 1,\n",
       "       0, 1, 0, 1, 2, 0, 2, 0, 1, 1, 0, 2, 2, 2, 1, 2, 2, 2, 2, 1, 2, 1,\n",
       "       2, 1, 2, 0, 0, 2, 2, 2, 0, 0, 2, 0, 1, 2, 2, 0, 0, 1, 2, 0, 2, 2,\n",
       "       1, 2, 1, 2, 1, 1, 0, 0, 1, 2, 0, 0, 2, 1, 1, 0, 2, 1, 1, 0, 1, 1,\n",
       "       1, 2, 2, 2, 2, 2, 1, 0, 0, 2, 1, 2, 2, 1, 2, 0, 1, 0, 0, 1, 2, 0,\n",
       "       1, 1, 1, 0, 1, 1, 0, 2, 0, 1, 1, 2, 2, 0, 0, 1, 2, 0, 1, 1, 2, 0,\n",
       "       1, 1, 2, 0, 0, 1, 1, 1, 0, 0, 1, 1, 1, 2, 2, 1, 0, 2, 1, 2, 0, 0,\n",
       "       2, 1, 0, 2, 2, 0, 2, 1, 2, 1, 1, 2, 0, 2, 1, 1, 0, 0, 2, 1, 2, 1,\n",
       "       1, 2, 2, 2, 2, 0, 0, 0, 2, 2, 1, 0, 0, 2, 0, 1, 2, 1, 0, 0, 1, 1,\n",
       "       2, 1, 2, 2, 2, 1, 2, 0, 2, 1, 2, 2, 0, 1, 1, 1, 1, 2, 0, 0, 0, 1,\n",
       "       1, 1, 2, 1, 0, 2, 1, 0, 0, 0, 2, 0, 1, 2, 2, 2, 2, 2, 2, 1, 2, 2,\n",
       "       1, 2, 2, 2, 0, 1, 0, 0, 2, 0, 2, 2, 0, 0, 1, 1, 0, 2, 1, 2, 1, 2,\n",
       "       2, 1, 2, 0, 1, 0, 1, 0, 0, 2, 0, 2, 1, 1, 0, 1, 2, 2, 0, 2, 0, 1,\n",
       "       2, 1, 0, 2, 2, 2, 0, 0, 0, 2, 1, 2, 1, 0, 2, 2, 2, 2, 1, 2, 0, 1,\n",
       "       2, 1, 2, 2, 1, 0, 1, 0, 2, 2, 2, 0, 1, 2, 0, 2, 1, 0, 1, 2, 2, 1,\n",
       "       0, 2, 0, 2, 2, 0, 2, 1, 1, 2, 2, 1, 1, 2, 2, 0, 2, 1, 1, 1, 1, 2,\n",
       "       1, 2, 2, 1, 1, 2, 1, 2, 1, 2, 0, 1, 2, 0, 1, 1, 1, 2, 1, 0, 0, 1,\n",
       "       1, 1, 2, 1, 2, 2, 1, 2, 0, 2, 0, 2, 1, 2, 0, 2, 2, 2, 0, 1, 0, 0,\n",
       "       0, 1, 1, 0, 1, 1, 0, 2, 2, 1, 2, 0, 1, 1, 0, 2, 2, 1, 1, 1, 0, 1,\n",
       "       2, 1, 1, 0, 0, 1, 0, 1, 2, 0, 2, 1, 1, 2, 0, 2, 1, 1, 2, 2, 0, 2,\n",
       "       2, 1, 0, 2, 1, 0, 0, 1, 0, 2, 0, 0, 0, 2, 1, 1, 2, 0, 1, 2, 1, 1,\n",
       "       0, 2, 1, 0, 0, 2, 2, 1, 0, 0, 1, 0, 2, 2, 2, 2, 2, 2, 1, 2, 0],\n",
       "      dtype=int32)"
      ]
     },
     "execution_count": 77,
     "metadata": {},
     "output_type": "execute_result"
    }
   ],
   "source": [
    "\n",
    "labels = clusters.labels_  \n",
    "labels"
   ]
  },
  {
   "cell_type": "code",
   "execution_count": null,
   "metadata": {},
   "outputs": [],
   "source": []
  },
  {
   "cell_type": "markdown",
   "metadata": {},
   "source": [
    "## Hierarchical Clustering "
   ]
  },
  {
   "cell_type": "markdown",
   "metadata": {},
   "source": [
    "### 8. Variable creation"
   ]
  },
  {
   "cell_type": "markdown",
   "metadata": {},
   "source": [
    "For Hierarchical clustering, we will create datasets using multivariate normal distribution to visually observe how the clusters are formed at the end"
   ]
  },
  {
   "cell_type": "code",
   "execution_count": null,
   "metadata": {},
   "outputs": [],
   "source": []
  },
  {
   "cell_type": "code",
   "execution_count": 153,
   "metadata": {},
   "outputs": [],
   "source": [
    "a = np.random.multivariate_normal([10, 0], [[3, 1], [1, 4]], size=[100,])\n",
    "b = np.random.multivariate_normal([0, 20], [[3, 1], [1, 4]], size=[50,])\n",
    "c = np.random.multivariate_normal([10, 20], [[3, 1], [1, 4]], size=[100,])\n"
   ]
  },
  {
   "cell_type": "markdown",
   "metadata": {},
   "source": [
    "### 9. Combine all three arrays a,b,c into a dataframe"
   ]
  },
  {
   "cell_type": "code",
   "execution_count": 154,
   "metadata": {},
   "outputs": [],
   "source": [
    "df = pd.DataFrame(np.concatenate((a,b,c), axis=0), columns=['Label1', 'Label2'])"
   ]
  },
  {
   "cell_type": "code",
   "execution_count": 155,
   "metadata": {},
   "outputs": [
    {
     "data": {
      "text/html": [
       "<div>\n",
       "<style scoped>\n",
       "    .dataframe tbody tr th:only-of-type {\n",
       "        vertical-align: middle;\n",
       "    }\n",
       "\n",
       "    .dataframe tbody tr th {\n",
       "        vertical-align: top;\n",
       "    }\n",
       "\n",
       "    .dataframe thead th {\n",
       "        text-align: right;\n",
       "    }\n",
       "</style>\n",
       "<table border=\"1\" class=\"dataframe\">\n",
       "  <thead>\n",
       "    <tr style=\"text-align: right;\">\n",
       "      <th></th>\n",
       "      <th>Label1</th>\n",
       "      <th>Label2</th>\n",
       "    </tr>\n",
       "  </thead>\n",
       "  <tbody>\n",
       "    <tr>\n",
       "      <th>0</th>\n",
       "      <td>11.287950</td>\n",
       "      <td>1.522315</td>\n",
       "    </tr>\n",
       "    <tr>\n",
       "      <th>1</th>\n",
       "      <td>7.374096</td>\n",
       "      <td>-0.334949</td>\n",
       "    </tr>\n",
       "    <tr>\n",
       "      <th>2</th>\n",
       "      <td>9.561462</td>\n",
       "      <td>-0.197202</td>\n",
       "    </tr>\n",
       "    <tr>\n",
       "      <th>3</th>\n",
       "      <td>11.727997</td>\n",
       "      <td>4.080205</td>\n",
       "    </tr>\n",
       "    <tr>\n",
       "      <th>4</th>\n",
       "      <td>5.620097</td>\n",
       "      <td>-2.723630</td>\n",
       "    </tr>\n",
       "    <tr>\n",
       "      <th>5</th>\n",
       "      <td>11.670766</td>\n",
       "      <td>2.796676</td>\n",
       "    </tr>\n",
       "    <tr>\n",
       "      <th>6</th>\n",
       "      <td>8.513585</td>\n",
       "      <td>-1.930945</td>\n",
       "    </tr>\n",
       "    <tr>\n",
       "      <th>7</th>\n",
       "      <td>9.896790</td>\n",
       "      <td>-2.008844</td>\n",
       "    </tr>\n",
       "    <tr>\n",
       "      <th>8</th>\n",
       "      <td>9.342746</td>\n",
       "      <td>0.173520</td>\n",
       "    </tr>\n",
       "    <tr>\n",
       "      <th>9</th>\n",
       "      <td>6.541128</td>\n",
       "      <td>1.254860</td>\n",
       "    </tr>\n",
       "    <tr>\n",
       "      <th>10</th>\n",
       "      <td>9.492863</td>\n",
       "      <td>-4.538845</td>\n",
       "    </tr>\n",
       "    <tr>\n",
       "      <th>11</th>\n",
       "      <td>9.831834</td>\n",
       "      <td>-2.040994</td>\n",
       "    </tr>\n",
       "    <tr>\n",
       "      <th>12</th>\n",
       "      <td>12.384135</td>\n",
       "      <td>-0.707076</td>\n",
       "    </tr>\n",
       "    <tr>\n",
       "      <th>13</th>\n",
       "      <td>9.950840</td>\n",
       "      <td>1.206385</td>\n",
       "    </tr>\n",
       "    <tr>\n",
       "      <th>14</th>\n",
       "      <td>12.410585</td>\n",
       "      <td>1.161732</td>\n",
       "    </tr>\n",
       "    <tr>\n",
       "      <th>15</th>\n",
       "      <td>9.148796</td>\n",
       "      <td>3.358331</td>\n",
       "    </tr>\n",
       "    <tr>\n",
       "      <th>16</th>\n",
       "      <td>8.080800</td>\n",
       "      <td>-0.011860</td>\n",
       "    </tr>\n",
       "    <tr>\n",
       "      <th>17</th>\n",
       "      <td>9.197503</td>\n",
       "      <td>-1.893424</td>\n",
       "    </tr>\n",
       "    <tr>\n",
       "      <th>18</th>\n",
       "      <td>12.760140</td>\n",
       "      <td>-1.387586</td>\n",
       "    </tr>\n",
       "    <tr>\n",
       "      <th>19</th>\n",
       "      <td>12.555786</td>\n",
       "      <td>3.097231</td>\n",
       "    </tr>\n",
       "    <tr>\n",
       "      <th>20</th>\n",
       "      <td>9.053120</td>\n",
       "      <td>-1.153458</td>\n",
       "    </tr>\n",
       "    <tr>\n",
       "      <th>21</th>\n",
       "      <td>9.514981</td>\n",
       "      <td>0.573951</td>\n",
       "    </tr>\n",
       "    <tr>\n",
       "      <th>22</th>\n",
       "      <td>11.588276</td>\n",
       "      <td>0.825558</td>\n",
       "    </tr>\n",
       "    <tr>\n",
       "      <th>23</th>\n",
       "      <td>11.221768</td>\n",
       "      <td>-1.428402</td>\n",
       "    </tr>\n",
       "    <tr>\n",
       "      <th>24</th>\n",
       "      <td>12.200961</td>\n",
       "      <td>-0.696949</td>\n",
       "    </tr>\n",
       "    <tr>\n",
       "      <th>25</th>\n",
       "      <td>10.457356</td>\n",
       "      <td>1.279445</td>\n",
       "    </tr>\n",
       "    <tr>\n",
       "      <th>26</th>\n",
       "      <td>8.927676</td>\n",
       "      <td>-1.738729</td>\n",
       "    </tr>\n",
       "    <tr>\n",
       "      <th>27</th>\n",
       "      <td>10.629552</td>\n",
       "      <td>1.248040</td>\n",
       "    </tr>\n",
       "    <tr>\n",
       "      <th>28</th>\n",
       "      <td>7.925586</td>\n",
       "      <td>-1.435807</td>\n",
       "    </tr>\n",
       "    <tr>\n",
       "      <th>29</th>\n",
       "      <td>9.510807</td>\n",
       "      <td>-1.273223</td>\n",
       "    </tr>\n",
       "    <tr>\n",
       "      <th>...</th>\n",
       "      <td>...</td>\n",
       "      <td>...</td>\n",
       "    </tr>\n",
       "    <tr>\n",
       "      <th>220</th>\n",
       "      <td>8.263177</td>\n",
       "      <td>21.630199</td>\n",
       "    </tr>\n",
       "    <tr>\n",
       "      <th>221</th>\n",
       "      <td>8.195671</td>\n",
       "      <td>18.858288</td>\n",
       "    </tr>\n",
       "    <tr>\n",
       "      <th>222</th>\n",
       "      <td>9.028011</td>\n",
       "      <td>23.392758</td>\n",
       "    </tr>\n",
       "    <tr>\n",
       "      <th>223</th>\n",
       "      <td>10.484626</td>\n",
       "      <td>19.666375</td>\n",
       "    </tr>\n",
       "    <tr>\n",
       "      <th>224</th>\n",
       "      <td>10.056525</td>\n",
       "      <td>20.602568</td>\n",
       "    </tr>\n",
       "    <tr>\n",
       "      <th>225</th>\n",
       "      <td>9.924934</td>\n",
       "      <td>20.451788</td>\n",
       "    </tr>\n",
       "    <tr>\n",
       "      <th>226</th>\n",
       "      <td>11.759515</td>\n",
       "      <td>19.639822</td>\n",
       "    </tr>\n",
       "    <tr>\n",
       "      <th>227</th>\n",
       "      <td>12.637700</td>\n",
       "      <td>20.936842</td>\n",
       "    </tr>\n",
       "    <tr>\n",
       "      <th>228</th>\n",
       "      <td>8.403600</td>\n",
       "      <td>21.776889</td>\n",
       "    </tr>\n",
       "    <tr>\n",
       "      <th>229</th>\n",
       "      <td>9.208064</td>\n",
       "      <td>15.006765</td>\n",
       "    </tr>\n",
       "    <tr>\n",
       "      <th>230</th>\n",
       "      <td>8.289186</td>\n",
       "      <td>17.010222</td>\n",
       "    </tr>\n",
       "    <tr>\n",
       "      <th>231</th>\n",
       "      <td>12.006836</td>\n",
       "      <td>20.028206</td>\n",
       "    </tr>\n",
       "    <tr>\n",
       "      <th>232</th>\n",
       "      <td>11.934659</td>\n",
       "      <td>19.366769</td>\n",
       "    </tr>\n",
       "    <tr>\n",
       "      <th>233</th>\n",
       "      <td>9.366057</td>\n",
       "      <td>23.346674</td>\n",
       "    </tr>\n",
       "    <tr>\n",
       "      <th>234</th>\n",
       "      <td>13.113822</td>\n",
       "      <td>20.239597</td>\n",
       "    </tr>\n",
       "    <tr>\n",
       "      <th>235</th>\n",
       "      <td>12.102044</td>\n",
       "      <td>20.371885</td>\n",
       "    </tr>\n",
       "    <tr>\n",
       "      <th>236</th>\n",
       "      <td>10.736607</td>\n",
       "      <td>21.527281</td>\n",
       "    </tr>\n",
       "    <tr>\n",
       "      <th>237</th>\n",
       "      <td>8.050720</td>\n",
       "      <td>19.028004</td>\n",
       "    </tr>\n",
       "    <tr>\n",
       "      <th>238</th>\n",
       "      <td>10.841965</td>\n",
       "      <td>22.406371</td>\n",
       "    </tr>\n",
       "    <tr>\n",
       "      <th>239</th>\n",
       "      <td>11.989549</td>\n",
       "      <td>22.845380</td>\n",
       "    </tr>\n",
       "    <tr>\n",
       "      <th>240</th>\n",
       "      <td>10.105308</td>\n",
       "      <td>22.635313</td>\n",
       "    </tr>\n",
       "    <tr>\n",
       "      <th>241</th>\n",
       "      <td>9.790852</td>\n",
       "      <td>20.726468</td>\n",
       "    </tr>\n",
       "    <tr>\n",
       "      <th>242</th>\n",
       "      <td>10.483417</td>\n",
       "      <td>21.679126</td>\n",
       "    </tr>\n",
       "    <tr>\n",
       "      <th>243</th>\n",
       "      <td>10.162278</td>\n",
       "      <td>21.414129</td>\n",
       "    </tr>\n",
       "    <tr>\n",
       "      <th>244</th>\n",
       "      <td>10.372243</td>\n",
       "      <td>16.081738</td>\n",
       "    </tr>\n",
       "    <tr>\n",
       "      <th>245</th>\n",
       "      <td>10.042076</td>\n",
       "      <td>21.525214</td>\n",
       "    </tr>\n",
       "    <tr>\n",
       "      <th>246</th>\n",
       "      <td>11.477300</td>\n",
       "      <td>24.430287</td>\n",
       "    </tr>\n",
       "    <tr>\n",
       "      <th>247</th>\n",
       "      <td>8.054765</td>\n",
       "      <td>18.029060</td>\n",
       "    </tr>\n",
       "    <tr>\n",
       "      <th>248</th>\n",
       "      <td>8.390802</td>\n",
       "      <td>20.810809</td>\n",
       "    </tr>\n",
       "    <tr>\n",
       "      <th>249</th>\n",
       "      <td>8.766908</td>\n",
       "      <td>17.416668</td>\n",
       "    </tr>\n",
       "  </tbody>\n",
       "</table>\n",
       "<p>250 rows × 2 columns</p>\n",
       "</div>"
      ],
      "text/plain": [
       "        Label1     Label2\n",
       "0    11.287950   1.522315\n",
       "1     7.374096  -0.334949\n",
       "2     9.561462  -0.197202\n",
       "3    11.727997   4.080205\n",
       "4     5.620097  -2.723630\n",
       "5    11.670766   2.796676\n",
       "6     8.513585  -1.930945\n",
       "7     9.896790  -2.008844\n",
       "8     9.342746   0.173520\n",
       "9     6.541128   1.254860\n",
       "10    9.492863  -4.538845\n",
       "11    9.831834  -2.040994\n",
       "12   12.384135  -0.707076\n",
       "13    9.950840   1.206385\n",
       "14   12.410585   1.161732\n",
       "15    9.148796   3.358331\n",
       "16    8.080800  -0.011860\n",
       "17    9.197503  -1.893424\n",
       "18   12.760140  -1.387586\n",
       "19   12.555786   3.097231\n",
       "20    9.053120  -1.153458\n",
       "21    9.514981   0.573951\n",
       "22   11.588276   0.825558\n",
       "23   11.221768  -1.428402\n",
       "24   12.200961  -0.696949\n",
       "25   10.457356   1.279445\n",
       "26    8.927676  -1.738729\n",
       "27   10.629552   1.248040\n",
       "28    7.925586  -1.435807\n",
       "29    9.510807  -1.273223\n",
       "..         ...        ...\n",
       "220   8.263177  21.630199\n",
       "221   8.195671  18.858288\n",
       "222   9.028011  23.392758\n",
       "223  10.484626  19.666375\n",
       "224  10.056525  20.602568\n",
       "225   9.924934  20.451788\n",
       "226  11.759515  19.639822\n",
       "227  12.637700  20.936842\n",
       "228   8.403600  21.776889\n",
       "229   9.208064  15.006765\n",
       "230   8.289186  17.010222\n",
       "231  12.006836  20.028206\n",
       "232  11.934659  19.366769\n",
       "233   9.366057  23.346674\n",
       "234  13.113822  20.239597\n",
       "235  12.102044  20.371885\n",
       "236  10.736607  21.527281\n",
       "237   8.050720  19.028004\n",
       "238  10.841965  22.406371\n",
       "239  11.989549  22.845380\n",
       "240  10.105308  22.635313\n",
       "241   9.790852  20.726468\n",
       "242  10.483417  21.679126\n",
       "243  10.162278  21.414129\n",
       "244  10.372243  16.081738\n",
       "245  10.042076  21.525214\n",
       "246  11.477300  24.430287\n",
       "247   8.054765  18.029060\n",
       "248   8.390802  20.810809\n",
       "249   8.766908  17.416668\n",
       "\n",
       "[250 rows x 2 columns]"
      ]
     },
     "execution_count": 155,
     "metadata": {},
     "output_type": "execute_result"
    }
   ],
   "source": [
    "df"
   ]
  },
  {
   "cell_type": "markdown",
   "metadata": {},
   "source": [
    "### 10. Use scatter matrix to print all the 3 distributions"
   ]
  },
  {
   "cell_type": "code",
   "execution_count": 156,
   "metadata": {},
   "outputs": [
    {
     "data": {
      "text/plain": [
       "<matplotlib.collections.PathCollection at 0x1a1f5eb198>"
      ]
     },
     "execution_count": 156,
     "metadata": {},
     "output_type": "execute_result"
    },
    {
     "data": {
      "image/png": "[encoded data removed]",
      "text/plain": [
       "<Figure size 432x288 with 1 Axes>"
      ]
     },
     "metadata": {
      "needs_background": "light"
     },
     "output_type": "display_data"
    }
   ],
   "source": [
    "import matplotlib.pyplot as plt\n",
    "plt.scatter(df['Label1'], df['Label2'])"
   ]
  },
  {
   "cell_type": "code",
   "execution_count": null,
   "metadata": {},
   "outputs": [],
   "source": []
  },
  {
   "cell_type": "markdown",
   "metadata": {},
   "source": [
    "### 11. Find out the linkage matrix"
   ]
  },
  {
   "cell_type": "code",
   "execution_count": 157,
   "metadata": {},
   "outputs": [
    {
     "data": {
      "text/plain": [
       "array([[1.98000000e+02, 2.02000000e+02, 2.10237202e-02, 2.00000000e+00],\n",
       "       [3.00000000e+01, 4.60000000e+01, 2.53853904e-02, 2.00000000e+00],\n",
       "       [1.35000000e+02, 1.49000000e+02, 3.90128261e-02, 2.00000000e+00],\n",
       "       [1.11000000e+02, 1.22000000e+02, 4.11967065e-02, 2.00000000e+00],\n",
       "       [1.88000000e+02, 2.13000000e+02, 5.27183338e-02, 2.00000000e+00],\n",
       "       [2.06000000e+02, 2.15000000e+02, 6.71414031e-02, 2.00000000e+00],\n",
       "       [7.00000000e+00, 1.10000000e+01, 7.24772274e-02, 2.00000000e+00],\n",
       "       [1.91000000e+02, 2.38000000e+02, 8.75309509e-02, 2.00000000e+00],\n",
       "       [1.84000000e+02, 1.87000000e+02, 9.92418658e-02, 2.00000000e+00],\n",
       "       [6.30000000e+01, 7.00000000e+01, 1.02323177e-01, 2.00000000e+00],\n",
       "       [5.90000000e+01, 8.20000000e+01, 1.05984358e-01, 2.00000000e+00],\n",
       "       [1.74000000e+02, 2.23000000e+02, 1.08541318e-01, 2.00000000e+00],\n",
       "       [1.59000000e+02, 2.47000000e+02, 1.29587030e-01, 2.00000000e+00],\n",
       "       [2.09000000e+02, 2.35000000e+02, 1.45361970e-01, 2.00000000e+00],\n",
       "       [4.80000000e+01, 4.90000000e+01, 1.47667786e-01, 2.00000000e+00],\n",
       "       [4.00000000e+01, 8.10000000e+01, 1.50677394e-01, 2.00000000e+00],\n",
       "       [7.60000000e+01, 2.51000000e+02, 1.50798282e-01, 3.00000000e+00],\n",
       "       [2.00000000e+02, 2.16000000e+02, 1.62851106e-01, 2.00000000e+00],\n",
       "       [2.43000000e+02, 2.45000000e+02, 1.63671322e-01, 2.00000000e+00],\n",
       "       [1.77000000e+02, 2.27000000e+02, 1.66964317e-01, 2.00000000e+00],\n",
       "       [1.07000000e+02, 1.45000000e+02, 1.71848925e-01, 2.00000000e+00],\n",
       "       [2.50000000e+01, 2.70000000e+01, 1.75036115e-01, 2.00000000e+00],\n",
       "       [1.75000000e+02, 2.26000000e+02, 1.77275166e-01, 2.00000000e+00],\n",
       "       [1.94000000e+02, 2.24000000e+02, 1.82752617e-01, 2.00000000e+00],\n",
       "       [1.20000000e+01, 2.40000000e+01, 1.83453055e-01, 2.00000000e+00],\n",
       "       [1.18000000e+02, 1.21000000e+02, 1.93287214e-01, 2.00000000e+00],\n",
       "       [2.60000000e+01, 7.90000000e+01, 1.95035891e-01, 2.00000000e+00],\n",
       "       [1.30000000e+02, 1.40000000e+02, 2.01535212e-01, 2.00000000e+00],\n",
       "       [1.01000000e+02, 1.20000000e+02, 2.02145524e-01, 2.00000000e+00],\n",
       "       [5.70000000e+01, 7.50000000e+01, 2.02192649e-01, 2.00000000e+00],\n",
       "       [2.20000000e+02, 2.28000000e+02, 2.03068005e-01, 2.00000000e+00],\n",
       "       [1.79000000e+02, 1.90000000e+02, 2.06761357e-01, 2.00000000e+00],\n",
       "       [1.13000000e+02, 1.48000000e+02, 2.21124483e-01, 2.00000000e+00],\n",
       "       [2.21000000e+02, 2.37000000e+02, 2.23190729e-01, 2.00000000e+00],\n",
       "       [2.00000000e+00, 4.10000000e+01, 2.31713255e-01, 2.00000000e+00],\n",
       "       [1.23000000e+02, 1.42000000e+02, 2.33040156e-01, 2.00000000e+00],\n",
       "       [2.30000000e+01, 9.20000000e+01, 2.33940055e-01, 2.00000000e+00],\n",
       "       [1.03000000e+02, 1.34000000e+02, 2.35366241e-01, 2.00000000e+00],\n",
       "       [3.50000000e+01, 8.00000000e+01, 2.37697691e-01, 2.00000000e+00],\n",
       "       [1.55000000e+02, 2.34000000e+02, 2.39986238e-01, 2.00000000e+00],\n",
       "       [1.85000000e+02, 2.36000000e+02, 2.45748096e-01, 2.00000000e+00],\n",
       "       [1.65000000e+02, 2.61000000e+02, 2.55761124e-01, 3.00000000e+00],\n",
       "       [1.76000000e+02, 2.72000000e+02, 2.58984343e-01, 3.00000000e+00],\n",
       "       [1.00000000e+01, 8.80000000e+01, 2.59152238e-01, 2.00000000e+00],\n",
       "       [6.80000000e+01, 9.00000000e+01, 2.67093444e-01, 2.00000000e+00],\n",
       "       [1.10000000e+02, 1.17000000e+02, 2.76944583e-01, 2.00000000e+00],\n",
       "       [1.60000000e+02, 2.68000000e+02, 2.90608395e-01, 3.00000000e+00],\n",
       "       [1.04000000e+02, 2.52000000e+02, 2.97164362e-01, 3.00000000e+00],\n",
       "       [8.00000000e+00, 5.30000000e+01, 3.02999304e-01, 2.00000000e+00],\n",
       "       [3.10000000e+01, 2.74000000e+02, 3.03266313e-01, 3.00000000e+00],\n",
       "       [1.66000000e+02, 2.83000000e+02, 3.03302581e-01, 3.00000000e+00],\n",
       "       [2.25000000e+02, 2.41000000e+02, 3.05658567e-01, 2.00000000e+00],\n",
       "       [3.30000000e+01, 9.60000000e+01, 3.13111093e-01, 2.00000000e+00],\n",
       "       [1.54000000e+02, 2.32000000e+02, 3.15099268e-01, 2.00000000e+00],\n",
       "       [3.90000000e+01, 5.20000000e+01, 3.18072261e-01, 2.00000000e+00],\n",
       "       [2.18000000e+02, 2.31000000e+02, 3.21326182e-01, 2.00000000e+00],\n",
       "       [3.60000000e+01, 2.66000000e+02, 3.23988178e-01, 4.00000000e+00],\n",
       "       [3.80000000e+01, 2.79000000e+02, 3.35710283e-01, 3.00000000e+00],\n",
       "       [2.22000000e+02, 2.33000000e+02, 3.41172170e-01, 2.00000000e+00],\n",
       "       [1.16000000e+02, 2.53000000e+02, 3.59580258e-01, 3.00000000e+00],\n",
       "       [2.42000000e+02, 2.90000000e+02, 3.64635436e-01, 3.00000000e+00],\n",
       "       [6.00000000e+00, 7.40000000e+01, 3.74845705e-01, 2.00000000e+00],\n",
       "       [4.40000000e+01, 2.56000000e+02, 3.83815632e-01, 3.00000000e+00],\n",
       "       [8.50000000e+01, 8.60000000e+01, 3.86368915e-01, 2.00000000e+00],\n",
       "       [3.20000000e+01, 8.90000000e+01, 3.94437628e-01, 2.00000000e+00],\n",
       "       [5.00000000e+00, 4.50000000e+01, 3.99163877e-01, 2.00000000e+00],\n",
       "       [2.20000000e+01, 6.40000000e+01, 4.02096419e-01, 2.00000000e+00],\n",
       "       [1.19000000e+02, 2.82000000e+02, 4.06407865e-01, 3.00000000e+00],\n",
       "       [2.73000000e+02, 3.01000000e+02, 4.10641939e-01, 4.00000000e+00],\n",
       "       [0.00000000e+00, 6.50000000e+01, 4.16536683e-01, 2.00000000e+00],\n",
       "       [6.00000000e+01, 3.06000000e+02, 4.17395976e-01, 5.00000000e+00],\n",
       "       [1.30000000e+01, 3.07000000e+02, 4.19157871e-01, 4.00000000e+00],\n",
       "       [2.10000000e+01, 2.98000000e+02, 4.20587545e-01, 3.00000000e+00],\n",
       "       [1.64000000e+02, 2.67000000e+02, 4.20681767e-01, 3.00000000e+00],\n",
       "       [1.28000000e+02, 1.37000000e+02, 4.31699965e-01, 2.00000000e+00],\n",
       "       [2.12000000e+02, 2.48000000e+02, 4.35236459e-01, 2.00000000e+00],\n",
       "       [1.71000000e+02, 2.17000000e+02, 4.41344348e-01, 2.00000000e+00],\n",
       "       [6.60000000e+01, 2.60000000e+02, 4.51285669e-01, 3.00000000e+00],\n",
       "       [1.00000000e+00, 8.70000000e+01, 4.63852541e-01, 2.00000000e+00],\n",
       "       [1.78000000e+02, 2.05000000e+02, 4.64165358e-01, 2.00000000e+00],\n",
       "       [2.65000000e+02, 2.88000000e+02, 4.64569599e-01, 4.00000000e+00],\n",
       "       [1.70000000e+01, 2.76000000e+02, 4.71110566e-01, 3.00000000e+00],\n",
       "       [2.00000000e+01, 2.90000000e+01, 4.73096617e-01, 2.00000000e+00],\n",
       "       [1.50000000e+01, 4.20000000e+01, 4.77663913e-01, 2.00000000e+00],\n",
       "       [2.19000000e+02, 2.80000000e+02, 4.83532375e-01, 3.00000000e+00],\n",
       "       [2.07000000e+02, 2.58000000e+02, 5.00639122e-01, 3.00000000e+00],\n",
       "       [2.03000000e+02, 2.57000000e+02, 5.07755032e-01, 3.00000000e+00],\n",
       "       [1.68000000e+02, 2.69000000e+02, 5.10082726e-01, 3.00000000e+00],\n",
       "       [1.67000000e+02, 2.14000000e+02, 5.11763121e-01, 2.00000000e+00],\n",
       "       [9.30000000e+01, 9.40000000e+01, 5.35075467e-01, 2.00000000e+00],\n",
       "       [1.70000000e+02, 2.11000000e+02, 5.35757185e-01, 2.00000000e+00],\n",
       "       [1.25000000e+02, 3.09000000e+02, 5.35791738e-01, 4.00000000e+00],\n",
       "       [5.60000000e+01, 3.20000000e+02, 5.40442755e-01, 6.00000000e+00],\n",
       "       [1.60000000e+01, 9.70000000e+01, 5.50057124e-01, 2.00000000e+00],\n",
       "       [2.80000000e+01, 5.00000000e+01, 5.52277919e-01, 2.00000000e+00],\n",
       "       [1.52000000e+02, 1.92000000e+02, 5.55074469e-01, 2.00000000e+00],\n",
       "       [1.69000000e+02, 1.89000000e+02, 5.65661818e-01, 2.00000000e+00],\n",
       "       [7.10000000e+01, 3.22000000e+02, 5.72825841e-01, 4.00000000e+00],\n",
       "       [1.53000000e+02, 3.25000000e+02, 5.80193556e-01, 3.00000000e+00],\n",
       "       [1.99000000e+02, 2.54000000e+02, 5.84078952e-01, 3.00000000e+00],\n",
       "       [1.15000000e+02, 2.95000000e+02, 5.96777841e-01, 3.00000000e+00],\n",
       "       [2.92000000e+02, 3.03000000e+02, 6.00413088e-01, 5.00000000e+00],\n",
       "       [1.72000000e+02, 2.44000000e+02, 6.08264964e-01, 2.00000000e+00],\n",
       "       [1.81000000e+02, 3.23000000e+02, 6.11717635e-01, 4.00000000e+00],\n",
       "       [1.95000000e+02, 1.97000000e+02, 6.19723203e-01, 2.00000000e+00],\n",
       "       [2.08000000e+02, 3.05000000e+02, 6.20702178e-01, 3.00000000e+00],\n",
       "       [2.30000000e+02, 2.49000000e+02, 6.27229954e-01, 2.00000000e+00],\n",
       "       [1.27000000e+02, 1.39000000e+02, 6.34703023e-01, 2.00000000e+00],\n",
       "       [1.56000000e+02, 1.82000000e+02, 6.40540549e-01, 2.00000000e+00],\n",
       "       [5.80000000e+01, 2.86000000e+02, 6.42015270e-01, 3.00000000e+00],\n",
       "       [2.94000000e+02, 3.02000000e+02, 6.47423547e-01, 4.00000000e+00],\n",
       "       [2.01000000e+02, 3.29000000e+02, 6.48531600e-01, 3.00000000e+00],\n",
       "       [9.00000000e+00, 6.20000000e+01, 6.53171267e-01, 2.00000000e+00],\n",
       "       [3.70000000e+01, 3.14000000e+02, 6.55612870e-01, 3.00000000e+00],\n",
       "       [1.96000000e+02, 2.39000000e+02, 6.56658562e-01, 2.00000000e+00],\n",
       "       [5.50000000e+01, 3.27000000e+02, 6.61495570e-01, 4.00000000e+00],\n",
       "       [1.51000000e+02, 1.61000000e+02, 6.76197771e-01, 2.00000000e+00],\n",
       "       [2.64000000e+02, 2.71000000e+02, 6.76406514e-01, 4.00000000e+00],\n",
       "       [5.40000000e+01, 3.16000000e+02, 6.83065905e-01, 3.00000000e+00],\n",
       "       [1.83000000e+02, 2.62000000e+02, 6.89715548e-01, 3.00000000e+00],\n",
       "       [1.32000000e+02, 2.75000000e+02, 6.90970792e-01, 3.00000000e+00],\n",
       "       [1.80000000e+01, 7.80000000e+01, 6.93901571e-01, 2.00000000e+00],\n",
       "       [2.55000000e+02, 3.00000000e+02, 6.99008568e-01, 5.00000000e+00],\n",
       "       [9.80000000e+01, 3.21000000e+02, 7.05427891e-01, 5.00000000e+00],\n",
       "       [6.10000000e+01, 3.12000000e+02, 7.16134437e-01, 4.00000000e+00],\n",
       "       [1.47000000e+02, 2.78000000e+02, 7.21578173e-01, 3.00000000e+00],\n",
       "       [8.30000000e+01, 8.40000000e+01, 7.24416624e-01, 2.00000000e+00],\n",
       "       [3.26000000e+02, 3.66000000e+02, 7.39254383e-01, 4.00000000e+00],\n",
       "       [2.40000000e+02, 2.50000000e+02, 7.44424317e-01, 3.00000000e+00],\n",
       "       [1.08000000e+02, 1.24000000e+02, 7.77122425e-01, 2.00000000e+00],\n",
       "       [1.29000000e+02, 3.17000000e+02, 7.84811359e-01, 4.00000000e+00],\n",
       "       [6.90000000e+01, 3.04000000e+02, 7.88807667e-01, 3.00000000e+00],\n",
       "       [1.93000000e+02, 2.91000000e+02, 7.92743048e-01, 4.00000000e+00],\n",
       "       [2.63000000e+02, 3.55000000e+02, 8.05037839e-01, 5.00000000e+00],\n",
       "       [2.96000000e+02, 3.10000000e+02, 8.05710544e-01, 6.00000000e+00],\n",
       "       [4.30000000e+01, 3.44000000e+02, 8.13013794e-01, 3.00000000e+00],\n",
       "       [3.40000000e+01, 3.59000000e+02, 8.17436184e-01, 4.00000000e+00],\n",
       "       [2.84000000e+02, 3.47000000e+02, 8.25128567e-01, 6.00000000e+00],\n",
       "       [1.86000000e+02, 3.35000000e+02, 8.28910644e-01, 4.00000000e+00],\n",
       "       [1.38000000e+02, 2.70000000e+02, 8.38302865e-01, 3.00000000e+00],\n",
       "       [1.26000000e+02, 1.44000000e+02, 8.39790245e-01, 2.00000000e+00],\n",
       "       [1.40000000e+01, 3.68000000e+02, 8.41947772e-01, 4.00000000e+00],\n",
       "       [1.46000000e+02, 2.87000000e+02, 9.01498284e-01, 3.00000000e+00],\n",
       "       [7.70000000e+01, 3.33000000e+02, 9.08331196e-01, 3.00000000e+00],\n",
       "       [6.70000000e+01, 2.93000000e+02, 9.31471922e-01, 3.00000000e+00],\n",
       "       [3.31000000e+02, 3.32000000e+02, 9.66925853e-01, 5.00000000e+00],\n",
       "       [2.59000000e+02, 3.42000000e+02, 9.69569212e-01, 8.00000000e+00],\n",
       "       [3.41000000e+02, 3.70000000e+02, 1.00832730e+00, 7.00000000e+00],\n",
       "       [2.04000000e+02, 3.78000000e+02, 1.03757997e+00, 4.00000000e+00],\n",
       "       [1.50000000e+02, 3.49000000e+02, 1.03787273e+00, 4.00000000e+00],\n",
       "       [1.90000000e+01, 7.20000000e+01, 1.03884725e+00, 2.00000000e+00],\n",
       "       [3.24000000e+02, 3.50000000e+02, 1.06596178e+00, 5.00000000e+00],\n",
       "       [9.50000000e+01, 9.90000000e+01, 1.06646996e+00, 2.00000000e+00],\n",
       "       [1.31000000e+02, 1.36000000e+02, 1.08188140e+00, 2.00000000e+00],\n",
       "       [2.85000000e+02, 3.80000000e+02, 1.08756250e+00, 6.00000000e+00],\n",
       "       [1.63000000e+02, 3.56000000e+02, 1.09466148e+00, 3.00000000e+00],\n",
       "       [3.11000000e+02, 3.76000000e+02, 1.14766927e+00, 4.00000000e+00],\n",
       "       [3.36000000e+02, 3.61000000e+02, 1.20213136e+00, 6.00000000e+00],\n",
       "       [1.57000000e+02, 3.82000000e+02, 1.22095213e+00, 5.00000000e+00],\n",
       "       [1.43000000e+02, 2.77000000e+02, 1.25415370e+00, 3.00000000e+00],\n",
       "       [3.19000000e+02, 3.67000000e+02, 1.25555569e+00, 6.00000000e+00],\n",
       "       [1.58000000e+02, 2.89000000e+02, 1.25859598e+00, 3.00000000e+00],\n",
       "       [1.80000000e+02, 3.52000000e+02, 1.29553315e+00, 3.00000000e+00],\n",
       "       [3.63000000e+02, 4.10000000e+02, 1.38022981e+00, 9.00000000e+00],\n",
       "       [3.28000000e+02, 3.43000000e+02, 1.40982421e+00, 4.00000000e+00],\n",
       "       [3.30000000e+02, 3.81000000e+02, 1.42309262e+00, 7.00000000e+00],\n",
       "       [2.81000000e+02, 3.48000000e+02, 1.43326674e+00, 5.00000000e+00],\n",
       "       [3.57000000e+02, 3.75000000e+02, 1.43857776e+00, 5.00000000e+00],\n",
       "       [3.58000000e+02, 3.88000000e+02, 1.44057378e+00, 6.00000000e+00],\n",
       "       [2.29000000e+02, 3.45000000e+02, 1.46122592e+00, 3.00000000e+00],\n",
       "       [3.15000000e+02, 3.65000000e+02, 1.50534232e+00, 6.00000000e+00],\n",
       "       [1.00000000e+02, 1.12000000e+02, 1.54882886e+00, 2.00000000e+00],\n",
       "       [3.39000000e+02, 3.73000000e+02, 1.55338070e+00, 7.00000000e+00],\n",
       "       [2.99000000e+02, 3.71000000e+02, 1.56451993e+00, 5.00000000e+00],\n",
       "       [3.53000000e+02, 3.72000000e+02, 1.56796990e+00, 9.00000000e+00],\n",
       "       [3.37000000e+02, 3.83000000e+02, 1.57667354e+00, 8.00000000e+00],\n",
       "       [1.62000000e+02, 3.34000000e+02, 1.58322619e+00, 4.00000000e+00],\n",
       "       [2.46000000e+02, 3.77000000e+02, 1.58677133e+00, 5.00000000e+00],\n",
       "       [3.00000000e+00, 4.70000000e+01, 1.65530246e+00, 2.00000000e+00],\n",
       "       [3.18000000e+02, 3.99000000e+02, 1.70583227e+00, 8.00000000e+00],\n",
       "       [1.14000000e+02, 4.03000000e+02, 1.71309250e+00, 3.00000000e+00],\n",
       "       [3.85000000e+02, 4.02000000e+02, 1.79470126e+00, 5.00000000e+00],\n",
       "       [1.41000000e+02, 4.09000000e+02, 1.79839860e+00, 4.00000000e+00],\n",
       "       [1.06000000e+02, 3.79000000e+02, 1.80232104e+00, 3.00000000e+00],\n",
       "       [1.09000000e+02, 1.33000000e+02, 1.82411749e+00, 2.00000000e+00],\n",
       "       [5.10000000e+01, 4.06000000e+02, 1.88743963e+00, 5.00000000e+00],\n",
       "       [3.84000000e+02, 3.98000000e+02, 1.88903732e+00, 1.00000000e+01],\n",
       "       [3.54000000e+02, 3.64000000e+02, 1.89191641e+00, 4.00000000e+00],\n",
       "       [3.13000000e+02, 3.86000000e+02, 1.89220438e+00, 6.00000000e+00],\n",
       "       [3.46000000e+02, 4.16000000e+02, 1.90296989e+00, 7.00000000e+00],\n",
       "       [9.10000000e+01, 3.62000000e+02, 1.95760543e+00, 3.00000000e+00],\n",
       "       [3.89000000e+02, 3.92000000e+02, 2.03787496e+00, 6.00000000e+00],\n",
       "       [2.10000000e+02, 3.40000000e+02, 2.07358792e+00, 3.00000000e+00],\n",
       "       [3.69000000e+02, 4.05000000e+02, 2.08088609e+00, 6.00000000e+00],\n",
       "       [4.08000000e+02, 4.29000000e+02, 2.19097621e+00, 1.30000000e+01],\n",
       "       [2.97000000e+02, 3.90000000e+02, 2.27607316e+00, 5.00000000e+00],\n",
       "       [4.11000000e+02, 4.25000000e+02, 2.29789241e+00, 1.10000000e+01],\n",
       "       [3.87000000e+02, 4.15000000e+02, 2.30264510e+00, 1.30000000e+01],\n",
       "       [4.07000000e+02, 4.36000000e+02, 2.39634657e+00, 1.60000000e+01],\n",
       "       [3.74000000e+02, 3.95000000e+02, 2.40500094e+00, 9.00000000e+00],\n",
       "       [1.73000000e+02, 4.26000000e+02, 2.44022341e+00, 5.00000000e+00],\n",
       "       [4.14000000e+02, 4.31000000e+02, 2.58988879e+00, 9.00000000e+00],\n",
       "       [3.60000000e+02, 4.22000000e+02, 2.64803968e+00, 1.10000000e+01],\n",
       "       [3.38000000e+02, 4.37000000e+02, 2.69636686e+00, 6.00000000e+00],\n",
       "       [3.91000000e+02, 3.96000000e+02, 2.70373786e+00, 1.20000000e+01],\n",
       "       [4.23000000e+02, 4.38000000e+02, 2.73284932e+00, 1.10000000e+01],\n",
       "       [3.51000000e+02, 4.46000000e+02, 2.78055110e+00, 1.60000000e+01],\n",
       "       [1.02000000e+02, 4.34000000e+02, 2.79916033e+00, 3.00000000e+00],\n",
       "       [4.01000000e+02, 4.17000000e+02, 2.83729126e+00, 1.00000000e+01],\n",
       "       [3.08000000e+02, 4.27000000e+02, 2.88482677e+00, 7.00000000e+00],\n",
       "       [3.97000000e+02, 4.04000000e+02, 2.91183184e+00, 1.30000000e+01],\n",
       "       [7.30000000e+01, 3.94000000e+02, 2.98502904e+00, 4.00000000e+00],\n",
       "       [4.00000000e+02, 4.20000000e+02, 3.01265764e+00, 8.00000000e+00],\n",
       "       [3.93000000e+02, 4.28000000e+02, 3.20112914e+00, 5.00000000e+00],\n",
       "       [1.05000000e+02, 4.32000000e+02, 3.22619054e+00, 5.00000000e+00],\n",
       "       [4.18000000e+02, 4.43000000e+02, 3.28914104e+00, 1.20000000e+01],\n",
       "       [4.35000000e+02, 4.49000000e+02, 3.41363841e+00, 1.40000000e+01],\n",
       "       [4.21000000e+02, 4.41000000e+02, 3.72532626e+00, 8.00000000e+00],\n",
       "       [4.12000000e+02, 4.42000000e+02, 3.83716671e+00, 6.00000000e+00],\n",
       "       [4.00000000e+00, 4.51000000e+02, 3.84725200e+00, 1.00000000e+01],\n",
       "       [4.45000000e+02, 4.58000000e+02, 3.99597370e+00, 1.50000000e+01],\n",
       "       [4.24000000e+02, 4.39000000e+02, 4.04973041e+00, 1.60000000e+01],\n",
       "       [4.13000000e+02, 4.54000000e+02, 4.43161099e+00, 2.10000000e+01],\n",
       "       [4.62000000e+02, 4.63000000e+02, 5.02480619e+00, 1.30000000e+01],\n",
       "       [4.30000000e+02, 4.67000000e+02, 5.17976786e+00, 1.10000000e+01],\n",
       "       [4.40000000e+02, 4.69000000e+02, 5.19673347e+00, 1.30000000e+01],\n",
       "       [4.48000000e+02, 4.59000000e+02, 5.23424303e+00, 2.30000000e+01],\n",
       "       [4.19000000e+02, 4.65000000e+02, 5.52425496e+00, 1.50000000e+01],\n",
       "       [4.33000000e+02, 4.74000000e+02, 5.73146561e+00, 1.40000000e+01],\n",
       "       [4.61000000e+02, 4.66000000e+02, 5.76941848e+00, 1.80000000e+01],\n",
       "       [4.47000000e+02, 4.72000000e+02, 5.84762459e+00, 3.40000000e+01],\n",
       "       [4.50000000e+02, 4.71000000e+02, 6.21638658e+00, 2.10000000e+01],\n",
       "       [4.60000000e+02, 4.64000000e+02, 6.71852527e+00, 1.80000000e+01],\n",
       "       [4.44000000e+02, 4.56000000e+02, 7.37083362e+00, 2.90000000e+01],\n",
       "       [4.57000000e+02, 4.70000000e+02, 7.48952629e+00, 1.80000000e+01],\n",
       "       [4.53000000e+02, 4.76000000e+02, 7.57646955e+00, 2.90000000e+01],\n",
       "       [4.52000000e+02, 4.80000000e+02, 7.95929271e+00, 4.50000000e+01],\n",
       "       [4.68000000e+02, 4.77000000e+02, 7.97333576e+00, 2.10000000e+01],\n",
       "       [4.55000000e+02, 4.79000000e+02, 1.03879146e+01, 2.90000000e+01],\n",
       "       [4.82000000e+02, 4.84000000e+02, 1.11183035e+01, 3.60000000e+01],\n",
       "       [4.73000000e+02, 4.86000000e+02, 1.15308777e+01, 5.80000000e+01],\n",
       "       [4.83000000e+02, 4.85000000e+02, 1.35082302e+01, 5.80000000e+01],\n",
       "       [4.75000000e+02, 4.88000000e+02, 1.49848292e+01, 4.20000000e+01],\n",
       "       [4.81000000e+02, 4.87000000e+02, 1.54477756e+01, 4.20000000e+01],\n",
       "       [4.78000000e+02, 4.89000000e+02, 1.71297165e+01, 5.00000000e+01],\n",
       "       [4.90000000e+02, 4.92000000e+02, 2.08906243e+01, 1.00000000e+02],\n",
       "       [4.91000000e+02, 4.93000000e+02, 2.50682368e+01, 1.00000000e+02],\n",
       "       [4.94000000e+02, 4.96000000e+02, 8.89771413e+01, 1.50000000e+02],\n",
       "       [4.95000000e+02, 4.97000000e+02, 2.23417181e+02, 2.50000000e+02]])"
      ]
     },
     "execution_count": 157,
     "metadata": {},
     "output_type": "execute_result"
    }
   ],
   "source": [
    "\n",
    "from scipy.cluster.hierarchy import linkage, dendrogram\n",
    "Z = linkage(df, 'ward', metric='euclidean')\n",
    "Z"
   ]
  },
  {
   "cell_type": "markdown",
   "metadata": {},
   "source": [
    "Use ward as linkage metric and distance as Eucledian"
   ]
  },
  {
   "cell_type": "code",
   "execution_count": null,
   "metadata": {},
   "outputs": [],
   "source": []
  },
  {
   "cell_type": "code",
   "execution_count": null,
   "metadata": {},
   "outputs": [],
   "source": []
  },
  {
   "cell_type": "markdown",
   "metadata": {},
   "source": [
    "### 12. Plot the dendrogram for the consolidated dataframe"
   ]
  },
  {
   "cell_type": "code",
   "execution_count": 158,
   "metadata": {},
   "outputs": [
    {
     "data": {
      "image/png": "[encoded data removed]",
      "text/plain": [
       "<Figure size 720x720 with 1 Axes>"
      ]
     },
     "metadata": {
      "needs_background": "light"
     },
     "output_type": "display_data"
    }
   ],
   "source": [
    "\n",
    "plt.figure(figsize=(10, 10))\n",
    "plt.title('Agglomerative Hierarchical Clustering Dendogram')\n",
    "plt.xlabel('sample index')\n",
    "plt.ylabel('Distance')\n",
    "dendrogram(Z, leaf_rotation=90.,color_threshold = 30, leaf_font_size=8. )\n",
    "plt.tight_layout()"
   ]
  },
  {
   "cell_type": "code",
   "execution_count": null,
   "metadata": {},
   "outputs": [],
   "source": []
  },
  {
   "cell_type": "code",
   "execution_count": null,
   "metadata": {},
   "outputs": [],
   "source": []
  },
  {
   "cell_type": "markdown",
   "metadata": {},
   "source": [
    "### 13. Recreate the dendrogram for last 12 merged clusters "
   ]
  },
  {
   "cell_type": "code",
   "execution_count": 159,
   "metadata": {},
   "outputs": [
    {
     "data": {
      "image/png": "[encoded data removed]",
      "text/plain": [
       "<Figure size 432x288 with 1 Axes>"
      ]
     },
     "metadata": {
      "needs_background": "light"
     },
     "output_type": "display_data"
    }
   ],
   "source": [
    "dendrogram(\n",
    "    Z,\n",
    "    truncate_mode='lastp',  # show only the last p merged clusters\n",
    "    p=12,  # show only the last p merged clusters\n",
    ")\n",
    "#plt.show()\n",
    "plt.tight_layout()"
   ]
  },
  {
   "cell_type": "markdown",
   "metadata": {},
   "source": [
    "Hint: Use truncate_mode='lastp' attribute in dendrogram function to arrive at dendrogram "
   ]
  },
  {
   "cell_type": "code",
   "execution_count": null,
   "metadata": {},
   "outputs": [],
   "source": []
  },
  {
   "cell_type": "code",
   "execution_count": null,
   "metadata": {},
   "outputs": [],
   "source": []
  },
  {
   "cell_type": "markdown",
   "metadata": {},
   "source": [
    "### 14. From the truncated dendrogram, find out the optimal distance between clusters which u want to use an input for clustering data"
   ]
  },
  {
   "cell_type": "code",
   "execution_count": 160,
   "metadata": {},
   "outputs": [],
   "source": [
    "optVal = 50"
   ]
  },
  {
   "cell_type": "code",
   "execution_count": null,
   "metadata": {},
   "outputs": [],
   "source": []
  },
  {
   "cell_type": "markdown",
   "metadata": {},
   "source": [
    "### 15. Using this distance measure and fcluster function to cluster the data into 3 different groups"
   ]
  },
  {
   "cell_type": "code",
   "execution_count": 161,
   "metadata": {},
   "outputs": [
    {
     "data": {
      "text/plain": [
       "array([1, 1, 1, 1, 1, 1, 1, 1, 1, 1, 1, 1, 1, 1, 1, 1, 1, 1, 1, 1, 1, 1,\n",
       "       1, 1, 1, 1, 1, 1, 1, 1, 1, 1, 1, 1, 1, 1, 1, 1, 1, 1, 1, 1, 1, 1,\n",
       "       1, 1, 1, 1, 1, 1, 1, 1, 1, 1, 1, 1, 1, 1, 1, 1, 1, 1, 1, 1, 1, 1,\n",
       "       1, 1, 1, 1, 1, 1, 1, 1, 1, 1, 1, 1, 1, 1, 1, 1, 1, 1, 1, 1, 1, 1,\n",
       "       1, 1, 1, 1, 1, 1, 1, 1, 1, 1, 1, 1, 2, 2, 2, 2, 2, 2, 2, 2, 2, 2,\n",
       "       2, 2, 2, 2, 2, 2, 2, 2, 2, 2, 2, 2, 2, 2, 2, 2, 2, 2, 2, 2, 2, 2,\n",
       "       2, 2, 2, 2, 2, 2, 2, 2, 2, 2, 2, 2, 2, 2, 2, 2, 2, 2, 3, 3, 3, 3,\n",
       "       3, 3, 3, 3, 3, 3, 3, 3, 3, 3, 3, 3, 3, 3, 3, 3, 3, 3, 3, 3, 3, 3,\n",
       "       3, 3, 3, 3, 3, 3, 3, 3, 3, 3, 3, 3, 3, 3, 3, 3, 3, 3, 3, 3, 3, 3,\n",
       "       3, 3, 3, 3, 3, 3, 3, 3, 3, 3, 3, 3, 3, 3, 3, 3, 3, 3, 3, 3, 3, 3,\n",
       "       3, 3, 3, 3, 3, 3, 3, 3, 3, 3, 3, 3, 3, 3, 3, 3, 3, 3, 3, 3, 3, 3,\n",
       "       3, 3, 3, 3, 3, 3, 3, 3], dtype=int32)"
      ]
     },
     "execution_count": 161,
     "metadata": {},
     "output_type": "execute_result"
    }
   ],
   "source": [
    "from scipy.cluster.hierarchy import fcluster\n",
    "fc = fcluster(Z, optVal, criterion='distance')\n",
    "fc"
   ]
  },
  {
   "cell_type": "code",
   "execution_count": null,
   "metadata": {},
   "outputs": [],
   "source": []
  },
  {
   "cell_type": "markdown",
   "metadata": {},
   "source": [
    "### Use matplotlib to visually observe the clusters in 2D space "
   ]
  },
  {
   "cell_type": "code",
   "execution_count": 162,
   "metadata": {},
   "outputs": [
    {
     "data": {
      "text/plain": [
       "<matplotlib.collections.PathCollection at 0x1a20016e48>"
      ]
     },
     "execution_count": 162,
     "metadata": {},
     "output_type": "execute_result"
    },
    {
     "data": {
      "image/png": "[encoded data removed]",
      "text/plain": [
       "<Figure size 432x288 with 1 Axes>"
      ]
     },
     "metadata": {
      "needs_background": "light"
     },
     "output_type": "display_data"
    }
   ],
   "source": [
    "\n",
    "plt.scatter(df['Label1'], df['Label2'], c=fc)"
   ]
  },
  {
   "cell_type": "code",
   "execution_count": null,
   "metadata": {},
   "outputs": [],
   "source": []
  }
 ],
 "metadata": {
  "kernelspec": {
   "display_name": "Python 3",
   "language": "python",
   "name": "python3"
  },
  "language_info": {
   "codemirror_mode": {
    "name": "ipython",
    "version": 3
   },
   "file_extension": ".py",
   "mimetype": "text/x-python",
   "name": "python",
   "nbconvert_exporter": "python",
   "pygments_lexer": "ipython3",
   "version": "3.7.1"
  }
 },
 "nbformat": 4,
 "nbformat_minor": 2
}
