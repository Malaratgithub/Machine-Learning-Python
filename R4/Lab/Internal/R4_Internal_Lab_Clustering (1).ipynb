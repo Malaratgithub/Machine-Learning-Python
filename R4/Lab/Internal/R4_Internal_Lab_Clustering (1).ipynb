{
 "cells": [
  {
   "cell_type": "markdown",
   "metadata": {},
   "source": [
    "### The data set has information about features of silhouette extracted from the images of different cars\n",
    "\n",
    "Four \"Corgie\" model vehicles were used for the experiment: a double decker bus, Cheverolet van, Saab 9000 and an Opel Manta 400 cars. This particular combination of vehicles was chosen with the expectation that the bus, van and either one of the cars would be readily distinguishable, but it would be more difficult to distinguish between the cars.\n",
    "\n"
   ]
  },
  {
   "cell_type": "markdown",
   "metadata": {},
   "source": [
    "### 1. Read the dataset using function .dropna() - to avoid dealing with NAs as of now"
   ]
  },
  {
   "cell_type": "code",
   "execution_count": 2,
   "metadata": {},
   "outputs": [
    {
     "name": "stdout",
     "output_type": "stream",
     "text": [
      "<class 'pandas.core.frame.DataFrame'>\n",
      "RangeIndex: 846 entries, 0 to 845\n",
      "Data columns (total 19 columns):\n",
      "compactness                    846 non-null int64\n",
      "circularity                    841 non-null float64\n",
      "distance_circularity           842 non-null float64\n",
      "radius_ratio                   840 non-null float64\n",
      "pr.axis_aspect_ratio           844 non-null float64\n",
      "max.length_aspect_ratio        846 non-null int64\n",
      "scatter_ratio                  845 non-null float64\n",
      "elongatedness                  845 non-null float64\n",
      "pr.axis_rectangularity         843 non-null float64\n",
      "max.length_rectangularity      846 non-null int64\n",
      "scaled_variance                843 non-null float64\n",
      "scaled_variance.1              844 non-null float64\n",
      "scaled_radius_of_gyration      844 non-null float64\n",
      "scaled_radius_of_gyration.1    842 non-null float64\n",
      "skewness_about                 840 non-null float64\n",
      "skewness_about.1               845 non-null float64\n",
      "skewness_about.2               845 non-null float64\n",
      "hollows_ratio                  846 non-null int64\n",
      "class                          846 non-null object\n",
      "dtypes: float64(14), int64(4), object(1)\n",
      "memory usage: 125.7+ KB\n"
     ]
    }
   ],
   "source": [
    "import pandas as pd\n",
    "vehicle = pd.read_csv('Vehicle.csv')\n",
    "vehicle.info()"
   ]
  },
  {
   "cell_type": "code",
   "execution_count": 5,
   "metadata": {},
   "outputs": [
    {
     "name": "stdout",
     "output_type": "stream",
     "text": [
      "<class 'pandas.core.frame.DataFrame'>\n",
      "Int64Index: 813 entries, 0 to 845\n",
      "Data columns (total 19 columns):\n",
      "compactness                    813 non-null int64\n",
      "circularity                    813 non-null float64\n",
      "distance_circularity           813 non-null float64\n",
      "radius_ratio                   813 non-null float64\n",
      "pr.axis_aspect_ratio           813 non-null float64\n",
      "max.length_aspect_ratio        813 non-null int64\n",
      "scatter_ratio                  813 non-null float64\n",
      "elongatedness                  813 non-null float64\n",
      "pr.axis_rectangularity         813 non-null float64\n",
      "max.length_rectangularity      813 non-null int64\n",
      "scaled_variance                813 non-null float64\n",
      "scaled_variance.1              813 non-null float64\n",
      "scaled_radius_of_gyration      813 non-null float64\n",
      "scaled_radius_of_gyration.1    813 non-null float64\n",
      "skewness_about                 813 non-null float64\n",
      "skewness_about.1               813 non-null float64\n",
      "skewness_about.2               813 non-null float64\n",
      "hollows_ratio                  813 non-null int64\n",
      "class                          813 non-null object\n",
      "dtypes: float64(14), int64(4), object(1)\n",
      "memory usage: 127.0+ KB\n"
     ]
    }
   ],
   "source": [
    "vehicle.dropna(inplace=True)\n",
    "vehicle.info()"
   ]
  },
  {
   "cell_type": "markdown",
   "metadata": {},
   "source": [
    "### 2. Print/ Plot the dependent (categorical variable) - Class column"
   ]
  },
  {
   "cell_type": "markdown",
   "metadata": {},
   "source": [
    "Since the variable is categorical, you can use value_counts function"
   ]
  },
  {
   "cell_type": "code",
   "execution_count": 21,
   "metadata": {},
   "outputs": [
    {
     "data": {
      "text/plain": [
       "<BarContainer object of 3 artists>"
      ]
     },
     "execution_count": 21,
     "metadata": {},
     "output_type": "execute_result"
    },
    {
     "data": {
      "image/png": "[encoded data removed]",
      "text/plain": [
       "<Figure size 432x288 with 1 Axes>"
      ]
     },
     "metadata": {
      "needs_background": "light"
     },
     "output_type": "display_data"
    }
   ],
   "source": [
    "names=vehicle['class'].unique()\n",
    "values=vehicle['class'].value_counts()\n",
    "import matplotlib.pyplot as plt\n",
    "fig, ax = plt.subplots()\n",
    "plt.xticks([0, 1, 2])\n",
    "for i, v in enumerate(values):\n",
    "    ax.text(i, v+5, str(v), color='g', fontweight='bold')\n",
    "ax.bar(names, values, color=(0.5,0.1,0.5,0.6),width=0.5)"
   ]
  },
  {
   "cell_type": "markdown",
   "metadata": {},
   "source": [
    "### Check for any missing values in the data "
   ]
  },
  {
   "cell_type": "code",
   "execution_count": 48,
   "metadata": {},
   "outputs": [
    {
     "data": {
      "text/plain": [
       "compactness                    0\n",
       "circularity                    0\n",
       "distance_circularity           0\n",
       "radius_ratio                   0\n",
       "pr.axis_aspect_ratio           0\n",
       "max.length_aspect_ratio        0\n",
       "scatter_ratio                  0\n",
       "elongatedness                  0\n",
       "pr.axis_rectangularity         0\n",
       "max.length_rectangularity      0\n",
       "scaled_variance                0\n",
       "scaled_variance.1              0\n",
       "scaled_radius_of_gyration      0\n",
       "scaled_radius_of_gyration.1    0\n",
       "skewness_about                 0\n",
       "skewness_about.1               0\n",
       "skewness_about.2               0\n",
       "hollows_ratio                  0\n",
       "class                          0\n",
       "dtype: int64"
      ]
     },
     "execution_count": 48,
     "metadata": {},
     "output_type": "execute_result"
    }
   ],
   "source": [
    "vehicle.isnull().sum()"
   ]
  },
  {
   "cell_type": "markdown",
   "metadata": {},
   "source": [
    "### 3. Standardize the data "
   ]
  },
  {
   "cell_type": "code",
   "execution_count": 57,
   "metadata": {},
   "outputs": [
    {
     "data": {
      "text/plain": [
       "array([[ 0.16323063,  0.52040788,  0.06066872, ...,  0.37128716,\n",
       "        -0.3218087 ,  0.17183708],\n",
       "       [-0.32287376, -0.61912319,  0.12406675, ...,  0.14710858,\n",
       "         0.00340009,  0.44231829],\n",
       "       [ 1.2569655 ,  0.84598818,  1.51882349, ..., -0.41333788,\n",
       "        -0.1592043 ,  0.03659647],\n",
       "       ...,\n",
       "       [ 1.5000177 ,  1.49714879,  1.20183332, ..., -0.97378433,\n",
       "        -0.3218087 ,  0.7127995 ],\n",
       "       [-0.93050425, -1.43307395, -0.25632145, ...,  1.38009078,\n",
       "         0.16600449, -0.09864413],\n",
       "       [-1.05203035, -1.43307395, -1.01709784, ...,  0.59546574,\n",
       "        -0.4844131 , -0.77484716]])"
      ]
     },
     "execution_count": 57,
     "metadata": {},
     "output_type": "execute_result"
    }
   ],
   "source": [
    "v_df = vehicle.drop('class', axis=1)# I do not want to disturb the original dataset, so I assign to another variable.\n",
    "\n",
    "from scipy.stats import zscore\n",
    "X = zscore(v_df)\n",
    "X"
   ]
  },
  {
   "cell_type": "markdown",
   "metadata": {},
   "source": [
    "Since the dimensions of the data are not really known to us, it would be wise to standardize the data using z scores before we go for any clustering methods.\n",
    "You can use zscore function to do this"
   ]
  },
  {
   "cell_type": "code",
   "execution_count": null,
   "metadata": {},
   "outputs": [],
   "source": []
  },
  {
   "cell_type": "code",
   "execution_count": null,
   "metadata": {},
   "outputs": [],
   "source": []
  },
  {
   "cell_type": "markdown",
   "metadata": {},
   "source": [
    "### K - Means Clustering"
   ]
  },
  {
   "cell_type": "markdown",
   "metadata": {},
   "source": [
    "### 4. Assign a dummy array called distortion"
   ]
  },
  {
   "cell_type": "code",
   "execution_count": 53,
   "metadata": {},
   "outputs": [],
   "source": [
    "distortion = []"
   ]
  },
  {
   "cell_type": "markdown",
   "metadata": {},
   "source": [
    "You can later use this array to plot the elbow plot"
   ]
  },
  {
   "cell_type": "code",
   "execution_count": null,
   "metadata": {},
   "outputs": [],
   "source": []
  },
  {
   "cell_type": "markdown",
   "metadata": {},
   "source": [
    "### 5. Calculating distortion - C distance"
   ]
  },
  {
   "cell_type": "code",
   "execution_count": 54,
   "metadata": {},
   "outputs": [
    {
     "data": {
      "text/plain": [
       "[3.939299196727955,\n",
       " 2.966824380205441,\n",
       " 2.642794199692158,\n",
       " 2.532444785560328,\n",
       " 2.4286988650311487,\n",
       " 2.31533040920016,\n",
       " 2.2378673363455728,\n",
       " 2.1802701558785254,\n",
       " 2.1222145858658514]"
      ]
     },
     "execution_count": 54,
     "metadata": {},
     "output_type": "execute_result"
    }
   ],
   "source": [
    "from sklearn.cluster import KMeans\n",
    "import numpy as np\n",
    "from scipy.spatial import distance\n",
    "distortion = []\n",
    "cluster_range = range( 1, 10)   # expect 3 to four clusters from the pair panel visual inspection hence restricting from 2 to 6\n",
    "cluster_errors = []\n",
    "cluster_sil_scores = []\n",
    "for num_clusters in cluster_range:\n",
    "  clusters = KMeans( num_clusters, n_init = 5)\n",
    "  clusters.fit(X)\n",
    "  labels = clusters.labels_                     # capture the cluster lables\n",
    "  centroids = clusters.cluster_centers_         # capture the centroids\n",
    "  cluster_errors.append( clusters.inertia_ )    # capture the intertia\n",
    "  distortion.append(sum(np.min(distance.cdist(X, clusters.cluster_centers_, 'euclidean'), axis=1))/ X.shape[0])\n",
    "\n",
    "distortion"
   ]
  },
  {
   "cell_type": "markdown",
   "metadata": {},
   "source": [
    "Iterating values of k from 1 to 10 fit K means model\n",
    "Using c distance - Get the measure for Sum of squares error."
   ]
  },
  {
   "cell_type": "code",
   "execution_count": null,
   "metadata": {},
   "outputs": [],
   "source": []
  },
  {
   "cell_type": "code",
   "execution_count": null,
   "metadata": {},
   "outputs": [],
   "source": []
  },
  {
   "cell_type": "markdown",
   "metadata": {},
   "source": [
    "### 6. Plotting Elbow/ Scree Plot"
   ]
  },
  {
   "cell_type": "code",
   "execution_count": 55,
   "metadata": {},
   "outputs": [
    {
     "data": {
      "text/plain": [
       "[<matplotlib.lines.Line2D at 0x1a1dfe0ac8>]"
      ]
     },
     "execution_count": 55,
     "metadata": {},
     "output_type": "execute_result"
    },
    {
     "data": {
      "image/png": "[encoded data removed]",
      "text/plain": [
       "<Figure size 864x432 with 1 Axes>"
      ]
     },
     "metadata": {
      "needs_background": "light"
     },
     "output_type": "display_data"
    }
   ],
   "source": [
    "plt.figure(figsize=(12,6))\n",
    "plt.plot( clusters_df.num_clusters, distortion, marker = \"o\" )"
   ]
  },
  {
   "cell_type": "markdown",
   "metadata": {},
   "source": [
    "Use Matplotlib to plot the scree plot - Note: Scree plot plots distortion vs the no of clusters"
   ]
  },
  {
   "cell_type": "code",
   "execution_count": null,
   "metadata": {},
   "outputs": [],
   "source": []
  },
  {
   "cell_type": "markdown",
   "metadata": {},
   "source": [
    "### Find out the optimal value of K"
   ]
  },
  {
   "cell_type": "markdown",
   "metadata": {},
   "source": [
    "From above plot, we can see the blend is at 3, so the K value is 3"
   ]
  },
  {
   "cell_type": "code",
   "execution_count": null,
   "metadata": {},
   "outputs": [],
   "source": []
  },
  {
   "cell_type": "markdown",
   "metadata": {},
   "source": [
    "### Using optimal value of K - Cluster the data. \n",
    "Note: Since the data has more than 2 dimension we cannot visualize the data. As an alternative, we can observe the centroids and note how they are distributed across different dimensions"
   ]
  },
  {
   "cell_type": "code",
   "execution_count": 63,
   "metadata": {},
   "outputs": [
    {
     "data": {
      "text/plain": [
       "array([[-0.91987072, -0.52009251, -0.89320752, -1.06435572, -0.50042171,\n",
       "        -0.2190738 , -0.7791213 ,  0.86589322, -0.74535635, -0.484632  ,\n",
       "        -0.78240328, -0.78341064, -0.38498232,  0.83878747, -0.09524349,\n",
       "        -0.30171562, -1.05420601, -1.11069466],\n",
       "       [ 1.13076532,  1.17094237,  1.19500584,  1.01909505,  0.21505188,\n",
       "         0.34250798,  1.27180461, -1.19061224,  1.27548416,  1.09266768,\n",
       "         1.22038121,  1.28132727,  1.07954232, -0.02879497,  0.16229031,\n",
       "         0.26566456, -0.00535553,  0.18380067],\n",
       "       [-0.2339617 , -0.57387481, -0.30776905, -0.03041322,  0.2050726 ,\n",
       "        -0.11653151, -0.45904181,  0.32506329, -0.48798836, -0.53604446,\n",
       "        -0.41380935, -0.46366305, -0.60155031, -0.61924057, -0.06177969,\n",
       "         0.01066762,  0.81278556,  0.69897299]])"
      ]
     },
     "execution_count": 63,
     "metadata": {},
     "output_type": "execute_result"
    }
   ],
   "source": [
    "clusters = KMeans(3, n_init = 5)\n",
    "clusters.fit(X)                   # capture the cluster lables\n",
    "centroids = clusters.cluster_centers_         # capture the centroids\n",
    "centroids"
   ]
  },
  {
   "cell_type": "markdown",
   "metadata": {},
   "source": [
    "You can use kmeans.cluster_centers_ function to pull the centroid information from the instance"
   ]
  },
  {
   "cell_type": "code",
   "execution_count": null,
   "metadata": {},
   "outputs": [],
   "source": []
  },
  {
   "cell_type": "markdown",
   "metadata": {},
   "source": [
    "### 7. Store the centroids in a dataframe with column names from the original dataset given "
   ]
  },
  {
   "cell_type": "code",
   "execution_count": 75,
   "metadata": {},
   "outputs": [
    {
     "data": {
      "text/html": [
       "<div>\n",
       "<style scoped>\n",
       "    .dataframe tbody tr th:only-of-type {\n",
       "        vertical-align: middle;\n",
       "    }\n",
       "\n",
       "    .dataframe tbody tr th {\n",
       "        vertical-align: top;\n",
       "    }\n",
       "\n",
       "    .dataframe thead th {\n",
       "        text-align: right;\n",
       "    }\n",
       "</style>\n",
       "<table border=\"1\" class=\"dataframe\">\n",
       "  <thead>\n",
       "    <tr style=\"text-align: right;\">\n",
       "      <th></th>\n",
       "      <th>compactness</th>\n",
       "      <th>circularity</th>\n",
       "      <th>distance_circularity</th>\n",
       "      <th>radius_ratio</th>\n",
       "      <th>pr.axis_aspect_ratio</th>\n",
       "      <th>max.length_aspect_ratio</th>\n",
       "      <th>scatter_ratio</th>\n",
       "      <th>elongatedness</th>\n",
       "      <th>pr.axis_rectangularity</th>\n",
       "      <th>max.length_rectangularity</th>\n",
       "      <th>scaled_variance</th>\n",
       "      <th>scaled_variance.1</th>\n",
       "      <th>scaled_radius_of_gyration</th>\n",
       "      <th>scaled_radius_of_gyration.1</th>\n",
       "      <th>skewness_about</th>\n",
       "      <th>skewness_about.1</th>\n",
       "      <th>skewness_about.2</th>\n",
       "      <th>hollows_ratio</th>\n",
       "    </tr>\n",
       "  </thead>\n",
       "  <tbody>\n",
       "    <tr>\n",
       "      <th>0</th>\n",
       "      <td>-0.919871</td>\n",
       "      <td>-0.520093</td>\n",
       "      <td>-0.893208</td>\n",
       "      <td>-1.064356</td>\n",
       "      <td>-0.500422</td>\n",
       "      <td>-0.219074</td>\n",
       "      <td>-0.779121</td>\n",
       "      <td>0.865893</td>\n",
       "      <td>-0.745356</td>\n",
       "      <td>-0.484632</td>\n",
       "      <td>-0.782403</td>\n",
       "      <td>-0.783411</td>\n",
       "      <td>-0.384982</td>\n",
       "      <td>0.838787</td>\n",
       "      <td>-0.095243</td>\n",
       "      <td>-0.301716</td>\n",
       "      <td>-1.054206</td>\n",
       "      <td>-1.110695</td>\n",
       "    </tr>\n",
       "    <tr>\n",
       "      <th>1</th>\n",
       "      <td>1.130765</td>\n",
       "      <td>1.170942</td>\n",
       "      <td>1.195006</td>\n",
       "      <td>1.019095</td>\n",
       "      <td>0.215052</td>\n",
       "      <td>0.342508</td>\n",
       "      <td>1.271805</td>\n",
       "      <td>-1.190612</td>\n",
       "      <td>1.275484</td>\n",
       "      <td>1.092668</td>\n",
       "      <td>1.220381</td>\n",
       "      <td>1.281327</td>\n",
       "      <td>1.079542</td>\n",
       "      <td>-0.028795</td>\n",
       "      <td>0.162290</td>\n",
       "      <td>0.265665</td>\n",
       "      <td>-0.005356</td>\n",
       "      <td>0.183801</td>\n",
       "    </tr>\n",
       "    <tr>\n",
       "      <th>2</th>\n",
       "      <td>-0.233962</td>\n",
       "      <td>-0.573875</td>\n",
       "      <td>-0.307769</td>\n",
       "      <td>-0.030413</td>\n",
       "      <td>0.205073</td>\n",
       "      <td>-0.116532</td>\n",
       "      <td>-0.459042</td>\n",
       "      <td>0.325063</td>\n",
       "      <td>-0.487988</td>\n",
       "      <td>-0.536044</td>\n",
       "      <td>-0.413809</td>\n",
       "      <td>-0.463663</td>\n",
       "      <td>-0.601550</td>\n",
       "      <td>-0.619241</td>\n",
       "      <td>-0.061780</td>\n",
       "      <td>0.010668</td>\n",
       "      <td>0.812786</td>\n",
       "      <td>0.698973</td>\n",
       "    </tr>\n",
       "  </tbody>\n",
       "</table>\n",
       "</div>"
      ],
      "text/plain": [
       "   compactness  circularity  distance_circularity  radius_ratio  \\\n",
       "0    -0.919871    -0.520093             -0.893208     -1.064356   \n",
       "1     1.130765     1.170942              1.195006      1.019095   \n",
       "2    -0.233962    -0.573875             -0.307769     -0.030413   \n",
       "\n",
       "   pr.axis_aspect_ratio  max.length_aspect_ratio  scatter_ratio  \\\n",
       "0             -0.500422                -0.219074      -0.779121   \n",
       "1              0.215052                 0.342508       1.271805   \n",
       "2              0.205073                -0.116532      -0.459042   \n",
       "\n",
       "   elongatedness  pr.axis_rectangularity  max.length_rectangularity  \\\n",
       "0       0.865893               -0.745356                  -0.484632   \n",
       "1      -1.190612                1.275484                   1.092668   \n",
       "2       0.325063               -0.487988                  -0.536044   \n",
       "\n",
       "   scaled_variance  scaled_variance.1  scaled_radius_of_gyration  \\\n",
       "0        -0.782403          -0.783411                  -0.384982   \n",
       "1         1.220381           1.281327                   1.079542   \n",
       "2        -0.413809          -0.463663                  -0.601550   \n",
       "\n",
       "   scaled_radius_of_gyration.1  skewness_about  skewness_about.1  \\\n",
       "0                     0.838787       -0.095243         -0.301716   \n",
       "1                    -0.028795        0.162290          0.265665   \n",
       "2                    -0.619241       -0.061780          0.010668   \n",
       "\n",
       "   skewness_about.2  hollows_ratio  \n",
       "0         -1.054206      -1.110695  \n",
       "1         -0.005356       0.183801  \n",
       "2          0.812786       0.698973  "
      ]
     },
     "execution_count": 75,
     "metadata": {},
     "output_type": "execute_result"
    }
   ],
   "source": [
    "clusters_df = pd.DataFrame(centroids, columns=v_df.columns)\n",
    "clusters_df"
   ]
  },
  {
   "cell_type": "markdown",
   "metadata": {},
   "source": [
    "Hint: Use pd.Dataframe function "
   ]
  },
  {
   "cell_type": "code",
   "execution_count": null,
   "metadata": {},
   "outputs": [],
   "source": []
  },
  {
   "cell_type": "code",
   "execution_count": null,
   "metadata": {},
   "outputs": [],
   "source": []
  },
  {
   "cell_type": "markdown",
   "metadata": {},
   "source": [
    "### Use kmeans.labels_ function to print out the labels of the classes"
   ]
  },
  {
   "cell_type": "code",
   "execution_count": 77,
   "metadata": {},
   "outputs": [
    {
     "data": {
      "text/plain": [
       "array([2, 2, 1, 2, 0, 2, 2, 2, 2, 2, 2, 2, 2, 1, 0, 2, 1, 0, 0, 2, 2, 1,\n",
       "       2, 0, 1, 1, 0, 2, 2, 2, 1, 2, 0, 1, 1, 0, 1, 0, 0, 2, 1, 0, 0, 0,\n",
       "       0, 2, 0, 2, 1, 2, 1, 2, 2, 0, 1, 0, 1, 0, 0, 0, 2, 0, 1, 2, 1, 1,\n",
       "       2, 0, 2, 1, 2, 0, 0, 1, 2, 0, 2, 1, 2, 0, 2, 0, 1, 2, 1, 2, 0, 1,\n",
       "       0, 0, 1, 0, 0, 2, 2, 0, 1, 1, 0, 0, 1, 2, 2, 0, 0, 0, 2, 1, 1, 2,\n",
       "       0, 0, 2, 0, 0, 0, 0, 0, 2, 1, 1, 2, 2, 0, 1, 1, 0, 2, 0, 2, 2, 1,\n",
       "       0, 2, 1, 2, 2, 2, 2, 1, 2, 2, 1, 2, 1, 2, 0, 2, 0, 1, 2, 2, 1, 1,\n",
       "       2, 1, 0, 0, 1, 1, 2, 1, 2, 2, 2, 2, 0, 1, 0, 2, 0, 1, 2, 2, 2, 1,\n",
       "       2, 1, 2, 1, 2, 0, 1, 0, 0, 0, 2, 2, 1, 1, 2, 2, 2, 0, 1, 2, 2, 2,\n",
       "       1, 0, 0, 1, 0, 2, 1, 0, 0, 0, 2, 1, 2, 1, 0, 0, 0, 0, 1, 2, 0, 2,\n",
       "       1, 0, 2, 2, 0, 1, 0, 0, 2, 2, 1, 0, 1, 0, 2, 2, 1, 2, 2, 1, 1, 0,\n",
       "       2, 2, 2, 1, 0, 2, 2, 0, 0, 2, 2, 1, 2, 0, 0, 1, 2, 2, 0, 0, 1, 0,\n",
       "       2, 1, 0, 2, 1, 2, 2, 1, 2, 1, 0, 2, 2, 1, 2, 2, 2, 0, 2, 1, 1, 1,\n",
       "       1, 0, 2, 1, 0, 0, 0, 2, 0, 1, 1, 0, 1, 2, 0, 1, 2, 2, 2, 1, 1, 0,\n",
       "       1, 1, 0, 1, 2, 2, 2, 0, 0, 1, 1, 1, 2, 2, 2, 1, 0, 2, 0, 1, 2, 2,\n",
       "       1, 2, 1, 1, 1, 2, 0, 0, 1, 0, 0, 0, 2, 2, 2, 2, 0, 1, 1, 0, 0, 1,\n",
       "       0, 1, 0, 1, 2, 0, 2, 0, 1, 1, 0, 2, 2, 2, 1, 2, 2, 2, 2, 1, 2, 1,\n",
       "       2, 1, 2, 0, 0, 2, 2, 2, 0, 0, 2, 0, 1, 2, 2, 0, 0, 1, 2, 0, 2, 2,\n",
       "       1, 2, 1, 2, 1, 1, 0, 0, 1, 2, 0, 0, 2, 1, 1, 0, 2, 1, 1, 0, 1, 1,\n",
       "       1, 2, 2, 2, 2, 2, 1, 0, 0, 2, 1, 2, 2, 1, 2, 0, 1, 0, 0, 1, 2, 0,\n",
       "       1, 1, 1, 0, 1, 1, 0, 2, 0, 1, 1, 2, 2, 0, 0, 1, 2, 0, 1, 1, 2, 0,\n",
       "       1, 1, 2, 0, 0, 1, 1, 1, 0, 0, 1, 1, 1, 2, 2, 1, 0, 2, 1, 2, 0, 0,\n",
       "       2, 1, 0, 2, 2, 0, 2, 1, 2, 1, 1, 2, 0, 2, 1, 1, 0, 0, 2, 1, 2, 1,\n",
       "       1, 2, 2, 2, 2, 0, 0, 0, 2, 2, 1, 0, 0, 2, 0, 1, 2, 1, 0, 0, 1, 1,\n",
       "       2, 1, 2, 2, 2, 1, 2, 0, 2, 1, 2, 2, 0, 1, 1, 1, 1, 2, 0, 0, 0, 1,\n",
       "       1, 1, 2, 1, 0, 2, 1, 0, 0, 0, 2, 0, 1, 2, 2, 2, 2, 2, 2, 1, 2, 2,\n",
       "       1, 2, 2, 2, 0, 1, 0, 0, 2, 0, 2, 2, 0, 0, 1, 1, 0, 2, 1, 2, 1, 2,\n",
       "       2, 1, 2, 0, 1, 0, 1, 0, 0, 2, 0, 2, 1, 1, 0, 1, 2, 2, 0, 2, 0, 1,\n",
       "       2, 1, 0, 2, 2, 2, 0, 0, 0, 2, 1, 2, 1, 0, 2, 2, 2, 2, 1, 2, 0, 1,\n",
       "       2, 1, 2, 2, 1, 0, 1, 0, 2, 2, 2, 0, 1, 2, 0, 2, 1, 0, 1, 2, 2, 1,\n",
       "       0, 2, 0, 2, 2, 0, 2, 1, 1, 2, 2, 1, 1, 2, 2, 0, 2, 1, 1, 1, 1, 2,\n",
       "       1, 2, 2, 1, 1, 2, 1, 2, 1, 2, 0, 1, 2, 0, 1, 1, 1, 2, 1, 0, 0, 1,\n",
       "       1, 1, 2, 1, 2, 2, 1, 2, 0, 2, 0, 2, 1, 2, 0, 2, 2, 2, 0, 1, 0, 0,\n",
       "       0, 1, 1, 0, 1, 1, 0, 2, 2, 1, 2, 0, 1, 1, 0, 2, 2, 1, 1, 1, 0, 1,\n",
       "       2, 1, 1, 0, 0, 1, 0, 1, 2, 0, 2, 1, 1, 2, 0, 2, 1, 1, 2, 2, 0, 2,\n",
       "       2, 1, 0, 2, 1, 0, 0, 1, 0, 2, 0, 0, 0, 2, 1, 1, 2, 0, 1, 2, 1, 1,\n",
       "       0, 2, 1, 0, 0, 2, 2, 1, 0, 0, 1, 0, 2, 2, 2, 2, 2, 2, 1, 2, 0],\n",
       "      dtype=int32)"
      ]
     },
     "execution_count": 77,
     "metadata": {},
     "output_type": "execute_result"
    }
   ],
   "source": [
    "\n",
    "labels = clusters.labels_  \n",
    "labels"
   ]
  },
  {
   "cell_type": "code",
   "execution_count": null,
   "metadata": {},
   "outputs": [],
   "source": []
  },
  {
   "cell_type": "markdown",
   "metadata": {},
   "source": [
    "## Hierarchical Clustering "
   ]
  },
  {
   "cell_type": "markdown",
   "metadata": {},
   "source": [
    "### 8. Variable creation"
   ]
  },
  {
   "cell_type": "markdown",
   "metadata": {},
   "source": [
    "For Hierarchical clustering, we will create datasets using multivariate normal distribution to visually observe how the clusters are formed at the end"
   ]
  },
  {
   "cell_type": "code",
   "execution_count": null,
   "metadata": {},
   "outputs": [],
   "source": []
  },
  {
   "cell_type": "code",
   "execution_count": 84,
   "metadata": {},
   "outputs": [],
   "source": [
    "a = np.random.multivariate_normal([10, 0], [[3, 1], [1, 4]], size=[100,])\n",
    "b = np.random.multivariate_normal([0, 20], [[3, 1], [1, 4]], size=[50,])\n",
    "c = np.random.multivariate_normal([10, 20], [[3, 1], [1, 4]], size=[100,])\n"
   ]
  },
  {
   "cell_type": "markdown",
   "metadata": {},
   "source": [
    "### 9. Combine all three arrays a,b,c into a dataframe"
   ]
  },
  {
   "cell_type": "code",
   "execution_count": 115,
   "metadata": {},
   "outputs": [],
   "source": [
    "df = pd.DataFrame(np.concatenate((a,b,c), axis=0), columns=['Label1', 'Label2'])"
   ]
  },
  {
   "cell_type": "code",
   "execution_count": 116,
   "metadata": {},
   "outputs": [
    {
     "data": {
      "text/html": [
       "<div>\n",
       "<style scoped>\n",
       "    .dataframe tbody tr th:only-of-type {\n",
       "        vertical-align: middle;\n",
       "    }\n",
       "\n",
       "    .dataframe tbody tr th {\n",
       "        vertical-align: top;\n",
       "    }\n",
       "\n",
       "    .dataframe thead th {\n",
       "        text-align: right;\n",
       "    }\n",
       "</style>\n",
       "<table border=\"1\" class=\"dataframe\">\n",
       "  <thead>\n",
       "    <tr style=\"text-align: right;\">\n",
       "      <th></th>\n",
       "      <th>Label1</th>\n",
       "      <th>Label2</th>\n",
       "    </tr>\n",
       "  </thead>\n",
       "  <tbody>\n",
       "    <tr>\n",
       "      <th>0</th>\n",
       "      <td>11.497225</td>\n",
       "      <td>1.367877</td>\n",
       "    </tr>\n",
       "    <tr>\n",
       "      <th>1</th>\n",
       "      <td>10.880557</td>\n",
       "      <td>-1.202599</td>\n",
       "    </tr>\n",
       "    <tr>\n",
       "      <th>2</th>\n",
       "      <td>10.883933</td>\n",
       "      <td>-3.676535</td>\n",
       "    </tr>\n",
       "    <tr>\n",
       "      <th>3</th>\n",
       "      <td>8.984591</td>\n",
       "      <td>0.590035</td>\n",
       "    </tr>\n",
       "    <tr>\n",
       "      <th>4</th>\n",
       "      <td>12.085513</td>\n",
       "      <td>1.239387</td>\n",
       "    </tr>\n",
       "    <tr>\n",
       "      <th>5</th>\n",
       "      <td>10.227709</td>\n",
       "      <td>2.594187</td>\n",
       "    </tr>\n",
       "    <tr>\n",
       "      <th>6</th>\n",
       "      <td>15.181615</td>\n",
       "      <td>1.603844</td>\n",
       "    </tr>\n",
       "    <tr>\n",
       "      <th>7</th>\n",
       "      <td>9.723986</td>\n",
       "      <td>-0.229516</td>\n",
       "    </tr>\n",
       "    <tr>\n",
       "      <th>8</th>\n",
       "      <td>10.759075</td>\n",
       "      <td>1.923574</td>\n",
       "    </tr>\n",
       "    <tr>\n",
       "      <th>9</th>\n",
       "      <td>10.144766</td>\n",
       "      <td>3.286471</td>\n",
       "    </tr>\n",
       "    <tr>\n",
       "      <th>10</th>\n",
       "      <td>10.536191</td>\n",
       "      <td>-3.103871</td>\n",
       "    </tr>\n",
       "    <tr>\n",
       "      <th>11</th>\n",
       "      <td>6.657115</td>\n",
       "      <td>-2.445699</td>\n",
       "    </tr>\n",
       "    <tr>\n",
       "      <th>12</th>\n",
       "      <td>10.896744</td>\n",
       "      <td>0.234809</td>\n",
       "    </tr>\n",
       "    <tr>\n",
       "      <th>13</th>\n",
       "      <td>9.512395</td>\n",
       "      <td>0.617023</td>\n",
       "    </tr>\n",
       "    <tr>\n",
       "      <th>14</th>\n",
       "      <td>8.858815</td>\n",
       "      <td>1.120949</td>\n",
       "    </tr>\n",
       "    <tr>\n",
       "      <th>15</th>\n",
       "      <td>8.333529</td>\n",
       "      <td>0.808781</td>\n",
       "    </tr>\n",
       "    <tr>\n",
       "      <th>16</th>\n",
       "      <td>9.671677</td>\n",
       "      <td>-1.062509</td>\n",
       "    </tr>\n",
       "    <tr>\n",
       "      <th>17</th>\n",
       "      <td>7.270842</td>\n",
       "      <td>-1.896747</td>\n",
       "    </tr>\n",
       "    <tr>\n",
       "      <th>18</th>\n",
       "      <td>8.953767</td>\n",
       "      <td>0.478557</td>\n",
       "    </tr>\n",
       "    <tr>\n",
       "      <th>19</th>\n",
       "      <td>10.431555</td>\n",
       "      <td>-0.632434</td>\n",
       "    </tr>\n",
       "    <tr>\n",
       "      <th>20</th>\n",
       "      <td>13.504730</td>\n",
       "      <td>4.165586</td>\n",
       "    </tr>\n",
       "    <tr>\n",
       "      <th>21</th>\n",
       "      <td>11.369121</td>\n",
       "      <td>0.124715</td>\n",
       "    </tr>\n",
       "    <tr>\n",
       "      <th>22</th>\n",
       "      <td>8.304631</td>\n",
       "      <td>-1.521487</td>\n",
       "    </tr>\n",
       "    <tr>\n",
       "      <th>23</th>\n",
       "      <td>9.993750</td>\n",
       "      <td>1.325779</td>\n",
       "    </tr>\n",
       "    <tr>\n",
       "      <th>24</th>\n",
       "      <td>11.680903</td>\n",
       "      <td>-2.025043</td>\n",
       "    </tr>\n",
       "    <tr>\n",
       "      <th>25</th>\n",
       "      <td>10.805853</td>\n",
       "      <td>3.317189</td>\n",
       "    </tr>\n",
       "    <tr>\n",
       "      <th>26</th>\n",
       "      <td>11.216791</td>\n",
       "      <td>1.182875</td>\n",
       "    </tr>\n",
       "    <tr>\n",
       "      <th>27</th>\n",
       "      <td>11.765797</td>\n",
       "      <td>1.698665</td>\n",
       "    </tr>\n",
       "    <tr>\n",
       "      <th>28</th>\n",
       "      <td>10.938063</td>\n",
       "      <td>-0.585815</td>\n",
       "    </tr>\n",
       "    <tr>\n",
       "      <th>29</th>\n",
       "      <td>9.661123</td>\n",
       "      <td>4.343095</td>\n",
       "    </tr>\n",
       "    <tr>\n",
       "      <th>...</th>\n",
       "      <td>...</td>\n",
       "      <td>...</td>\n",
       "    </tr>\n",
       "    <tr>\n",
       "      <th>220</th>\n",
       "      <td>8.052030</td>\n",
       "      <td>20.674807</td>\n",
       "    </tr>\n",
       "    <tr>\n",
       "      <th>221</th>\n",
       "      <td>11.670918</td>\n",
       "      <td>24.918812</td>\n",
       "    </tr>\n",
       "    <tr>\n",
       "      <th>222</th>\n",
       "      <td>11.814729</td>\n",
       "      <td>24.375216</td>\n",
       "    </tr>\n",
       "    <tr>\n",
       "      <th>223</th>\n",
       "      <td>11.724454</td>\n",
       "      <td>20.439930</td>\n",
       "    </tr>\n",
       "    <tr>\n",
       "      <th>224</th>\n",
       "      <td>12.362236</td>\n",
       "      <td>20.434533</td>\n",
       "    </tr>\n",
       "    <tr>\n",
       "      <th>225</th>\n",
       "      <td>13.560507</td>\n",
       "      <td>22.577695</td>\n",
       "    </tr>\n",
       "    <tr>\n",
       "      <th>226</th>\n",
       "      <td>7.822651</td>\n",
       "      <td>23.070978</td>\n",
       "    </tr>\n",
       "    <tr>\n",
       "      <th>227</th>\n",
       "      <td>8.382547</td>\n",
       "      <td>21.473290</td>\n",
       "    </tr>\n",
       "    <tr>\n",
       "      <th>228</th>\n",
       "      <td>10.743629</td>\n",
       "      <td>17.960720</td>\n",
       "    </tr>\n",
       "    <tr>\n",
       "      <th>229</th>\n",
       "      <td>10.444762</td>\n",
       "      <td>22.253684</td>\n",
       "    </tr>\n",
       "    <tr>\n",
       "      <th>230</th>\n",
       "      <td>11.509474</td>\n",
       "      <td>20.637806</td>\n",
       "    </tr>\n",
       "    <tr>\n",
       "      <th>231</th>\n",
       "      <td>10.116339</td>\n",
       "      <td>23.531511</td>\n",
       "    </tr>\n",
       "    <tr>\n",
       "      <th>232</th>\n",
       "      <td>11.763738</td>\n",
       "      <td>17.403159</td>\n",
       "    </tr>\n",
       "    <tr>\n",
       "      <th>233</th>\n",
       "      <td>14.060577</td>\n",
       "      <td>23.170558</td>\n",
       "    </tr>\n",
       "    <tr>\n",
       "      <th>234</th>\n",
       "      <td>11.915119</td>\n",
       "      <td>20.595940</td>\n",
       "    </tr>\n",
       "    <tr>\n",
       "      <th>235</th>\n",
       "      <td>8.934613</td>\n",
       "      <td>20.999787</td>\n",
       "    </tr>\n",
       "    <tr>\n",
       "      <th>236</th>\n",
       "      <td>11.804252</td>\n",
       "      <td>19.801152</td>\n",
       "    </tr>\n",
       "    <tr>\n",
       "      <th>237</th>\n",
       "      <td>11.059544</td>\n",
       "      <td>22.663741</td>\n",
       "    </tr>\n",
       "    <tr>\n",
       "      <th>238</th>\n",
       "      <td>8.173307</td>\n",
       "      <td>18.567991</td>\n",
       "    </tr>\n",
       "    <tr>\n",
       "      <th>239</th>\n",
       "      <td>8.735525</td>\n",
       "      <td>22.973420</td>\n",
       "    </tr>\n",
       "    <tr>\n",
       "      <th>240</th>\n",
       "      <td>9.077532</td>\n",
       "      <td>19.733660</td>\n",
       "    </tr>\n",
       "    <tr>\n",
       "      <th>241</th>\n",
       "      <td>10.746847</td>\n",
       "      <td>18.888277</td>\n",
       "    </tr>\n",
       "    <tr>\n",
       "      <th>242</th>\n",
       "      <td>7.168749</td>\n",
       "      <td>19.032343</td>\n",
       "    </tr>\n",
       "    <tr>\n",
       "      <th>243</th>\n",
       "      <td>9.128034</td>\n",
       "      <td>19.507736</td>\n",
       "    </tr>\n",
       "    <tr>\n",
       "      <th>244</th>\n",
       "      <td>7.659471</td>\n",
       "      <td>21.608574</td>\n",
       "    </tr>\n",
       "    <tr>\n",
       "      <th>245</th>\n",
       "      <td>7.473911</td>\n",
       "      <td>17.204044</td>\n",
       "    </tr>\n",
       "    <tr>\n",
       "      <th>246</th>\n",
       "      <td>9.505126</td>\n",
       "      <td>22.234910</td>\n",
       "    </tr>\n",
       "    <tr>\n",
       "      <th>247</th>\n",
       "      <td>10.720887</td>\n",
       "      <td>20.377923</td>\n",
       "    </tr>\n",
       "    <tr>\n",
       "      <th>248</th>\n",
       "      <td>10.164212</td>\n",
       "      <td>18.207936</td>\n",
       "    </tr>\n",
       "    <tr>\n",
       "      <th>249</th>\n",
       "      <td>8.414136</td>\n",
       "      <td>20.953291</td>\n",
       "    </tr>\n",
       "  </tbody>\n",
       "</table>\n",
       "<p>250 rows × 2 columns</p>\n",
       "</div>"
      ],
      "text/plain": [
       "        Label1     Label2\n",
       "0    11.497225   1.367877\n",
       "1    10.880557  -1.202599\n",
       "2    10.883933  -3.676535\n",
       "3     8.984591   0.590035\n",
       "4    12.085513   1.239387\n",
       "5    10.227709   2.594187\n",
       "6    15.181615   1.603844\n",
       "7     9.723986  -0.229516\n",
       "8    10.759075   1.923574\n",
       "9    10.144766   3.286471\n",
       "10   10.536191  -3.103871\n",
       "11    6.657115  -2.445699\n",
       "12   10.896744   0.234809\n",
       "13    9.512395   0.617023\n",
       "14    8.858815   1.120949\n",
       "15    8.333529   0.808781\n",
       "16    9.671677  -1.062509\n",
       "17    7.270842  -1.896747\n",
       "18    8.953767   0.478557\n",
       "19   10.431555  -0.632434\n",
       "20   13.504730   4.165586\n",
       "21   11.369121   0.124715\n",
       "22    8.304631  -1.521487\n",
       "23    9.993750   1.325779\n",
       "24   11.680903  -2.025043\n",
       "25   10.805853   3.317189\n",
       "26   11.216791   1.182875\n",
       "27   11.765797   1.698665\n",
       "28   10.938063  -0.585815\n",
       "29    9.661123   4.343095\n",
       "..         ...        ...\n",
       "220   8.052030  20.674807\n",
       "221  11.670918  24.918812\n",
       "222  11.814729  24.375216\n",
       "223  11.724454  20.439930\n",
       "224  12.362236  20.434533\n",
       "225  13.560507  22.577695\n",
       "226   7.822651  23.070978\n",
       "227   8.382547  21.473290\n",
       "228  10.743629  17.960720\n",
       "229  10.444762  22.253684\n",
       "230  11.509474  20.637806\n",
       "231  10.116339  23.531511\n",
       "232  11.763738  17.403159\n",
       "233  14.060577  23.170558\n",
       "234  11.915119  20.595940\n",
       "235   8.934613  20.999787\n",
       "236  11.804252  19.801152\n",
       "237  11.059544  22.663741\n",
       "238   8.173307  18.567991\n",
       "239   8.735525  22.973420\n",
       "240   9.077532  19.733660\n",
       "241  10.746847  18.888277\n",
       "242   7.168749  19.032343\n",
       "243   9.128034  19.507736\n",
       "244   7.659471  21.608574\n",
       "245   7.473911  17.204044\n",
       "246   9.505126  22.234910\n",
       "247  10.720887  20.377923\n",
       "248  10.164212  18.207936\n",
       "249   8.414136  20.953291\n",
       "\n",
       "[250 rows x 2 columns]"
      ]
     },
     "execution_count": 116,
     "metadata": {},
     "output_type": "execute_result"
    }
   ],
   "source": [
    "df"
   ]
  },
  {
   "cell_type": "markdown",
   "metadata": {},
   "source": [
    "### 10. Use scatter matrix to print all the 3 distributions"
   ]
  },
  {
   "cell_type": "code",
   "execution_count": 144,
   "metadata": {},
   "outputs": [
    {
     "data": {
      "text/plain": [
       "<matplotlib.collections.PathCollection at 0x1a1f9e92e8>"
      ]
     },
     "execution_count": 144,
     "metadata": {},
     "output_type": "execute_result"
    },
    {
     "data": {
      "image/png": "[encoded data removed]",
      "text/plain": [
       "<Figure size 432x288 with 1 Axes>"
      ]
     },
     "metadata": {
      "needs_background": "light"
     },
     "output_type": "display_data"
    }
   ],
   "source": [
    "import matplotlib.pyplot as plt\n",
    "plt.scatter(df['Label1'], df['Label2'])"
   ]
  },
  {
   "cell_type": "code",
   "execution_count": null,
   "metadata": {},
   "outputs": [],
   "source": []
  },
  {
   "cell_type": "markdown",
   "metadata": {},
   "source": [
    "### 11. Find out the linkage matrix"
   ]
  },
  {
   "cell_type": "code",
   "execution_count": 122,
   "metadata": {},
   "outputs": [
    {
     "data": {
      "text/plain": [
       "array([[1.84000000e+02, 2.43000000e+02, 9.23768403e-03, 2.00000000e+00],\n",
       "       [4.10000000e+01, 9.40000000e+01, 5.32374813e-02, 2.00000000e+00],\n",
       "       [1.85000000e+02, 1.94000000e+02, 5.93733380e-02, 2.00000000e+00],\n",
       "       [1.30000000e+02, 1.36000000e+02, 7.73673687e-02, 2.00000000e+00],\n",
       "       [1.67000000e+02, 2.29000000e+02, 9.33738013e-02, 2.00000000e+00],\n",
       "       [1.95000000e+02, 2.48000000e+02, 9.42057524e-02, 2.00000000e+00],\n",
       "       [8.70000000e+01, 2.51000000e+02, 1.01984691e-01, 3.00000000e+00],\n",
       "       [1.53000000e+02, 2.40000000e+02, 1.03317000e-01, 2.00000000e+00],\n",
       "       [3.00000000e+00, 1.80000000e+01, 1.15660861e-01, 2.00000000e+00],\n",
       "       [1.72000000e+02, 1.99000000e+02, 1.24976341e-01, 2.00000000e+00],\n",
       "       [5.20000000e+01, 9.50000000e+01, 1.26885429e-01, 2.00000000e+00],\n",
       "       [8.00000000e+00, 5.40000000e+01, 1.26902288e-01, 2.00000000e+00],\n",
       "       [1.17000000e+02, 1.26000000e+02, 1.28632188e-01, 2.00000000e+00],\n",
       "       [1.98000000e+02, 2.23000000e+02, 1.29618576e-01, 2.00000000e+00],\n",
       "       [1.66000000e+02, 2.36000000e+02, 1.42853963e-01, 2.00000000e+00],\n",
       "       [2.04000000e+02, 2.39000000e+02, 1.44213917e-01, 2.00000000e+00],\n",
       "       [2.10000000e+01, 8.40000000e+01, 1.55443406e-01, 2.00000000e+00],\n",
       "       [1.01000000e+02, 1.10000000e+02, 1.67202215e-01, 2.00000000e+00],\n",
       "       [1.90000000e+01, 5.60000000e+01, 1.70225607e-01, 2.00000000e+00],\n",
       "       [7.10000000e+01, 9.10000000e+01, 1.70713648e-01, 2.00000000e+00],\n",
       "       [6.40000000e+01, 7.60000000e+01, 1.78020081e-01, 2.00000000e+00],\n",
       "       [1.74000000e+02, 2.55000000e+02, 1.78889171e-01, 3.00000000e+00],\n",
       "       [1.57000000e+02, 1.86000000e+02, 1.83071280e-01, 2.00000000e+00],\n",
       "       [1.29000000e+02, 1.33000000e+02, 1.89299187e-01, 2.00000000e+00],\n",
       "       [9.00000000e+00, 3.40000000e+01, 1.93264072e-01, 2.00000000e+00],\n",
       "       [1.54000000e+02, 1.70000000e+02, 1.96757251e-01, 2.00000000e+00],\n",
       "       [2.00000000e+02, 2.45000000e+02, 2.08861338e-01, 2.00000000e+00],\n",
       "       [1.64000000e+02, 2.01000000e+02, 2.10349111e-01, 2.00000000e+00],\n",
       "       [2.03000000e+02, 2.09000000e+02, 2.13972182e-01, 2.00000000e+00],\n",
       "       [7.40000000e+01, 8.60000000e+01, 2.14526865e-01, 2.00000000e+00],\n",
       "       [1.63000000e+02, 2.15000000e+02, 2.18600777e-01, 2.00000000e+00],\n",
       "       [0.00000000e+00, 5.10000000e+01, 2.19585556e-01, 2.00000000e+00],\n",
       "       [4.90000000e+01, 8.90000000e+01, 2.21671819e-01, 2.00000000e+00],\n",
       "       [4.20000000e+01, 8.20000000e+01, 2.22186671e-01, 2.00000000e+00],\n",
       "       [1.79000000e+02, 2.34000000e+02, 2.38194853e-01, 2.00000000e+00],\n",
       "       [1.38000000e+02, 1.49000000e+02, 2.40805886e-01, 2.00000000e+00],\n",
       "       [1.92000000e+02, 2.46000000e+02, 2.41124300e-01, 2.00000000e+00],\n",
       "       [2.00000000e+00, 3.50000000e+01, 2.42712364e-01, 2.00000000e+00],\n",
       "       [3.80000000e+01, 2.61000000e+02, 2.50293966e-01, 3.00000000e+00],\n",
       "       [2.50000000e+02, 2.57000000e+02, 2.60500101e-01, 4.00000000e+00],\n",
       "       [1.22000000e+02, 2.53000000e+02, 2.69110442e-01, 3.00000000e+00],\n",
       "       [1.65000000e+02, 1.75000000e+02, 2.76434361e-01, 2.00000000e+00],\n",
       "       [2.28000000e+02, 2.52000000e+02, 2.78471879e-01, 3.00000000e+00],\n",
       "       [1.52000000e+02, 2.33000000e+02, 2.80953113e-01, 2.00000000e+00],\n",
       "       [6.50000000e+01, 2.58000000e+02, 2.80993029e-01, 3.00000000e+00],\n",
       "       [6.60000000e+01, 8.10000000e+01, 2.82688613e-01, 2.00000000e+00],\n",
       "       [1.28000000e+02, 1.35000000e+02, 2.85037146e-01, 2.00000000e+00],\n",
       "       [1.76000000e+02, 2.63000000e+02, 2.85920982e-01, 3.00000000e+00],\n",
       "       [7.00000000e+01, 9.70000000e+01, 2.90125563e-01, 2.00000000e+00],\n",
       "       [1.60000000e+01, 7.50000000e+01, 2.90804603e-01, 2.00000000e+00],\n",
       "       [4.40000000e+01, 5.70000000e+01, 2.91668953e-01, 2.00000000e+00],\n",
       "       [6.10000000e+01, 9.00000000e+01, 2.96294924e-01, 2.00000000e+00],\n",
       "       [2.10000000e+02, 2.54000000e+02, 2.96348430e-01, 3.00000000e+00],\n",
       "       [1.00000000e+02, 1.16000000e+02, 2.97741359e-01, 2.00000000e+00],\n",
       "       [1.59000000e+02, 1.73000000e+02, 3.01510455e-01, 2.00000000e+00],\n",
       "       [1.00000000e+01, 4.50000000e+01, 3.04203976e-01, 2.00000000e+00],\n",
       "       [1.60000000e+02, 2.47000000e+02, 3.07471241e-01, 2.00000000e+00],\n",
       "       [2.80000000e+01, 3.60000000e+01, 3.10577247e-01, 2.00000000e+00],\n",
       "       [3.00000000e+01, 3.10000000e+01, 3.15514610e-01, 2.00000000e+00],\n",
       "       [5.00000000e+00, 7.30000000e+01, 3.17006039e-01, 2.00000000e+00],\n",
       "       [9.60000000e+01, 2.68000000e+02, 3.20311445e-01, 3.00000000e+00],\n",
       "       [1.87000000e+02, 2.20000000e+02, 3.23628706e-01, 2.00000000e+00],\n",
       "       [1.71000000e+02, 2.65000000e+02, 3.25519390e-01, 3.00000000e+00],\n",
       "       [1.83000000e+02, 1.96000000e+02, 3.25575251e-01, 2.00000000e+00],\n",
       "       [9.90000000e+01, 2.60000000e+02, 3.27798171e-01, 3.00000000e+00],\n",
       "       [1.20000000e+01, 4.00000000e+01, 3.30170345e-01, 2.00000000e+00],\n",
       "       [2.30000000e+02, 2.97000000e+02, 3.30281346e-01, 4.00000000e+00],\n",
       "       [1.80000000e+02, 2.91000000e+02, 3.36629699e-01, 3.00000000e+00],\n",
       "       [3.20000000e+01, 5.80000000e+01, 3.37132815e-01, 2.00000000e+00],\n",
       "       [1.93000000e+02, 2.27000000e+02, 3.45230373e-01, 2.00000000e+00],\n",
       "       [3.90000000e+01, 6.20000000e+01, 3.65926132e-01, 2.00000000e+00],\n",
       "       [1.27000000e+02, 1.41000000e+02, 3.66057370e-01, 2.00000000e+00],\n",
       "       [7.20000000e+01, 2.74000000e+02, 3.69676661e-01, 3.00000000e+00],\n",
       "       [1.00000000e+00, 2.69000000e+02, 3.71338064e-01, 3.00000000e+00],\n",
       "       [7.00000000e+00, 7.80000000e+01, 3.71828185e-01, 2.00000000e+00],\n",
       "       [2.60000000e+01, 2.81000000e+02, 3.73925694e-01, 3.00000000e+00],\n",
       "       [1.61000000e+02, 1.77000000e+02, 3.78271016e-01, 2.00000000e+00],\n",
       "       [2.18000000e+02, 2.78000000e+02, 3.80771558e-01, 3.00000000e+00],\n",
       "       [1.25000000e+02, 1.40000000e+02, 3.83593640e-01, 2.00000000e+00],\n",
       "       [1.03000000e+02, 2.73000000e+02, 3.88704080e-01, 3.00000000e+00],\n",
       "       [1.50000000e+01, 2.56000000e+02, 3.93458135e-01, 4.00000000e+00],\n",
       "       [1.89000000e+02, 2.32000000e+02, 3.94315896e-01, 2.00000000e+00],\n",
       "       [1.68000000e+02, 2.38000000e+02, 3.96391123e-01, 2.00000000e+00],\n",
       "       [2.17000000e+02, 2.25000000e+02, 4.00854844e-01, 2.00000000e+00],\n",
       "       [2.70000000e+01, 8.30000000e+01, 4.15033814e-01, 2.00000000e+00],\n",
       "       [1.44000000e+02, 1.48000000e+02, 4.17240072e-01, 2.00000000e+00],\n",
       "       [1.30000000e+01, 4.60000000e+01, 4.18029997e-01, 2.00000000e+00],\n",
       "       [1.88000000e+02, 2.75000000e+02, 4.25885478e-01, 3.00000000e+00],\n",
       "       [1.24000000e+02, 1.43000000e+02, 4.26628289e-01, 2.00000000e+00],\n",
       "       [2.16000000e+02, 2.22000000e+02, 4.43725967e-01, 2.00000000e+00],\n",
       "       [5.90000000e+01, 7.70000000e+01, 4.46533599e-01, 2.00000000e+00],\n",
       "       [1.97000000e+02, 2.86000000e+02, 4.56259767e-01, 3.00000000e+00],\n",
       "       [1.56000000e+02, 2.59000000e+02, 4.58927088e-01, 3.00000000e+00],\n",
       "       [1.40000000e+01, 9.20000000e+01, 4.60830521e-01, 2.00000000e+00],\n",
       "       [1.90000000e+02, 3.31000000e+02, 4.61325564e-01, 3.00000000e+00],\n",
       "       [2.05000000e+02, 2.06000000e+02, 4.62655254e-01, 2.00000000e+00],\n",
       "       [1.05000000e+02, 1.06000000e+02, 4.63003254e-01, 2.00000000e+00],\n",
       "       [5.30000000e+01, 2.99000000e+02, 4.86760469e-01, 3.00000000e+00],\n",
       "       [4.00000000e+00, 6.90000000e+01, 4.88497356e-01, 2.00000000e+00],\n",
       "       [1.91000000e+02, 2.26000000e+02, 4.90320285e-01, 2.00000000e+00],\n",
       "       [1.09000000e+02, 1.19000000e+02, 4.90895076e-01, 2.00000000e+00],\n",
       "       [1.69000000e+02, 2.77000000e+02, 5.00947385e-01, 3.00000000e+00],\n",
       "       [2.02000000e+02, 2.42000000e+02, 5.02457787e-01, 2.00000000e+00],\n",
       "       [2.14000000e+02, 3.04000000e+02, 5.11804275e-01, 3.00000000e+00],\n",
       "       [2.41000000e+02, 3.13000000e+02, 5.15903562e-01, 3.00000000e+00],\n",
       "       [2.24000000e+02, 2.84000000e+02, 5.20211395e-01, 3.00000000e+00],\n",
       "       [1.08000000e+02, 2.85000000e+02, 5.20401452e-01, 3.00000000e+00],\n",
       "       [2.35000000e+02, 2.49000000e+02, 5.22549796e-01, 2.00000000e+00],\n",
       "       [1.12000000e+02, 1.39000000e+02, 5.59884805e-01, 2.00000000e+00],\n",
       "       [4.70000000e+01, 3.18000000e+02, 5.68584467e-01, 3.00000000e+00],\n",
       "       [1.70000000e+01, 2.95000000e+02, 5.71514681e-01, 3.00000000e+00],\n",
       "       [1.14000000e+02, 1.20000000e+02, 5.85923173e-01, 2.00000000e+00],\n",
       "       [2.13000000e+02, 2.19000000e+02, 5.90789721e-01, 2.00000000e+00],\n",
       "       [2.80000000e+02, 3.51000000e+02, 6.00215462e-01, 5.00000000e+00],\n",
       "       [4.30000000e+01, 3.05000000e+02, 6.00909767e-01, 3.00000000e+00],\n",
       "       [3.07000000e+02, 3.10000000e+02, 6.01733862e-01, 5.00000000e+00],\n",
       "       [1.37000000e+02, 2.90000000e+02, 6.03917120e-01, 4.00000000e+00],\n",
       "       [1.32000000e+02, 2.96000000e+02, 6.39348269e-01, 3.00000000e+00],\n",
       "       [9.30000000e+01, 3.36000000e+02, 6.46515501e-01, 3.00000000e+00],\n",
       "       [2.82000000e+02, 2.87000000e+02, 6.65268805e-01, 4.00000000e+00],\n",
       "       [2.08000000e+02, 3.11000000e+02, 6.72906520e-01, 3.00000000e+00],\n",
       "       [6.70000000e+01, 8.50000000e+01, 7.00979529e-01, 2.00000000e+00],\n",
       "       [1.81000000e+02, 3.12000000e+02, 7.01331247e-01, 4.00000000e+00],\n",
       "       [1.55000000e+02, 3.27000000e+02, 7.14208343e-01, 4.00000000e+00],\n",
       "       [1.13000000e+02, 1.34000000e+02, 7.15704992e-01, 2.00000000e+00],\n",
       "       [2.30000000e+01, 3.68000000e+02, 7.30276776e-01, 4.00000000e+00],\n",
       "       [2.98000000e+02, 3.09000000e+02, 7.32369386e-01, 4.00000000e+00],\n",
       "       [8.00000000e+01, 3.22000000e+02, 7.39557972e-01, 4.00000000e+00],\n",
       "       [2.11000000e+02, 3.06000000e+02, 7.51734936e-01, 3.00000000e+00],\n",
       "       [2.21000000e+02, 3.39000000e+02, 7.53968314e-01, 3.00000000e+00],\n",
       "       [2.62000000e+02, 3.38000000e+02, 7.67314622e-01, 4.00000000e+00],\n",
       "       [3.25000000e+02, 3.48000000e+02, 7.79828501e-01, 5.00000000e+00],\n",
       "       [2.79000000e+02, 3.20000000e+02, 7.91169604e-01, 4.00000000e+00],\n",
       "       [1.78000000e+02, 2.37000000e+02, 8.13738712e-01, 2.00000000e+00],\n",
       "       [2.44000000e+02, 3.19000000e+02, 8.14535038e-01, 3.00000000e+00],\n",
       "       [1.42000000e+02, 3.28000000e+02, 8.18296991e-01, 3.00000000e+00],\n",
       "       [5.50000000e+01, 3.40000000e+02, 8.30848177e-01, 3.00000000e+00],\n",
       "       [2.93000000e+02, 3.33000000e+02, 8.31013340e-01, 4.00000000e+00],\n",
       "       [3.24000000e+02, 3.47000000e+02, 8.31722863e-01, 5.00000000e+00],\n",
       "       [2.72000000e+02, 2.92000000e+02, 8.34623368e-01, 5.00000000e+00],\n",
       "       [2.66000000e+02, 3.15000000e+02, 8.40181266e-01, 4.00000000e+00],\n",
       "       [3.03000000e+02, 3.66000000e+02, 8.59705934e-01, 6.00000000e+00],\n",
       "       [3.37000000e+02, 3.73000000e+02, 8.81026941e-01, 7.00000000e+00],\n",
       "       [2.40000000e+01, 8.80000000e+01, 8.81182860e-01, 2.00000000e+00],\n",
       "       [1.11000000e+02, 1.31000000e+02, 8.87597038e-01, 2.00000000e+00],\n",
       "       [2.12000000e+02, 3.26000000e+02, 8.92116797e-01, 3.00000000e+00],\n",
       "       [2.20000000e+01, 6.80000000e+01, 8.96465615e-01, 2.00000000e+00],\n",
       "       [3.16000000e+02, 3.55000000e+02, 9.03138546e-01, 7.00000000e+00],\n",
       "       [2.67000000e+02, 3.46000000e+02, 9.15535415e-01, 4.00000000e+00],\n",
       "       [2.50000000e+01, 3.76000000e+02, 9.42042906e-01, 5.00000000e+00],\n",
       "       [3.23000000e+02, 3.65000000e+02, 9.47326426e-01, 8.00000000e+00],\n",
       "       [1.21000000e+02, 3.98000000e+02, 9.62443361e-01, 5.00000000e+00],\n",
       "       [2.71000000e+02, 3.53000000e+02, 9.64229381e-01, 6.00000000e+00],\n",
       "       [2.07000000e+02, 2.64000000e+02, 9.65911102e-01, 3.00000000e+00],\n",
       "       [5.00000000e+01, 9.80000000e+01, 9.67310745e-01, 2.00000000e+00],\n",
       "       [3.42000000e+02, 3.45000000e+02, 9.68226641e-01, 5.00000000e+00],\n",
       "       [3.62000000e+02, 3.78000000e+02, 9.83983083e-01, 5.00000000e+00],\n",
       "       [2.94000000e+02, 3.30000000e+02, 9.87319851e-01, 7.00000000e+00],\n",
       "       [6.00000000e+01, 3.01000000e+02, 1.00587291e+00, 3.00000000e+00],\n",
       "       [2.89000000e+02, 3.17000000e+02, 1.00991693e+00, 7.00000000e+00],\n",
       "       [1.62000000e+02, 2.31000000e+02, 1.06232463e+00, 2.00000000e+00],\n",
       "       [3.02000000e+02, 3.83000000e+02, 1.08601755e+00, 5.00000000e+00],\n",
       "       [1.23000000e+02, 3.74000000e+02, 1.11012527e+00, 3.00000000e+00],\n",
       "       [3.32000000e+02, 3.63000000e+02, 1.11029925e+00, 7.00000000e+00],\n",
       "       [3.43000000e+02, 4.07000000e+02, 1.15011009e+00, 9.00000000e+00],\n",
       "       [3.34000000e+02, 3.81000000e+02, 1.18180817e+00, 7.00000000e+00],\n",
       "       [1.10000000e+01, 3.60000000e+02, 1.21519043e+00, 4.00000000e+00],\n",
       "       [1.15000000e+02, 1.46000000e+02, 1.22086516e+00, 2.00000000e+00],\n",
       "       [3.57000000e+02, 3.70000000e+02, 1.27439181e+00, 5.00000000e+00],\n",
       "       [2.90000000e+01, 2.83000000e+02, 1.29948273e+00, 3.00000000e+00],\n",
       "       [3.14000000e+02, 3.59000000e+02, 1.32106307e+00, 6.00000000e+00],\n",
       "       [1.82000000e+02, 3.79000000e+02, 1.33376337e+00, 4.00000000e+00],\n",
       "       [1.50000000e+02, 4.03000000e+02, 1.37516011e+00, 4.00000000e+00],\n",
       "       [2.70000000e+02, 3.88000000e+02, 1.41394534e+00, 7.00000000e+00],\n",
       "       [1.04000000e+02, 1.18000000e+02, 1.44069421e+00, 2.00000000e+00],\n",
       "       [3.21000000e+02, 4.01000000e+02, 1.44670964e+00, 7.00000000e+00],\n",
       "       [3.50000000e+02, 3.85000000e+02, 1.45688844e+00, 5.00000000e+00],\n",
       "       [2.00000000e+01, 7.90000000e+01, 1.46407739e+00, 2.00000000e+00],\n",
       "       [2.88000000e+02, 3.99000000e+02, 1.46540099e+00, 8.00000000e+00],\n",
       "       [3.54000000e+02, 3.89000000e+02, 1.51554407e+00, 8.00000000e+00],\n",
       "       [3.64000000e+02, 3.69000000e+02, 1.52349134e+00, 7.00000000e+00],\n",
       "       [3.08000000e+02, 3.71000000e+02, 1.62194138e+00, 4.00000000e+00],\n",
       "       [3.35000000e+02, 3.56000000e+02, 1.62522565e+00, 5.00000000e+00],\n",
       "       [3.96000000e+02, 4.16000000e+02, 1.69403571e+00, 6.00000000e+00],\n",
       "       [3.49000000e+02, 3.72000000e+02, 1.75577660e+00, 6.00000000e+00],\n",
       "       [6.00000000e+00, 3.30000000e+01, 1.75996387e+00, 2.00000000e+00],\n",
       "       [3.61000000e+02, 4.26000000e+02, 1.80534642e+00, 7.00000000e+00],\n",
       "       [3.92000000e+02, 3.97000000e+02, 1.82630086e+00, 1.40000000e+01],\n",
       "       [1.58000000e+02, 3.95000000e+02, 1.83570363e+00, 4.00000000e+00],\n",
       "       [3.67000000e+02, 3.80000000e+02, 1.88339829e+00, 7.00000000e+00],\n",
       "       [3.00000000e+02, 4.04000000e+02, 1.88672499e+00, 4.00000000e+00],\n",
       "       [4.80000000e+01, 3.82000000e+02, 1.89369618e+00, 5.00000000e+00],\n",
       "       [3.94000000e+02, 4.12000000e+02, 1.93824179e+00, 5.00000000e+00],\n",
       "       [1.45000000e+02, 3.91000000e+02, 1.97229103e+00, 7.00000000e+00],\n",
       "       [3.58000000e+02, 4.32000000e+02, 2.01510375e+00, 7.00000000e+00],\n",
       "       [3.41000000e+02, 4.11000000e+02, 2.02421452e+00, 8.00000000e+00],\n",
       "       [3.84000000e+02, 4.18000000e+02, 2.04495069e+00, 8.00000000e+00],\n",
       "       [6.30000000e+01, 4.08000000e+02, 2.09588656e+00, 4.00000000e+00],\n",
       "       [1.02000000e+02, 4.25000000e+02, 2.12830999e+00, 8.00000000e+00],\n",
       "       [3.44000000e+02, 4.29000000e+02, 2.16489792e+00, 1.10000000e+01],\n",
       "       [3.52000000e+02, 4.13000000e+02, 2.26273779e+00, 9.00000000e+00],\n",
       "       [4.15000000e+02, 4.40000000e+02, 2.27269172e+00, 1.10000000e+01],\n",
       "       [1.07000000e+02, 1.47000000e+02, 2.28692947e+00, 2.00000000e+00],\n",
       "       [3.70000000e+01, 4.31000000e+02, 2.35759039e+00, 5.00000000e+00],\n",
       "       [4.20000000e+02, 4.23000000e+02, 2.36699269e+00, 1.30000000e+01],\n",
       "       [3.90000000e+02, 4.00000000e+02, 2.36883080e+00, 1.20000000e+01],\n",
       "       [4.10000000e+02, 4.34000000e+02, 2.40478443e+00, 8.00000000e+00],\n",
       "       [3.75000000e+02, 4.14000000e+02, 2.41240680e+00, 1.30000000e+01],\n",
       "       [2.76000000e+02, 4.38000000e+02, 2.52086012e+00, 6.00000000e+00],\n",
       "       [3.77000000e+02, 4.28000000e+02, 2.57079073e+00, 1.20000000e+01],\n",
       "       [4.05000000e+02, 4.06000000e+02, 2.57646494e+00, 1.00000000e+01],\n",
       "       [3.93000000e+02, 4.30000000e+02, 2.66089168e+00, 9.00000000e+00],\n",
       "       [3.29000000e+02, 4.24000000e+02, 2.76027503e+00, 5.00000000e+00],\n",
       "       [4.09000000e+02, 4.50000000e+02, 2.77200428e+00, 1.60000000e+01],\n",
       "       [3.86000000e+02, 4.57000000e+02, 2.97441225e+00, 1.60000000e+01],\n",
       "       [4.22000000e+02, 4.37000000e+02, 3.05677166e+00, 1.80000000e+01],\n",
       "       [4.02000000e+02, 4.49000000e+02, 3.08502447e+00, 1.70000000e+01],\n",
       "       [4.33000000e+02, 4.41000000e+02, 3.16141160e+00, 1.10000000e+01],\n",
       "       [4.36000000e+02, 4.39000000e+02, 3.18368926e+00, 1.40000000e+01],\n",
       "       [4.42000000e+02, 4.44000000e+02, 3.96912403e+00, 1.20000000e+01],\n",
       "       [4.19000000e+02, 4.27000000e+02, 3.97792392e+00, 5.00000000e+00],\n",
       "       [4.43000000e+02, 4.62000000e+02, 4.03611876e+00, 1.20000000e+01],\n",
       "       [4.53000000e+02, 4.64000000e+02, 4.56640105e+00, 2.10000000e+01],\n",
       "       [4.17000000e+02, 4.68000000e+02, 4.60167668e+00, 1.60000000e+01],\n",
       "       [4.54000000e+02, 4.55000000e+02, 4.70748918e+00, 2.50000000e+01],\n",
       "       [1.51000000e+02, 4.48000000e+02, 4.92309192e+00, 9.00000000e+00],\n",
       "       [4.45000000e+02, 4.56000000e+02, 5.06473376e+00, 1.60000000e+01],\n",
       "       [3.87000000e+02, 4.21000000e+02, 5.28791140e+00, 8.00000000e+00],\n",
       "       [4.59000000e+02, 4.70000000e+02, 5.53813690e+00, 1.70000000e+01],\n",
       "       [4.47000000e+02, 4.61000000e+02, 5.71907410e+00, 1.30000000e+01],\n",
       "       [4.60000000e+02, 4.65000000e+02, 5.81672995e+00, 2.80000000e+01],\n",
       "       [4.46000000e+02, 4.63000000e+02, 6.06205500e+00, 2.40000000e+01],\n",
       "       [4.35000000e+02, 4.51000000e+02, 6.74438053e+00, 1.30000000e+01],\n",
       "       [4.58000000e+02, 4.66000000e+02, 7.76082293e+00, 2.30000000e+01],\n",
       "       [4.52000000e+02, 4.69000000e+02, 7.79428235e+00, 1.40000000e+01],\n",
       "       [4.71000000e+02, 4.73000000e+02, 9.35923015e+00, 2.80000000e+01],\n",
       "       [4.78000000e+02, 4.82000000e+02, 9.76151648e+00, 3.00000000e+01],\n",
       "       [4.67000000e+02, 4.74000000e+02, 1.03434228e+01, 3.60000000e+01],\n",
       "       [4.75000000e+02, 4.85000000e+02, 1.05794584e+01, 3.70000000e+01],\n",
       "       [4.79000000e+02, 4.87000000e+02, 1.06485703e+01, 4.90000000e+01],\n",
       "       [4.76000000e+02, 4.77000000e+02, 1.07969728e+01, 2.40000000e+01],\n",
       "       [4.81000000e+02, 4.83000000e+02, 1.27467949e+01, 4.70000000e+01],\n",
       "       [4.80000000e+02, 4.90000000e+02, 1.38634287e+01, 5.20000000e+01],\n",
       "       [4.72000000e+02, 4.89000000e+02, 1.49907604e+01, 7.00000000e+01],\n",
       "       [4.84000000e+02, 4.88000000e+02, 1.59234582e+01, 5.10000000e+01],\n",
       "       [4.91000000e+02, 4.92000000e+02, 2.38587965e+01, 9.90000000e+01],\n",
       "       [4.86000000e+02, 4.93000000e+02, 2.58892028e+01, 1.00000000e+02],\n",
       "       [4.94000000e+02, 4.95000000e+02, 8.05702782e+01, 1.50000000e+02],\n",
       "       [4.96000000e+02, 4.97000000e+02, 2.20500367e+02, 2.50000000e+02]])"
      ]
     },
     "execution_count": 122,
     "metadata": {},
     "output_type": "execute_result"
    }
   ],
   "source": [
    "\n",
    "from scipy.cluster.hierarchy import linkage, dendrogram\n",
    "Z = linkage(df, 'ward', metric='euclidean')\n",
    "Z"
   ]
  },
  {
   "cell_type": "markdown",
   "metadata": {},
   "source": [
    "Use ward as linkage metric and distance as Eucledian"
   ]
  },
  {
   "cell_type": "code",
   "execution_count": null,
   "metadata": {},
   "outputs": [],
   "source": []
  },
  {
   "cell_type": "code",
   "execution_count": null,
   "metadata": {},
   "outputs": [],
   "source": []
  },
  {
   "cell_type": "markdown",
   "metadata": {},
   "source": [
    "### 12. Plot the dendrogram for the consolidated dataframe"
   ]
  },
  {
   "cell_type": "code",
   "execution_count": 125,
   "metadata": {},
   "outputs": [
    {
     "data": {
      "image/png": "[encoded data removed]",
      "text/plain": [
       "<Figure size 720x720 with 1 Axes>"
      ]
     },
     "metadata": {
      "needs_background": "light"
     },
     "output_type": "display_data"
    }
   ],
   "source": [
    "\n",
    "plt.figure(figsize=(10, 10))\n",
    "plt.title('Agglomerative Hierarchical Clustering Dendogram')\n",
    "plt.xlabel('sample index')\n",
    "plt.ylabel('Distance')\n",
    "dendrogram(Z, leaf_rotation=90.,color_threshold = 30, leaf_font_size=8. )\n",
    "plt.tight_layout()"
   ]
  },
  {
   "cell_type": "code",
   "execution_count": null,
   "metadata": {},
   "outputs": [],
   "source": []
  },
  {
   "cell_type": "code",
   "execution_count": null,
   "metadata": {},
   "outputs": [],
   "source": []
  },
  {
   "cell_type": "markdown",
   "metadata": {},
   "source": [
    "### 13. Recreate the dendrogram for last 12 merged clusters "
   ]
  },
  {
   "cell_type": "code",
   "execution_count": 152,
   "metadata": {},
   "outputs": [
    {
     "data": {
      "image/png": "[encoded data removed]",
      "text/plain": [
       "<Figure size 432x288 with 1 Axes>"
      ]
     },
     "metadata": {
      "needs_background": "light"
     },
     "output_type": "display_data"
    }
   ],
   "source": [
    "dendrogram(\n",
    "    Z,\n",
    "    truncate_mode='lastp',  # show only the last p merged clusters\n",
    "    p=12,  # show only the last p merged clusters\n",
    ")\n",
    "#plt.show()\n",
    "plt.tight_layout()"
   ]
  },
  {
   "cell_type": "markdown",
   "metadata": {},
   "source": [
    "Hint: Use truncate_mode='lastp' attribute in dendrogram function to arrive at dendrogram "
   ]
  },
  {
   "cell_type": "code",
   "execution_count": null,
   "metadata": {},
   "outputs": [],
   "source": []
  },
  {
   "cell_type": "code",
   "execution_count": null,
   "metadata": {},
   "outputs": [],
   "source": []
  },
  {
   "cell_type": "markdown",
   "metadata": {},
   "source": [
    "### 14. From the truncated dendrogram, find out the optimal distance between clusters which u want to use an input for clustering data"
   ]
  },
  {
   "cell_type": "code",
   "execution_count": 149,
   "metadata": {},
   "outputs": [],
   "source": [
    "optVal = 50"
   ]
  },
  {
   "cell_type": "code",
   "execution_count": null,
   "metadata": {},
   "outputs": [],
   "source": []
  },
  {
   "cell_type": "markdown",
   "metadata": {},
   "source": [
    "### 15. Using this distance measure and fcluster function to cluster the data into 3 different groups"
   ]
  },
  {
   "cell_type": "code",
   "execution_count": 150,
   "metadata": {},
   "outputs": [
    {
     "data": {
      "text/plain": [
       "array([1, 1, 1, 1, 1, 1, 1, 1, 1, 1, 1, 1, 1, 1, 1, 1, 1, 1, 1, 1, 1, 1,\n",
       "       1, 1, 1, 1, 1, 1, 1, 1, 1, 1, 1, 1, 1, 1, 1, 1, 1, 1, 1, 1, 1, 1,\n",
       "       1, 1, 1, 1, 1, 1, 1, 1, 1, 1, 1, 1, 1, 1, 1, 1, 1, 1, 1, 1, 1, 1,\n",
       "       1, 1, 1, 1, 1, 1, 1, 1, 1, 1, 1, 1, 1, 1, 1, 1, 1, 1, 1, 1, 1, 1,\n",
       "       1, 1, 1, 1, 1, 1, 1, 1, 1, 1, 1, 1, 2, 2, 2, 2, 2, 2, 2, 2, 2, 2,\n",
       "       2, 2, 2, 2, 2, 2, 2, 2, 2, 2, 2, 2, 2, 2, 2, 2, 2, 2, 2, 2, 2, 2,\n",
       "       2, 2, 2, 2, 2, 2, 2, 2, 2, 2, 2, 2, 2, 2, 2, 2, 2, 2, 3, 2, 3, 3,\n",
       "       3, 3, 3, 3, 3, 3, 3, 3, 3, 3, 3, 3, 3, 3, 3, 3, 3, 3, 3, 3, 3, 3,\n",
       "       3, 3, 3, 3, 3, 3, 3, 3, 3, 3, 3, 3, 3, 3, 3, 3, 3, 3, 3, 3, 3, 3,\n",
       "       3, 3, 3, 3, 3, 3, 3, 3, 3, 3, 3, 3, 3, 3, 3, 3, 3, 3, 3, 3, 3, 3,\n",
       "       3, 3, 3, 3, 3, 3, 3, 3, 3, 3, 3, 3, 3, 3, 3, 3, 3, 3, 3, 3, 3, 3,\n",
       "       3, 3, 3, 3, 3, 3, 3, 3], dtype=int32)"
      ]
     },
     "execution_count": 150,
     "metadata": {},
     "output_type": "execute_result"
    }
   ],
   "source": [
    "from scipy.cluster.hierarchy import fcluster\n",
    "fc = fcluster(Z, optVal, criterion='distance')\n",
    "fc"
   ]
  },
  {
   "cell_type": "code",
   "execution_count": null,
   "metadata": {},
   "outputs": [],
   "source": []
  },
  {
   "cell_type": "markdown",
   "metadata": {},
   "source": [
    "### Use matplotlib to visually observe the clusters in 2D space "
   ]
  },
  {
   "cell_type": "code",
   "execution_count": 151,
   "metadata": {},
   "outputs": [
    {
     "data": {
      "text/plain": [
       "<matplotlib.collections.PathCollection at 0x1a1f4308d0>"
      ]
     },
     "execution_count": 151,
     "metadata": {},
     "output_type": "execute_result"
    },
    {
     "data": {
      "image/png": "[encoded data removed]",
      "text/plain": [
       "<Figure size 432x288 with 1 Axes>"
      ]
     },
     "metadata": {
      "needs_background": "light"
     },
     "output_type": "display_data"
    }
   ],
   "source": [
    "\n",
    "plt.scatter(df['Label1'], df['Label2'], c=fc)"
   ]
  },
  {
   "cell_type": "code",
   "execution_count": null,
   "metadata": {},
   "outputs": [],
   "source": []
  }
 ],
 "metadata": {
  "kernelspec": {
   "display_name": "Python 3",
   "language": "python",
   "name": "python3"
  },
  "language_info": {
   "codemirror_mode": {
    "name": "ipython",
    "version": 3
   },
   "file_extension": ".py",
   "mimetype": "text/x-python",
   "name": "python",
   "nbconvert_exporter": "python",
   "pygments_lexer": "ipython3",
   "version": "3.7.1"
  }
 },
 "nbformat": 4,
 "nbformat_minor": 2
}
