{
 "cells": [
  {
   "cell_type": "markdown",
   "metadata": {},
   "source": [
    "### Quesion 1"
   ]
  },
  {
   "cell_type": "code",
   "execution_count": 1,
   "metadata": {},
   "outputs": [],
   "source": [
    "import pandas as pd\n",
    "Titan = pd.read_csv('Titan.csv')\n",
    "oldScheme = Titan[\"Old Scheme (in thousands)\"]\n",
    "newScheme = Titan[\"New Scheme (in thousands)\"]"
   ]
  },
  {
   "cell_type": "code",
   "execution_count": 2,
   "metadata": {},
   "outputs": [
    {
     "name": "stdout",
     "output_type": "stream",
     "text": [
      "Means of Old and New Schemes are 68.03333333333333 and 72.03333333333333\n"
     ]
    }
   ],
   "source": [
    "oldShemeMean = oldScheme.mean()\n",
    "newSchemeMean = newScheme.mean()\n",
    "print(\"Means of Old and New Schemes are {0} and {1}\".format(oldShemeMean, newSchemeMean))"
   ]
  },
  {
   "cell_type": "markdown",
   "metadata": {},
   "source": [
    "### Question 2 "
   ]
  },
  {
   "cell_type": "code",
   "execution_count": 3,
   "metadata": {},
   "outputs": [],
   "source": [
    "from scipy.stats import ttest_ind,ttest_1samp,levene, shapiro,ttest_rel"
   ]
  },
  {
   "cell_type": "markdown",
   "metadata": {},
   "source": [
    "For the assumption test, let's do Shapiro and levenes test first.\n",
    "\n",
    "Shapiro Test : to check the normality of the Old Scheme data\n",
    "\n",
    "H0: Null Hypothesis - Old Scheme Data is normally distributed\n",
    "\n",
    "Ha: Alternate Hypothesis - Old Scheme Data is not normally distributed"
   ]
  },
  {
   "cell_type": "code",
   "execution_count": 4,
   "metadata": {},
   "outputs": [
    {
     "name": "stdout",
     "output_type": "stream",
     "text": [
      "Shapiro test for Old Scheme Data : (0.9885103702545166, 0.981367290019989)\n"
     ]
    }
   ],
   "source": [
    "print(\"Shapiro test for Old Scheme Data : {0}\".format(shapiro(oldScheme)))"
   ]
  },
  {
   "cell_type": "markdown",
   "metadata": {},
   "source": [
    "since p-value is greater than 5%, the old scheme data is normally distributed.\n",
    "\n",
    "Shapiro Test to check the normality of the New Scheme data\n",
    "\n",
    "H0: Null Hypothesis - New Scheme Data is normally distributed\n",
    "\n",
    "Ha: Alternate Hypothesis - New Scheme Data is not normally distributed\n"
   ]
  },
  {
   "cell_type": "code",
   "execution_count": 5,
   "metadata": {},
   "outputs": [
    {
     "name": "stdout",
     "output_type": "stream",
     "text": [
      "Shapiro test for New Scheme Data : (0.9687565565109253, 0.5057374835014343)\n"
     ]
    }
   ],
   "source": [
    "print(\"Shapiro test for New Scheme Data : {0}\".format(shapiro(newScheme)))"
   ]
  },
  {
   "cell_type": "markdown",
   "metadata": {},
   "source": [
    "since p-value is greater than 5%, the new scheme data is normally distributed."
   ]
  },
  {
   "cell_type": "code",
   "execution_count": 6,
   "metadata": {},
   "outputs": [
    {
     "data": {
      "text/plain": [
       "(array([5., 1., 4., 2., 4., 6., 2., 3., 2., 1.]),\n",
       " array([ 32.,  41.,  50.,  59.,  68.,  77.,  86.,  95., 104., 113., 122.]),\n",
       " <a list of 10 Patch objects>)"
      ]
     },
     "execution_count": 6,
     "metadata": {},
     "output_type": "execute_result"
    }
   ],
   "source": [
    "# vishual assumption test.\n",
    "import matplotlib.pyplot as plt\n",
    "plt.hist(oldScheme)\n",
    "plt.hist(newScheme)"
   ]
  },
  {
   "cell_type": "code",
   "execution_count": 7,
   "metadata": {},
   "outputs": [
    {
     "name": "stdout",
     "output_type": "stream",
     "text": [
      "Levene's Test : to check the homogenity of the variances\n",
      "H0: All variances are equal\n",
      "Ha: Variance for the schemes are differents\n",
      "LeveneResult(statistic=1.063061539437244, pvalue=0.30679836081811235)\n",
      "Since Levene test p-value > 5%, all varience are equal\n",
      "\n"
     ]
    }
   ],
   "source": [
    "\n",
    "print(\"Levene's Test : to check the homogenity of the variances\")\n",
    "\n",
    "print(\"H0: All variances are equal\")\n",
    "print(\"Ha: Variance for the schemes are differents\")\n",
    "\n",
    "print(levene(oldScheme, newScheme))\n",
    "print(\"Since Levene test p-value > 5%, all varience are equal\")\n",
    "print()\n"
   ]
  },
  {
   "cell_type": "markdown",
   "metadata": {},
   "source": [
    "since two schemes data are normally distributed, we can go for parametric test.\n",
    "\n",
    "Since we are going for parametric test and same samples with different experiment it is Paired test, we use ttest_1samp\n",
    "\n",
    "H0: Population mean of old scheme = Population mean of new scheme \n",
    "\n",
    "Ha: Population mean of old scheme is not equal to Population mean of new scheme\n",
    " ie. Population mean of New scheme is lesser than or greater than Population mean of Old scheme.\n",
    " ie. Ha : New scheme has raised or reduced the outputs from Saleforce\n"
   ]
  },
  {
   "cell_type": "code",
   "execution_count": 8,
   "metadata": {},
   "outputs": [
    {
     "name": "stdout",
     "output_type": "stream",
     "text": [
      "paired t-test value for these two samples, p-value : 0.13057553961337662\n"
     ]
    }
   ],
   "source": [
    "#t_stat, p_value = ttest_rel(newScheme, oldScheme ) #new python method\n",
    "#print(\"paired t-test value for these two samples, p-value : {0}\".format( p_value))\n",
    "t_stat, p_value = ttest_1samp(newScheme - oldScheme, 0 )\n",
    "print(\"paired t-test value for these two samples, p-value : {0}\".format( p_value))\n",
    "\n",
    "#t_stat, p_value = ttest_ind(oldScheme, newScheme )\n",
    "#print(\"t-test value for these two samples using ttest_ind: {0} p-value : {1}\".format(t_stat, p_value))\n"
   ]
  },
  {
   "cell_type": "markdown",
   "metadata": {},
   "source": [
    "since p-value > 5%, it is concluded that the new scheme has not raised outputs\n",
    " compared to old scheme outputs, ie Population mean of old scheme = Population mean of new scheme\n"
   ]
  },
  {
   "cell_type": "markdown",
   "metadata": {},
   "source": [
    "### Question 3\n",
    "\n",
    "Since p-value > 5%, the conclusion of above test is that there is no evidence from the data provided that new scheme has raised outputs from the mean equality test. Therefore we can say that there is no raise in the outputs due to the new scheme.\n",
    "\n",
    "Though p-value > 5%, but it is near to 5%, so it is good idea to collect more data for better prediction.\n",
    "\n",
    "Further to add, this test can be done after next month(5th month of new scheme initiation.) with more data collected to provide accurate prediction. "
   ]
  },
  {
   "cell_type": "markdown",
   "metadata": {},
   "source": [
    "### Question 4a\n",
    "\n",
    "The probability of a type I error is the level of significance of the test of hypothesis, ie. 5%."
   ]
  },
  {
   "cell_type": "markdown",
   "metadata": {},
   "source": [
    "### Question 4b"
   ]
  },
  {
   "cell_type": "markdown",
   "metadata": {},
   "source": [
    "For old scheme and new scheme data are normally distributed, which has been already proved in previous question by Shapiro test and Levene's test has also already been used for the test of homogenity of the variance. \n",
    "\n",
    "The Data found to be normally distributed, we use Paired test for this problem as well.\n",
    "We again go for parametric test since same sample with different experiment, so using, ttest-1samp test.\n",
    "\n",
    "H0: The difference between population mean of Old scheme and population mean of new scheme = $5000 (I think this is £5000 not the doller)\n",
    "\n",
    "Ha: The difference between population mean of Old scheme and population mean of new scheme > or less than $5000\n"
   ]
  },
  {
   "cell_type": "code",
   "execution_count": 10,
   "metadata": {},
   "outputs": [
    {
     "name": "stdout",
     "output_type": "stream",
     "text": [
      "Paired t-test value for these two samples, p-value : 0.7001334912613286\n"
     ]
    }
   ],
   "source": [
    "\n",
    "t_stat, p_value = ttest_1samp(newScheme - oldScheme, 5 )\n",
    "print(\"Paired t-test value for these two samples, p-value : {0}\".format(p_value))\n",
    "\n",
    "\n",
    "#t_stat, p_value = ttest_ind(oldScheme, newScheme)\n",
    "#print(\"t-test value for these two samples : {0} p-value : {1}\".format(t_stat, p_value))\n"
   ]
  },
  {
   "cell_type": "markdown",
   "metadata": {},
   "source": [
    "Since pvalue > 5%, it is concluded that, difference test says, the difference between population mean of Old scheme and population mean of new scheme = $5000 as per data provided in the schema. At the 5 percent of signifigance level and from the given data, the outputs of the scheme has raised at 70 percent to break even point. \n",
    "\n",
    "Advice would be, As this is only 4th month of the scheme initiation, one more month can be taken for further analysis with more data, since 70% is good number to wait for the progress."
   ]
  },
  {
   "cell_type": "markdown",
   "metadata": {},
   "source": [
    "### Question 4c"
   ]
  },
  {
   "cell_type": "code",
   "execution_count": 16,
   "metadata": {},
   "outputs": [
    {
     "data": {
      "text/plain": [
       "-0.18217632044690082"
      ]
     },
     "execution_count": 16,
     "metadata": {},
     "output_type": "execute_result"
    }
   ],
   "source": [
    "# Calculating Power of Test\n",
    "import numpy as np\n",
    "(np.mean(oldScheme) - np.mean(newScheme)) / np.sqrt(((30-1)*np.var(oldScheme)+(30-1)*np.var(newScheme)) / (30+30-2))\n",
    "\n"
   ]
  },
  {
   "cell_type": "code",
   "execution_count": 18,
   "metadata": {},
   "outputs": [
    {
     "name": "stdout",
     "output_type": "stream",
     "text": [
      "0.161387673639196\n"
     ]
    }
   ],
   "source": [
    "from statsmodels.stats.power import ttest_power\n",
    "print(ttest_power(-0.182, nobs=30, alpha=0.05,alternative='two-sided'))\n"
   ]
  },
  {
   "cell_type": "markdown",
   "metadata": {},
   "source": [
    "So power of test is 16%, which is low probability to reject the false null hypothesis. so there is high probability of Type 2 error ie. not rejecting the false null hypothesis.\n"
   ]
  },
  {
   "cell_type": "code",
   "execution_count": null,
   "metadata": {},
   "outputs": [],
   "source": []
  }
 ],
 "metadata": {
  "kernelspec": {
   "display_name": "Python 3",
   "language": "python",
   "name": "python3"
  },
  "language_info": {
   "codemirror_mode": {
    "name": "ipython",
    "version": 3
   },
   "file_extension": ".py",
   "mimetype": "text/x-python",
   "name": "python",
   "nbconvert_exporter": "python",
   "pygments_lexer": "ipython3",
   "version": "3.7.1"
  }
 },
 "nbformat": 4,
 "nbformat_minor": 2
}
