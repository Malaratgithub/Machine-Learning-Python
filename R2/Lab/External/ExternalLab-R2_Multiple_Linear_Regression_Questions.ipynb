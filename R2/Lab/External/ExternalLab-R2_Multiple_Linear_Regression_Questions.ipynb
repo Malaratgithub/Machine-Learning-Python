{
 "cells": [
  {
   "cell_type": "markdown",
   "metadata": {},
   "source": [
    "# External Lab \n",
    "\n",
    "Here each question is of 1 mark."
   ]
  },
  {
   "cell_type": "markdown",
   "metadata": {},
   "source": [
    "# Multiple Linear Regression\n",
    "\n",
    "## Problem Statement\n",
    "\n",
    "Use Multiple Linear Regression to **predict the consumption of petrol** given relevant variables are the petrol tax, the per capita, income, the number of miles of paved highway, and the proportion of the population with driver's licenses.\n",
    "\n",
    "## Dataset\n",
    "\n",
    "There are 48 rows of data.  The data include:\n",
    "\n",
    "      I,  the index;\n",
    "      A1, the petrol tax;\n",
    "      A2, the per capita income;\n",
    "      A3, the number of miles of paved highway;\n",
    "      A4, the proportion of drivers;\n",
    "      B,  the consumption of petrol.\n",
    "\n",
    "### Reference \n",
    "\n",
    "    Helmut Spaeth,\n",
    "    Mathematical Algorithms for Linear Regression,\n",
    "    Academic Press, 1991,\n",
    "    ISBN 0-12-656460-4.\n",
    "\n",
    "    S Weisberg,\n",
    "    Applied Linear Regression,\n",
    "    New York, 1980, pages 32-33.\n",
    "\n",
    "## Question 1 - Exploratory Data Analysis\n",
    "\n",
    "*Read the dataset given in file named **'petrol.csv'**. Check the statistical details of the dataset.*\n",
    "\n",
    "**Hint:** You can use **df.describe()**"
   ]
  },
  {
   "cell_type": "code",
   "execution_count": 41,
   "metadata": {},
   "outputs": [
    {
     "name": "stdout",
     "output_type": "stream",
     "text": [
      "(48, 5)\n"
     ]
    },
    {
     "data": {
      "text/html": [
       "<div>\n",
       "<style scoped>\n",
       "    .dataframe tbody tr th:only-of-type {\n",
       "        vertical-align: middle;\n",
       "    }\n",
       "\n",
       "    .dataframe tbody tr th {\n",
       "        vertical-align: top;\n",
       "    }\n",
       "\n",
       "    .dataframe thead th {\n",
       "        text-align: right;\n",
       "    }\n",
       "</style>\n",
       "<table border=\"1\" class=\"dataframe\">\n",
       "  <thead>\n",
       "    <tr style=\"text-align: right;\">\n",
       "      <th></th>\n",
       "      <th>count</th>\n",
       "      <th>mean</th>\n",
       "      <th>std</th>\n",
       "      <th>min</th>\n",
       "      <th>25%</th>\n",
       "      <th>50%</th>\n",
       "      <th>75%</th>\n",
       "      <th>max</th>\n",
       "    </tr>\n",
       "  </thead>\n",
       "  <tbody>\n",
       "    <tr>\n",
       "      <th>tax</th>\n",
       "      <td>48.0</td>\n",
       "      <td>7.668333</td>\n",
       "      <td>0.950770</td>\n",
       "      <td>5.000</td>\n",
       "      <td>7.00000</td>\n",
       "      <td>7.5000</td>\n",
       "      <td>8.12500</td>\n",
       "      <td>10.000</td>\n",
       "    </tr>\n",
       "    <tr>\n",
       "      <th>income</th>\n",
       "      <td>48.0</td>\n",
       "      <td>4241.833333</td>\n",
       "      <td>573.623768</td>\n",
       "      <td>3063.000</td>\n",
       "      <td>3739.00000</td>\n",
       "      <td>4298.0000</td>\n",
       "      <td>4578.75000</td>\n",
       "      <td>5342.000</td>\n",
       "    </tr>\n",
       "    <tr>\n",
       "      <th>highway</th>\n",
       "      <td>48.0</td>\n",
       "      <td>5565.416667</td>\n",
       "      <td>3491.507166</td>\n",
       "      <td>431.000</td>\n",
       "      <td>3110.25000</td>\n",
       "      <td>4735.5000</td>\n",
       "      <td>7156.00000</td>\n",
       "      <td>17782.000</td>\n",
       "    </tr>\n",
       "    <tr>\n",
       "      <th>dl</th>\n",
       "      <td>48.0</td>\n",
       "      <td>0.570333</td>\n",
       "      <td>0.055470</td>\n",
       "      <td>0.451</td>\n",
       "      <td>0.52975</td>\n",
       "      <td>0.5645</td>\n",
       "      <td>0.59525</td>\n",
       "      <td>0.724</td>\n",
       "    </tr>\n",
       "    <tr>\n",
       "      <th>consumption</th>\n",
       "      <td>48.0</td>\n",
       "      <td>576.770833</td>\n",
       "      <td>111.885816</td>\n",
       "      <td>344.000</td>\n",
       "      <td>509.50000</td>\n",
       "      <td>568.5000</td>\n",
       "      <td>632.75000</td>\n",
       "      <td>968.000</td>\n",
       "    </tr>\n",
       "  </tbody>\n",
       "</table>\n",
       "</div>"
      ],
      "text/plain": [
       "             count         mean          std       min         25%        50%  \\\n",
       "tax           48.0     7.668333     0.950770     5.000     7.00000     7.5000   \n",
       "income        48.0  4241.833333   573.623768  3063.000  3739.00000  4298.0000   \n",
       "highway       48.0  5565.416667  3491.507166   431.000  3110.25000  4735.5000   \n",
       "dl            48.0     0.570333     0.055470     0.451     0.52975     0.5645   \n",
       "consumption   48.0   576.770833   111.885816   344.000   509.50000   568.5000   \n",
       "\n",
       "                    75%        max  \n",
       "tax             8.12500     10.000  \n",
       "income       4578.75000   5342.000  \n",
       "highway      7156.00000  17782.000  \n",
       "dl              0.59525      0.724  \n",
       "consumption   632.75000    968.000  "
      ]
     },
     "execution_count": 41,
     "metadata": {},
     "output_type": "execute_result"
    }
   ],
   "source": [
    "import pandas as pd\n",
    "petrol = pd.read_csv('petrol.csv');\n",
    "print(petrol.shape)\n",
    "petrol.describe().transpose()"
   ]
  },
  {
   "cell_type": "markdown",
   "metadata": {},
   "source": [
    "# Question 2 - Cap outliers \n",
    "\n",
    "Find the outliers and cap them. (Use (Q1 - 1.5 * IQR) as the minimum cap and (Q3 + 1.5 * IQR) as the max cap. The decision criteria is you should consider the datapoints which only falls within this range. The data points which fall outside this range are outliers and the entire row needs to be removed"
   ]
  },
  {
   "cell_type": "code",
   "execution_count": 42,
   "metadata": {},
   "outputs": [
    {
     "name": "stdout",
     "output_type": "stream",
     "text": [
      "(43, 5)\n"
     ]
    },
    {
     "data": {
      "text/html": [
       "<div>\n",
       "<style scoped>\n",
       "    .dataframe tbody tr th:only-of-type {\n",
       "        vertical-align: middle;\n",
       "    }\n",
       "\n",
       "    .dataframe tbody tr th {\n",
       "        vertical-align: top;\n",
       "    }\n",
       "\n",
       "    .dataframe thead th {\n",
       "        text-align: right;\n",
       "    }\n",
       "</style>\n",
       "<table border=\"1\" class=\"dataframe\">\n",
       "  <thead>\n",
       "    <tr style=\"text-align: right;\">\n",
       "      <th></th>\n",
       "      <th>count</th>\n",
       "      <th>mean</th>\n",
       "      <th>std</th>\n",
       "      <th>min</th>\n",
       "      <th>25%</th>\n",
       "      <th>50%</th>\n",
       "      <th>75%</th>\n",
       "      <th>max</th>\n",
       "    </tr>\n",
       "  </thead>\n",
       "  <tbody>\n",
       "    <tr>\n",
       "      <th>tax</th>\n",
       "      <td>43.0</td>\n",
       "      <td>7.711163</td>\n",
       "      <td>0.829932</td>\n",
       "      <td>6.000</td>\n",
       "      <td>7.0000</td>\n",
       "      <td>7.500</td>\n",
       "      <td>8.2500</td>\n",
       "      <td>9.000</td>\n",
       "    </tr>\n",
       "    <tr>\n",
       "      <th>income</th>\n",
       "      <td>43.0</td>\n",
       "      <td>4186.837209</td>\n",
       "      <td>557.816403</td>\n",
       "      <td>3063.000</td>\n",
       "      <td>3719.5000</td>\n",
       "      <td>4258.000</td>\n",
       "      <td>4494.0000</td>\n",
       "      <td>5319.000</td>\n",
       "    </tr>\n",
       "    <tr>\n",
       "      <th>highway</th>\n",
       "      <td>43.0</td>\n",
       "      <td>5209.744186</td>\n",
       "      <td>2773.890659</td>\n",
       "      <td>431.000</td>\n",
       "      <td>2946.5000</td>\n",
       "      <td>4725.000</td>\n",
       "      <td>6917.5000</td>\n",
       "      <td>11868.000</td>\n",
       "    </tr>\n",
       "    <tr>\n",
       "      <th>dl</th>\n",
       "      <td>43.0</td>\n",
       "      <td>0.565535</td>\n",
       "      <td>0.050616</td>\n",
       "      <td>0.451</td>\n",
       "      <td>0.5295</td>\n",
       "      <td>0.563</td>\n",
       "      <td>0.5895</td>\n",
       "      <td>0.677</td>\n",
       "    </tr>\n",
       "    <tr>\n",
       "      <th>consumption</th>\n",
       "      <td>43.0</td>\n",
       "      <td>564.744186</td>\n",
       "      <td>86.805775</td>\n",
       "      <td>344.000</td>\n",
       "      <td>517.0000</td>\n",
       "      <td>566.000</td>\n",
       "      <td>629.5000</td>\n",
       "      <td>782.000</td>\n",
       "    </tr>\n",
       "  </tbody>\n",
       "</table>\n",
       "</div>"
      ],
      "text/plain": [
       "             count         mean          std       min        25%       50%  \\\n",
       "tax           43.0     7.711163     0.829932     6.000     7.0000     7.500   \n",
       "income        43.0  4186.837209   557.816403  3063.000  3719.5000  4258.000   \n",
       "highway       43.0  5209.744186  2773.890659   431.000  2946.5000  4725.000   \n",
       "dl            43.0     0.565535     0.050616     0.451     0.5295     0.563   \n",
       "consumption   43.0   564.744186    86.805775   344.000   517.0000   566.000   \n",
       "\n",
       "                   75%        max  \n",
       "tax             8.2500      9.000  \n",
       "income       4494.0000   5319.000  \n",
       "highway      6917.5000  11868.000  \n",
       "dl              0.5895      0.677  \n",
       "consumption   629.5000    782.000  "
      ]
     },
     "execution_count": 42,
     "metadata": {},
     "output_type": "execute_result"
    }
   ],
   "source": [
    "taxIqr = petrol.iloc[:,0].quantile(.75) - petrol.iloc[:,0].quantile(.25)\n",
    "incIqr = petrol.iloc[:,1].quantile(.75) - petrol.iloc[:,1].quantile(.25)\n",
    "highIqr = petrol.iloc[:,2].quantile(.75) - petrol.iloc[:,2].quantile(.25) \n",
    "dlIqr = petrol.iloc[:,3].quantile(.75) - petrol.iloc[:,3].quantile(.25)\n",
    "consumptionIqr = petrol.iloc[:,4].quantile(.75) - petrol.iloc[:,4].quantile(.25)\n",
    "\n",
    "\n",
    "taxMinCap = petrol.iloc[:,0].quantile(.25) - (1.5 * taxIqr)\n",
    "incMinCap = petrol.iloc[:,1].quantile(.25) - (1.5 * incIqr)\n",
    "highMinCap = petrol.iloc[:,2].quantile(.25) - (1.5 * highIqr)\n",
    "dlMinCap = petrol.iloc[:,3].quantile(.25) - (1.5 * dlIqr)\n",
    "consumptionMinCap = petrol.iloc[:,4].quantile(.25) - (1.5 * consumptionIqr)\n",
    "\n",
    "taxMaxCap = petrol.iloc[:,0].quantile(.75) + (1.5 * taxIqr)\n",
    "incMaxCap = petrol.iloc[:,1].quantile(.75) + (1.5 * incIqr)\n",
    "highMaxCap = petrol.iloc[:,2].quantile(.75) + (1.5 * highIqr)\n",
    "dlMaxCap = petrol.iloc[:,3].quantile(.75) + (1.5 * dlIqr)\n",
    "consumptionMaxCap = petrol.iloc[:,4].quantile(.75) + (1.5 * consumptionIqr)\n",
    "\n",
    "petrol = petrol[(petrol.iloc[:,0] >= taxMinCap) & (petrol.iloc[:,0] <= taxMaxCap)]\n",
    "petrol = petrol[(petrol.iloc[:,1] >= incMinCap) & (petrol.iloc[:,1] <= incMaxCap)]\n",
    "petrol = petrol[(petrol.iloc[:,2] >= highMinCap) & (petrol.iloc[:,2] <= highMaxCap)]\n",
    "petrol = petrol[(petrol.iloc[:,3] >= dlMinCap) & (petrol.iloc[:,3] <= dlMaxCap)]\n",
    "petrol = petrol[(petrol.iloc[:,4] >= consumptionMinCap) & (petrol.iloc[:,4] <= consumptionMaxCap)]\n",
    "print(petrol.shape)\n",
    "petrol.describe().transpose()\n"
   ]
  },
  {
   "cell_type": "markdown",
   "metadata": {},
   "source": [
    "# Question 3 - Independent variables and collinearity \n",
    "Which attributes seems to have stronger association with the dependent variable consumption?"
   ]
  },
  {
   "cell_type": "markdown",
   "metadata": {},
   "source": [
    "Observing the below correlation charts between all the variables, we can see that there is stronger association between the number of drivers and consumption. And comparatively tax has an association in a negative way.\n",
    "Insights : As tax increases the consumption decreases. As number of drivers is more consumption is more"
   ]
  },
  {
   "cell_type": "code",
   "execution_count": 43,
   "metadata": {},
   "outputs": [],
   "source": [
    "#importing seaborn for statistical plots\n",
    "import seaborn as sns"
   ]
  },
  {
   "cell_type": "code",
   "execution_count": 44,
   "metadata": {},
   "outputs": [
    {
     "data": {
      "text/plain": [
       "<seaborn.axisgrid.PairGrid at 0x1a21556fd0>"
      ]
     },
     "execution_count": 44,
     "metadata": {},
     "output_type": "execute_result"
    },
    {
     "data": {
      "image/png": "[encoded data removed]",
      "text/plain": [
       "<Figure size 900x900 with 30 Axes>"
      ]
     },
     "metadata": {
      "needs_background": "light"
     },
     "output_type": "display_data"
    }
   ],
   "source": [
    "petrol_attr = petrol.iloc[:,0:5]\n",
    "sns.pairplot(petrol_attr)\n"
   ]
  },
  {
   "cell_type": "markdown",
   "metadata": {},
   "source": [
    "Observing the above correlation charts between all the variables, we can see that there is stronger association between the number of drivers and consumption. And comparatively tax has an association in a negative way. \n",
    "Insights :\n",
    "As tax increases the consumption decreases.\n",
    "As number of drivers is more consumption is more"
   ]
  },
  {
   "cell_type": "markdown",
   "metadata": {},
   "source": [
    "# Question 4 - Transform the dataset\n",
    "Divide the data into feature(X) and target(Y) sets.\""
   ]
  },
  {
   "cell_type": "markdown",
   "metadata": {},
   "source": [
    "Since only number of drivers and tax are strongly correlated, we consider only these two variables at present."
   ]
  },
  {
   "cell_type": "code",
   "execution_count": 45,
   "metadata": {},
   "outputs": [],
   "source": [
    "x = petrol.drop('consumption', axis=1)\n",
    "x = x.drop('highway', axis=1)\n",
    "x = x.drop('income', axis=1)\n",
    "y = petrol.consumption "
   ]
  },
  {
   "cell_type": "markdown",
   "metadata": {},
   "source": [
    "# Question 5 - Split data into train, test sets \n",
    "Divide the data into training and test sets with 80-20 split using scikit-learn. Print the shapes of training and test feature sets."
   ]
  },
  {
   "cell_type": "code",
   "execution_count": 46,
   "metadata": {},
   "outputs": [
    {
     "name": "stdout",
     "output_type": "stream",
     "text": [
      "Shape of the X training set : (34, 2) and X testing set (9, 2)\n"
     ]
    }
   ],
   "source": [
    "from sklearn.model_selection import train_test_split\n",
    "X_train, X_test, y_train, y_test = train_test_split(x, y, test_size=0.20, random_state=1)\n",
    "print(\"Shape of the X training set : {0} and X testing set {1}\".format(X_train.shape, X_test.shape))"
   ]
  },
  {
   "cell_type": "markdown",
   "metadata": {},
   "source": [
    "# Question 6 - Build Model \n",
    "Estimate the coefficients for each input feature. Construct and display a dataframe with coefficients and X.columns as columns"
   ]
  },
  {
   "cell_type": "code",
   "execution_count": 47,
   "metadata": {},
   "outputs": [
    {
     "name": "stdout",
     "output_type": "stream",
     "text": [
      "The coefficient for tax is -30.70924254754727\n",
      "The coefficient for dl is 892.8862087487333\n"
     ]
    }
   ],
   "source": [
    "# Import Linear Regression machine learning library\n",
    "from sklearn.linear_model import LinearRegression\n",
    "regression_model = LinearRegression()\n",
    "regression_model.fit(X_train, y_train)\n",
    "# Let us explore the coefficients for each of the independent attributes\n",
    "\n",
    "for idx, col_name in enumerate(X_train.columns):\n",
    "    print(\"The coefficient for {0} is {1}\".format(col_name, regression_model.coef_[idx]))\n",
    "    "
   ]
  },
  {
   "cell_type": "markdown",
   "metadata": {},
   "source": [
    "# R-Square "
   ]
  },
  {
   "cell_type": "markdown",
   "metadata": {},
   "source": [
    "# Question 7 - Evaluate the model \n",
    "Calculate the accuracy score for the above model."
   ]
  },
  {
   "cell_type": "code",
   "execution_count": 48,
   "metadata": {},
   "outputs": [
    {
     "data": {
      "text/plain": [
       "0.2876056314158515"
      ]
     },
     "execution_count": 48,
     "metadata": {},
     "output_type": "execute_result"
    }
   ],
   "source": [
    "\n",
    "regression_model.score(X_test, y_test)"
   ]
  },
  {
   "cell_type": "markdown",
   "metadata": {},
   "source": [
    "# Question 8: Repeat the same Multi linear regression modelling by adding both Income and Highway features\n",
    "Find R2 \n"
   ]
  },
  {
   "cell_type": "code",
   "execution_count": 49,
   "metadata": {},
   "outputs": [
    {
     "name": "stdout",
     "output_type": "stream",
     "text": [
      "(34, 4) ,  (9, 4)\n"
     ]
    },
    {
     "data": {
      "text/plain": [
       "LinearRegression(copy_X=True, fit_intercept=True, n_jobs=None,\n",
       "         normalize=False)"
      ]
     },
     "execution_count": 49,
     "metadata": {},
     "output_type": "execute_result"
    }
   ],
   "source": [
    "x = petrol.drop('consumption', axis=1)\n",
    "y = petrol.consumption \n",
    "\n",
    "X_train, X_test, Y_train, Y_test =  train_test_split(x, y, test_size=.20, random_state=1)\n",
    "print(X_train.shape, ', ', X_test.shape)\n",
    "regression_model = LinearRegression()\n",
    "regression_model.fit(X_train, Y_train)"
   ]
  },
  {
   "cell_type": "code",
   "execution_count": 50,
   "metadata": {},
   "outputs": [
    {
     "data": {
      "text/plain": [
       "0.6407622941321002"
      ]
     },
     "execution_count": 50,
     "metadata": {},
     "output_type": "execute_result"
    }
   ],
   "source": [
    "\n",
    "regression_model.score(X_train, Y_train)"
   ]
  },
  {
   "cell_type": "markdown",
   "metadata": {},
   "source": [
    "# Question 9: Print the coefficients of the multilinear regression model"
   ]
  },
  {
   "cell_type": "code",
   "execution_count": 51,
   "metadata": {},
   "outputs": [
    {
     "name": "stdout",
     "output_type": "stream",
     "text": [
      "The coefficient for tax is -39.411583621415424\n",
      "The coefficient for income is -0.06262814005687901\n",
      "The coefficient for highway is -0.0030219870395790096\n",
      "The coefficient for dl is 950.8827441430783\n"
     ]
    }
   ],
   "source": [
    "\n",
    "\n",
    "for idx, col_name in enumerate(X_train.columns):\n",
    "    print(\"The coefficient for {0} is {1}\".format(col_name, regression_model.coef_[idx]))"
   ]
  },
  {
   "cell_type": "code",
   "execution_count": null,
   "metadata": {},
   "outputs": [],
   "source": []
  },
  {
   "cell_type": "markdown",
   "metadata": {},
   "source": [
    "# Question 10 \n",
    "In one or two sentences give reasoning on R-Square on the basis of above findings\n",
    "Answer"
   ]
  },
  {
   "cell_type": "markdown",
   "metadata": {},
   "source": [
    "After including the income and highway in the X variable, we see increase in R Square from 0.28 to 0.64, \n",
    "which is good, but this is due to existence of lighter correlation from income and highway to Consumption. I think \n",
    "this is also due to presence of low collieanrity between the X variables. "
   ]
  },
  {
   "cell_type": "code",
   "execution_count": null,
   "metadata": {},
   "outputs": [],
   "source": []
  }
 ],
 "metadata": {
  "kernelspec": {
   "display_name": "Python 3",
   "language": "python",
   "name": "python3"
  },
  "language_info": {
   "codemirror_mode": {
    "name": "ipython",
    "version": 3
   },
   "file_extension": ".py",
   "mimetype": "text/x-python",
   "name": "python",
   "nbconvert_exporter": "python",
   "pygments_lexer": "ipython3",
   "version": "3.7.1"
  }
 },
 "nbformat": 4,
 "nbformat_minor": 2
}
